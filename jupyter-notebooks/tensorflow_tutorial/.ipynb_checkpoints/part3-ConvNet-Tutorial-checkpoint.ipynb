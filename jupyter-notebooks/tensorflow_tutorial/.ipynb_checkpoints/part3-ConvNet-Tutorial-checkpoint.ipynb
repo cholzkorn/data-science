{
 "cells": [
  {
   "cell_type": "code",
   "execution_count": 4,
   "metadata": {},
   "outputs": [],
   "source": [
    "import tensorflow as tf\n",
    "from tensorflow.keras.models import Sequential\n",
    "from tensorflow.keras.layers import Dense, Dropout, Activation, Flatten, Conv2D, MaxPooling2D\n",
    "import pickle\n",
    "\n",
    "# Importing data created in part 2\n",
    "X = pickle.load(open(\"X.pickle\", \"rb\"))\n",
    "y = pickle.load(open(\"y.pickle\", \"rb\"))\n",
    "\n",
    "# Consider normalizing data before feeding it through a neural network\n",
    "X = X/255.0"
   ]
  },
  {
   "cell_type": "code",
   "execution_count": 14,
   "metadata": {},
   "outputs": [
    {
     "name": "stdout",
     "output_type": "stream",
     "text": [
      "Train on 22451 samples, validate on 2495 samples\n",
      "Epoch 1/3\n",
      "22451/22451 [==============================] - 833s 37ms/step - loss: 0.6396 - acc: 0.6393 - val_loss: 0.6306 - val_acc: 0.6449\n",
      "Epoch 2/3\n",
      "22451/22451 [==============================] - 873s 39ms/step - loss: 0.5574 - acc: 0.7148 - val_loss: 0.5367 - val_acc: 0.7234\n",
      "Epoch 3/3\n",
      "22451/22451 [==============================] - 5903s 263ms/step - loss: 0.4816 - acc: 0.7721 - val_loss: 0.5353 - val_acc: 0.7234\n"
     ]
    },
    {
     "data": {
      "text/plain": [
       "<tensorflow.python.keras.callbacks.History at 0x285847e1ba8>"
      ]
     },
     "execution_count": 14,
     "metadata": {},
     "output_type": "execute_result"
    }
   ],
   "source": [
    "# Initiating model\n",
    "model = Sequential()\n",
    "\n",
    "# First 2x64 layer\n",
    "# Adding layer\n",
    "model.add(Conv2D(64, (3,3), input_shape = X.shape[1:]))\n",
    "\n",
    "# We could also add a pooling layer after the 2D layer. But here we add\n",
    "# A rectified linear activation layer\n",
    "model.add(Activation(\"relu\"))\n",
    "model.add(MaxPooling2D(pool_size=(2,2)))\n",
    "\n",
    "# Second 2x64 layer\n",
    "# Adding layer\n",
    "model.add(Conv2D(64, (3,3)))\n",
    "\n",
    "# We could also add a pooling layer after the 2D layer. But here we add\n",
    "# A rectified linear activation layer\n",
    "model.add(Activation(\"relu\"))\n",
    "model.add(MaxPooling2D(pool_size=(2,2)))\n",
    "          \n",
    "# Flatten and add Dense layer\n",
    "model.add(Flatten())\n",
    "model.add(Dense(64))\n",
    "          \n",
    "# Output layer\n",
    "model.add(Dense(1))\n",
    "model.add(Activation('sigmoid'))\n",
    "          \n",
    "# Compiling model\n",
    "model.compile(loss=\"binary_crossentropy\",\n",
    "                optimizer=\"adam\",\n",
    "             metrics=[\"accuracy\"])\n",
    "\n",
    "# Fitting\n",
    "model.fit(X, y, batch_size=32, epochs=3, validation_split=0.1)"
   ]
  },
  {
   "cell_type": "code",
   "execution_count": null,
   "metadata": {},
   "outputs": [],
   "source": []
  }
 ],
 "metadata": {
  "kernelspec": {
   "display_name": "Python 3",
   "language": "python",
   "name": "python3"
  },
  "language_info": {
   "codemirror_mode": {
    "name": "ipython",
    "version": 3
   },
   "file_extension": ".py",
   "mimetype": "text/x-python",
   "name": "python",
   "nbconvert_exporter": "python",
   "pygments_lexer": "ipython3",
   "version": "3.6.7"
  }
 },
 "nbformat": 4,
 "nbformat_minor": 2
}
