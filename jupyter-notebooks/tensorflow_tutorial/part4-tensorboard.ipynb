{
 "cells": [
  {
   "cell_type": "markdown",
   "metadata": {},
   "source": [
    "# Imports"
   ]
  },
  {
   "cell_type": "code",
   "execution_count": 1,
   "metadata": {},
   "outputs": [],
   "source": [
    "import tensorflow as tf\n",
    "from tensorflow.keras.datasets import cifar10\n",
    "from tensorflow.keras.preprocessing.image import ImageDataGenerator\n",
    "from tensorflow.keras.models import Sequential\n",
    "from tensorflow.keras.layers import Dense, Dropout, Activation, Flatten\n",
    "from tensorflow.keras.layers import Conv2D, MaxPooling2D\n",
    "# more info on callbacks: https://keras.io/callbacks/ model saver is cool too.\n",
    "from tensorflow.keras.callbacks import TensorBoard\n",
    "import pickle\n",
    "import time"
   ]
  },
  {
   "cell_type": "code",
   "execution_count": 2,
   "metadata": {},
   "outputs": [],
   "source": [
    "# Callback object\n",
    "NAME = \"cats-vs-dogs-CNN\""
   ]
  },
  {
   "cell_type": "code",
<<<<<<< HEAD
   "execution_count": 3,
=======
   "execution_count": 4,
>>>>>>> 3c2b9bebb8a59c737dc367d078a7d3e3b31be3a8
   "metadata": {},
   "outputs": [],
   "source": [
    "pickle_in = open(\"/home/clem/Documents/data-for-ds/sentdex/X.pickle\", \"rb\")\n",
    "X = pickle.load(pickle_in)"
   ]
  },
  {
   "cell_type": "code",
<<<<<<< HEAD
   "execution_count": 4,
=======
   "execution_count": 5,
>>>>>>> 3c2b9bebb8a59c737dc367d078a7d3e3b31be3a8
   "metadata": {},
   "outputs": [],
   "source": [
    "pickle_in = open(\"/home/clem/Documents/data-for-ds/sentdex/y.pickle\", \"rb\")\n",
    "y = pickle.load(pickle_in)"
   ]
  },
  {
   "cell_type": "code",
<<<<<<< HEAD
   "execution_count": 5,
=======
   "execution_count": 6,
>>>>>>> 3c2b9bebb8a59c737dc367d078a7d3e3b31be3a8
   "metadata": {},
   "outputs": [],
   "source": [
    "X = X/255.0"
   ]
  },
  {
   "cell_type": "markdown",
   "metadata": {},
   "source": [
    "# Modeling"
   ]
  },
  {
   "cell_type": "code",
<<<<<<< HEAD
   "execution_count": 6,
=======
   "execution_count": 7,
>>>>>>> 3c2b9bebb8a59c737dc367d078a7d3e3b31be3a8
   "metadata": {},
   "outputs": [],
   "source": [
    "model = Sequential()"
   ]
  },
  {
   "cell_type": "code",
<<<<<<< HEAD
   "execution_count": 7,
=======
   "execution_count": 8,
>>>>>>> 3c2b9bebb8a59c737dc367d078a7d3e3b31be3a8
   "metadata": {},
   "outputs": [
    {
     "name": "stdout",
     "output_type": "stream",
     "text": [
      "WARNING:tensorflow:From /home/clem/.local/lib/python3.6/site-packages/tensorflow/python/ops/resource_variable_ops.py:435: colocate_with (from tensorflow.python.framework.ops) is deprecated and will be removed in a future version.\n",
      "Instructions for updating:\n",
      "Colocations handled automatically by placer.\n"
     ]
    }
   ],
   "source": [
    "# Input Layer\n",
    "model.add(Conv2D(256, (3,3), input_shape=X.shape[1:]))\n",
    "model.add(Activation('relu'))\n",
    "model.add(MaxPooling2D(pool_size=(2,2)))"
   ]
  },
  {
   "cell_type": "code",
<<<<<<< HEAD
   "execution_count": 8,
=======
   "execution_count": 9,
>>>>>>> 3c2b9bebb8a59c737dc367d078a7d3e3b31be3a8
   "metadata": {},
   "outputs": [],
   "source": [
    "# Hidden Layer\n",
    "model.add(Conv2D(256, (3,3)))\n",
    "model.add(Activation('relu'))\n",
    "model.add(MaxPooling2D(pool_size=(2,2)))"
   ]
  },
  {
   "cell_type": "code",
<<<<<<< HEAD
   "execution_count": 9,
=======
   "execution_count": 10,
>>>>>>> 3c2b9bebb8a59c737dc367d078a7d3e3b31be3a8
   "metadata": {},
   "outputs": [],
   "source": [
    "# Flattening\n",
    "model.add(Flatten())  # this converts our 3D feature maps to 1D feature vectors\n",
    "model.add(Dense(64))"
   ]
  },
  {
   "cell_type": "code",
<<<<<<< HEAD
   "execution_count": 10,
=======
   "execution_count": 11,
>>>>>>> 3c2b9bebb8a59c737dc367d078a7d3e3b31be3a8
   "metadata": {},
   "outputs": [],
   "source": [
    "# Activation\n",
    "model.add(Dense(1))\n",
    "model.add(Activation('sigmoid'))"
   ]
  },
  {
   "cell_type": "code",
<<<<<<< HEAD
   "execution_count": 11,
=======
   "execution_count": 12,
>>>>>>> 3c2b9bebb8a59c737dc367d078a7d3e3b31be3a8
   "metadata": {},
   "outputs": [],
   "source": [
    "tensorboard = TensorBoard(log_dir=\"logs/{}\".format(NAME))"
   ]
  },
  {
   "cell_type": "code",
<<<<<<< HEAD
   "execution_count": 12,
=======
   "execution_count": 13,
>>>>>>> 3c2b9bebb8a59c737dc367d078a7d3e3b31be3a8
   "metadata": {},
   "outputs": [],
   "source": [
    "# Compiling model\n",
    "model.compile(loss='binary_crossentropy',\n",
    "              optimizer='adam',\n",
    "              metrics=['accuracy'],\n",
    "              )"
   ]
  },
  {
   "cell_type": "code",
<<<<<<< HEAD
   "execution_count": 13,
=======
   "execution_count": 14,
>>>>>>> 3c2b9bebb8a59c737dc367d078a7d3e3b31be3a8
   "metadata": {},
   "outputs": [
    {
     "name": "stdout",
     "output_type": "stream",
     "text": [
      "Train on 17462 samples, validate on 7484 samples\n",
      "WARNING:tensorflow:From /home/clem/.local/lib/python3.6/site-packages/tensorflow/python/ops/math_ops.py:3066: to_int32 (from tensorflow.python.ops.math_ops) is deprecated and will be removed in a future version.\n",
      "Instructions for updating:\n",
      "Use tf.cast instead.\n",
<<<<<<< HEAD
      "Epoch 1/10\n",
      "17462/17462 [==============================] - 3374s 193ms/sample - loss: 0.6865 - acc: 0.6224 - val_loss: 0.5917 - val_acc: 0.6893\n",
      "Epoch 2/10\n",
      "17462/17462 [==============================] - 3447s 197ms/sample - loss: 0.5629 - acc: 0.7122 - val_loss: 0.5753 - val_acc: 0.7103\n",
      "Epoch 3/10\n",
      "17462/17462 [==============================] - 3443s 197ms/sample - loss: 0.5012 - acc: 0.7584 - val_loss: 0.5105 - val_acc: 0.7561\n",
      "Epoch 4/10\n",
      "17462/17462 [==============================] - 3437s 197ms/sample - loss: 0.4621 - acc: 0.7831 - val_loss: 0.5005 - val_acc: 0.7710\n",
      "Epoch 5/10\n",
      "17462/17462 [==============================] - 3430s 196ms/sample - loss: 0.4340 - acc: 0.7969 - val_loss: 0.5149 - val_acc: 0.7622\n",
      "Epoch 6/10\n",
      "17462/17462 [==============================] - 3440s 197ms/sample - loss: 0.4014 - acc: 0.8154 - val_loss: 0.5049 - val_acc: 0.7667\n",
      "Epoch 7/10\n",
      "17462/17462 [==============================] - 3437s 197ms/sample - loss: 0.3752 - acc: 0.8304 - val_loss: 0.5418 - val_acc: 0.7604\n",
      "Epoch 8/10\n",
      "17462/17462 [==============================] - 3472s 199ms/sample - loss: 0.3476 - acc: 0.8465 - val_loss: 0.5504 - val_acc: 0.7569\n",
      "Epoch 9/10\n",
      "17462/17462 [==============================] - 3507s 201ms/sample - loss: 0.3238 - acc: 0.8587 - val_loss: 0.5559 - val_acc: 0.7544\n",
      "Epoch 10/10\n",
      "17462/17462 [==============================] - 3517s 201ms/sample - loss: 0.2967 - acc: 0.8702 - val_loss: 0.5797 - val_acc: 0.7638\n"
=======
      "Epoch 1/2\n",
      "17462/17462 [==============================] - 3452s 198ms/sample - loss: 8.0144 - acc: 0.4968 - val_loss: 7.8455 - val_acc: 0.5079\n",
      "Epoch 2/2\n",
      "17462/17462 [==============================] - 3556s 204ms/sample - loss: 8.0223 - acc: 0.4968 - val_loss: 7.8455 - val_acc: 0.5079\n"
>>>>>>> 3c2b9bebb8a59c737dc367d078a7d3e3b31be3a8
     ]
    },
    {
     "data": {
      "text/plain": [
<<<<<<< HEAD
       "<tensorflow.python.keras.callbacks.History at 0x7f2e42d5f1d0>"
      ]
     },
     "execution_count": 13,
=======
       "<tensorflow.python.keras.callbacks.History at 0x7f5879d65fd0>"
      ]
     },
     "execution_count": 14,
>>>>>>> 3c2b9bebb8a59c737dc367d078a7d3e3b31be3a8
     "metadata": {},
     "output_type": "execute_result"
    }
   ],
   "source": [
    "# Fitting model with TensorBoard Callback, creating logs\n",
    "model.fit(X, y,\n",
    "          batch_size=32,\n",
<<<<<<< HEAD
    "          epochs=10,\n",
=======
    "          epochs=2,\n",
>>>>>>> 3c2b9bebb8a59c737dc367d078a7d3e3b31be3a8
    "          validation_split=0.3,\n",
    "          callbacks=[tensorboard])"
   ]
  },
  {
   "cell_type": "code",
   "execution_count": null,
   "metadata": {},
   "outputs": [],
   "source": []
  }
 ],
 "metadata": {
  "kernelspec": {
   "display_name": "Python 3",
   "language": "python",
   "name": "python3"
  },
  "language_info": {
   "codemirror_mode": {
    "name": "ipython",
    "version": 3
   },
   "file_extension": ".py",
   "mimetype": "text/x-python",
   "name": "python",
   "nbconvert_exporter": "python",
   "pygments_lexer": "ipython3",
   "version": "3.6.7"
  }
 },
 "nbformat": 4,
 "nbformat_minor": 2
}
