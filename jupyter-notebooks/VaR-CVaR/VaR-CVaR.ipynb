{
 "cells": [
  {
   "cell_type": "code",
   "execution_count": 3,
   "metadata": {},
   "outputs": [],
   "source": [
    "# Calculation technique by QuantCourse:\n",
    "# https://www.youtube.com/watch?v=2QJykxUNb6I&list=FL79pzMH0c_kcmljZgHBuyVA"
   ]
  },
  {
   "cell_type": "code",
   "execution_count": 18,
   "metadata": {},
   "outputs": [],
   "source": [
    "x = [56, 57, 56, 53, 57, 56, 50, 53, 54, 56, 57, 58]"
   ]
  },
  {
   "cell_type": "code",
   "execution_count": 19,
   "metadata": {},
   "outputs": [],
   "source": [
    "x_returns = [0] * (len(x)-1)\n",
    "for i in range(0,(len(x)-1)):\n",
    "    x_returns[i] = (x[i]-x[i+1])/x[i]"
   ]
  },
  {
   "cell_type": "code",
   "execution_count": 20,
   "metadata": {},
   "outputs": [
    {
     "data": {
      "text/plain": [
       "[-0.07547169811320754,\n",
       " -0.06,\n",
       " -0.037037037037037035,\n",
       " -0.018867924528301886,\n",
       " -0.017857142857142856,\n",
       " -0.017857142857142856,\n",
       " -0.017543859649122806,\n",
       " 0.017543859649122806,\n",
       " 0.017543859649122806,\n",
       " 0.05357142857142857,\n",
       " 0.10714285714285714]"
      ]
     },
     "execution_count": 20,
     "metadata": {},
     "output_type": "execute_result"
    }
   ],
   "source": [
    "x_returns.sort()\n",
    "x_returns"
   ]
  },
  {
   "cell_type": "code",
   "execution_count": 21,
   "metadata": {},
   "outputs": [],
   "source": [
    "total_count = len(x_returns)"
   ]
  },
  {
   "cell_type": "code",
   "execution_count": 28,
   "metadata": {},
   "outputs": [],
   "source": [
    "var95_index = (1-0.95)/total_count\n",
    "var99_index = (1-0.99)/total_count\n",
    "var999_index = (1-0.999)/total_count"
   ]
  },
  {
   "cell_type": "code",
   "execution_count": 31,
   "metadata": {},
   "outputs": [],
   "source": [
    "# var95 is just the return corresponding to the index in the sorted list\n",
    "var95 = x_returns[round(var95_index)]\n",
    "var99 = x_returns[round(var99_index)]\n",
    "var999 = x_returns[round(var999_index)]"
   ]
  },
  {
   "cell_type": "code",
   "execution_count": 40,
   "metadata": {},
   "outputs": [],
   "source": [
    "cvar95 = (1/var95_index)*sum(x_returns[0:round(var95_index)+1])\n",
    "cvar99 = (1/var99_index)*sum(x_returns[0:round(var99_index)+1])\n",
    "cvar999 = (1/var999_index)*sum(x_returns[0:round(var999_index)+1])"
   ]
  }
 ],
 "metadata": {
  "kernelspec": {
   "display_name": "Python 3",
   "language": "python",
   "name": "python3"
  },
  "language_info": {
   "codemirror_mode": {
    "name": "ipython",
    "version": 3
   },
   "file_extension": ".py",
   "mimetype": "text/x-python",
   "name": "python",
   "nbconvert_exporter": "python",
   "pygments_lexer": "ipython3",
   "version": "3.6.7"
  }
 },
 "nbformat": 4,
 "nbformat_minor": 2
}
