{
 "cells": [
  {
   "cell_type": "code",
   "execution_count": 1,
   "metadata": {},
   "outputs": [],
   "source": [
    "import numpy as np\n",
    "import scipy as sp\n",
    "from scipy.stats import norm"
   ]
  },
  {
   "cell_type": "code",
   "execution_count": 2,
   "metadata": {},
   "outputs": [
    {
     "name": "stdout",
     "output_type": "stream",
     "text": [
      "99% 5-day Normal CVaR   = 15.39%\n",
      "99% 5-day Normal VaR    = 13.44%\n"
     ]
    }
   ],
   "source": [
    "# Copied formulas\n",
    "h = 5\n",
    "mu_h = 0\n",
    "sig_h = 0.41 * np.sqrt(h/252)\n",
    "alpha = 0.01\n",
    "lev = 100*(1-alpha)\n",
    " \n",
    "CVaR_n = alpha**-1 * norm.pdf(norm.ppf(alpha))*sig_h - mu_h\n",
    "VaR_n = norm.ppf(1-alpha)*sig_h - mu_h\n",
    " \n",
    "print(\"%g%% %g-day Normal CVaR   = %.2f%%\" % (lev, h, CVaR_n *100))\n",
    "print(\"%g%% %g-day Normal VaR    = %.2f%%\" % (lev, h, VaR_n*100))"
   ]
  },
  {
   "cell_type": "code",
   "execution_count": 3,
   "metadata": {},
   "outputs": [],
   "source": [
    "# Working on my own formulas - look at FCHI.xlsx"
   ]
  },
  {
   "cell_type": "code",
   "execution_count": 18,
   "metadata": {},
   "outputs": [],
   "source": [
    "x = [56, 57, 56, 53, 57, 56, 50, 53, 54, 56, 57, 58]"
   ]
  },
  {
   "cell_type": "code",
   "execution_count": 19,
   "metadata": {},
   "outputs": [],
   "source": [
    "x_returns = [0] * (len(x)-1)\n",
    "for i in range(0,(len(x)-1)):\n",
    "    x_returns[i] = (x[i]-x[i+1])/x[i]"
   ]
  },
  {
   "cell_type": "code",
   "execution_count": 20,
   "metadata": {},
   "outputs": [
    {
     "data": {
      "text/plain": [
       "[-0.07547169811320754,\n",
       " -0.06,\n",
       " -0.037037037037037035,\n",
       " -0.018867924528301886,\n",
       " -0.017857142857142856,\n",
       " -0.017857142857142856,\n",
       " -0.017543859649122806,\n",
       " 0.017543859649122806,\n",
       " 0.017543859649122806,\n",
       " 0.05357142857142857,\n",
       " 0.10714285714285714]"
      ]
     },
     "execution_count": 20,
     "metadata": {},
     "output_type": "execute_result"
    }
   ],
   "source": [
    "x_returns.sort()\n",
    "x_returns"
   ]
  },
  {
   "cell_type": "code",
   "execution_count": 21,
   "metadata": {},
   "outputs": [],
   "source": [
    "total_count = len(x_returns)"
   ]
  },
  {
   "cell_type": "code",
   "execution_count": 22,
   "metadata": {},
   "outputs": [],
   "source": [
    "var95 = (1-0.95)/total_count"
   ]
  }
 ],
 "metadata": {
  "kernelspec": {
   "display_name": "Python 3",
   "language": "python",
   "name": "python3"
  },
  "language_info": {
   "codemirror_mode": {
    "name": "ipython",
    "version": 3
   },
   "file_extension": ".py",
   "mimetype": "text/x-python",
   "name": "python",
   "nbconvert_exporter": "python",
   "pygments_lexer": "ipython3",
   "version": "3.6.7"
  }
 },
 "nbformat": 4,
 "nbformat_minor": 2
}
