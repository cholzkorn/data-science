{
 "cells": [
  {
   "cell_type": "markdown",
   "metadata": {},
   "source": [
    "# Imports"
   ]
  },
  {
   "cell_type": "code",
   "execution_count": 1,
   "metadata": {},
   "outputs": [],
   "source": [
    "import pandas as pd\n",
    "import sklearn as sk\n",
    "import scipy\n",
    "import numpy as np"
   ]
  },
  {
   "cell_type": "code",
   "execution_count": 2,
   "metadata": {},
   "outputs": [],
   "source": [
    "# Import data\n",
    "df = pd.read_csv('data/maindata_small.csv')"
   ]
  },
  {
   "cell_type": "markdown",
   "metadata": {},
   "source": [
    "# First Glance and Set creation"
   ]
  },
  {
   "cell_type": "code",
   "execution_count": 3,
   "metadata": {},
   "outputs": [
    {
     "data": {
      "text/html": [
       "<div>\n",
       "<style scoped>\n",
       "    .dataframe tbody tr th:only-of-type {\n",
       "        vertical-align: middle;\n",
       "    }\n",
       "\n",
       "    .dataframe tbody tr th {\n",
       "        vertical-align: top;\n",
       "    }\n",
       "\n",
       "    .dataframe thead th {\n",
       "        text-align: right;\n",
       "    }\n",
       "</style>\n",
       "<table border=\"1\" class=\"dataframe\">\n",
       "  <thead>\n",
       "    <tr style=\"text-align: right;\">\n",
       "      <th></th>\n",
       "      <th>Unnamed: 0</th>\n",
       "      <th>V1</th>\n",
       "      <th>insert_date</th>\n",
       "      <th>origin</th>\n",
       "      <th>destination</th>\n",
       "      <th>start_date</th>\n",
       "      <th>end_date</th>\n",
       "      <th>train_type</th>\n",
       "      <th>price</th>\n",
       "      <th>train_class</th>\n",
       "      <th>fare</th>\n",
       "    </tr>\n",
       "  </thead>\n",
       "  <tbody>\n",
       "    <tr>\n",
       "      <th>0</th>\n",
       "      <td>1</td>\n",
       "      <td>1263097</td>\n",
       "      <td>2019-05-04 05:11:26</td>\n",
       "      <td>BARCELONA</td>\n",
       "      <td>MADRID</td>\n",
       "      <td>2019-05-16 06:25:00</td>\n",
       "      <td>2019-05-16 08:55:00</td>\n",
       "      <td>AVE</td>\n",
       "      <td>78.80</td>\n",
       "      <td>Turista</td>\n",
       "      <td>Promo</td>\n",
       "    </tr>\n",
       "    <tr>\n",
       "      <th>1</th>\n",
       "      <td>2</td>\n",
       "      <td>1980371</td>\n",
       "      <td>2019-04-15 02:28:14</td>\n",
       "      <td>VALENCIA</td>\n",
       "      <td>MADRID</td>\n",
       "      <td>2019-05-25 14:50:00</td>\n",
       "      <td>2019-05-25 22:17:00</td>\n",
       "      <td>REGIONAL</td>\n",
       "      <td>28.35</td>\n",
       "      <td>Turista</td>\n",
       "      <td>Adulto ida</td>\n",
       "    </tr>\n",
       "    <tr>\n",
       "      <th>2</th>\n",
       "      <td>3</td>\n",
       "      <td>1595459</td>\n",
       "      <td>2019-05-09 21:02:40</td>\n",
       "      <td>MADRID</td>\n",
       "      <td>SEVILLA</td>\n",
       "      <td>2019-06-24 15:00:00</td>\n",
       "      <td>2019-06-24 17:21:00</td>\n",
       "      <td>AVE</td>\n",
       "      <td>41.20</td>\n",
       "      <td>Turista</td>\n",
       "      <td>Promo</td>\n",
       "    </tr>\n",
       "    <tr>\n",
       "      <th>3</th>\n",
       "      <td>4</td>\n",
       "      <td>1126882</td>\n",
       "      <td>2019-05-01 13:16:14</td>\n",
       "      <td>MADRID</td>\n",
       "      <td>VALENCIA</td>\n",
       "      <td>2019-05-15 15:10:00</td>\n",
       "      <td>2019-05-15 16:52:00</td>\n",
       "      <td>AVE</td>\n",
       "      <td>21.95</td>\n",
       "      <td>Turista</td>\n",
       "      <td>Promo</td>\n",
       "    </tr>\n",
       "    <tr>\n",
       "      <th>4</th>\n",
       "      <td>5</td>\n",
       "      <td>688748</td>\n",
       "      <td>2019-04-24 08:11:56</td>\n",
       "      <td>BARCELONA</td>\n",
       "      <td>MADRID</td>\n",
       "      <td>2019-05-08 13:25:00</td>\n",
       "      <td>2019-05-08 16:10:00</td>\n",
       "      <td>AVE</td>\n",
       "      <td>85.10</td>\n",
       "      <td>Turista</td>\n",
       "      <td>Promo</td>\n",
       "    </tr>\n",
       "  </tbody>\n",
       "</table>\n",
       "</div>"
      ],
      "text/plain": [
       "   Unnamed: 0       V1          insert_date     origin destination  \\\n",
       "0           1  1263097  2019-05-04 05:11:26  BARCELONA      MADRID   \n",
       "1           2  1980371  2019-04-15 02:28:14   VALENCIA      MADRID   \n",
       "2           3  1595459  2019-05-09 21:02:40     MADRID     SEVILLA   \n",
       "3           4  1126882  2019-05-01 13:16:14     MADRID    VALENCIA   \n",
       "4           5   688748  2019-04-24 08:11:56  BARCELONA      MADRID   \n",
       "\n",
       "            start_date             end_date train_type  price train_class  \\\n",
       "0  2019-05-16 06:25:00  2019-05-16 08:55:00        AVE  78.80     Turista   \n",
       "1  2019-05-25 14:50:00  2019-05-25 22:17:00   REGIONAL  28.35     Turista   \n",
       "2  2019-06-24 15:00:00  2019-06-24 17:21:00        AVE  41.20     Turista   \n",
       "3  2019-05-15 15:10:00  2019-05-15 16:52:00        AVE  21.95     Turista   \n",
       "4  2019-05-08 13:25:00  2019-05-08 16:10:00        AVE  85.10     Turista   \n",
       "\n",
       "         fare  \n",
       "0       Promo  \n",
       "1  Adulto ida  \n",
       "2       Promo  \n",
       "3       Promo  \n",
       "4       Promo  "
      ]
     },
     "execution_count": 3,
     "metadata": {},
     "output_type": "execute_result"
    }
   ],
   "source": [
    "df.head()"
   ]
  },
  {
   "cell_type": "code",
   "execution_count": 4,
   "metadata": {},
   "outputs": [
    {
     "data": {
      "text/plain": [
       "Unnamed: 0        0\n",
       "V1                0\n",
       "insert_date       0\n",
       "origin            0\n",
       "destination       0\n",
       "start_date        0\n",
       "end_date          0\n",
       "train_type        0\n",
       "price          1231\n",
       "train_class      41\n",
       "fare             41\n",
       "dtype: int64"
      ]
     },
     "execution_count": 4,
     "metadata": {},
     "output_type": "execute_result"
    }
   ],
   "source": [
    "# How many NAs\n",
    "df.isna().sum()"
   ]
  },
  {
   "cell_type": "code",
   "execution_count": 5,
   "metadata": {},
   "outputs": [
    {
     "data": {
      "text/plain": [
       "10000"
      ]
     },
     "execution_count": 5,
     "metadata": {},
     "output_type": "execute_result"
    }
   ],
   "source": [
    "# Length of the dataset\n",
    "len(df)"
   ]
  },
  {
   "cell_type": "code",
   "execution_count": 6,
   "metadata": {},
   "outputs": [
    {
     "data": {
      "text/plain": [
       "0.1231"
      ]
     },
     "execution_count": 6,
     "metadata": {},
     "output_type": "execute_result"
    }
   ],
   "source": [
    "# Proportion of missing price values\n",
    "df.isna().sum()['price'] / len(df)"
   ]
  },
  {
   "cell_type": "markdown",
   "metadata": {},
   "source": [
    "# Feature engineering and set creation"
   ]
  },
  {
   "cell_type": "code",
   "execution_count": 7,
   "metadata": {},
   "outputs": [],
   "source": [
    "import datetime as dt\n",
    "import time"
   ]
  },
  {
   "cell_type": "code",
   "execution_count": 8,
   "metadata": {},
   "outputs": [],
   "source": [
    "# Convert date strings\n",
    "df['insert_date'] = pd.to_datetime(df['insert_date'],\n",
    "                                        infer_datetime_format=True)\n",
    "df['start_date'] = pd.to_datetime(df['start_date'],\n",
    "                                        infer_datetime_format=True)\n",
    "df['end_date'] = pd.to_datetime(df['end_date'],\n",
    "                                        infer_datetime_format=True)"
   ]
  },
  {
   "cell_type": "code",
   "execution_count": 9,
   "metadata": {},
   "outputs": [],
   "source": [
    "# Time between end and start\n",
    "df['traveltime'] = df['end_date'] - df['start_date']"
   ]
  },
  {
   "cell_type": "code",
   "execution_count": 10,
   "metadata": {},
   "outputs": [],
   "source": [
    "# traveltime in minutes\n",
    "temp1 = df['traveltime'].apply(lambda x: str(x))\n",
    "timestring = temp1.replace(to_replace=r'0 days ', value='', regex=True)"
   ]
  },
  {
   "cell_type": "code",
   "execution_count": 11,
   "metadata": {},
   "outputs": [
    {
     "data": {
      "text/plain": [
       "0        9000\n",
       "1       26820\n",
       "2        8460\n",
       "3        6120\n",
       "4        9900\n",
       "5        9000\n",
       "6        8820\n",
       "7       24180\n",
       "8       10500\n",
       "9       22920\n",
       "10       9480\n",
       "11      10200\n",
       "12       9600\n",
       "13       9000\n",
       "14      10080\n",
       "15       9120\n",
       "16      13980\n",
       "17       9000\n",
       "18       9000\n",
       "19      15360\n",
       "20      15000\n",
       "21       9000\n",
       "22      11400\n",
       "23       6420\n",
       "24      10320\n",
       "25       9120\n",
       "26       8460\n",
       "27       6540\n",
       "28      18000\n",
       "29       9360\n",
       "        ...  \n",
       "9970     9600\n",
       "9971     9480\n",
       "9972     9120\n",
       "9973     8460\n",
       "9974     9120\n",
       "9975     9000\n",
       "9976    11400\n",
       "9977     9960\n",
       "9978    10320\n",
       "9979    11400\n",
       "9980    33720\n",
       "9981    26040\n",
       "9982     6000\n",
       "9983    32640\n",
       "9984     8700\n",
       "9985     9120\n",
       "9986     9000\n",
       "9987     9000\n",
       "9988     6240\n",
       "9989     8700\n",
       "9990     9480\n",
       "9991     6000\n",
       "9992     9000\n",
       "9993     9720\n",
       "9994     9360\n",
       "9995     9000\n",
       "9996     6000\n",
       "9997    25140\n",
       "9998     9000\n",
       "9999     6000\n",
       "Name: traveltime_seconds, Length: 10000, dtype: int64"
      ]
     },
     "execution_count": 11,
     "metadata": {},
     "output_type": "execute_result"
    }
   ],
   "source": [
    "# Convert timestring to seconds\n",
    "def get_sec(time_str):\n",
    "    h, m, s = time_str.split(':')\n",
    "    return int(h) * 3600 + int(m) * 60 + int(s)\n",
    "\n",
    "df['traveltime_seconds'] = timestring.apply(lambda x: get_sec(x))\n",
    "df['traveltime_seconds']"
   ]
  },
  {
   "cell_type": "code",
   "execution_count": 12,
   "metadata": {},
   "outputs": [],
   "source": [
    "# Weekday variable - start date and end date weekdays\n",
    "df['insert_day'] = df['insert_date'].dt.day_name()\n",
    "df['start_day'] = df['start_date'].dt.day_name()\n",
    "df['end_day'] = df['end_date'].dt.day_name()"
   ]
  },
  {
   "cell_type": "code",
   "execution_count": 13,
   "metadata": {},
   "outputs": [],
   "source": [
    "# Month variable\n",
    "df['insert_month'] = df['insert_date'].dt.month_name()\n",
    "df['start_month'] = df['start_date'].dt.month_name()\n",
    "df['end_month'] = df['end_date'].dt.month_name()"
   ]
  },
  {
   "cell_type": "code",
   "execution_count": 14,
   "metadata": {},
   "outputs": [],
   "source": [
    "# drop dates\n",
    "df = df.drop(['insert_date', 'start_date', 'end_date'], axis=1)"
   ]
  },
  {
   "cell_type": "code",
   "execution_count": 15,
   "metadata": {},
   "outputs": [],
   "source": [
    "# Missing values will make our prediction set\n",
    "df_work = df[df.price.notna()]\n",
    "df_goal = df[df.price.isna()]"
   ]
  },
  {
   "cell_type": "code",
   "execution_count": 16,
   "metadata": {},
   "outputs": [
    {
     "data": {
      "text/plain": [
       "8769"
      ]
     },
     "execution_count": 16,
     "metadata": {},
     "output_type": "execute_result"
    }
   ],
   "source": [
    "len(df_work)"
   ]
  },
  {
   "cell_type": "code",
   "execution_count": 17,
   "metadata": {},
   "outputs": [
    {
     "data": {
      "text/plain": [
       "1231"
      ]
     },
     "execution_count": 17,
     "metadata": {},
     "output_type": "execute_result"
    }
   ],
   "source": [
    "len(df_goal)"
   ]
  },
  {
   "cell_type": "code",
   "execution_count": 18,
   "metadata": {},
   "outputs": [
    {
     "data": {
      "text/plain": [
       "True"
      ]
     },
     "execution_count": 18,
     "metadata": {},
     "output_type": "execute_result"
    }
   ],
   "source": [
    "# Check if it worked correctly\n",
    "(len(df) == len(df_goal) + len(df_work))"
   ]
  },
  {
   "cell_type": "code",
   "execution_count": 19,
   "metadata": {},
   "outputs": [
    {
     "data": {
      "text/plain": [
       "True"
      ]
     },
     "execution_count": 19,
     "metadata": {},
     "output_type": "execute_result"
    }
   ],
   "source": [
    "# Another check\n",
    "(df_work.price.notna().sum() == len(df_work)) and (df_goal.price.isna().sum() == len(df_goal))"
   ]
  },
  {
   "cell_type": "code",
   "execution_count": 20,
   "metadata": {},
   "outputs": [
    {
     "data": {
      "text/plain": [
       "array(['Turista', 'Preferente', 'Turista Plus', 'Turista con enlace', nan,\n",
       "       'Cama G. Clase', 'Cama Turista'], dtype=object)"
      ]
     },
     "execution_count": 20,
     "metadata": {},
     "output_type": "execute_result"
    }
   ],
   "source": [
    "# Which train classes are there?\n",
    "df.train_class.unique()"
   ]
  },
  {
   "cell_type": "markdown",
   "metadata": {},
   "source": [
    "# Visual Analysis"
   ]
  },
  {
   "cell_type": "code",
   "execution_count": 21,
   "metadata": {},
   "outputs": [],
   "source": [
    "import matplotlib.pyplot as plt\n",
    "import seaborn as sns"
   ]
  },
  {
   "cell_type": "code",
   "execution_count": 22,
   "metadata": {},
   "outputs": [],
   "source": [
    "# set plot size for jupyter notebook\n",
    "plt.rcParams['figure.figsize'] = [10, 5]"
   ]
  },
  {
   "cell_type": "code",
   "execution_count": 23,
   "metadata": {},
   "outputs": [
    {
     "data": {
      "image/png": "[encoded data removed]",
      "text/plain": [
       "<Figure size 720x360 with 1 Axes>"
      ]
     },
     "metadata": {
      "needs_background": "light"
     },
     "output_type": "display_data"
    }
   ],
   "source": [
    "# Price and class\n",
    "pc = sns.boxplot(x=\"train_class\", y=\"price\", data=df_work)"
   ]
  },
  {
   "cell_type": "code",
   "execution_count": 24,
   "metadata": {},
   "outputs": [
    {
     "data": {
      "image/png": "[encoded data removed]",
      "text/plain": [
       "<Figure size 720x360 with 1 Axes>"
      ]
     },
     "metadata": {
      "needs_background": "light"
     },
     "output_type": "display_data"
    }
   ],
   "source": [
    "# bar plot on train class count\n",
    "tcc = sns.countplot(data=df_work, x=\"train_class\")"
   ]
  },
  {
   "cell_type": "code",
   "execution_count": 25,
   "metadata": {},
   "outputs": [
    {
     "data": {
      "image/png": "[encoded data removed]",
      "text/plain": [
       "<Figure size 720x360 with 1 Axes>"
      ]
     },
     "metadata": {
      "needs_background": "light"
     },
     "output_type": "display_data"
    }
   ],
   "source": [
    "# Travel prices per month\n",
    "tpm = sns.boxplot(x=\"start_month\", y=\"price\", data=df_work)"
   ]
  },
  {
   "cell_type": "code",
   "execution_count": 26,
   "metadata": {
    "scrolled": true
   },
   "outputs": [
    {
     "data": {
      "image/png": "[encoded data removed]",
      "text/plain": [
       "<Figure size 720x360 with 1 Axes>"
      ]
     },
     "metadata": {
      "needs_background": "light"
     },
     "output_type": "display_data"
    }
   ],
   "source": [
    "# Travel prices per day\n",
    "tpd = sns.boxplot(x=\"start_day\", y=\"price\", data=df_work)"
   ]
  },
  {
   "cell_type": "code",
   "execution_count": 27,
   "metadata": {},
   "outputs": [
    {
     "data": {
      "image/png": "[encoded data removed]",
      "text/plain": [
       "<Figure size 720x360 with 1 Axes>"
      ]
     },
     "metadata": {
      "needs_background": "light"
     },
     "output_type": "display_data"
    }
   ],
   "source": [
    "# price by travel time\n",
    "ptt = sns.scatterplot(x=\"traveltime_seconds\", y=\"price\", data=df_work)"
   ]
  },
  {
   "cell_type": "markdown",
   "metadata": {},
   "source": [
    "# One-Hot-Encoding"
   ]
  },
  {
   "cell_type": "code",
   "execution_count": 28,
   "metadata": {},
   "outputs": [],
   "source": [
    "from numpy import array\n",
    "from numpy import argmax\n",
    "from sklearn.preprocessing import LabelEncoder\n",
    "from sklearn.preprocessing import OneHotEncoder"
   ]
  },
  {
   "cell_type": "code",
   "execution_count": 29,
   "metadata": {},
   "outputs": [],
   "source": [
    "# Wich values need to be OH-encoded?\n",
    "    # origin\n",
    "    # destination\n",
    "    # train_type\n",
    "    # train_class\n",
    "    # fare\n",
    "    # insert_day\n",
    "    # start_day\n",
    "    # end_day\n",
    "    # insert_month\n",
    "    # start_month\n",
    "    # end_month"
   ]
  },
  {
   "cell_type": "code",
   "execution_count": 30,
   "metadata": {},
   "outputs": [],
   "source": [
    "# state encoder\n",
    "oh_encoder = OneHotEncoder(sparse=False)"
   ]
  },
  {
   "cell_type": "code",
   "execution_count": 31,
   "metadata": {},
   "outputs": [
    {
     "data": {
      "text/plain": [
       "Unnamed: 0                      int64\n",
       "V1                              int64\n",
       "origin                         object\n",
       "destination                    object\n",
       "train_type                     object\n",
       "price                         float64\n",
       "train_class                    object\n",
       "fare                           object\n",
       "traveltime            timedelta64[ns]\n",
       "traveltime_seconds              int64\n",
       "insert_day                     object\n",
       "start_day                      object\n",
       "end_day                        object\n",
       "insert_month                   object\n",
       "start_month                    object\n",
       "end_month                      object\n",
       "dtype: object"
      ]
     },
     "execution_count": 31,
     "metadata": {},
     "output_type": "execute_result"
    }
   ],
   "source": [
    "# checking types\n",
    "df_work.dtypes"
   ]
  },
  {
   "cell_type": "code",
   "execution_count": 32,
   "metadata": {},
   "outputs": [
    {
     "name": "stderr",
     "output_type": "stream",
     "text": [
      "C:\\Users\\cholz\\Anaconda3\\lib\\site-packages\\ipykernel_launcher.py:9: SettingWithCopyWarning: \n",
      "A value is trying to be set on a copy of a slice from a DataFrame.\n",
      "Try using .loc[row_indexer,col_indexer] = value instead\n",
      "\n",
      "See the caveats in the documentation: http://pandas.pydata.org/pandas-docs/stable/indexing.html#indexing-view-versus-copy\n",
      "  if __name__ == '__main__':\n",
      "C:\\Users\\cholz\\Anaconda3\\lib\\site-packages\\ipykernel_launcher.py:12: SettingWithCopyWarning: \n",
      "A value is trying to be set on a copy of a slice from a DataFrame.\n",
      "Try using .loc[row_indexer,col_indexer] = value instead\n",
      "\n",
      "See the caveats in the documentation: http://pandas.pydata.org/pandas-docs/stable/indexing.html#indexing-view-versus-copy\n",
      "  if sys.path[0] == '':\n"
     ]
    }
   ],
   "source": [
    "# changing column types for df_work and df_goal\n",
    "\n",
    "\n",
    "obj_to_cat = ['origin', 'destination', 'train_type', 'train_class', 'fare',\n",
    "              'insert_day', 'start_day', 'end_day', 'insert_month',\n",
    "              'start_month', 'end_month']\n",
    "\n",
    "for col in obj_to_cat:\n",
    "    df_work[col] = df_work[col].astype('category')\n",
    "\n",
    "for col in obj_to_cat:\n",
    "    df_goal[col] = df_goal[col].astype('category')"
   ]
  },
  {
   "cell_type": "code",
   "execution_count": 33,
   "metadata": {},
   "outputs": [],
   "source": [
    "# dropping traveltime\n",
    "df_work = df_work.drop(['traveltime'], axis=1)\n",
    "df_goal = df_goal.drop(['traveltime'], axis=1)"
   ]
  },
  {
   "cell_type": "code",
   "execution_count": 34,
   "metadata": {},
   "outputs": [],
   "source": [
    "# oh-encoding\n",
    "df_work_oh = pd.get_dummies(df_work)\n",
    "df_goal_oh = pd.get_dummies(df_goal)"
   ]
  },
  {
   "cell_type": "markdown",
   "metadata": {},
   "source": [
    "# Splits"
   ]
  },
  {
   "cell_type": "code",
   "execution_count": 194,
   "metadata": {},
   "outputs": [],
   "source": [
    "from sklearn.model_selection import train_test_split"
   ]
  },
  {
   "cell_type": "code",
   "execution_count": 195,
   "metadata": {},
   "outputs": [],
   "source": [
    "# Dividing training set into X and y\n",
    "X = df_work_oh.drop('price', axis=1)\n",
    "y = df_work_oh.price"
   ]
  },
  {
   "cell_type": "code",
   "execution_count": 196,
   "metadata": {},
   "outputs": [],
   "source": [
    "# Train-Test-Split\n",
    "X_train, X_test, y_train, y_test = train_test_split(X, y, test_size=0.2, random_state=42)"
   ]
  },
  {
   "cell_type": "markdown",
   "metadata": {},
   "source": [
    "# Linear Regression"
   ]
  },
  {
   "cell_type": "code",
   "execution_count": 38,
   "metadata": {},
   "outputs": [],
   "source": [
    "# import\n",
    "from sklearn.linear_model import LinearRegression\n",
    "from sklearn.metrics import mean_squared_error, r2_score"
   ]
  },
  {
   "cell_type": "code",
   "execution_count": 39,
   "metadata": {},
   "outputs": [],
   "source": [
    "# base model\n",
    "linreg = LinearRegression()"
   ]
  },
  {
   "cell_type": "code",
   "execution_count": 40,
   "metadata": {},
   "outputs": [],
   "source": [
    "# fitting\n",
    "linearmodel = linreg.fit(X_train, y_train)"
   ]
  },
  {
   "cell_type": "code",
   "execution_count": 41,
   "metadata": {},
   "outputs": [
    {
     "name": "stdout",
     "output_type": "stream",
     "text": [
      "71.21760736113471\n",
      "[-1.93717745e-05 -1.04827436e-07 -7.74585015e-04  2.69655536e+01\n",
      " -3.65301895e-01 -1.01961701e+01 -2.87156512e+00 -1.35325165e+01\n",
      "  2.83226986e+01  3.65301895e-01 -1.34713890e+01 -2.04405229e+00\n",
      " -1.31725592e+01  4.86393111e-01  2.82550034e+00  8.31156735e+00\n",
      "  3.47079587e+00  6.90562787e+00  7.92067507e+00 -3.57437155e+00\n",
      " -5.64372764e-01 -5.54704523e+00  3.80323242e+00 -5.21675866e+00\n",
      " -6.85618110e+00 -1.35749245e+01  6.61966484e+00 -5.00980310e+00\n",
      " -2.70450329e-12 -1.45661261e-13  1.36683613e+01 -9.08373713e+00\n",
      " -5.79922596e-01 -4.00470159e+00 -6.95525963e+00  1.84013297e+01\n",
      " -1.55875313e-12 -1.08257101e+01 -6.20359990e-01  3.24594561e-02\n",
      "  3.10513243e-01 -1.23377102e-01 -3.23552939e-01 -1.58439736e-01\n",
      " -9.73848303e-02  3.59781908e-01 -2.88376476e+00  4.05518397e-01\n",
      " -4.15618868e+00  8.89733911e+00 -1.60151220e+00  3.47525047e+00\n",
      " -4.13664234e+00  4.96442352e+00 -1.05981404e+00  1.84685194e+00\n",
      " -6.32157552e+00  1.67473546e+00 -5.14701510e+00  4.04239374e+00\n",
      " -5.51533664e-01  5.51533664e-01 -8.15860159e+00 -7.57445994e-01\n",
      " -8.15774495e-01  9.73182208e+00  1.10892454e+01 -7.57445994e-01\n",
      " -8.15774495e-01 -9.51602488e+00]\n"
     ]
    }
   ],
   "source": [
    "# print results\n",
    "print(linearmodel.intercept_)\n",
    "print(linearmodel.coef_)"
   ]
  },
  {
   "cell_type": "code",
   "execution_count": 42,
   "metadata": {},
   "outputs": [],
   "source": [
    "# imports for p-values\n",
    "import statsmodels.api as sm"
   ]
  },
  {
   "cell_type": "code",
   "execution_count": 43,
   "metadata": {},
   "outputs": [],
   "source": [
    "# calculate p-values\n",
    "mod = sm.OLS(y_train, X_train)\n",
    "fii = mod.fit()\n",
    "p_values = fii.summary2().tables[1]['P>|t|']"
   ]
  },
  {
   "cell_type": "code",
   "execution_count": 44,
   "metadata": {},
   "outputs": [
    {
     "data": {
      "text/plain": [
       "Unnamed: 0                   False\n",
       "V1                           False\n",
       "traveltime_seconds            True\n",
       "origin_BARCELONA              True\n",
       "origin_MADRID                 True\n",
       "origin_PONFERRADA             True\n",
       "origin_SEVILLA               False\n",
       "origin_VALENCIA               True\n",
       "destination_BARCELONA         True\n",
       "destination_MADRID            True\n",
       "destination_PONFERRADA        True\n",
       "destination_SEVILLA           True\n",
       "destination_VALENCIA          True\n",
       "train_type_ALVIA              True\n",
       "train_type_AV City            True\n",
       "train_type_AVE                True\n",
       "train_type_AVE-LD             True\n",
       "train_type_AVE-MD             True\n",
       "train_type_AVE-TGV            True\n",
       "train_type_INTERCITY         False\n",
       "train_type_LD                False\n",
       "train_type_LD-MD              True\n",
       "train_type_MD                False\n",
       "train_type_MD-AVE            False\n",
       "train_type_MD-LD              True\n",
       "train_type_R. EXPRES          True\n",
       "train_type_REGIONAL           True\n",
       "train_type_TRENHOTEL         False\n",
       "train_class_Cama G. Clase    False\n",
       "train_class_Cama Turista     False\n",
       "                             ...  \n",
       "insert_day_Monday             True\n",
       "insert_day_Saturday           True\n",
       "insert_day_Sunday             True\n",
       "insert_day_Thursday           True\n",
       "insert_day_Tuesday            True\n",
       "insert_day_Wednesday          True\n",
       "start_day_Friday             False\n",
       "start_day_Monday              True\n",
       "start_day_Saturday           False\n",
       "start_day_Sunday              True\n",
       "start_day_Thursday           False\n",
       "start_day_Tuesday             True\n",
       "start_day_Wednesday          False\n",
       "end_day_Friday                True\n",
       "end_day_Monday               False\n",
       "end_day_Saturday              True\n",
       "end_day_Sunday               False\n",
       "end_day_Thursday              True\n",
       "end_day_Tuesday              False\n",
       "end_day_Wednesday             True\n",
       "insert_month_April            True\n",
       "insert_month_May              True\n",
       "start_month_April            False\n",
       "start_month_July              True\n",
       "start_month_June              True\n",
       "start_month_May               True\n",
       "end_month_April               True\n",
       "end_month_July                True\n",
       "end_month_June                True\n",
       "end_month_May                False\n",
       "Name: P>|t|, Length: 70, dtype: bool"
      ]
     },
     "execution_count": 44,
     "metadata": {},
     "output_type": "execute_result"
    }
   ],
   "source": [
    "p_values <= 0.05"
   ]
  },
  {
   "cell_type": "code",
   "execution_count": 45,
   "metadata": {},
   "outputs": [],
   "source": [
    "# Make a test prediction\n",
    "predlin = linearmodel.predict(X_test)"
   ]
  },
  {
   "cell_type": "code",
   "execution_count": 46,
   "metadata": {},
   "outputs": [
    {
     "name": "stdout",
     "output_type": "stream",
     "text": [
      "Mean squared error: 129.19\n"
     ]
    }
   ],
   "source": [
    "# MSE\n",
    "print(\"Mean squared error: %.2f\"\n",
    "      % mean_squared_error(predlin, y_test))"
   ]
  },
  {
   "cell_type": "code",
   "execution_count": 47,
   "metadata": {},
   "outputs": [
    {
     "name": "stdout",
     "output_type": "stream",
     "text": [
      "RMSE: 11.37\n"
     ]
    }
   ],
   "source": [
    "# RMSE\n",
    "print(\"RMSE: %.2f\"\n",
    "      % np.sqrt(mean_squared_error(predlin, y_test)))"
   ]
  },
  {
   "cell_type": "code",
   "execution_count": 48,
   "metadata": {},
   "outputs": [
    {
     "name": "stdout",
     "output_type": "stream",
     "text": [
      "R_squared: 0.77\n"
     ]
    }
   ],
   "source": [
    "# RSQUARED\n",
    "print('R_squared: %.2f' % r2_score(predlin, y_test))"
   ]
  },
  {
   "cell_type": "markdown",
   "metadata": {},
   "source": [
    "# Random Forest"
   ]
  },
  {
   "cell_type": "code",
   "execution_count": 49,
   "metadata": {},
   "outputs": [],
   "source": [
    "from sklearn.ensemble import RandomForestRegressor"
   ]
  },
  {
   "cell_type": "code",
   "execution_count": 50,
   "metadata": {},
   "outputs": [],
   "source": [
    "# Instantiate model with 200 decision trees\n",
    "rf = RandomForestRegressor(n_estimators = 200, random_state = 123)"
   ]
  },
  {
   "cell_type": "code",
   "execution_count": 51,
   "metadata": {},
   "outputs": [],
   "source": [
    "# Train the model on training data\n",
    "rfmodel = rf.fit(X_train, y_train);"
   ]
  },
  {
   "cell_type": "code",
   "execution_count": 52,
   "metadata": {},
   "outputs": [],
   "source": [
    "# predict training data\n",
    "predrf = rfmodel.predict(X_test)"
   ]
  },
  {
   "cell_type": "code",
   "execution_count": 53,
   "metadata": {},
   "outputs": [
    {
     "name": "stdout",
     "output_type": "stream",
     "text": [
      "Mean squared error: 85.07\n"
     ]
    }
   ],
   "source": [
    "# MSE\n",
    "print(\"Mean squared error: %.2f\"\n",
    "      % mean_squared_error(predrf, y_test))"
   ]
  },
  {
   "cell_type": "code",
   "execution_count": 54,
   "metadata": {},
   "outputs": [
    {
     "name": "stdout",
     "output_type": "stream",
     "text": [
      "RMSE: 9.22\n"
     ]
    }
   ],
   "source": [
    "# RMSE\n",
    "print(\"RMSE: %.2f\"\n",
    "      % np.sqrt(mean_squared_error(predrf, y_test)))"
   ]
  },
  {
   "cell_type": "code",
   "execution_count": 55,
   "metadata": {},
   "outputs": [
    {
     "name": "stdout",
     "output_type": "stream",
     "text": [
      "R_squared: 0.87\n"
     ]
    }
   ],
   "source": [
    "# RSQUARED\n",
    "print('R_squared: %.2f' % r2_score(predrf, y_test))"
   ]
  },
  {
   "cell_type": "code",
   "execution_count": 56,
   "metadata": {},
   "outputs": [],
   "source": [
    "# Calculate mean absolute percentage error (MAPE)\n",
    "rferrors = abs(predrf - y_test)\n",
    "rfmape = 100 * (rferrors / y_test)"
   ]
  },
  {
   "cell_type": "code",
   "execution_count": 57,
   "metadata": {},
   "outputs": [
    {
     "name": "stdout",
     "output_type": "stream",
     "text": [
      "Accuracy: 90.52 %.\n"
     ]
    }
   ],
   "source": [
    "# Calculate and display accuracy\n",
    "rfaccuracy = 100 - np.mean(rfmape)\n",
    "print('Accuracy:', round(rfaccuracy, 2), '%.')"
   ]
  },
  {
   "cell_type": "code",
   "execution_count": 58,
   "metadata": {},
   "outputs": [],
   "source": [
    "from sklearn.feature_selection import SelectFromModel"
   ]
  },
  {
   "cell_type": "code",
   "execution_count": 59,
   "metadata": {},
   "outputs": [],
   "source": [
    "# Make column name list\n",
    "feature_names = list(X_train.columns)"
   ]
  },
  {
   "cell_type": "code",
   "execution_count": 60,
   "metadata": {},
   "outputs": [
    {
     "name": "stdout",
     "output_type": "stream",
     "text": [
      "('Unnamed: 0', 0.028788079151918673)\n",
      "('V1', 0.026837246915306312)\n",
      "('traveltime_seconds', 0.48070592043546073)\n",
      "('origin_BARCELONA', 0.0442343394055756)\n",
      "('origin_MADRID', 0.0012797064354426915)\n",
      "('origin_PONFERRADA', 2.1097446496883508e-05)\n",
      "('origin_SEVILLA', 0.04123149021886489)\n",
      "('origin_VALENCIA', 0.005368224117470505)\n",
      "('destination_BARCELONA', 0.039548872547334274)\n",
      "('destination_MADRID', 0.0013826133553846958)\n",
      "('destination_PONFERRADA', 0.00022260077498834462)\n",
      "('destination_SEVILLA', 0.04685878395676649)\n",
      "('destination_VALENCIA', 0.0005865077151811979)\n",
      "('train_type_ALVIA', 0.010989243141256003)\n",
      "('train_type_AV City', 0.0005244390854982758)\n",
      "('train_type_AVE', 0.016431468511532682)\n",
      "('train_type_AVE-LD', 5.04444043649971e-05)\n",
      "('train_type_AVE-MD', 0.001807033991459208)\n",
      "('train_type_AVE-TGV', 0.0020228230794691274)\n",
      "('train_type_INTERCITY', 0.0022022988024666596)\n",
      "('train_type_LD', 2.054557481918553e-05)\n",
      "('train_type_LD-MD', 0.00023419615800758322)\n",
      "('train_type_MD', 2.6240062696361262e-05)\n",
      "('train_type_MD-AVE', 3.140888798161606e-05)\n",
      "('train_type_MD-LD', 0.0003918852543511944)\n",
      "('train_type_R. EXPRES', 0.00024952965874436365)\n",
      "('train_type_REGIONAL', 0.0021133131504278663)\n",
      "('train_type_TRENHOTEL', 0.00018147908647271662)\n",
      "('train_class_Cama G. Clase', 0.0)\n",
      "('train_class_Cama Turista', 0.0)\n",
      "('train_class_Preferente', 0.03622840393242531)\n",
      "('train_class_Turista', 0.04861132784670572)\n",
      "('train_class_Turista Plus', 0.001717731957705899)\n",
      "('train_class_Turista con enlace', 0.001041490359377717)\n",
      "('fare_Adulto ida', 3.607396224949958e-05)\n",
      "('fare_Flexible', 0.05322281196873511)\n",
      "('fare_Individual-Flexible', 0.0)\n",
      "('fare_Promo', 0.05241632287635343)\n",
      "('fare_Promo +', 8.724724339616241e-05)\n",
      "('insert_day_Friday', 0.0015308922017169752)\n",
      "('insert_day_Monday', 0.0022549482355942465)\n",
      "('insert_day_Saturday', 0.002111453690474643)\n",
      "('insert_day_Sunday', 0.002124554096800803)\n",
      "('insert_day_Thursday', 0.0014745892571354036)\n",
      "('insert_day_Tuesday', 0.0023669031997792453)\n",
      "('insert_day_Wednesday', 0.0018640728535694506)\n",
      "('start_day_Friday', 0.0014682330662364313)\n",
      "('start_day_Monday', 0.001822970574372259)\n",
      "('start_day_Saturday', 0.00245140672902979)\n",
      "('start_day_Sunday', 0.0030679589428076882)\n",
      "('start_day_Thursday', 0.0019555632151687452)\n",
      "('start_day_Tuesday', 0.0016090538183451376)\n",
      "('start_day_Wednesday', 0.001284230920899783)\n",
      "('end_day_Friday', 0.0017577970622104568)\n",
      "('end_day_Monday', 0.0016923315761106614)\n",
      "('end_day_Saturday', 0.001868767677477955)\n",
      "('end_day_Sunday', 0.0027236967432642772)\n",
      "('end_day_Thursday', 0.0018058279091424164)\n",
      "('end_day_Tuesday', 0.001683591798632996)\n",
      "('end_day_Wednesday', 0.001244150501281051)\n",
      "('insert_month_April', 0.0010395774982115216)\n",
      "('insert_month_May', 0.0010015757226644673)\n",
      "('start_month_April', 0.002257845130232536)\n",
      "('start_month_July', 0.0005125785907688077)\n",
      "('start_month_June', 0.001247031608772208)\n",
      "('start_month_May', 0.0010801947578838531)\n",
      "('end_month_April', 0.0022495113221037396)\n",
      "('end_month_July', 0.0004427837478909104)\n",
      "('end_month_June', 0.0011899130594781296)\n",
      "('end_month_May', 0.0011127530192556448)\n"
     ]
    }
   ],
   "source": [
    "# Print the name and gini importance of each feature\n",
    "for feature in zip(feature_names, rfmodel.feature_importances_):\n",
    "    print(feature)"
   ]
  },
  {
   "cell_type": "code",
   "execution_count": 61,
   "metadata": {},
   "outputs": [],
   "source": [
    "# Create a selector object that will use the random forest classifier to identify\n",
    "# features that have an importance of more than 0.01\n",
    "sfm = SelectFromModel(rfmodel, threshold=0.01)"
   ]
  },
  {
   "cell_type": "code",
   "execution_count": 62,
   "metadata": {},
   "outputs": [
    {
     "data": {
      "text/plain": [
       "SelectFromModel(estimator=RandomForestRegressor(bootstrap=True, criterion='mse', max_depth=None,\n",
       "           max_features='auto', max_leaf_nodes=None,\n",
       "           min_impurity_decrease=0.0, min_impurity_split=None,\n",
       "           min_samples_leaf=1, min_samples_split=2,\n",
       "           min_weight_fraction_leaf=0.0, n_estimators=200, n_jobs=None,\n",
       "           oob_score=False, random_state=123, verbose=0, warm_start=False),\n",
       "        max_features=None, norm_order=1, prefit=False, threshold=0.01)"
      ]
     },
     "execution_count": 62,
     "metadata": {},
     "output_type": "execute_result"
    }
   ],
   "source": [
    "# Train the selector\n",
    "sfm.fit(X_train, y_train)"
   ]
  },
  {
   "cell_type": "code",
   "execution_count": 63,
   "metadata": {},
   "outputs": [
    {
     "name": "stdout",
     "output_type": "stream",
     "text": [
      "Unnamed: 0\n",
      "V1\n",
      "traveltime_seconds\n",
      "origin_BARCELONA\n",
      "origin_SEVILLA\n",
      "destination_BARCELONA\n",
      "destination_SEVILLA\n",
      "train_type_ALVIA\n",
      "train_type_AVE\n",
      "train_class_Preferente\n",
      "train_class_Turista\n",
      "fare_Flexible\n",
      "fare_Promo\n"
     ]
    }
   ],
   "source": [
    "# Print the names of the most important features\n",
    "for feature_list_index in sfm.get_support(indices=True):\n",
    "    print(feature_names[feature_list_index])"
   ]
  },
  {
   "cell_type": "code",
   "execution_count": 64,
   "metadata": {},
   "outputs": [],
   "source": [
    "# DATA SUBSET WITH ONLY THE IMPORTANT FEATURES\n",
    "\n",
    "# Transform the data to create a new dataset containing only the most important features\n",
    "# Note: We have to apply the transform to both the training X and test X data.\n",
    "X_important_train = sfm.transform(X_train)\n",
    "X_important_test = sfm.transform(X_test)"
   ]
  },
  {
   "cell_type": "markdown",
   "metadata": {},
   "source": [
    "# XGBoost"
   ]
  },
  {
   "cell_type": "code",
   "execution_count": 65,
   "metadata": {},
   "outputs": [],
   "source": [
    "import xgboost\n",
    "from sklearn.metrics import explained_variance_score"
   ]
  },
  {
   "cell_type": "code",
   "execution_count": 66,
   "metadata": {},
   "outputs": [],
   "source": [
    "# State the model\n",
    "xgb = xgboost.XGBRegressor(n_estimators=100, learning_rate=0.08, gamma=0, subsample=0.75,\n",
    "                           colsample_bytree=1, max_depth=7)"
   ]
  },
  {
   "cell_type": "code",
   "execution_count": 67,
   "metadata": {
    "scrolled": true
   },
   "outputs": [
    {
     "name": "stderr",
     "output_type": "stream",
     "text": [
      "C:\\Users\\cholz\\Anaconda3\\lib\\site-packages\\xgboost\\core.py:587: FutureWarning: Series.base is deprecated and will be removed in a future version\n",
      "  if getattr(data, 'base', None) is not None and \\\n"
     ]
    },
    {
     "name": "stdout",
     "output_type": "stream",
     "text": [
      "[14:58:15] WARNING: C:/Jenkins/workspace/xgboost-win64_release_0.90/src/objective/regression_obj.cu:152: reg:linear is now deprecated in favor of reg:squarederror.\n"
     ]
    }
   ],
   "source": [
    "# Train the model\n",
    "xgbmodel = xgb.fit(X_train, y_train)"
   ]
  },
  {
   "cell_type": "code",
   "execution_count": 68,
   "metadata": {},
   "outputs": [],
   "source": [
    "# Make predictions\n",
    "xgbpred = xgbmodel.predict(X_test)"
   ]
  },
  {
   "cell_type": "code",
   "execution_count": 69,
   "metadata": {},
   "outputs": [
    {
     "name": "stdout",
     "output_type": "stream",
     "text": [
      "0.8640318986854577\n"
     ]
    }
   ],
   "source": [
    "# RSQUARED\n",
    "print(explained_variance_score(xgbpred, y_test))"
   ]
  },
  {
   "cell_type": "code",
   "execution_count": 70,
   "metadata": {},
   "outputs": [
    {
     "name": "stdout",
     "output_type": "stream",
     "text": [
      "Mean squared error: 82.87\n"
     ]
    }
   ],
   "source": [
    "# MSE\n",
    "print(\"Mean squared error: %.2f\"\n",
    "      % mean_squared_error(xgbpred, y_test))"
   ]
  },
  {
   "cell_type": "code",
   "execution_count": 71,
   "metadata": {},
   "outputs": [
    {
     "name": "stdout",
     "output_type": "stream",
     "text": [
      "RMSE: 9.10\n"
     ]
    }
   ],
   "source": [
    "# RMSE\n",
    "print(\"RMSE: %.2f\"\n",
    "      % np.sqrt(mean_squared_error(xgbpred, y_test)))"
   ]
  },
  {
   "cell_type": "code",
   "execution_count": 72,
   "metadata": {},
   "outputs": [
    {
     "name": "stdout",
     "output_type": "stream",
     "text": [
      "R_squared: 0.86\n"
     ]
    }
   ],
   "source": [
    "# RSQUARED\n",
    "print('R_squared: %.2f' % r2_score(xgbpred, y_test))"
   ]
  },
  {
   "cell_type": "code",
   "execution_count": 73,
   "metadata": {},
   "outputs": [],
   "source": [
    "# Calculate mean absolute percentage error (MAPE)\n",
    "xgberrors = abs(xgbpred - y_test)\n",
    "xgbmape = 100 * (xgberrors / y_test)"
   ]
  },
  {
   "cell_type": "code",
   "execution_count": 74,
   "metadata": {},
   "outputs": [
    {
     "name": "stdout",
     "output_type": "stream",
     "text": [
      "Accuracy: 90.04 %.\n"
     ]
    }
   ],
   "source": [
    "# Calculate and display accuracy\n",
    "xgbaccuracy = 100 - np.mean(xgbmape)\n",
    "print('Accuracy:', round(xgbaccuracy, 2), '%.')"
   ]
  },
  {
   "cell_type": "markdown",
   "metadata": {},
   "source": [
    "# XGBoost Grid Search on the test/train"
   ]
  },
  {
   "cell_type": "code",
   "execution_count": 75,
   "metadata": {},
   "outputs": [],
   "source": [
    "# READ THIS\n",
    "    # https://www.datacamp.com/community/tutorials/xgboost-in-python"
   ]
  },
  {
   "cell_type": "code",
   "execution_count": 76,
   "metadata": {},
   "outputs": [],
   "source": [
    "from sklearn.model_selection import GridSearchCV\n",
    "from sklearn.model_selection import cross_val_predict\n",
    "from sklearn.model_selection import KFold\n",
    "from sklearn.model_selection import RandomizedSearchCV\n",
    "import scipy.stats as st"
   ]
  },
  {
   "cell_type": "code",
   "execution_count": 77,
   "metadata": {},
   "outputs": [],
   "source": [
    "# State the model\n",
    "xgbgs = xgboost.XGBRegressor()"
   ]
  },
  {
   "cell_type": "code",
   "execution_count": 100,
   "metadata": {},
   "outputs": [],
   "source": [
    "# Preparing parameter grid\n",
    "one_to_left = st.beta(10, 1)  \n",
    "from_zero_positive = st.expon(0, 100)\n",
    "\n",
    "params = {  \n",
    "    \"n_estimators\": st.randint(3, 200),\n",
    "    \"max_depth\": st.randint(3, 40),\n",
    "    \"learning_rate\": st.uniform(0.05, 0.1),\n",
    "    \"colsample_bytree\": one_to_left,\n",
    "    \"subsample\": one_to_left,\n",
    "    \"gamma\": st.uniform(0, 10),\n",
    "    'reg_alpha': from_zero_positive,\n",
    "    \"min_child_weight\": from_zero_positive,\n",
    "}\n",
    "\n",
    "params2 = {\n",
    "    \"n_estimators\": st.randint(3, 400),\n",
    "    \"max_depth\": st.randint(3, 100),\n",
    "    \"learning_rate\": st.uniform(0.05, 0.3),\n",
    "    \"colsample_bytree\": one_to_left,\n",
    "    \"subsample\": one_to_left,\n",
    "    \"gamma\": st.uniform(0, 0.2),\n",
    "    'reg_alpha': from_zero_positive,\n",
    "    \"min_child_weight\": from_zero_positive,\n",
    "}"
   ]
  },
  {
   "cell_type": "code",
   "execution_count": 101,
   "metadata": {},
   "outputs": [],
   "source": [
    "# Instantiating randomized grid search\n",
    "gs = RandomizedSearchCV(xgbgs, params2, n_jobs=5, cv=5)  "
   ]
  },
  {
   "cell_type": "code",
   "execution_count": 102,
   "metadata": {},
   "outputs": [
    {
     "name": "stderr",
     "output_type": "stream",
     "text": [
      "C:\\Users\\cholz\\Anaconda3\\lib\\site-packages\\xgboost\\core.py:587: FutureWarning: Series.base is deprecated and will be removed in a future version\n",
      "  if getattr(data, 'base', None) is not None and \\\n"
     ]
    },
    {
     "name": "stdout",
     "output_type": "stream",
     "text": [
      "[15:19:06] WARNING: C:/Jenkins/workspace/xgboost-win64_release_0.90/src/objective/regression_obj.cu:152: reg:linear is now deprecated in favor of reg:squarederror.\n"
     ]
    },
    {
     "data": {
      "text/plain": [
       "RandomizedSearchCV(cv=5, error_score='raise-deprecating',\n",
       "          estimator=XGBRegressor(base_score=0.5, booster='gbtree', colsample_bylevel=1,\n",
       "       colsample_bynode=1, colsample_bytree=1, gamma=0,\n",
       "       importance_type='gain', learning_rate=0.1, max_delta_step=0,\n",
       "       max_depth=3, min_child_weight=1, missing=None, n_estimators=100,\n",
       "       n_jobs=1, nthread=None, objective='reg:linear', random_state=0,\n",
       "       reg_alpha=0, reg_lambda=1, scale_pos_weight=1, seed=None,\n",
       "       silent=None, subsample=1, verbosity=1),\n",
       "          fit_params=None, iid='warn', n_iter=10, n_jobs=5,\n",
       "          param_distributions={'n_estimators': <scipy.stats._distn_infrastructure.rv_frozen object at 0x000001F0A49FCCC0>, 'max_depth': <scipy.stats._distn_infrastructure.rv_frozen object at 0x000001F0A49DE780>, 'learning_rate': <scipy.stats._distn_infrastructure.rv_frozen object at 0x000001F0A4A09128>, 'cols...28>, 'min_child_weight': <scipy.stats._distn_infrastructure.rv_frozen object at 0x000001F0A49FC828>},\n",
       "          pre_dispatch='2*n_jobs', random_state=None, refit=True,\n",
       "          return_train_score='warn', scoring=None, verbose=0)"
      ]
     },
     "execution_count": 102,
     "metadata": {},
     "output_type": "execute_result"
    }
   ],
   "source": [
    "# Fitting the model and the grid\n",
    "gs.fit(X_train, y_train)"
   ]
  },
  {
   "cell_type": "code",
   "execution_count": 103,
   "metadata": {},
   "outputs": [
    {
     "data": {
      "text/plain": [
       "{'colsample_bytree': 0.7986306694454575,\n",
       " 'gamma': 0.008783023184115057,\n",
       " 'learning_rate': 0.1522743685057763,\n",
       " 'max_depth': 46,\n",
       " 'min_child_weight': 61.276714293435155,\n",
       " 'n_estimators': 388,\n",
       " 'reg_alpha': 95.34130218741632,\n",
       " 'subsample': 0.9695758721284863}"
      ]
     },
     "execution_count": 103,
     "metadata": {},
     "output_type": "execute_result"
    }
   ],
   "source": [
    "# Displaying best parameters\n",
    "bestxgb_params = gs.best_params_\n",
    "bestxgb_params"
   ]
  },
  {
   "cell_type": "code",
   "execution_count": 104,
   "metadata": {},
   "outputs": [],
   "source": [
    "# New model\n",
    "xgb_best = xgboost.XGBRegressor(colsample_bytree=0.7986306694454575,\n",
    " gamma=0.008783023184115057,\n",
    " learning_rate=0.1522743685057763,\n",
    " max_depth=46,\n",
    " min_child_weight=61.276714293435155,\n",
    " n_estimators=388,\n",
    " reg_alpha=95.34130218741632,\n",
    " subsample=0.9695758721284863)"
   ]
  },
  {
   "cell_type": "code",
   "execution_count": 105,
   "metadata": {},
   "outputs": [
    {
     "name": "stdout",
     "output_type": "stream",
     "text": [
      "[15:25:03] WARNING: C:/Jenkins/workspace/xgboost-win64_release_0.90/src/objective/regression_obj.cu:152: reg:linear is now deprecated in favor of reg:squarederror.\n"
     ]
    }
   ],
   "source": [
    "# Train the model\n",
    "xgb2_model = xgb_best.fit(X_train, y_train)"
   ]
  },
  {
   "cell_type": "code",
   "execution_count": 106,
   "metadata": {},
   "outputs": [],
   "source": [
    "# Make predictions\n",
    "xgb2pred = xgb2_model.predict(X_test)"
   ]
  },
  {
   "cell_type": "code",
   "execution_count": 107,
   "metadata": {},
   "outputs": [
    {
     "name": "stdout",
     "output_type": "stream",
     "text": [
      "0.8564662445487086\n"
     ]
    }
   ],
   "source": [
    "# RSQUARED\n",
    "print(explained_variance_score(xgb2pred, y_test))"
   ]
  },
  {
   "cell_type": "code",
   "execution_count": 108,
   "metadata": {},
   "outputs": [
    {
     "name": "stdout",
     "output_type": "stream",
     "text": [
      "Mean squared error: 89.22\n"
     ]
    }
   ],
   "source": [
    "# MSE\n",
    "print(\"Mean squared error: %.2f\"\n",
    "      % mean_squared_error(xgb2pred, y_test))"
   ]
  },
  {
   "cell_type": "code",
   "execution_count": 109,
   "metadata": {},
   "outputs": [
    {
     "name": "stdout",
     "output_type": "stream",
     "text": [
      "RMSE: 9.45\n"
     ]
    }
   ],
   "source": [
    "# RMSE\n",
    "print(\"RMSE: %.2f\"\n",
    "      % np.sqrt(mean_squared_error(xgb2pred, y_test)))"
   ]
  },
  {
   "cell_type": "code",
   "execution_count": 110,
   "metadata": {},
   "outputs": [
    {
     "name": "stdout",
     "output_type": "stream",
     "text": [
      "R_squared: 0.86\n"
     ]
    }
   ],
   "source": [
    "# RSQUARED\n",
    "print('R_squared: %.2f' % r2_score(xgb2pred, y_test))"
   ]
  },
  {
   "cell_type": "code",
   "execution_count": 111,
   "metadata": {},
   "outputs": [],
   "source": [
    "# Calculate mean absolute percentage error (MAPE)\n",
    "xgb2errors = abs(xgb2pred - y_test)\n",
    "xgb2mape = 100 * (xgb2errors / y_test)"
   ]
  },
  {
   "cell_type": "code",
   "execution_count": 112,
   "metadata": {},
   "outputs": [
    {
     "name": "stdout",
     "output_type": "stream",
     "text": [
      "Accuracy: 89.32 %.\n"
     ]
    }
   ],
   "source": [
    "# Calculate and display accuracy\n",
    "xgb2accuracy = 100 - np.mean(xgb2mape)\n",
    "print('Accuracy:', round(xgb2accuracy, 2), '%.')"
   ]
  },
  {
   "cell_type": "code",
   "execution_count": 113,
   "metadata": {},
   "outputs": [],
   "source": [
    "# We overfitted the model. Let's try XGBoost with Cross Validation next."
   ]
  },
  {
   "cell_type": "markdown",
   "metadata": {},
   "source": [
    "# XGBoost Cross Validation"
   ]
  },
  {
   "cell_type": "code",
   "execution_count": 114,
   "metadata": {},
   "outputs": [],
   "source": [
    "# documentation here:\n",
    "    # https://scikit-learn.org/stable/modules/cross_validation.html"
   ]
  },
  {
   "cell_type": "code",
   "execution_count": 115,
   "metadata": {},
   "outputs": [],
   "source": [
    "from xgboost.sklearn import XGBRegressor\n",
    "from sklearn.model_selection import cross_val_score\n",
    "from sklearn import metrics"
   ]
  },
  {
   "cell_type": "code",
   "execution_count": 116,
   "metadata": {},
   "outputs": [
    {
     "name": "stderr",
     "output_type": "stream",
     "text": [
      "C:\\Users\\cholz\\Anaconda3\\lib\\site-packages\\xgboost\\core.py:587: FutureWarning: Series.base is deprecated and will be removed in a future version\n",
      "  if getattr(data, 'base', None) is not None and \\\n"
     ]
    },
    {
     "name": "stdout",
     "output_type": "stream",
     "text": [
      "[15:26:11] WARNING: C:/Jenkins/workspace/xgboost-win64_release_0.90/src/objective/regression_obj.cu:152: reg:linear is now deprecated in favor of reg:squarederror.\n"
     ]
    },
    {
     "name": "stderr",
     "output_type": "stream",
     "text": [
      "C:\\Users\\cholz\\Anaconda3\\lib\\site-packages\\xgboost\\core.py:587: FutureWarning: Series.base is deprecated and will be removed in a future version\n",
      "  if getattr(data, 'base', None) is not None and \\\n"
     ]
    },
    {
     "name": "stdout",
     "output_type": "stream",
     "text": [
      "[15:26:17] WARNING: C:/Jenkins/workspace/xgboost-win64_release_0.90/src/objective/regression_obj.cu:152: reg:linear is now deprecated in favor of reg:squarederror.\n"
     ]
    },
    {
     "name": "stderr",
     "output_type": "stream",
     "text": [
      "C:\\Users\\cholz\\Anaconda3\\lib\\site-packages\\xgboost\\core.py:587: FutureWarning: Series.base is deprecated and will be removed in a future version\n",
      "  if getattr(data, 'base', None) is not None and \\\n"
     ]
    },
    {
     "name": "stdout",
     "output_type": "stream",
     "text": [
      "[15:26:22] WARNING: C:/Jenkins/workspace/xgboost-win64_release_0.90/src/objective/regression_obj.cu:152: reg:linear is now deprecated in favor of reg:squarederror.\n"
     ]
    },
    {
     "name": "stderr",
     "output_type": "stream",
     "text": [
      "C:\\Users\\cholz\\Anaconda3\\lib\\site-packages\\xgboost\\core.py:587: FutureWarning: Series.base is deprecated and will be removed in a future version\n",
      "  if getattr(data, 'base', None) is not None and \\\n"
     ]
    },
    {
     "name": "stdout",
     "output_type": "stream",
     "text": [
      "[15:26:27] WARNING: C:/Jenkins/workspace/xgboost-win64_release_0.90/src/objective/regression_obj.cu:152: reg:linear is now deprecated in favor of reg:squarederror.\n"
     ]
    },
    {
     "name": "stderr",
     "output_type": "stream",
     "text": [
      "C:\\Users\\cholz\\Anaconda3\\lib\\site-packages\\xgboost\\core.py:587: FutureWarning: Series.base is deprecated and will be removed in a future version\n",
      "  if getattr(data, 'base', None) is not None and \\\n"
     ]
    },
    {
     "name": "stdout",
     "output_type": "stream",
     "text": [
      "[15:26:33] WARNING: C:/Jenkins/workspace/xgboost-win64_release_0.90/src/objective/regression_obj.cu:152: reg:linear is now deprecated in favor of reg:squarederror.\n"
     ]
    },
    {
     "name": "stderr",
     "output_type": "stream",
     "text": [
      "C:\\Users\\cholz\\Anaconda3\\lib\\site-packages\\xgboost\\core.py:587: FutureWarning: Series.base is deprecated and will be removed in a future version\n",
      "  if getattr(data, 'base', None) is not None and \\\n"
     ]
    },
    {
     "name": "stdout",
     "output_type": "stream",
     "text": [
      "[15:26:38] WARNING: C:/Jenkins/workspace/xgboost-win64_release_0.90/src/objective/regression_obj.cu:152: reg:linear is now deprecated in favor of reg:squarederror.\n"
     ]
    },
    {
     "name": "stderr",
     "output_type": "stream",
     "text": [
      "C:\\Users\\cholz\\Anaconda3\\lib\\site-packages\\xgboost\\core.py:587: FutureWarning: Series.base is deprecated and will be removed in a future version\n",
      "  if getattr(data, 'base', None) is not None and \\\n"
     ]
    },
    {
     "name": "stdout",
     "output_type": "stream",
     "text": [
      "[15:27:01] WARNING: C:/Jenkins/workspace/xgboost-win64_release_0.90/src/objective/regression_obj.cu:152: reg:linear is now deprecated in favor of reg:squarederror.\n"
     ]
    },
    {
     "name": "stderr",
     "output_type": "stream",
     "text": [
      "C:\\Users\\cholz\\Anaconda3\\lib\\site-packages\\xgboost\\core.py:587: FutureWarning: Series.base is deprecated and will be removed in a future version\n",
      "  if getattr(data, 'base', None) is not None and \\\n"
     ]
    },
    {
     "name": "stdout",
     "output_type": "stream",
     "text": [
      "[15:27:25] WARNING: C:/Jenkins/workspace/xgboost-win64_release_0.90/src/objective/regression_obj.cu:152: reg:linear is now deprecated in favor of reg:squarederror.\n"
     ]
    },
    {
     "name": "stderr",
     "output_type": "stream",
     "text": [
      "C:\\Users\\cholz\\Anaconda3\\lib\\site-packages\\xgboost\\core.py:587: FutureWarning: Series.base is deprecated and will be removed in a future version\n",
      "  if getattr(data, 'base', None) is not None and \\\n"
     ]
    },
    {
     "name": "stdout",
     "output_type": "stream",
     "text": [
      "[15:27:50] WARNING: C:/Jenkins/workspace/xgboost-win64_release_0.90/src/objective/regression_obj.cu:152: reg:linear is now deprecated in favor of reg:squarederror.\n"
     ]
    },
    {
     "name": "stderr",
     "output_type": "stream",
     "text": [
      "C:\\Users\\cholz\\Anaconda3\\lib\\site-packages\\xgboost\\core.py:587: FutureWarning: Series.base is deprecated and will be removed in a future version\n",
      "  if getattr(data, 'base', None) is not None and \\\n"
     ]
    },
    {
     "name": "stdout",
     "output_type": "stream",
     "text": [
      "[15:28:15] WARNING: C:/Jenkins/workspace/xgboost-win64_release_0.90/src/objective/regression_obj.cu:152: reg:linear is now deprecated in favor of reg:squarederror.\n"
     ]
    }
   ],
   "source": [
    "# Evaluating base model vs grid model\n",
    "scores_base = cross_val_score(xgbmodel, X_train, y_train, cv=5)\n",
    "scores_grid = cross_val_score(xgb2_model, X_train, y_train, cv=5)"
   ]
  },
  {
   "cell_type": "code",
   "execution_count": 118,
   "metadata": {},
   "outputs": [
    {
     "name": "stdout",
     "output_type": "stream",
     "text": [
      "Accuracy Base Model: 0.89 (+/- 0.01)\n",
      "Accuracy Grid Model: 0.88 (+/- 0.01)\n"
     ]
    }
   ],
   "source": [
    "print(\"Accuracy Base Model: %0.2f (+/- %0.2f)\" % (scores_base.mean(), scores_base.std() * 2))\n",
    "print(\"Accuracy Grid Model: %0.2f (+/- %0.2f)\" % (scores_grid.mean(), scores_grid.std() * 2))"
   ]
  },
  {
   "cell_type": "markdown",
   "metadata": {},
   "source": [
    "# Neural Network"
   ]
  },
  {
   "cell_type": "code",
   "execution_count": 189,
   "metadata": {},
   "outputs": [],
   "source": [
    "import numpy as np\n",
    "from keras.layers import Dense, Activation\n",
    "from keras.models import Sequential\n",
    "from sklearn.model_selection import train_test_split\n",
    "import matplotlib.pyplot as plt"
   ]
  },
  {
   "cell_type": "code",
   "execution_count": 190,
   "metadata": {},
   "outputs": [
    {
     "data": {
      "text/plain": [
       "14"
      ]
     },
     "execution_count": 190,
     "metadata": {},
     "output_type": "execute_result"
    }
   ],
   "source": [
    "# Usually it's a good practice to apply following formula in order to find out the total number\n",
    "# of hidden layers needed.\n",
    "\n",
    "# Nh = Ns/(α∗ (Ni + No))\n",
    "\n",
    "# where\n",
    "    # Ni = number of input neurons.\n",
    "    # No = number of output neurons.\n",
    "    # Ns = number of samples in training data set.\n",
    "    # α = an arbitrary scaling factor usually 2-10.\n",
    "\n",
    "nh = round(len(X_train)/(7 * (X_train.shape[1] + 1)))\n",
    "nh"
   ]
  },
  {
   "cell_type": "code",
   "execution_count": 209,
   "metadata": {},
   "outputs": [
    {
     "name": "stderr",
     "output_type": "stream",
     "text": [
      "C:\\Users\\cholz\\Anaconda3\\lib\\site-packages\\sklearn\\preprocessing\\data.py:645: DataConversionWarning: Data with input dtype uint8, int64 were all converted to float64 by StandardScaler.\n",
      "  return self.partial_fit(X, y)\n",
      "C:\\Users\\cholz\\Anaconda3\\lib\\site-packages\\sklearn\\base.py:464: DataConversionWarning: Data with input dtype uint8, int64 were all converted to float64 by StandardScaler.\n",
      "  return self.fit(X, **fit_params).transform(X)\n"
     ]
    }
   ],
   "source": [
    "# Feature Scaling\n",
    "from sklearn.preprocessing import StandardScaler\n",
    "sc = StandardScaler()\n",
    "X_train_sc = sc.fit_transform(X_train)\n",
    "X_test_sc = sc.transform(X_test)"
   ]
  },
  {
   "cell_type": "code",
   "execution_count": 206,
   "metadata": {},
   "outputs": [],
   "source": [
    "# Initialising the ANN\n",
    "nn = Sequential()\n",
    "\n",
    "# Adding the input layer and the first hidden layer\n",
    "nn.add(Dense(70, activation = 'relu', input_dim = 70))\n",
    "\n",
    "# Adding the second hidden layer\n",
    "nn.add(Dense(units = 70, activation = 'relu'))\n",
    "\n",
    "# Adding the third hidden layer\n",
    "nn.add(Dense(units = 70, activation = 'relu'))\n",
    "\n",
    "# Adding the output layer\n",
    "nn.add(Dense(units = 1))\n",
    "\n",
    "#model.add(Dense(1))\n",
    "# Compiling the ANN\n",
    "nn.compile(optimizer = 'adam', loss = 'mean_squared_error')"
   ]
  },
  {
   "cell_type": "code",
   "execution_count": 210,
   "metadata": {},
   "outputs": [
    {
     "name": "stdout",
     "output_type": "stream",
     "text": [
      "Epoch 1/100\n",
      "7015/7015 [==============================] - ETA: 2s - loss: 5967.06 - ETA: 1s - loss: 5561.65 - ETA: 1s - loss: 3971.31 - ETA: 1s - loss: 2848.08 - ETA: 1s - loss: 2204.67 - ETA: 1s - loss: 1800.25 - ETA: 1s - loss: 1523.16 - ETA: 1s - loss: 1318.81 - ETA: 0s - loss: 1165.19 - ETA: 0s - loss: 1051.10 - ETA: 0s - loss: 958.3141 - ETA: 0s - loss: 884.768 - ETA: 0s - loss: 819.452 - ETA: 0s - loss: 763.104 - ETA: 0s - loss: 718.080 - ETA: 0s - loss: 676.206 - ETA: 0s - loss: 640.511 - ETA: 0s - loss: 606.396 - ETA: 0s - loss: 581.392 - ETA: 0s - loss: 558.439 - ETA: 0s - loss: 538.025 - ETA: 0s - loss: 517.411 - ETA: 0s - loss: 498.959 - ETA: 0s - loss: 481.472 - ETA: 0s - loss: 465.808 - ETA: 0s - loss: 451.197 - ETA: 0s - loss: 438.109 - 1s 194us/step - loss: 431.3290\n",
      "Epoch 2/100\n",
      "7015/7015 [==============================] - ETA: 1s - loss: 26.63 - ETA: 1s - loss: 85.37 - ETA: 1s - loss: 93.23 - ETA: 1s - loss: 91.00 - ETA: 1s - loss: 92.93 - ETA: 1s - loss: 96.66 - ETA: 1s - loss: 94.90 - ETA: 1s - loss: 96.06 - ETA: 0s - loss: 95.60 - ETA: 0s - loss: 95.12 - ETA: 0s - loss: 94.38 - ETA: 0s - loss: 95.81 - ETA: 0s - loss: 96.57 - ETA: 0s - loss: 96.36 - ETA: 0s - loss: 95.86 - ETA: 0s - loss: 94.75 - ETA: 0s - loss: 95.94 - ETA: 0s - loss: 94.99 - ETA: 0s - loss: 95.11 - ETA: 0s - loss: 95.46 - ETA: 0s - loss: 95.72 - ETA: 0s - loss: 94.84 - ETA: 0s - loss: 94.62 - ETA: 0s - loss: 95.54 - ETA: 0s - loss: 94.86 - ETA: 0s - loss: 95.14 - ETA: 0s - loss: 95.21 - 1s 196us/step - loss: 95.2484\n",
      "Epoch 3/100\n",
      "7015/7015 [==============================] - ETA: 2s - loss: 119.710 - ETA: 1s - loss: 69.446 - ETA: 1s - loss: 71.05 - ETA: 1s - loss: 71.76 - ETA: 1s - loss: 75.11 - ETA: 1s - loss: 76.75 - ETA: 1s - loss: 76.35 - ETA: 1s - loss: 77.20 - ETA: 0s - loss: 78.70 - ETA: 0s - loss: 79.16 - ETA: 0s - loss: 78.96 - ETA: 0s - loss: 78.50 - ETA: 0s - loss: 79.73 - ETA: 0s - loss: 81.12 - ETA: 0s - loss: 82.28 - ETA: 0s - loss: 82.47 - ETA: 0s - loss: 83.24 - ETA: 0s - loss: 82.95 - ETA: 0s - loss: 84.00 - ETA: 0s - loss: 83.93 - ETA: 0s - loss: 84.80 - ETA: 0s - loss: 84.93 - ETA: 0s - loss: 86.22 - ETA: 0s - loss: 86.18 - ETA: 0s - loss: 85.72 - ETA: 0s - loss: 85.50 - ETA: 0s - loss: 86.18 - 1s 193us/step - loss: 86.1344\n",
      "Epoch 4/100\n",
      "7015/7015 [==============================] - ETA: 2s - loss: 67.96 - ETA: 1s - loss: 100.341 - ETA: 1s - loss: 84.517 - ETA: 1s - loss: 89.77 - ETA: 1s - loss: 89.02 - ETA: 1s - loss: 85.06 - ETA: 1s - loss: 91.81 - ETA: 1s - loss: 92.30 - ETA: 0s - loss: 92.38 - ETA: 0s - loss: 89.30 - ETA: 0s - loss: 87.98 - ETA: 0s - loss: 84.94 - ETA: 0s - loss: 84.56 - ETA: 0s - loss: 84.13 - ETA: 0s - loss: 83.88 - ETA: 0s - loss: 83.40 - ETA: 0s - loss: 84.12 - ETA: 0s - loss: 84.12 - ETA: 0s - loss: 84.25 - ETA: 0s - loss: 84.26 - ETA: 0s - loss: 83.91 - ETA: 0s - loss: 83.59 - ETA: 0s - loss: 83.96 - ETA: 0s - loss: 83.53 - ETA: 0s - loss: 83.15 - ETA: 0s - loss: 82.89 - ETA: 0s - loss: 82.63 - 1s 195us/step - loss: 82.4904\n",
      "Epoch 5/100\n",
      "7015/7015 [==============================] - ETA: 2s - loss: 26.16 - ETA: 1s - loss: 75.70 - ETA: 1s - loss: 81.12 - ETA: 1s - loss: 73.46 - ETA: 1s - loss: 73.32 - ETA: 1s - loss: 74.88 - ETA: 1s - loss: 78.02 - ETA: 1s - loss: 77.67 - ETA: 1s - loss: 78.91 - ETA: 0s - loss: 76.70 - ETA: 0s - loss: 77.57 - ETA: 0s - loss: 77.73 - ETA: 0s - loss: 79.38 - ETA: 0s - loss: 78.80 - ETA: 0s - loss: 78.70 - ETA: 0s - loss: 79.21 - ETA: 0s - loss: 78.21 - ETA: 0s - loss: 78.92 - ETA: 0s - loss: 79.59 - ETA: 0s - loss: 79.14 - ETA: 0s - loss: 79.80 - ETA: 0s - loss: 79.65 - ETA: 0s - loss: 79.29 - ETA: 0s - loss: 79.24 - ETA: 0s - loss: 79.43 - ETA: 0s - loss: 79.33 - ETA: 0s - loss: 79.35 - ETA: 0s - loss: 79.89 - ETA: 0s - loss: 79.45 - 1s 209us/step - loss: 79.5109\n",
      "Epoch 6/100\n",
      "7015/7015 [==============================] - ETA: 2s - loss: 66.56 - ETA: 1s - loss: 85.62 - ETA: 1s - loss: 74.54 - ETA: 1s - loss: 78.56 - ETA: 1s - loss: 79.56 - ETA: 1s - loss: 76.07 - ETA: 1s - loss: 78.06 - ETA: 1s - loss: 78.60 - ETA: 0s - loss: 78.73 - ETA: 0s - loss: 77.70 - ETA: 0s - loss: 78.76 - ETA: 0s - loss: 77.57 - ETA: 0s - loss: 78.72 - ETA: 0s - loss: 77.09 - ETA: 0s - loss: 78.80 - ETA: 0s - loss: 78.66 - ETA: 0s - loss: 78.40 - ETA: 0s - loss: 78.39 - ETA: 0s - loss: 77.15 - ETA: 0s - loss: 78.53 - ETA: 0s - loss: 78.41 - ETA: 0s - loss: 78.25 - ETA: 0s - loss: 78.28 - ETA: 0s - loss: 78.35 - ETA: 0s - loss: 78.62 - ETA: 0s - loss: 78.66 - ETA: 0s - loss: 78.60 - 1s 194us/step - loss: 78.4558\n",
      "Epoch 7/100\n",
      "7015/7015 [==============================] - ETA: 2s - loss: 22.29 - ETA: 1s - loss: 53.79 - ETA: 1s - loss: 70.99 - ETA: 1s - loss: 76.88 - ETA: 1s - loss: 77.47 - ETA: 1s - loss: 75.07 - ETA: 1s - loss: 74.22 - ETA: 1s - loss: 73.38 - ETA: 1s - loss: 74.70 - ETA: 0s - loss: 74.15 - ETA: 0s - loss: 73.08 - ETA: 0s - loss: 75.19 - ETA: 0s - loss: 74.47 - ETA: 0s - loss: 74.83 - ETA: 0s - loss: 75.51 - ETA: 0s - loss: 77.01 - ETA: 0s - loss: 76.40 - ETA: 0s - loss: 76.34 - ETA: 0s - loss: 76.31 - ETA: 0s - loss: 76.46 - ETA: 0s - loss: 76.50 - ETA: 0s - loss: 76.54 - ETA: 0s - loss: 75.94 - ETA: 0s - loss: 75.91 - ETA: 0s - loss: 76.26 - ETA: 0s - loss: 76.15 - ETA: 0s - loss: 76.19 - ETA: 0s - loss: 76.39 - ETA: 0s - loss: 76.30 - 1s 207us/step - loss: 76.1052\n",
      "Epoch 8/100\n",
      "7015/7015 [==============================] - ETA: 2s - loss: 56.12 - ETA: 1s - loss: 66.49 - ETA: 1s - loss: 74.00 - ETA: 1s - loss: 72.53 - ETA: 1s - loss: 73.69 - ETA: 1s - loss: 73.62 - ETA: 1s - loss: 72.13 - ETA: 1s - loss: 71.48 - ETA: 0s - loss: 73.61 - ETA: 0s - loss: 73.11 - ETA: 0s - loss: 74.07 - ETA: 0s - loss: 75.82 - ETA: 0s - loss: 75.45 - ETA: 0s - loss: 76.57 - ETA: 0s - loss: 76.71 - ETA: 0s - loss: 76.11 - ETA: 0s - loss: 76.28 - ETA: 0s - loss: 75.76 - ETA: 0s - loss: 75.44 - ETA: 0s - loss: 74.92 - ETA: 0s - loss: 74.71 - ETA: 0s - loss: 74.74 - ETA: 0s - loss: 75.21 - ETA: 0s - loss: 74.79 - ETA: 0s - loss: 74.64 - ETA: 0s - loss: 74.12 - ETA: 0s - loss: 74.23 - ETA: 0s - loss: 74.42 - 1s 200us/step - loss: 74.4655\n",
      "Epoch 9/100\n",
      "7015/7015 [==============================] - ETA: 2s - loss: 54.99 - ETA: 1s - loss: 66.27 - ETA: 1s - loss: 61.62 - ETA: 1s - loss: 66.55 - ETA: 1s - loss: 69.81 - ETA: 1s - loss: 72.60 - ETA: 1s - loss: 72.69 - ETA: 1s - loss: 73.32 - ETA: 0s - loss: 73.54 - ETA: 0s - loss: 72.65 - ETA: 0s - loss: 73.39 - ETA: 0s - loss: 73.22 - ETA: 0s - loss: 72.61 - ETA: 0s - loss: 72.52 - ETA: 0s - loss: 72.30 - ETA: 0s - loss: 71.71 - ETA: 0s - loss: 72.82 - ETA: 0s - loss: 72.99 - ETA: 0s - loss: 72.46 - ETA: 0s - loss: 72.08 - ETA: 0s - loss: 72.63 - ETA: 0s - loss: 72.58 - ETA: 0s - loss: 72.70 - ETA: 0s - loss: 72.91 - ETA: 0s - loss: 72.86 - ETA: 0s - loss: 72.53 - ETA: 0s - loss: 73.10 - ETA: 0s - loss: 73.26 - 1s 199us/step - loss: 73.2297\n",
      "Epoch 10/100\n",
      "7015/7015 [==============================] - ETA: 2s - loss: 115.255 - ETA: 1s - loss: 73.354 - ETA: 1s - loss: 74.28 - ETA: 1s - loss: 72.57 - ETA: 1s - loss: 70.69 - ETA: 1s - loss: 70.90 - ETA: 1s - loss: 71.54 - ETA: 1s - loss: 68.53 - ETA: 0s - loss: 67.75 - ETA: 0s - loss: 69.78 - ETA: 0s - loss: 68.71 - ETA: 0s - loss: 68.90 - ETA: 0s - loss: 69.24 - ETA: 0s - loss: 69.06 - ETA: 0s - loss: 70.62 - ETA: 0s - loss: 71.55 - ETA: 0s - loss: 72.67 - ETA: 0s - loss: 72.55 - ETA: 0s - loss: 72.82 - ETA: 0s - loss: 72.99 - ETA: 0s - loss: 73.04 - ETA: 0s - loss: 72.81 - ETA: 0s - loss: 72.60 - ETA: 0s - loss: 72.86 - ETA: 0s - loss: 73.29 - ETA: 0s - loss: 73.05 - ETA: 0s - loss: 72.72 - ETA: 0s - loss: 73.30 - 1s 202us/step - loss: 73.0246\n",
      "Epoch 11/100\n"
     ]
    },
    {
     "name": "stdout",
     "output_type": "stream",
     "text": [
      "7015/7015 [==============================] - ETA: 1s - loss: 44.30 - ETA: 1s - loss: 85.00 - ETA: 1s - loss: 83.03 - ETA: 1s - loss: 77.65 - ETA: 1s - loss: 77.52 - ETA: 1s - loss: 75.91 - ETA: 1s - loss: 75.51 - ETA: 1s - loss: 76.02 - ETA: 0s - loss: 73.94 - ETA: 0s - loss: 74.15 - ETA: 0s - loss: 73.35 - ETA: 0s - loss: 73.73 - ETA: 0s - loss: 72.66 - ETA: 0s - loss: 72.76 - ETA: 0s - loss: 72.79 - ETA: 0s - loss: 72.18 - ETA: 0s - loss: 71.38 - ETA: 0s - loss: 70.85 - ETA: 0s - loss: 69.99 - ETA: 0s - loss: 70.25 - ETA: 0s - loss: 70.60 - ETA: 0s - loss: 71.45 - ETA: 0s - loss: 72.19 - ETA: 0s - loss: 72.09 - ETA: 0s - loss: 72.45 - ETA: 0s - loss: 72.64 - ETA: 0s - loss: 72.86 - ETA: 0s - loss: 72.93 - 1s 199us/step - loss: 72.6997\n",
      "Epoch 12/100\n",
      "7015/7015 [==============================] - ETA: 2s - loss: 44.06 - ETA: 1s - loss: 48.80 - ETA: 1s - loss: 57.89 - ETA: 1s - loss: 61.54 - ETA: 1s - loss: 65.82 - ETA: 1s - loss: 67.49 - ETA: 1s - loss: 68.36 - ETA: 1s - loss: 67.78 - ETA: 1s - loss: 68.34 - ETA: 0s - loss: 69.07 - ETA: 0s - loss: 70.51 - ETA: 0s - loss: 70.71 - ETA: 0s - loss: 70.12 - ETA: 0s - loss: 69.60 - ETA: 0s - loss: 69.83 - ETA: 0s - loss: 69.57 - ETA: 0s - loss: 70.34 - ETA: 0s - loss: 70.55 - ETA: 0s - loss: 71.20 - ETA: 0s - loss: 71.99 - ETA: 0s - loss: 71.87 - ETA: 0s - loss: 71.83 - ETA: 0s - loss: 71.86 - ETA: 0s - loss: 72.51 - ETA: 0s - loss: 72.51 - ETA: 0s - loss: 72.51 - ETA: 0s - loss: 72.19 - ETA: 0s - loss: 71.90 - 1s 199us/step - loss: 71.8134\n",
      "Epoch 13/100\n",
      "7015/7015 [==============================] - ETA: 2s - loss: 119.079 - ETA: 1s - loss: 61.502 - ETA: 1s - loss: 63.80 - ETA: 1s - loss: 63.27 - ETA: 1s - loss: 65.16 - ETA: 1s - loss: 65.10 - ETA: 1s - loss: 66.56 - ETA: 0s - loss: 69.79 - ETA: 0s - loss: 70.64 - ETA: 0s - loss: 71.24 - ETA: 0s - loss: 70.56 - ETA: 0s - loss: 70.19 - ETA: 0s - loss: 69.73 - ETA: 0s - loss: 69.44 - ETA: 0s - loss: 68.89 - ETA: 0s - loss: 69.08 - ETA: 0s - loss: 68.87 - ETA: 0s - loss: 68.82 - ETA: 0s - loss: 69.18 - ETA: 0s - loss: 69.70 - ETA: 0s - loss: 69.32 - ETA: 0s - loss: 70.18 - ETA: 0s - loss: 70.25 - ETA: 0s - loss: 70.82 - ETA: 0s - loss: 71.34 - ETA: 0s - loss: 71.42 - ETA: 0s - loss: 71.28 - 1s 191us/step - loss: 71.1806\n",
      "Epoch 14/100\n",
      "7015/7015 [==============================] - ETA: 2s - loss: 81.28 - ETA: 1s - loss: 68.40 - ETA: 1s - loss: 64.50 - ETA: 1s - loss: 68.19 - ETA: 1s - loss: 67.88 - ETA: 1s - loss: 69.45 - ETA: 1s - loss: 72.83 - ETA: 0s - loss: 72.09 - ETA: 0s - loss: 71.65 - ETA: 0s - loss: 71.83 - ETA: 0s - loss: 72.35 - ETA: 0s - loss: 71.54 - ETA: 0s - loss: 71.59 - ETA: 0s - loss: 71.61 - ETA: 0s - loss: 71.77 - ETA: 0s - loss: 71.59 - ETA: 0s - loss: 70.70 - ETA: 0s - loss: 69.61 - ETA: 0s - loss: 68.59 - ETA: 0s - loss: 68.77 - ETA: 0s - loss: 68.28 - ETA: 0s - loss: 68.75 - ETA: 0s - loss: 69.25 - ETA: 0s - loss: 69.66 - ETA: 0s - loss: 70.23 - ETA: 0s - loss: 70.30 - ETA: 0s - loss: 70.11 - 1s 195us/step - loss: 70.4500\n",
      "Epoch 15/100\n",
      "7015/7015 [==============================] - ETA: 1s - loss: 38.10 - ETA: 1s - loss: 71.06 - ETA: 1s - loss: 75.76 - ETA: 1s - loss: 75.63 - ETA: 1s - loss: 76.43 - ETA: 1s - loss: 77.02 - ETA: 1s - loss: 74.50 - ETA: 0s - loss: 70.57 - ETA: 0s - loss: 69.83 - ETA: 0s - loss: 70.49 - ETA: 0s - loss: 70.50 - ETA: 0s - loss: 71.09 - ETA: 0s - loss: 70.53 - ETA: 0s - loss: 71.54 - ETA: 0s - loss: 71.42 - ETA: 0s - loss: 71.34 - ETA: 0s - loss: 71.24 - ETA: 0s - loss: 70.83 - ETA: 0s - loss: 71.43 - ETA: 0s - loss: 72.00 - ETA: 0s - loss: 71.67 - ETA: 0s - loss: 71.68 - ETA: 0s - loss: 71.85 - ETA: 0s - loss: 72.36 - ETA: 0s - loss: 72.19 - ETA: 0s - loss: 71.73 - ETA: 0s - loss: 71.35 - 1s 193us/step - loss: 71.1137\n",
      "Epoch 16/100\n",
      "7015/7015 [==============================] - ETA: 2s - loss: 26.60 - ETA: 1s - loss: 86.63 - ETA: 1s - loss: 70.66 - ETA: 1s - loss: 67.67 - ETA: 1s - loss: 67.23 - ETA: 1s - loss: 67.21 - ETA: 1s - loss: 66.02 - ETA: 1s - loss: 65.72 - ETA: 1s - loss: 67.41 - ETA: 0s - loss: 67.90 - ETA: 0s - loss: 65.86 - ETA: 0s - loss: 65.87 - ETA: 0s - loss: 68.36 - ETA: 0s - loss: 69.41 - ETA: 0s - loss: 69.14 - ETA: 0s - loss: 68.53 - ETA: 0s - loss: 68.62 - ETA: 0s - loss: 68.90 - ETA: 0s - loss: 68.15 - ETA: 0s - loss: 68.42 - ETA: 0s - loss: 68.22 - ETA: 0s - loss: 68.40 - ETA: 0s - loss: 69.11 - ETA: 0s - loss: 69.24 - ETA: 0s - loss: 69.16 - ETA: 0s - loss: 69.49 - ETA: 0s - loss: 69.20 - ETA: 0s - loss: 69.31 - 1s 199us/step - loss: 69.3187\n",
      "Epoch 17/100\n",
      "7015/7015 [==============================] - ETA: 2s - loss: 24.96 - ETA: 1s - loss: 58.34 - ETA: 1s - loss: 65.87 - ETA: 1s - loss: 66.23 - ETA: 1s - loss: 66.54 - ETA: 1s - loss: 66.26 - ETA: 1s - loss: 67.08 - ETA: 1s - loss: 66.28 - ETA: 1s - loss: 66.71 - ETA: 1s - loss: 65.64 - ETA: 0s - loss: 64.44 - ETA: 0s - loss: 64.30 - ETA: 0s - loss: 65.77 - ETA: 0s - loss: 65.92 - ETA: 0s - loss: 65.87 - ETA: 0s - loss: 67.13 - ETA: 0s - loss: 68.44 - ETA: 0s - loss: 69.12 - ETA: 0s - loss: 68.87 - ETA: 0s - loss: 68.94 - ETA: 0s - loss: 69.06 - ETA: 0s - loss: 68.78 - ETA: 0s - loss: 68.56 - ETA: 0s - loss: 68.74 - ETA: 0s - loss: 68.48 - ETA: 0s - loss: 68.91 - ETA: 0s - loss: 68.34 - ETA: 0s - loss: 68.19 - 1s 204us/step - loss: 68.2280\n",
      "Epoch 18/100\n",
      "7015/7015 [==============================] - ETA: 2s - loss: 80.51 - ETA: 1s - loss: 60.62 - ETA: 1s - loss: 62.56 - ETA: 1s - loss: 68.01 - ETA: 1s - loss: 67.02 - ETA: 1s - loss: 69.53 - ETA: 1s - loss: 70.70 - ETA: 0s - loss: 71.69 - ETA: 0s - loss: 69.11 - ETA: 0s - loss: 68.98 - ETA: 0s - loss: 68.63 - ETA: 0s - loss: 68.52 - ETA: 0s - loss: 67.77 - ETA: 0s - loss: 68.87 - ETA: 0s - loss: 69.38 - ETA: 0s - loss: 69.83 - ETA: 0s - loss: 69.83 - ETA: 0s - loss: 69.43 - ETA: 0s - loss: 69.11 - ETA: 0s - loss: 68.87 - ETA: 0s - loss: 68.93 - ETA: 0s - loss: 68.12 - ETA: 0s - loss: 67.75 - ETA: 0s - loss: 67.55 - ETA: 0s - loss: 67.73 - ETA: 0s - loss: 68.13 - ETA: 0s - loss: 67.63 - 1s 194us/step - loss: 68.0302\n",
      "Epoch 19/100\n",
      "7015/7015 [==============================] - ETA: 2s - loss: 26.92 - ETA: 1s - loss: 61.33 - ETA: 1s - loss: 71.20 - ETA: 1s - loss: 74.83 - ETA: 1s - loss: 74.13 - ETA: 1s - loss: 70.66 - ETA: 1s - loss: 66.86 - ETA: 1s - loss: 66.20 - ETA: 1s - loss: 68.24 - ETA: 0s - loss: 69.71 - ETA: 0s - loss: 70.34 - ETA: 0s - loss: 68.57 - ETA: 0s - loss: 68.64 - ETA: 0s - loss: 68.42 - ETA: 0s - loss: 68.63 - ETA: 0s - loss: 69.09 - ETA: 0s - loss: 68.64 - ETA: 0s - loss: 68.73 - ETA: 0s - loss: 68.61 - ETA: 0s - loss: 68.65 - ETA: 0s - loss: 67.89 - ETA: 0s - loss: 67.76 - ETA: 0s - loss: 68.04 - ETA: 0s - loss: 67.62 - ETA: 0s - loss: 67.51 - ETA: 0s - loss: 67.51 - ETA: 0s - loss: 67.99 - ETA: 0s - loss: 67.95 - 1s 199us/step - loss: 68.1054\n",
      "Epoch 20/100\n",
      "7015/7015 [==============================] - ETA: 2s - loss: 40.30 - ETA: 1s - loss: 61.09 - ETA: 1s - loss: 71.16 - ETA: 1s - loss: 69.73 - ETA: 1s - loss: 64.72 - ETA: 1s - loss: 62.59 - ETA: 1s - loss: 62.99 - ETA: 1s - loss: 67.16 - ETA: 0s - loss: 69.43 - ETA: 0s - loss: 68.29 - ETA: 0s - loss: 69.95 - ETA: 0s - loss: 69.55 - ETA: 0s - loss: 69.55 - ETA: 0s - loss: 68.89 - ETA: 0s - loss: 68.38 - ETA: 0s - loss: 68.45 - ETA: 0s - loss: 68.58 - ETA: 0s - loss: 68.62 - ETA: 0s - loss: 68.61 - ETA: 0s - loss: 67.47 - ETA: 0s - loss: 68.25 - ETA: 0s - loss: 68.77 - ETA: 0s - loss: 68.67 - ETA: 0s - loss: 68.52 - ETA: 0s - loss: 68.16 - ETA: 0s - loss: 68.69 - ETA: 0s - loss: 68.29 - 1s 196us/step - loss: 68.3791\n",
      "Epoch 21/100\n"
     ]
    },
    {
     "name": "stdout",
     "output_type": "stream",
     "text": [
      "7015/7015 [==============================] - ETA: 1s - loss: 127.687 - ETA: 1s - loss: 73.702 - ETA: 1s - loss: 63.16 - ETA: 1s - loss: 69.27 - ETA: 1s - loss: 67.57 - ETA: 1s - loss: 66.23 - ETA: 1s - loss: 66.64 - ETA: 0s - loss: 66.60 - ETA: 0s - loss: 65.21 - ETA: 0s - loss: 65.56 - ETA: 0s - loss: 64.74 - ETA: 0s - loss: 66.36 - ETA: 0s - loss: 66.13 - ETA: 0s - loss: 66.23 - ETA: 0s - loss: 65.53 - ETA: 0s - loss: 66.36 - ETA: 0s - loss: 66.41 - ETA: 0s - loss: 65.99 - ETA: 0s - loss: 66.67 - ETA: 0s - loss: 66.90 - ETA: 0s - loss: 67.28 - ETA: 0s - loss: 66.26 - ETA: 0s - loss: 66.35 - ETA: 0s - loss: 66.23 - ETA: 0s - loss: 66.37 - ETA: 0s - loss: 66.53 - ETA: 0s - loss: 66.94 - ETA: 0s - loss: 66.96 - 1s 202us/step - loss: 67.4498\n",
      "Epoch 22/100\n",
      "7015/7015 [==============================] - ETA: 2s - loss: 37.18 - ETA: 1s - loss: 75.08 - ETA: 1s - loss: 72.59 - ETA: 1s - loss: 67.07 - ETA: 1s - loss: 67.30 - ETA: 1s - loss: 68.26 - ETA: 1s - loss: 65.75 - ETA: 1s - loss: 66.27 - ETA: 0s - loss: 67.28 - ETA: 0s - loss: 66.79 - ETA: 0s - loss: 67.48 - ETA: 0s - loss: 67.33 - ETA: 0s - loss: 67.03 - ETA: 0s - loss: 66.15 - ETA: 0s - loss: 66.07 - ETA: 0s - loss: 65.61 - ETA: 0s - loss: 64.75 - ETA: 0s - loss: 65.17 - ETA: 0s - loss: 65.58 - ETA: 0s - loss: 65.98 - ETA: 0s - loss: 66.52 - ETA: 0s - loss: 66.15 - ETA: 0s - loss: 66.07 - ETA: 0s - loss: 66.15 - ETA: 0s - loss: 65.98 - ETA: 0s - loss: 65.62 - ETA: 0s - loss: 65.88 - 1s 194us/step - loss: 66.4098\n",
      "Epoch 23/100\n",
      "7015/7015 [==============================] - ETA: 2s - loss: 9.540 - ETA: 1s - loss: 70.63 - ETA: 1s - loss: 57.36 - ETA: 1s - loss: 55.89 - ETA: 1s - loss: 60.17 - ETA: 1s - loss: 64.14 - ETA: 1s - loss: 64.82 - ETA: 0s - loss: 65.16 - ETA: 0s - loss: 66.55 - ETA: 0s - loss: 69.31 - ETA: 0s - loss: 69.55 - ETA: 0s - loss: 70.12 - ETA: 0s - loss: 68.14 - ETA: 0s - loss: 69.34 - ETA: 0s - loss: 69.62 - ETA: 0s - loss: 70.15 - ETA: 0s - loss: 69.76 - ETA: 0s - loss: 69.30 - ETA: 0s - loss: 68.82 - ETA: 0s - loss: 68.10 - ETA: 0s - loss: 67.85 - ETA: 0s - loss: 68.98 - ETA: 0s - loss: 68.24 - ETA: 0s - loss: 68.16 - ETA: 0s - loss: 67.77 - ETA: 0s - loss: 67.48 - ETA: 0s - loss: 66.91 - 1s 193us/step - loss: 66.9354\n",
      "Epoch 24/100\n",
      "7015/7015 [==============================] - ETA: 2s - loss: 73.92 - ETA: 1s - loss: 60.16 - ETA: 1s - loss: 56.66 - ETA: 1s - loss: 50.84 - ETA: 1s - loss: 57.28 - ETA: 1s - loss: 59.81 - ETA: 1s - loss: 63.81 - ETA: 0s - loss: 61.32 - ETA: 0s - loss: 63.82 - ETA: 0s - loss: 64.06 - ETA: 0s - loss: 64.06 - ETA: 0s - loss: 63.84 - ETA: 0s - loss: 62.38 - ETA: 0s - loss: 62.16 - ETA: 0s - loss: 62.17 - ETA: 0s - loss: 62.44 - ETA: 0s - loss: 61.73 - ETA: 0s - loss: 62.28 - ETA: 0s - loss: 63.39 - ETA: 0s - loss: 63.70 - ETA: 0s - loss: 64.54 - ETA: 0s - loss: 65.05 - ETA: 0s - loss: 64.65 - ETA: 0s - loss: 65.31 - ETA: 0s - loss: 65.35 - ETA: 0s - loss: 65.34 - ETA: 0s - loss: 65.37 - ETA: 0s - loss: 65.66 - 1s 201us/step - loss: 65.7033\n",
      "Epoch 25/100\n",
      "7015/7015 [==============================] - ETA: 2s - loss: 62.09 - ETA: 1s - loss: 66.98 - ETA: 1s - loss: 63.46 - ETA: 1s - loss: 63.74 - ETA: 1s - loss: 63.26 - ETA: 1s - loss: 64.11 - ETA: 1s - loss: 62.78 - ETA: 1s - loss: 61.85 - ETA: 1s - loss: 61.41 - ETA: 0s - loss: 60.43 - ETA: 0s - loss: 60.34 - ETA: 0s - loss: 61.55 - ETA: 0s - loss: 62.39 - ETA: 0s - loss: 62.96 - ETA: 0s - loss: 62.83 - ETA: 0s - loss: 63.91 - ETA: 0s - loss: 64.22 - ETA: 0s - loss: 63.47 - ETA: 0s - loss: 63.41 - ETA: 0s - loss: 63.31 - ETA: 0s - loss: 63.70 - ETA: 0s - loss: 63.23 - ETA: 0s - loss: 63.81 - ETA: 0s - loss: 64.12 - ETA: 0s - loss: 64.19 - ETA: 0s - loss: 64.51 - ETA: 0s - loss: 64.91 - ETA: 0s - loss: 65.28 - 1s 203us/step - loss: 65.5167\n",
      "Epoch 26/100\n",
      "7015/7015 [==============================] - ETA: 2s - loss: 41.24 - ETA: 1s - loss: 73.92 - ETA: 1s - loss: 65.14 - ETA: 1s - loss: 70.26 - ETA: 1s - loss: 65.92 - ETA: 1s - loss: 64.93 - ETA: 1s - loss: 66.16 - ETA: 1s - loss: 67.47 - ETA: 1s - loss: 67.30 - ETA: 1s - loss: 67.71 - ETA: 1s - loss: 67.13 - ETA: 0s - loss: 67.08 - ETA: 0s - loss: 66.39 - ETA: 0s - loss: 65.07 - ETA: 0s - loss: 65.85 - ETA: 0s - loss: 65.44 - ETA: 0s - loss: 65.31 - ETA: 0s - loss: 65.66 - ETA: 0s - loss: 66.06 - ETA: 0s - loss: 67.17 - ETA: 0s - loss: 66.98 - ETA: 0s - loss: 67.60 - ETA: 0s - loss: 67.05 - ETA: 0s - loss: 66.34 - ETA: 0s - loss: 66.12 - ETA: 0s - loss: 66.34 - ETA: 0s - loss: 66.30 - ETA: 0s - loss: 66.03 - ETA: 0s - loss: 65.76 - 1s 208us/step - loss: 65.6072\n",
      "Epoch 27/100\n",
      "7015/7015 [==============================] - ETA: 2s - loss: 37.89 - ETA: 1s - loss: 63.56 - ETA: 1s - loss: 57.32 - ETA: 1s - loss: 64.26 - ETA: 1s - loss: 65.87 - ETA: 1s - loss: 63.59 - ETA: 1s - loss: 64.08 - ETA: 1s - loss: 63.85 - ETA: 1s - loss: 65.17 - ETA: 1s - loss: 64.59 - ETA: 1s - loss: 64.01 - ETA: 0s - loss: 63.45 - ETA: 0s - loss: 64.09 - ETA: 0s - loss: 63.50 - ETA: 0s - loss: 63.42 - ETA: 0s - loss: 63.68 - ETA: 0s - loss: 63.10 - ETA: 0s - loss: 63.00 - ETA: 0s - loss: 63.78 - ETA: 0s - loss: 63.42 - ETA: 0s - loss: 63.24 - ETA: 0s - loss: 63.68 - ETA: 0s - loss: 64.00 - ETA: 0s - loss: 64.60 - ETA: 0s - loss: 65.24 - ETA: 0s - loss: 65.39 - ETA: 0s - loss: 65.42 - ETA: 0s - loss: 65.40 - ETA: 0s - loss: 65.29 - 1s 210us/step - loss: 65.1045\n",
      "Epoch 28/100\n",
      "7015/7015 [==============================] - ETA: 2s - loss: 46.28 - ETA: 1s - loss: 69.84 - ETA: 1s - loss: 64.07 - ETA: 1s - loss: 66.36 - ETA: 1s - loss: 65.29 - ETA: 1s - loss: 64.64 - ETA: 1s - loss: 63.68 - ETA: 1s - loss: 63.63 - ETA: 1s - loss: 63.91 - ETA: 0s - loss: 62.46 - ETA: 0s - loss: 61.86 - ETA: 0s - loss: 60.72 - ETA: 0s - loss: 60.74 - ETA: 0s - loss: 61.16 - ETA: 0s - loss: 61.15 - ETA: 0s - loss: 62.52 - ETA: 0s - loss: 63.14 - ETA: 0s - loss: 63.86 - ETA: 0s - loss: 63.50 - ETA: 0s - loss: 63.30 - ETA: 0s - loss: 62.98 - ETA: 0s - loss: 63.75 - ETA: 0s - loss: 63.53 - ETA: 0s - loss: 64.33 - ETA: 0s - loss: 64.63 - ETA: 0s - loss: 65.17 - ETA: 0s - loss: 64.85 - ETA: 0s - loss: 65.00 - 1s 199us/step - loss: 65.0062\n",
      "Epoch 29/100\n",
      "7015/7015 [==============================] - ETA: 1s - loss: 112.939 - ETA: 1s - loss: 68.611 - ETA: 1s - loss: 63.05 - ETA: 1s - loss: 60.38 - ETA: 1s - loss: 61.27 - ETA: 1s - loss: 63.45 - ETA: 1s - loss: 62.38 - ETA: 0s - loss: 62.23 - ETA: 0s - loss: 61.92 - ETA: 0s - loss: 65.47 - ETA: 0s - loss: 66.49 - ETA: 0s - loss: 67.72 - ETA: 0s - loss: 66.87 - ETA: 0s - loss: 66.47 - ETA: 0s - loss: 66.16 - ETA: 0s - loss: 64.70 - ETA: 0s - loss: 65.55 - ETA: 0s - loss: 65.64 - ETA: 0s - loss: 65.06 - ETA: 0s - loss: 64.82 - ETA: 0s - loss: 64.88 - ETA: 0s - loss: 64.79 - ETA: 0s - loss: 65.22 - ETA: 0s - loss: 64.72 - ETA: 0s - loss: 64.44 - ETA: 0s - loss: 64.17 - ETA: 0s - loss: 63.93 - 1s 193us/step - loss: 64.2543\n",
      "Epoch 30/100\n",
      "7015/7015 [==============================] - ETA: 1s - loss: 28.64 - ETA: 1s - loss: 69.34 - ETA: 1s - loss: 68.30 - ETA: 1s - loss: 66.56 - ETA: 1s - loss: 69.86 - ETA: 1s - loss: 68.30 - ETA: 1s - loss: 68.20 - ETA: 1s - loss: 70.85 - ETA: 0s - loss: 69.93 - ETA: 0s - loss: 67.45 - ETA: 0s - loss: 66.50 - ETA: 0s - loss: 67.40 - ETA: 0s - loss: 65.60 - ETA: 0s - loss: 65.17 - ETA: 0s - loss: 65.55 - ETA: 0s - loss: 64.98 - ETA: 0s - loss: 65.26 - ETA: 0s - loss: 64.89 - ETA: 0s - loss: 63.87 - ETA: 0s - loss: 63.31 - ETA: 0s - loss: 63.79 - ETA: 0s - loss: 63.65 - ETA: 0s - loss: 63.44 - ETA: 0s - loss: 63.37 - ETA: 0s - loss: 63.69 - ETA: 0s - loss: 64.24 - ETA: 0s - loss: 64.13 - 1s 193us/step - loss: 64.4150\n",
      "Epoch 31/100\n"
     ]
    },
    {
     "name": "stdout",
     "output_type": "stream",
     "text": [
      "7015/7015 [==============================] - ETA: 2s - loss: 35.02 - ETA: 1s - loss: 54.25 - ETA: 1s - loss: 60.79 - ETA: 1s - loss: 61.35 - ETA: 1s - loss: 64.43 - ETA: 1s - loss: 63.28 - ETA: 1s - loss: 63.84 - ETA: 0s - loss: 63.91 - ETA: 0s - loss: 64.81 - ETA: 0s - loss: 64.89 - ETA: 0s - loss: 65.08 - ETA: 0s - loss: 64.07 - ETA: 0s - loss: 63.59 - ETA: 0s - loss: 63.26 - ETA: 0s - loss: 63.45 - ETA: 0s - loss: 63.37 - ETA: 0s - loss: 63.20 - ETA: 0s - loss: 62.93 - ETA: 0s - loss: 64.38 - ETA: 0s - loss: 65.42 - ETA: 0s - loss: 64.94 - ETA: 0s - loss: 64.54 - ETA: 0s - loss: 63.80 - ETA: 0s - loss: 63.96 - ETA: 0s - loss: 64.19 - ETA: 0s - loss: 63.70 - ETA: 0s - loss: 63.61 - 1s 194us/step - loss: 63.5731\n",
      "Epoch 32/100\n",
      "7015/7015 [==============================] - ETA: 2s - loss: 42.00 - ETA: 1s - loss: 63.60 - ETA: 1s - loss: 61.90 - ETA: 1s - loss: 64.87 - ETA: 1s - loss: 62.53 - ETA: 1s - loss: 64.85 - ETA: 1s - loss: 62.82 - ETA: 1s - loss: 63.60 - ETA: 0s - loss: 63.63 - ETA: 0s - loss: 63.08 - ETA: 0s - loss: 63.31 - ETA: 0s - loss: 62.54 - ETA: 0s - loss: 62.57 - ETA: 0s - loss: 62.78 - ETA: 0s - loss: 61.84 - ETA: 0s - loss: 61.22 - ETA: 0s - loss: 61.00 - ETA: 0s - loss: 61.04 - ETA: 0s - loss: 60.54 - ETA: 0s - loss: 60.79 - ETA: 0s - loss: 60.78 - ETA: 0s - loss: 61.47 - ETA: 0s - loss: 61.23 - ETA: 0s - loss: 61.27 - ETA: 0s - loss: 62.01 - ETA: 0s - loss: 61.85 - ETA: 0s - loss: 63.03 - 1s 194us/step - loss: 63.2207\n",
      "Epoch 33/100\n",
      "7015/7015 [==============================] - ETA: 1s - loss: 181.049 - ETA: 1s - loss: 74.314 - ETA: 1s - loss: 63.57 - ETA: 1s - loss: 59.09 - ETA: 1s - loss: 60.26 - ETA: 1s - loss: 60.12 - ETA: 1s - loss: 59.54 - ETA: 0s - loss: 59.48 - ETA: 0s - loss: 61.64 - ETA: 0s - loss: 62.71 - ETA: 0s - loss: 62.30 - ETA: 0s - loss: 61.65 - ETA: 0s - loss: 60.69 - ETA: 0s - loss: 61.39 - ETA: 0s - loss: 60.87 - ETA: 0s - loss: 60.67 - ETA: 0s - loss: 61.18 - ETA: 0s - loss: 62.05 - ETA: 0s - loss: 61.91 - ETA: 0s - loss: 62.29 - ETA: 0s - loss: 61.48 - ETA: 0s - loss: 61.46 - ETA: 0s - loss: 62.48 - ETA: 0s - loss: 62.82 - ETA: 0s - loss: 63.19 - ETA: 0s - loss: 62.99 - ETA: 0s - loss: 62.82 - 1s 192us/step - loss: 63.0505\n",
      "Epoch 34/100\n",
      "7015/7015 [==============================] - ETA: 2s - loss: 51.83 - ETA: 1s - loss: 69.52 - ETA: 1s - loss: 64.16 - ETA: 1s - loss: 62.83 - ETA: 1s - loss: 58.60 - ETA: 1s - loss: 58.98 - ETA: 1s - loss: 58.18 - ETA: 0s - loss: 60.33 - ETA: 0s - loss: 62.39 - ETA: 0s - loss: 61.89 - ETA: 0s - loss: 61.66 - ETA: 0s - loss: 62.80 - ETA: 0s - loss: 63.25 - ETA: 0s - loss: 63.82 - ETA: 0s - loss: 62.59 - ETA: 0s - loss: 64.58 - ETA: 0s - loss: 64.30 - ETA: 0s - loss: 64.77 - ETA: 0s - loss: 64.69 - ETA: 0s - loss: 64.69 - ETA: 0s - loss: 64.34 - ETA: 0s - loss: 64.53 - ETA: 0s - loss: 64.54 - ETA: 0s - loss: 64.67 - ETA: 0s - loss: 64.13 - ETA: 0s - loss: 63.52 - ETA: 0s - loss: 63.70 - 1s 193us/step - loss: 63.5532\n",
      "Epoch 35/100\n",
      "7015/7015 [==============================] - ETA: 2s - loss: 14.61 - ETA: 1s - loss: 73.85 - ETA: 1s - loss: 71.70 - ETA: 1s - loss: 64.02 - ETA: 1s - loss: 64.79 - ETA: 1s - loss: 70.06 - ETA: 1s - loss: 69.94 - ETA: 0s - loss: 68.08 - ETA: 0s - loss: 67.69 - ETA: 0s - loss: 67.67 - ETA: 0s - loss: 67.28 - ETA: 0s - loss: 66.14 - ETA: 0s - loss: 66.69 - ETA: 0s - loss: 65.84 - ETA: 0s - loss: 65.50 - ETA: 0s - loss: 65.87 - ETA: 0s - loss: 65.89 - ETA: 0s - loss: 66.18 - ETA: 0s - loss: 65.42 - ETA: 0s - loss: 65.69 - ETA: 0s - loss: 65.47 - ETA: 0s - loss: 64.49 - ETA: 0s - loss: 63.89 - ETA: 0s - loss: 63.86 - ETA: 0s - loss: 63.84 - ETA: 0s - loss: 63.96 - ETA: 0s - loss: 63.13 - ETA: 0s - loss: 62.96 - 1s 199us/step - loss: 63.0263\n",
      "Epoch 36/100\n",
      "7015/7015 [==============================] - ETA: 2s - loss: 99.74 - ETA: 1s - loss: 56.83 - ETA: 1s - loss: 55.54 - ETA: 1s - loss: 55.72 - ETA: 1s - loss: 53.03 - ETA: 1s - loss: 54.25 - ETA: 1s - loss: 56.41 - ETA: 1s - loss: 55.97 - ETA: 1s - loss: 54.80 - ETA: 0s - loss: 58.01 - ETA: 0s - loss: 58.79 - ETA: 0s - loss: 59.80 - ETA: 0s - loss: 60.42 - ETA: 0s - loss: 60.30 - ETA: 0s - loss: 61.03 - ETA: 0s - loss: 61.50 - ETA: 0s - loss: 62.19 - ETA: 0s - loss: 61.84 - ETA: 0s - loss: 62.29 - ETA: 0s - loss: 61.87 - ETA: 0s - loss: 61.56 - ETA: 0s - loss: 62.22 - ETA: 0s - loss: 62.29 - ETA: 0s - loss: 62.38 - ETA: 0s - loss: 62.11 - ETA: 0s - loss: 61.89 - ETA: 0s - loss: 62.26 - ETA: 0s - loss: 62.17 - 1s 203us/step - loss: 62.5674\n",
      "Epoch 37/100\n",
      "7015/7015 [==============================] - ETA: 2s - loss: 160.621 - ETA: 1s - loss: 62.954 - ETA: 1s - loss: 59.35 - ETA: 1s - loss: 60.53 - ETA: 1s - loss: 59.14 - ETA: 1s - loss: 59.16 - ETA: 1s - loss: 61.09 - ETA: 1s - loss: 60.13 - ETA: 1s - loss: 58.74 - ETA: 1s - loss: 58.95 - ETA: 0s - loss: 58.82 - ETA: 0s - loss: 58.70 - ETA: 0s - loss: 59.26 - ETA: 0s - loss: 60.01 - ETA: 0s - loss: 59.13 - ETA: 0s - loss: 59.02 - ETA: 0s - loss: 58.90 - ETA: 0s - loss: 59.19 - ETA: 0s - loss: 60.41 - ETA: 0s - loss: 60.28 - ETA: 0s - loss: 60.20 - ETA: 0s - loss: 59.98 - ETA: 0s - loss: 59.87 - ETA: 0s - loss: 60.45 - ETA: 0s - loss: 60.01 - ETA: 0s - loss: 60.50 - ETA: 0s - loss: 60.85 - ETA: 0s - loss: 61.35 - ETA: 0s - loss: 61.73 - 1s 208us/step - loss: 61.7342\n",
      "Epoch 38/100\n",
      "7015/7015 [==============================] - ETA: 2s - loss: 31.42 - ETA: 1s - loss: 54.03 - ETA: 1s - loss: 57.74 - ETA: 1s - loss: 55.09 - ETA: 1s - loss: 53.47 - ETA: 1s - loss: 55.16 - ETA: 1s - loss: 54.95 - ETA: 1s - loss: 55.14 - ETA: 0s - loss: 56.84 - ETA: 0s - loss: 58.53 - ETA: 0s - loss: 59.45 - ETA: 0s - loss: 60.02 - ETA: 0s - loss: 60.63 - ETA: 0s - loss: 59.99 - ETA: 0s - loss: 60.17 - ETA: 0s - loss: 61.17 - ETA: 0s - loss: 60.72 - ETA: 0s - loss: 60.73 - ETA: 0s - loss: 60.74 - ETA: 0s - loss: 60.44 - ETA: 0s - loss: 60.33 - ETA: 0s - loss: 60.16 - ETA: 0s - loss: 60.65 - ETA: 0s - loss: 60.67 - ETA: 0s - loss: 62.14 - ETA: 0s - loss: 61.99 - ETA: 0s - loss: 61.99 - 1s 197us/step - loss: 61.7408\n",
      "Epoch 39/100\n",
      "7015/7015 [==============================] - ETA: 2s - loss: 43.84 - ETA: 1s - loss: 50.10 - ETA: 1s - loss: 51.58 - ETA: 1s - loss: 58.16 - ETA: 1s - loss: 57.36 - ETA: 1s - loss: 54.62 - ETA: 1s - loss: 57.78 - ETA: 1s - loss: 56.56 - ETA: 0s - loss: 59.76 - ETA: 0s - loss: 60.27 - ETA: 0s - loss: 59.32 - ETA: 0s - loss: 60.92 - ETA: 0s - loss: 60.64 - ETA: 0s - loss: 61.90 - ETA: 0s - loss: 61.51 - ETA: 0s - loss: 61.49 - ETA: 0s - loss: 62.44 - ETA: 0s - loss: 62.20 - ETA: 0s - loss: 61.72 - ETA: 0s - loss: 61.52 - ETA: 0s - loss: 61.11 - ETA: 0s - loss: 61.09 - ETA: 0s - loss: 60.64 - ETA: 0s - loss: 61.27 - ETA: 0s - loss: 61.72 - ETA: 0s - loss: 62.52 - ETA: 0s - loss: 62.03 - ETA: 0s - loss: 61.70 - 1s 202us/step - loss: 61.5204\n",
      "Epoch 40/100\n",
      "7015/7015 [==============================] - ETA: 2s - loss: 16.07 - ETA: 1s - loss: 61.44 - ETA: 1s - loss: 57.30 - ETA: 1s - loss: 55.23 - ETA: 1s - loss: 55.90 - ETA: 1s - loss: 59.57 - ETA: 1s - loss: 61.97 - ETA: 1s - loss: 62.64 - ETA: 0s - loss: 62.28 - ETA: 0s - loss: 62.02 - ETA: 0s - loss: 60.93 - ETA: 0s - loss: 59.95 - ETA: 0s - loss: 59.89 - ETA: 0s - loss: 60.34 - ETA: 0s - loss: 60.52 - ETA: 0s - loss: 61.06 - ETA: 0s - loss: 62.42 - ETA: 0s - loss: 62.45 - ETA: 0s - loss: 62.46 - ETA: 0s - loss: 62.53 - ETA: 0s - loss: 62.49 - ETA: 0s - loss: 62.28 - ETA: 0s - loss: 62.50 - ETA: 0s - loss: 62.35 - ETA: 0s - loss: 62.11 - ETA: 0s - loss: 61.57 - ETA: 0s - loss: 61.57 - 1s 193us/step - loss: 61.4430\n",
      "Epoch 41/100\n",
      "7015/7015 [==============================] - ETA: 2s - loss: 53.02 - ETA: 1s - loss: 58.51 - ETA: 1s - loss: 54.82 - ETA: 1s - loss: 53.01 - ETA: 1s - loss: 55.97 - ETA: 1s - loss: 58.36 - ETA: 1s - loss: 56.82 - ETA: 1s - loss: 55.44 - ETA: 0s - loss: 55.34 - ETA: 0s - loss: 55.01 - ETA: 0s - loss: 54.64 - ETA: 0s - loss: 54.72 - ETA: 0s - loss: 56.11 - ETA: 0s - loss: 55.88 - ETA: 0s - loss: 55.86 - ETA: 0s - loss: 56.85 - ETA: 0s - loss: 58.64 - ETA: 0s - loss: 59.63 - ETA: 0s - loss: 59.54 - ETA: 0s - loss: 59.90 - ETA: 0s - loss: 60.33 - ETA: 0s - loss: 60.54 - ETA: 0s - loss: 60.68 - ETA: 0s - loss: 60.70 - ETA: 0s - loss: 60.67 - ETA: 0s - loss: 61.14 - ETA: 0s - loss: 60.97 - 1s 193us/step - loss: 60.8212\n"
     ]
    },
    {
     "name": "stdout",
     "output_type": "stream",
     "text": [
      "Epoch 42/100\n",
      "7015/7015 [==============================] - ETA: 2s - loss: 77.64 - ETA: 1s - loss: 55.77 - ETA: 1s - loss: 58.93 - ETA: 1s - loss: 61.78 - ETA: 1s - loss: 58.98 - ETA: 1s - loss: 59.46 - ETA: 1s - loss: 60.03 - ETA: 1s - loss: 58.85 - ETA: 0s - loss: 60.69 - ETA: 0s - loss: 61.70 - ETA: 0s - loss: 61.81 - ETA: 0s - loss: 62.10 - ETA: 0s - loss: 62.06 - ETA: 0s - loss: 61.43 - ETA: 0s - loss: 61.76 - ETA: 0s - loss: 61.52 - ETA: 0s - loss: 60.97 - ETA: 0s - loss: 59.58 - ETA: 0s - loss: 59.77 - ETA: 0s - loss: 59.59 - ETA: 0s - loss: 60.42 - ETA: 0s - loss: 60.65 - ETA: 0s - loss: 60.36 - ETA: 0s - loss: 60.16 - ETA: 0s - loss: 59.99 - ETA: 0s - loss: 59.89 - ETA: 0s - loss: 60.59 - 1s 193us/step - loss: 60.3044\n",
      "Epoch 43/100\n",
      "7015/7015 [==============================] - ETA: 1s - loss: 108.154 - ETA: 1s - loss: 54.152 - ETA: 1s - loss: 57.16 - ETA: 1s - loss: 55.88 - ETA: 1s - loss: 57.46 - ETA: 1s - loss: 57.43 - ETA: 1s - loss: 57.60 - ETA: 0s - loss: 59.09 - ETA: 0s - loss: 57.80 - ETA: 0s - loss: 57.97 - ETA: 0s - loss: 58.86 - ETA: 0s - loss: 59.68 - ETA: 0s - loss: 60.11 - ETA: 0s - loss: 60.18 - ETA: 0s - loss: 60.00 - ETA: 0s - loss: 59.36 - ETA: 0s - loss: 59.17 - ETA: 0s - loss: 59.38 - ETA: 0s - loss: 59.53 - ETA: 0s - loss: 59.95 - ETA: 0s - loss: 60.49 - ETA: 0s - loss: 60.21 - ETA: 0s - loss: 60.42 - ETA: 0s - loss: 60.57 - ETA: 0s - loss: 60.85 - ETA: 0s - loss: 60.59 - ETA: 0s - loss: 60.97 - 1s 192us/step - loss: 61.0660\n",
      "Epoch 44/100\n",
      "7015/7015 [==============================] - ETA: 2s - loss: 131.082 - ETA: 1s - loss: 66.037 - ETA: 1s - loss: 60.67 - ETA: 1s - loss: 59.68 - ETA: 1s - loss: 63.71 - ETA: 1s - loss: 59.42 - ETA: 1s - loss: 60.52 - ETA: 0s - loss: 60.27 - ETA: 0s - loss: 59.93 - ETA: 0s - loss: 60.59 - ETA: 0s - loss: 60.27 - ETA: 0s - loss: 60.43 - ETA: 0s - loss: 60.44 - ETA: 0s - loss: 61.25 - ETA: 0s - loss: 62.22 - ETA: 0s - loss: 61.34 - ETA: 0s - loss: 60.91 - ETA: 0s - loss: 60.05 - ETA: 0s - loss: 60.08 - ETA: 0s - loss: 60.01 - ETA: 0s - loss: 59.66 - ETA: 0s - loss: 60.00 - ETA: 0s - loss: 59.87 - ETA: 0s - loss: 60.16 - ETA: 0s - loss: 60.26 - ETA: 0s - loss: 59.79 - ETA: 0s - loss: 59.78 - 1s 195us/step - loss: 59.8500\n",
      "Epoch 45/100\n",
      "7015/7015 [==============================] - ETA: 2s - loss: 45.39 - ETA: 1s - loss: 63.42 - ETA: 1s - loss: 55.90 - ETA: 1s - loss: 61.03 - ETA: 1s - loss: 59.17 - ETA: 1s - loss: 62.00 - ETA: 1s - loss: 62.75 - ETA: 1s - loss: 61.33 - ETA: 0s - loss: 60.74 - ETA: 0s - loss: 59.44 - ETA: 0s - loss: 58.46 - ETA: 0s - loss: 59.71 - ETA: 0s - loss: 59.09 - ETA: 0s - loss: 59.31 - ETA: 0s - loss: 59.10 - ETA: 0s - loss: 58.95 - ETA: 0s - loss: 59.48 - ETA: 0s - loss: 60.27 - ETA: 0s - loss: 60.57 - ETA: 0s - loss: 60.38 - ETA: 0s - loss: 59.92 - ETA: 0s - loss: 60.01 - ETA: 0s - loss: 59.54 - ETA: 0s - loss: 60.00 - ETA: 0s - loss: 59.95 - ETA: 0s - loss: 59.50 - ETA: 0s - loss: 59.24 - 1s 194us/step - loss: 59.7197\n",
      "Epoch 46/100\n",
      "7015/7015 [==============================] - ETA: 2s - loss: 69.43 - ETA: 1s - loss: 51.68 - ETA: 1s - loss: 63.48 - ETA: 1s - loss: 60.50 - ETA: 1s - loss: 59.09 - ETA: 1s - loss: 57.74 - ETA: 1s - loss: 58.01 - ETA: 1s - loss: 59.13 - ETA: 0s - loss: 58.78 - ETA: 0s - loss: 59.89 - ETA: 0s - loss: 60.68 - ETA: 0s - loss: 59.96 - ETA: 0s - loss: 59.95 - ETA: 0s - loss: 58.77 - ETA: 0s - loss: 57.93 - ETA: 0s - loss: 57.97 - ETA: 0s - loss: 58.80 - ETA: 0s - loss: 58.23 - ETA: 0s - loss: 59.21 - ETA: 0s - loss: 59.28 - ETA: 0s - loss: 59.19 - ETA: 0s - loss: 59.14 - ETA: 0s - loss: 58.83 - ETA: 0s - loss: 59.65 - ETA: 0s - loss: 59.54 - ETA: 0s - loss: 59.69 - ETA: 0s - loss: 59.64 - ETA: 0s - loss: 59.54 - 1s 200us/step - loss: 59.4287\n",
      "Epoch 47/100\n",
      "7015/7015 [==============================] - ETA: 2s - loss: 61.11 - ETA: 1s - loss: 41.40 - ETA: 1s - loss: 52.03 - ETA: 1s - loss: 54.63 - ETA: 1s - loss: 60.99 - ETA: 1s - loss: 61.27 - ETA: 1s - loss: 59.73 - ETA: 1s - loss: 58.73 - ETA: 0s - loss: 59.29 - ETA: 0s - loss: 58.62 - ETA: 0s - loss: 60.07 - ETA: 0s - loss: 59.96 - ETA: 0s - loss: 59.63 - ETA: 0s - loss: 60.00 - ETA: 0s - loss: 60.33 - ETA: 0s - loss: 61.23 - ETA: 0s - loss: 61.21 - ETA: 0s - loss: 60.64 - ETA: 0s - loss: 60.33 - ETA: 0s - loss: 60.60 - ETA: 0s - loss: 61.15 - ETA: 0s - loss: 61.04 - ETA: 0s - loss: 61.16 - ETA: 0s - loss: 60.92 - ETA: 0s - loss: 60.40 - ETA: 0s - loss: 60.06 - ETA: 0s - loss: 59.76 - ETA: 0s - loss: 59.48 - 1s 198us/step - loss: 59.4677\n",
      "Epoch 48/100\n",
      "7015/7015 [==============================] - ETA: 2s - loss: 28.04 - ETA: 1s - loss: 59.73 - ETA: 1s - loss: 59.64 - ETA: 1s - loss: 58.87 - ETA: 1s - loss: 62.25 - ETA: 1s - loss: 64.49 - ETA: 1s - loss: 63.83 - ETA: 1s - loss: 62.47 - ETA: 1s - loss: 61.37 - ETA: 1s - loss: 61.62 - ETA: 1s - loss: 61.80 - ETA: 1s - loss: 60.80 - ETA: 0s - loss: 59.65 - ETA: 0s - loss: 58.55 - ETA: 0s - loss: 57.96 - ETA: 0s - loss: 58.83 - ETA: 0s - loss: 59.04 - ETA: 0s - loss: 59.99 - ETA: 0s - loss: 60.35 - ETA: 0s - loss: 59.98 - ETA: 0s - loss: 60.52 - ETA: 0s - loss: 60.59 - ETA: 0s - loss: 60.42 - ETA: 0s - loss: 60.80 - ETA: 0s - loss: 61.10 - ETA: 0s - loss: 60.86 - ETA: 0s - loss: 60.79 - ETA: 0s - loss: 60.23 - ETA: 0s - loss: 60.22 - 1s 208us/step - loss: 60.0226\n",
      "Epoch 49/100\n",
      "7015/7015 [==============================] - ETA: 2s - loss: 5.882 - ETA: 1s - loss: 56.12 - ETA: 1s - loss: 61.24 - ETA: 1s - loss: 58.54 - ETA: 1s - loss: 56.62 - ETA: 1s - loss: 56.79 - ETA: 1s - loss: 56.00 - ETA: 1s - loss: 55.06 - ETA: 0s - loss: 55.15 - ETA: 0s - loss: 54.61 - ETA: 0s - loss: 54.36 - ETA: 0s - loss: 55.40 - ETA: 0s - loss: 56.35 - ETA: 0s - loss: 57.62 - ETA: 0s - loss: 57.87 - ETA: 0s - loss: 57.28 - ETA: 0s - loss: 58.62 - ETA: 0s - loss: 58.60 - ETA: 0s - loss: 57.94 - ETA: 0s - loss: 57.81 - ETA: 0s - loss: 57.62 - ETA: 0s - loss: 57.47 - ETA: 0s - loss: 57.54 - ETA: 0s - loss: 57.65 - ETA: 0s - loss: 57.68 - ETA: 0s - loss: 57.60 - ETA: 0s - loss: 57.59 - ETA: 0s - loss: 57.45 - ETA: 0s - loss: 57.13 - ETA: 0s - loss: 57.86 - ETA: 0s - loss: 57.87 - 2s 225us/step - loss: 58.2682\n",
      "Epoch 50/100\n",
      "7015/7015 [==============================] - ETA: 2s - loss: 52.93 - ETA: 1s - loss: 54.82 - ETA: 1s - loss: 53.03 - ETA: 1s - loss: 50.33 - ETA: 1s - loss: 54.41 - ETA: 1s - loss: 52.37 - ETA: 1s - loss: 52.67 - ETA: 1s - loss: 52.04 - ETA: 1s - loss: 51.59 - ETA: 1s - loss: 51.76 - ETA: 1s - loss: 52.07 - ETA: 1s - loss: 52.52 - ETA: 1s - loss: 51.97 - ETA: 1s - loss: 53.41 - ETA: 1s - loss: 53.43 - ETA: 0s - loss: 54.60 - ETA: 0s - loss: 55.92 - ETA: 0s - loss: 56.60 - ETA: 0s - loss: 56.40 - ETA: 0s - loss: 56.72 - ETA: 0s - loss: 56.40 - ETA: 0s - loss: 57.30 - ETA: 0s - loss: 56.46 - ETA: 0s - loss: 57.05 - ETA: 0s - loss: 58.02 - ETA: 0s - loss: 59.45 - ETA: 0s - loss: 59.31 - ETA: 0s - loss: 59.49 - ETA: 0s - loss: 59.42 - ETA: 0s - loss: 59.90 - ETA: 0s - loss: 59.69 - ETA: 0s - loss: 59.66 - ETA: 0s - loss: 59.46 - 2s 237us/step - loss: 59.3675\n",
      "Epoch 51/100\n",
      "7015/7015 [==============================] - ETA: 2s - loss: 53.25 - ETA: 1s - loss: 47.58 - ETA: 1s - loss: 59.87 - ETA: 1s - loss: 59.97 - ETA: 1s - loss: 61.64 - ETA: 1s - loss: 60.04 - ETA: 1s - loss: 58.02 - ETA: 1s - loss: 55.43 - ETA: 1s - loss: 57.12 - ETA: 1s - loss: 57.55 - ETA: 1s - loss: 56.71 - ETA: 1s - loss: 58.00 - ETA: 0s - loss: 57.94 - ETA: 0s - loss: 58.10 - ETA: 0s - loss: 57.83 - ETA: 0s - loss: 58.34 - ETA: 0s - loss: 59.25 - ETA: 0s - loss: 59.46 - ETA: 0s - loss: 59.39 - ETA: 0s - loss: 59.04 - ETA: 0s - loss: 58.73 - ETA: 0s - loss: 58.65 - ETA: 0s - loss: 58.60 - ETA: 0s - loss: 58.36 - ETA: 0s - loss: 58.75 - ETA: 0s - loss: 59.06 - ETA: 0s - loss: 58.58 - ETA: 0s - loss: 58.82 - ETA: 0s - loss: 58.31 - ETA: 0s - loss: 58.22 - ETA: 0s - loss: 58.35 - ETA: 0s - loss: 58.86 - 2s 229us/step - loss: 58.9201\n",
      "Epoch 52/100\n"
     ]
    },
    {
     "name": "stdout",
     "output_type": "stream",
     "text": [
      "7015/7015 [==============================] - ETA: 2s - loss: 56.82 - ETA: 1s - loss: 53.54 - ETA: 1s - loss: 53.89 - ETA: 1s - loss: 50.23 - ETA: 1s - loss: 54.61 - ETA: 1s - loss: 55.16 - ETA: 1s - loss: 57.98 - ETA: 1s - loss: 59.86 - ETA: 1s - loss: 61.06 - ETA: 1s - loss: 60.33 - ETA: 1s - loss: 59.90 - ETA: 0s - loss: 60.45 - ETA: 0s - loss: 60.26 - ETA: 0s - loss: 59.12 - ETA: 0s - loss: 59.55 - ETA: 0s - loss: 59.52 - ETA: 0s - loss: 58.75 - ETA: 0s - loss: 58.66 - ETA: 0s - loss: 58.47 - ETA: 0s - loss: 58.04 - ETA: 0s - loss: 58.09 - ETA: 0s - loss: 58.08 - ETA: 0s - loss: 58.20 - ETA: 0s - loss: 58.11 - ETA: 0s - loss: 57.94 - ETA: 0s - loss: 58.10 - ETA: 0s - loss: 58.07 - ETA: 0s - loss: 58.17 - ETA: 0s - loss: 58.16 - ETA: 0s - loss: 57.76 - ETA: 0s - loss: 57.69 - ETA: 0s - loss: 57.65 - 2s 234us/step - loss: 57.6686\n",
      "Epoch 53/100\n",
      "7015/7015 [==============================] - ETA: 2s - loss: 33.71 - ETA: 1s - loss: 51.87 - ETA: 1s - loss: 57.46 - ETA: 1s - loss: 55.23 - ETA: 1s - loss: 52.44 - ETA: 1s - loss: 51.40 - ETA: 1s - loss: 54.03 - ETA: 1s - loss: 54.07 - ETA: 1s - loss: 58.84 - ETA: 1s - loss: 59.20 - ETA: 1s - loss: 59.07 - ETA: 1s - loss: 59.20 - ETA: 1s - loss: 59.64 - ETA: 1s - loss: 61.34 - ETA: 0s - loss: 60.66 - ETA: 0s - loss: 59.92 - ETA: 0s - loss: 59.53 - ETA: 0s - loss: 59.16 - ETA: 0s - loss: 59.32 - ETA: 0s - loss: 59.40 - ETA: 0s - loss: 59.52 - ETA: 0s - loss: 58.81 - ETA: 0s - loss: 58.79 - ETA: 0s - loss: 58.79 - ETA: 0s - loss: 59.36 - ETA: 0s - loss: 60.17 - ETA: 0s - loss: 59.32 - ETA: 0s - loss: 59.02 - ETA: 0s - loss: 58.47 - ETA: 0s - loss: 58.26 - ETA: 0s - loss: 58.28 - 2s 226us/step - loss: 58.4146\n",
      "Epoch 54/100\n",
      "7015/7015 [==============================] - ETA: 2s - loss: 76.55 - ETA: 1s - loss: 50.95 - ETA: 1s - loss: 55.85 - ETA: 1s - loss: 59.15 - ETA: 1s - loss: 60.57 - ETA: 1s - loss: 57.38 - ETA: 1s - loss: 54.65 - ETA: 1s - loss: 56.09 - ETA: 1s - loss: 57.05 - ETA: 1s - loss: 56.67 - ETA: 1s - loss: 56.79 - ETA: 1s - loss: 59.11 - ETA: 1s - loss: 58.42 - ETA: 1s - loss: 59.16 - ETA: 0s - loss: 58.70 - ETA: 0s - loss: 58.57 - ETA: 0s - loss: 59.32 - ETA: 0s - loss: 59.13 - ETA: 0s - loss: 58.22 - ETA: 0s - loss: 57.99 - ETA: 0s - loss: 58.56 - ETA: 0s - loss: 58.83 - ETA: 0s - loss: 58.69 - ETA: 0s - loss: 58.96 - ETA: 0s - loss: 58.88 - ETA: 0s - loss: 59.20 - ETA: 0s - loss: 59.02 - ETA: 0s - loss: 58.56 - ETA: 0s - loss: 58.69 - ETA: 0s - loss: 58.88 - ETA: 0s - loss: 58.60 - ETA: 0s - loss: 58.19 - 2s 232us/step - loss: 58.0481\n",
      "Epoch 55/100\n",
      "7015/7015 [==============================] - ETA: 3s - loss: 119.014 - ETA: 1s - loss: 73.945 - ETA: 1s - loss: 64.25 - ETA: 1s - loss: 58.76 - ETA: 1s - loss: 59.41 - ETA: 1s - loss: 60.92 - ETA: 1s - loss: 62.66 - ETA: 1s - loss: 62.47 - ETA: 1s - loss: 61.23 - ETA: 1s - loss: 61.46 - ETA: 1s - loss: 59.12 - ETA: 1s - loss: 58.82 - ETA: 0s - loss: 58.62 - ETA: 0s - loss: 57.99 - ETA: 0s - loss: 58.07 - ETA: 0s - loss: 58.14 - ETA: 0s - loss: 58.39 - ETA: 0s - loss: 58.61 - ETA: 0s - loss: 58.26 - ETA: 0s - loss: 58.00 - ETA: 0s - loss: 57.99 - ETA: 0s - loss: 58.26 - ETA: 0s - loss: 57.98 - ETA: 0s - loss: 58.03 - ETA: 0s - loss: 58.23 - ETA: 0s - loss: 57.83 - ETA: 0s - loss: 58.10 - ETA: 0s - loss: 58.43 - ETA: 0s - loss: 58.18 - ETA: 0s - loss: 57.90 - ETA: 0s - loss: 57.81 - ETA: 0s - loss: 57.62 - 2s 230us/step - loss: 57.6653\n",
      "Epoch 56/100\n",
      "7015/7015 [==============================] - ETA: 2s - loss: 16.02 - ETA: 1s - loss: 45.72 - ETA: 1s - loss: 52.53 - ETA: 1s - loss: 59.42 - ETA: 1s - loss: 58.40 - ETA: 1s - loss: 62.62 - ETA: 1s - loss: 63.32 - ETA: 1s - loss: 62.81 - ETA: 1s - loss: 61.13 - ETA: 1s - loss: 61.07 - ETA: 1s - loss: 62.63 - ETA: 0s - loss: 62.37 - ETA: 0s - loss: 62.21 - ETA: 0s - loss: 60.18 - ETA: 0s - loss: 60.59 - ETA: 0s - loss: 60.28 - ETA: 0s - loss: 59.78 - ETA: 0s - loss: 59.37 - ETA: 0s - loss: 59.12 - ETA: 0s - loss: 58.85 - ETA: 0s - loss: 58.76 - ETA: 0s - loss: 58.38 - ETA: 0s - loss: 58.27 - ETA: 0s - loss: 58.77 - ETA: 0s - loss: 58.44 - ETA: 0s - loss: 58.62 - ETA: 0s - loss: 58.46 - ETA: 0s - loss: 58.64 - ETA: 0s - loss: 58.39 - ETA: 0s - loss: 58.01 - 2s 217us/step - loss: 57.8652\n",
      "Epoch 57/100\n",
      "7015/7015 [==============================] - ETA: 2s - loss: 25.70 - ETA: 1s - loss: 65.68 - ETA: 1s - loss: 59.53 - ETA: 1s - loss: 53.41 - ETA: 1s - loss: 58.57 - ETA: 1s - loss: 55.55 - ETA: 1s - loss: 53.86 - ETA: 1s - loss: 55.12 - ETA: 1s - loss: 54.96 - ETA: 1s - loss: 55.47 - ETA: 0s - loss: 55.56 - ETA: 0s - loss: 55.64 - ETA: 0s - loss: 55.61 - ETA: 0s - loss: 56.44 - ETA: 0s - loss: 57.22 - ETA: 0s - loss: 56.60 - ETA: 0s - loss: 56.29 - ETA: 0s - loss: 56.61 - ETA: 0s - loss: 57.17 - ETA: 0s - loss: 57.51 - ETA: 0s - loss: 58.04 - ETA: 0s - loss: 58.18 - ETA: 0s - loss: 57.78 - ETA: 0s - loss: 58.20 - ETA: 0s - loss: 57.68 - ETA: 0s - loss: 58.24 - ETA: 0s - loss: 57.68 - ETA: 0s - loss: 57.69 - ETA: 0s - loss: 57.51 - 1s 211us/step - loss: 57.5252\n",
      "Epoch 58/100\n",
      "7015/7015 [==============================] - ETA: 2s - loss: 89.59 - ETA: 1s - loss: 54.92 - ETA: 1s - loss: 59.25 - ETA: 1s - loss: 62.15 - ETA: 1s - loss: 59.26 - ETA: 1s - loss: 61.34 - ETA: 1s - loss: 59.94 - ETA: 1s - loss: 60.18 - ETA: 0s - loss: 59.29 - ETA: 0s - loss: 58.13 - ETA: 0s - loss: 57.77 - ETA: 0s - loss: 57.53 - ETA: 0s - loss: 57.67 - ETA: 0s - loss: 57.21 - ETA: 0s - loss: 57.39 - ETA: 0s - loss: 56.47 - ETA: 0s - loss: 56.38 - ETA: 0s - loss: 55.32 - ETA: 0s - loss: 55.23 - ETA: 0s - loss: 55.81 - ETA: 0s - loss: 55.88 - ETA: 0s - loss: 55.44 - ETA: 0s - loss: 55.33 - ETA: 0s - loss: 55.61 - ETA: 0s - loss: 55.63 - ETA: 0s - loss: 55.68 - ETA: 0s - loss: 55.84 - ETA: 0s - loss: 56.29 - 1s 199us/step - loss: 56.4336\n",
      "Epoch 59/100\n",
      "7015/7015 [==============================] - ETA: 2s - loss: 75.15 - ETA: 1s - loss: 60.66 - ETA: 1s - loss: 55.23 - ETA: 1s - loss: 50.45 - ETA: 1s - loss: 53.97 - ETA: 1s - loss: 53.23 - ETA: 1s - loss: 53.15 - ETA: 1s - loss: 56.11 - ETA: 1s - loss: 56.23 - ETA: 0s - loss: 55.50 - ETA: 0s - loss: 55.25 - ETA: 0s - loss: 55.49 - ETA: 0s - loss: 55.90 - ETA: 0s - loss: 55.64 - ETA: 0s - loss: 56.99 - ETA: 0s - loss: 56.83 - ETA: 0s - loss: 56.82 - ETA: 0s - loss: 57.22 - ETA: 0s - loss: 57.84 - ETA: 0s - loss: 57.48 - ETA: 0s - loss: 56.98 - ETA: 0s - loss: 56.78 - ETA: 0s - loss: 57.21 - ETA: 0s - loss: 57.26 - ETA: 0s - loss: 56.78 - ETA: 0s - loss: 57.03 - ETA: 0s - loss: 57.10 - ETA: 0s - loss: 57.21 - 1s 199us/step - loss: 57.0804\n",
      "Epoch 60/100\n",
      "7015/7015 [==============================] - ETA: 2s - loss: 31.85 - ETA: 1s - loss: 44.49 - ETA: 1s - loss: 49.06 - ETA: 1s - loss: 49.15 - ETA: 1s - loss: 48.05 - ETA: 1s - loss: 49.71 - ETA: 1s - loss: 51.10 - ETA: 1s - loss: 54.12 - ETA: 0s - loss: 55.85 - ETA: 0s - loss: 55.38 - ETA: 0s - loss: 54.46 - ETA: 0s - loss: 56.61 - ETA: 0s - loss: 56.45 - ETA: 0s - loss: 56.21 - ETA: 0s - loss: 57.05 - ETA: 0s - loss: 57.08 - ETA: 0s - loss: 56.96 - ETA: 0s - loss: 56.03 - ETA: 0s - loss: 56.31 - ETA: 0s - loss: 55.91 - ETA: 0s - loss: 56.36 - ETA: 0s - loss: 56.17 - ETA: 0s - loss: 56.36 - ETA: 0s - loss: 56.59 - ETA: 0s - loss: 56.83 - ETA: 0s - loss: 56.78 - ETA: 0s - loss: 56.63 - ETA: 0s - loss: 56.33 - 1s 199us/step - loss: 56.1445\n",
      "Epoch 61/100\n",
      "7015/7015 [==============================] - ETA: 2s - loss: 49.72 - ETA: 1s - loss: 45.02 - ETA: 1s - loss: 50.54 - ETA: 1s - loss: 52.69 - ETA: 1s - loss: 52.23 - ETA: 1s - loss: 52.40 - ETA: 1s - loss: 53.05 - ETA: 1s - loss: 52.61 - ETA: 1s - loss: 52.72 - ETA: 0s - loss: 53.50 - ETA: 0s - loss: 52.87 - ETA: 0s - loss: 52.74 - ETA: 0s - loss: 53.62 - ETA: 0s - loss: 54.35 - ETA: 0s - loss: 54.06 - ETA: 0s - loss: 54.25 - ETA: 0s - loss: 53.98 - ETA: 0s - loss: 55.02 - ETA: 0s - loss: 55.94 - ETA: 0s - loss: 55.71 - ETA: 0s - loss: 55.47 - ETA: 0s - loss: 55.27 - ETA: 0s - loss: 55.29 - ETA: 0s - loss: 55.09 - ETA: 0s - loss: 55.10 - ETA: 0s - loss: 55.57 - ETA: 0s - loss: 56.06 - ETA: 0s - loss: 56.56 - ETA: 0s - loss: 56.66 - 1s 206us/step - loss: 56.6019\n",
      "Epoch 62/100\n"
     ]
    },
    {
     "name": "stdout",
     "output_type": "stream",
     "text": [
      "7015/7015 [==============================] - ETA: 2s - loss: 65.72 - ETA: 1s - loss: 68.58 - ETA: 1s - loss: 72.89 - ETA: 1s - loss: 63.52 - ETA: 1s - loss: 57.81 - ETA: 1s - loss: 59.70 - ETA: 1s - loss: 58.07 - ETA: 1s - loss: 58.35 - ETA: 0s - loss: 58.13 - ETA: 0s - loss: 57.97 - ETA: 0s - loss: 57.70 - ETA: 0s - loss: 56.71 - ETA: 0s - loss: 55.65 - ETA: 0s - loss: 55.75 - ETA: 0s - loss: 55.81 - ETA: 0s - loss: 55.01 - ETA: 0s - loss: 55.05 - ETA: 0s - loss: 55.88 - ETA: 0s - loss: 56.53 - ETA: 0s - loss: 56.54 - ETA: 0s - loss: 56.49 - ETA: 0s - loss: 56.08 - ETA: 0s - loss: 56.10 - ETA: 0s - loss: 55.89 - ETA: 0s - loss: 55.57 - ETA: 0s - loss: 56.08 - ETA: 0s - loss: 56.05 - 1s 197us/step - loss: 55.9845\n",
      "Epoch 63/100\n",
      "7015/7015 [==============================] - ETA: 2s - loss: 55.03 - ETA: 1s - loss: 62.89 - ETA: 1s - loss: 61.84 - ETA: 1s - loss: 58.75 - ETA: 1s - loss: 59.48 - ETA: 1s - loss: 57.23 - ETA: 1s - loss: 55.54 - ETA: 1s - loss: 54.56 - ETA: 0s - loss: 54.34 - ETA: 0s - loss: 54.27 - ETA: 0s - loss: 54.13 - ETA: 0s - loss: 53.64 - ETA: 0s - loss: 54.08 - ETA: 0s - loss: 53.81 - ETA: 0s - loss: 53.69 - ETA: 0s - loss: 54.30 - ETA: 0s - loss: 54.88 - ETA: 0s - loss: 55.05 - ETA: 0s - loss: 55.48 - ETA: 0s - loss: 55.77 - ETA: 0s - loss: 56.49 - ETA: 0s - loss: 56.56 - ETA: 0s - loss: 56.14 - ETA: 0s - loss: 56.54 - ETA: 0s - loss: 56.03 - ETA: 0s - loss: 56.53 - ETA: 0s - loss: 56.07 - 1s 197us/step - loss: 56.0679\n",
      "Epoch 64/100\n",
      "7015/7015 [==============================] - ETA: 2s - loss: 27.20 - ETA: 1s - loss: 63.01 - ETA: 1s - loss: 58.00 - ETA: 1s - loss: 54.92 - ETA: 1s - loss: 52.69 - ETA: 1s - loss: 53.10 - ETA: 1s - loss: 52.76 - ETA: 1s - loss: 51.98 - ETA: 0s - loss: 52.31 - ETA: 0s - loss: 52.41 - ETA: 0s - loss: 52.65 - ETA: 0s - loss: 53.29 - ETA: 0s - loss: 53.34 - ETA: 0s - loss: 53.05 - ETA: 0s - loss: 52.68 - ETA: 0s - loss: 53.64 - ETA: 0s - loss: 54.01 - ETA: 0s - loss: 53.35 - ETA: 0s - loss: 54.18 - ETA: 0s - loss: 55.09 - ETA: 0s - loss: 55.51 - ETA: 0s - loss: 55.81 - ETA: 0s - loss: 56.04 - ETA: 0s - loss: 56.65 - ETA: 0s - loss: 56.68 - ETA: 0s - loss: 56.73 - ETA: 0s - loss: 56.66 - ETA: 0s - loss: 56.67 - 1s 201us/step - loss: 56.6548\n",
      "Epoch 65/100\n",
      "7015/7015 [==============================] - ETA: 2s - loss: 109.246 - ETA: 1s - loss: 54.969 - ETA: 1s - loss: 57.86 - ETA: 1s - loss: 53.55 - ETA: 1s - loss: 57.79 - ETA: 1s - loss: 56.08 - ETA: 1s - loss: 57.38 - ETA: 1s - loss: 57.56 - ETA: 0s - loss: 55.59 - ETA: 0s - loss: 55.05 - ETA: 0s - loss: 55.32 - ETA: 0s - loss: 55.44 - ETA: 0s - loss: 54.78 - ETA: 0s - loss: 55.12 - ETA: 0s - loss: 55.64 - ETA: 0s - loss: 54.75 - ETA: 0s - loss: 54.80 - ETA: 0s - loss: 54.43 - ETA: 0s - loss: 54.21 - ETA: 0s - loss: 53.95 - ETA: 0s - loss: 54.34 - ETA: 0s - loss: 54.55 - ETA: 0s - loss: 54.87 - ETA: 0s - loss: 55.07 - ETA: 0s - loss: 55.54 - ETA: 0s - loss: 56.12 - ETA: 0s - loss: 56.33 - 1s 197us/step - loss: 56.2210\n",
      "Epoch 66/100\n",
      "7015/7015 [==============================] - ETA: 1s - loss: 66.57 - ETA: 1s - loss: 53.83 - ETA: 1s - loss: 52.30 - ETA: 1s - loss: 52.80 - ETA: 1s - loss: 52.04 - ETA: 1s - loss: 52.88 - ETA: 1s - loss: 52.80 - ETA: 1s - loss: 55.44 - ETA: 0s - loss: 54.58 - ETA: 0s - loss: 53.83 - ETA: 0s - loss: 54.79 - ETA: 0s - loss: 54.82 - ETA: 0s - loss: 54.42 - ETA: 0s - loss: 54.60 - ETA: 0s - loss: 54.57 - ETA: 0s - loss: 55.30 - ETA: 0s - loss: 54.82 - ETA: 0s - loss: 55.72 - ETA: 0s - loss: 55.74 - ETA: 0s - loss: 55.17 - ETA: 0s - loss: 55.04 - ETA: 0s - loss: 55.10 - ETA: 0s - loss: 54.94 - ETA: 0s - loss: 54.36 - ETA: 0s - loss: 55.24 - ETA: 0s - loss: 55.43 - ETA: 0s - loss: 55.20 - ETA: 0s - loss: 54.79 - 1s 204us/step - loss: 55.1494\n",
      "Epoch 67/100\n",
      "7015/7015 [==============================] - ETA: 2s - loss: 9.157 - ETA: 1s - loss: 42.11 - ETA: 1s - loss: 44.28 - ETA: 1s - loss: 45.50 - ETA: 1s - loss: 46.91 - ETA: 1s - loss: 49.73 - ETA: 1s - loss: 50.75 - ETA: 1s - loss: 50.93 - ETA: 0s - loss: 52.92 - ETA: 0s - loss: 52.11 - ETA: 0s - loss: 52.22 - ETA: 0s - loss: 52.32 - ETA: 0s - loss: 53.55 - ETA: 0s - loss: 53.67 - ETA: 0s - loss: 53.30 - ETA: 0s - loss: 52.37 - ETA: 0s - loss: 52.86 - ETA: 0s - loss: 52.51 - ETA: 0s - loss: 53.06 - ETA: 0s - loss: 53.66 - ETA: 0s - loss: 54.19 - ETA: 0s - loss: 54.61 - ETA: 0s - loss: 54.71 - ETA: 0s - loss: 54.66 - ETA: 0s - loss: 54.47 - ETA: 0s - loss: 54.60 - ETA: 0s - loss: 54.83 - 1s 197us/step - loss: 55.2285\n",
      "Epoch 68/100\n",
      "7015/7015 [==============================] - ETA: 2s - loss: 21.06 - ETA: 1s - loss: 54.25 - ETA: 1s - loss: 53.54 - ETA: 1s - loss: 58.91 - ETA: 1s - loss: 58.47 - ETA: 1s - loss: 59.23 - ETA: 1s - loss: 57.97 - ETA: 1s - loss: 58.82 - ETA: 0s - loss: 58.93 - ETA: 0s - loss: 58.56 - ETA: 0s - loss: 58.78 - ETA: 0s - loss: 58.20 - ETA: 0s - loss: 57.42 - ETA: 0s - loss: 57.16 - ETA: 0s - loss: 56.91 - ETA: 0s - loss: 56.30 - ETA: 0s - loss: 57.50 - ETA: 0s - loss: 57.22 - ETA: 0s - loss: 57.02 - ETA: 0s - loss: 56.51 - ETA: 0s - loss: 56.39 - ETA: 0s - loss: 56.35 - ETA: 0s - loss: 56.08 - ETA: 0s - loss: 56.32 - ETA: 0s - loss: 56.25 - ETA: 0s - loss: 56.56 - ETA: 0s - loss: 56.12 - 1s 197us/step - loss: 56.2309\n",
      "Epoch 69/100\n",
      "7015/7015 [==============================] - ETA: 2s - loss: 102.280 - ETA: 1s - loss: 58.528 - ETA: 1s - loss: 51.37 - ETA: 1s - loss: 51.16 - ETA: 1s - loss: 48.35 - ETA: 1s - loss: 52.53 - ETA: 1s - loss: 52.51 - ETA: 1s - loss: 51.90 - ETA: 0s - loss: 52.78 - ETA: 0s - loss: 51.94 - ETA: 0s - loss: 52.60 - ETA: 0s - loss: 52.12 - ETA: 0s - loss: 52.56 - ETA: 0s - loss: 52.42 - ETA: 0s - loss: 53.97 - ETA: 0s - loss: 54.00 - ETA: 0s - loss: 54.22 - ETA: 0s - loss: 54.18 - ETA: 0s - loss: 53.63 - ETA: 0s - loss: 53.54 - ETA: 0s - loss: 54.49 - ETA: 0s - loss: 54.74 - ETA: 0s - loss: 54.80 - ETA: 0s - loss: 55.19 - ETA: 0s - loss: 55.59 - ETA: 0s - loss: 55.62 - ETA: 0s - loss: 55.56 - 1s 195us/step - loss: 55.5736\n",
      "Epoch 70/100\n",
      "7015/7015 [==============================] - ETA: 2s - loss: 75.31 - ETA: 1s - loss: 58.48 - ETA: 1s - loss: 56.50 - ETA: 1s - loss: 53.97 - ETA: 1s - loss: 54.24 - ETA: 1s - loss: 53.06 - ETA: 1s - loss: 53.14 - ETA: 1s - loss: 54.63 - ETA: 1s - loss: 54.06 - ETA: 0s - loss: 52.49 - ETA: 0s - loss: 52.83 - ETA: 0s - loss: 53.12 - ETA: 0s - loss: 52.94 - ETA: 0s - loss: 53.76 - ETA: 0s - loss: 54.89 - ETA: 0s - loss: 54.64 - ETA: 0s - loss: 54.79 - ETA: 0s - loss: 54.93 - ETA: 0s - loss: 54.72 - ETA: 0s - loss: 54.82 - ETA: 0s - loss: 54.70 - ETA: 0s - loss: 54.94 - ETA: 0s - loss: 55.14 - ETA: 0s - loss: 54.88 - ETA: 0s - loss: 55.01 - ETA: 0s - loss: 55.17 - ETA: 0s - loss: 54.86 - ETA: 0s - loss: 54.48 - 1s 203us/step - loss: 54.8624\n",
      "Epoch 71/100\n",
      "7015/7015 [==============================] - ETA: 1s - loss: 14.11 - ETA: 1s - loss: 60.72 - ETA: 1s - loss: 56.53 - ETA: 1s - loss: 56.75 - ETA: 1s - loss: 56.02 - ETA: 1s - loss: 54.24 - ETA: 1s - loss: 52.80 - ETA: 1s - loss: 53.84 - ETA: 1s - loss: 54.06 - ETA: 0s - loss: 52.70 - ETA: 0s - loss: 53.22 - ETA: 0s - loss: 53.76 - ETA: 0s - loss: 52.59 - ETA: 0s - loss: 52.62 - ETA: 0s - loss: 54.09 - ETA: 0s - loss: 54.47 - ETA: 0s - loss: 54.78 - ETA: 0s - loss: 53.99 - ETA: 0s - loss: 54.86 - ETA: 0s - loss: 54.69 - ETA: 0s - loss: 54.18 - ETA: 0s - loss: 54.12 - ETA: 0s - loss: 54.61 - ETA: 0s - loss: 54.51 - ETA: 0s - loss: 54.56 - ETA: 0s - loss: 54.50 - ETA: 0s - loss: 54.74 - ETA: 0s - loss: 54.73 - 1s 203us/step - loss: 54.6837\n",
      "Epoch 72/100\n"
     ]
    },
    {
     "name": "stdout",
     "output_type": "stream",
     "text": [
      "7015/7015 [==============================] - ETA: 2s - loss: 73.96 - ETA: 1s - loss: 44.74 - ETA: 1s - loss: 43.74 - ETA: 1s - loss: 43.98 - ETA: 1s - loss: 45.00 - ETA: 1s - loss: 45.93 - ETA: 1s - loss: 46.23 - ETA: 1s - loss: 47.53 - ETA: 1s - loss: 47.02 - ETA: 0s - loss: 47.94 - ETA: 0s - loss: 48.78 - ETA: 0s - loss: 49.30 - ETA: 0s - loss: 49.03 - ETA: 0s - loss: 50.72 - ETA: 0s - loss: 52.58 - ETA: 0s - loss: 52.81 - ETA: 0s - loss: 53.00 - ETA: 0s - loss: 54.13 - ETA: 0s - loss: 54.44 - ETA: 0s - loss: 54.33 - ETA: 0s - loss: 54.34 - ETA: 0s - loss: 54.35 - ETA: 0s - loss: 54.59 - ETA: 0s - loss: 54.38 - ETA: 0s - loss: 54.47 - ETA: 0s - loss: 54.52 - ETA: 0s - loss: 54.95 - ETA: 0s - loss: 55.09 - ETA: 0s - loss: 55.17 - 1s 209us/step - loss: 55.1236\n",
      "Epoch 73/100\n",
      "7015/7015 [==============================] - ETA: 2s - loss: 57.35 - ETA: 1s - loss: 55.57 - ETA: 1s - loss: 53.43 - ETA: 1s - loss: 51.41 - ETA: 1s - loss: 50.46 - ETA: 1s - loss: 50.96 - ETA: 1s - loss: 51.49 - ETA: 1s - loss: 52.68 - ETA: 1s - loss: 52.62 - ETA: 0s - loss: 53.53 - ETA: 0s - loss: 54.00 - ETA: 0s - loss: 53.27 - ETA: 0s - loss: 53.31 - ETA: 0s - loss: 53.34 - ETA: 0s - loss: 53.73 - ETA: 0s - loss: 53.88 - ETA: 0s - loss: 53.08 - ETA: 0s - loss: 53.29 - ETA: 0s - loss: 53.27 - ETA: 0s - loss: 54.05 - ETA: 0s - loss: 54.16 - ETA: 0s - loss: 54.42 - ETA: 0s - loss: 54.34 - ETA: 0s - loss: 54.18 - ETA: 0s - loss: 54.00 - ETA: 0s - loss: 54.02 - ETA: 0s - loss: 54.22 - ETA: 0s - loss: 54.32 - 1s 201us/step - loss: 54.4835\n",
      "Epoch 74/100\n",
      "7015/7015 [==============================] - ETA: 1s - loss: 39.21 - ETA: 1s - loss: 50.45 - ETA: 1s - loss: 51.74 - ETA: 1s - loss: 49.53 - ETA: 1s - loss: 55.07 - ETA: 1s - loss: 53.99 - ETA: 1s - loss: 53.37 - ETA: 0s - loss: 52.85 - ETA: 0s - loss: 53.78 - ETA: 0s - loss: 55.26 - ETA: 0s - loss: 55.63 - ETA: 0s - loss: 55.61 - ETA: 0s - loss: 54.62 - ETA: 0s - loss: 54.76 - ETA: 0s - loss: 54.36 - ETA: 0s - loss: 54.27 - ETA: 0s - loss: 54.29 - ETA: 0s - loss: 54.92 - ETA: 0s - loss: 54.77 - ETA: 0s - loss: 54.13 - ETA: 0s - loss: 53.87 - ETA: 0s - loss: 53.76 - ETA: 0s - loss: 54.55 - ETA: 0s - loss: 54.10 - ETA: 0s - loss: 54.31 - ETA: 0s - loss: 54.43 - ETA: 0s - loss: 54.40 - 1s 194us/step - loss: 54.4952\n",
      "Epoch 75/100\n",
      "7015/7015 [==============================] - ETA: 2s - loss: 49.04 - ETA: 1s - loss: 49.34 - ETA: 1s - loss: 52.23 - ETA: 1s - loss: 53.35 - ETA: 1s - loss: 53.15 - ETA: 1s - loss: 55.43 - ETA: 1s - loss: 54.46 - ETA: 0s - loss: 53.91 - ETA: 0s - loss: 53.54 - ETA: 0s - loss: 53.12 - ETA: 0s - loss: 54.58 - ETA: 0s - loss: 54.29 - ETA: 0s - loss: 54.32 - ETA: 0s - loss: 54.88 - ETA: 0s - loss: 55.29 - ETA: 0s - loss: 54.87 - ETA: 0s - loss: 54.78 - ETA: 0s - loss: 55.27 - ETA: 0s - loss: 55.27 - ETA: 0s - loss: 55.14 - ETA: 0s - loss: 55.12 - ETA: 0s - loss: 54.67 - ETA: 0s - loss: 54.70 - ETA: 0s - loss: 54.68 - ETA: 0s - loss: 54.71 - ETA: 0s - loss: 54.29 - ETA: 0s - loss: 54.20 - 1s 196us/step - loss: 54.1431\n",
      "Epoch 76/100\n",
      "7015/7015 [==============================] - ETA: 1s - loss: 59.79 - ETA: 1s - loss: 68.15 - ETA: 1s - loss: 57.96 - ETA: 1s - loss: 59.71 - ETA: 1s - loss: 58.66 - ETA: 1s - loss: 57.35 - ETA: 1s - loss: 57.12 - ETA: 0s - loss: 55.92 - ETA: 0s - loss: 55.08 - ETA: 0s - loss: 54.21 - ETA: 0s - loss: 53.52 - ETA: 0s - loss: 53.75 - ETA: 0s - loss: 53.17 - ETA: 0s - loss: 53.28 - ETA: 0s - loss: 52.97 - ETA: 0s - loss: 52.91 - ETA: 0s - loss: 53.08 - ETA: 0s - loss: 52.71 - ETA: 0s - loss: 52.76 - ETA: 0s - loss: 53.04 - ETA: 0s - loss: 52.93 - ETA: 0s - loss: 52.57 - ETA: 0s - loss: 52.83 - ETA: 0s - loss: 53.04 - ETA: 0s - loss: 53.40 - ETA: 0s - loss: 53.47 - ETA: 0s - loss: 53.49 - 1s 195us/step - loss: 53.3691\n",
      "Epoch 77/100\n",
      "7015/7015 [==============================] - ETA: 2s - loss: 72.04 - ETA: 1s - loss: 40.60 - ETA: 1s - loss: 44.83 - ETA: 1s - loss: 48.48 - ETA: 1s - loss: 49.00 - ETA: 1s - loss: 48.48 - ETA: 1s - loss: 47.64 - ETA: 1s - loss: 47.36 - ETA: 0s - loss: 49.38 - ETA: 0s - loss: 49.37 - ETA: 0s - loss: 48.66 - ETA: 0s - loss: 49.11 - ETA: 0s - loss: 50.08 - ETA: 0s - loss: 51.27 - ETA: 0s - loss: 51.47 - ETA: 0s - loss: 50.60 - ETA: 0s - loss: 50.74 - ETA: 0s - loss: 50.65 - ETA: 0s - loss: 51.64 - ETA: 0s - loss: 52.28 - ETA: 0s - loss: 52.24 - ETA: 0s - loss: 52.69 - ETA: 0s - loss: 52.85 - ETA: 0s - loss: 52.72 - ETA: 0s - loss: 52.72 - ETA: 0s - loss: 52.91 - ETA: 0s - loss: 53.39 - 1s 196us/step - loss: 54.0178\n",
      "Epoch 78/100\n",
      "7015/7015 [==============================] - ETA: 2s - loss: 94.00 - ETA: 1s - loss: 52.17 - ETA: 1s - loss: 53.47 - ETA: 1s - loss: 55.71 - ETA: 1s - loss: 52.85 - ETA: 1s - loss: 51.69 - ETA: 1s - loss: 52.28 - ETA: 1s - loss: 51.16 - ETA: 0s - loss: 51.84 - ETA: 0s - loss: 52.74 - ETA: 0s - loss: 53.47 - ETA: 0s - loss: 53.07 - ETA: 0s - loss: 53.45 - ETA: 0s - loss: 53.18 - ETA: 0s - loss: 52.91 - ETA: 0s - loss: 52.12 - ETA: 0s - loss: 52.25 - ETA: 0s - loss: 52.20 - ETA: 0s - loss: 52.93 - ETA: 0s - loss: 53.49 - ETA: 0s - loss: 53.46 - ETA: 0s - loss: 53.37 - ETA: 0s - loss: 53.18 - ETA: 0s - loss: 53.59 - ETA: 0s - loss: 53.50 - ETA: 0s - loss: 53.74 - ETA: 0s - loss: 53.80 - 1s 195us/step - loss: 53.8159\n",
      "Epoch 79/100\n",
      "7015/7015 [==============================] - ETA: 2s - loss: 15.97 - ETA: 1s - loss: 52.95 - ETA: 1s - loss: 47.20 - ETA: 1s - loss: 49.38 - ETA: 1s - loss: 48.86 - ETA: 1s - loss: 52.41 - ETA: 1s - loss: 53.93 - ETA: 1s - loss: 53.22 - ETA: 0s - loss: 53.74 - ETA: 0s - loss: 52.91 - ETA: 0s - loss: 53.24 - ETA: 0s - loss: 53.60 - ETA: 0s - loss: 54.68 - ETA: 0s - loss: 54.01 - ETA: 0s - loss: 53.54 - ETA: 0s - loss: 53.21 - ETA: 0s - loss: 53.10 - ETA: 0s - loss: 52.82 - ETA: 0s - loss: 53.30 - ETA: 0s - loss: 53.48 - ETA: 0s - loss: 53.06 - ETA: 0s - loss: 53.34 - ETA: 0s - loss: 53.42 - ETA: 0s - loss: 53.31 - ETA: 0s - loss: 53.26 - ETA: 0s - loss: 53.53 - ETA: 0s - loss: 53.34 - ETA: 0s - loss: 53.23 - 1s 200us/step - loss: 53.2177\n",
      "Epoch 80/100\n",
      "7015/7015 [==============================] - ETA: 2s - loss: 88.46 - ETA: 1s - loss: 58.58 - ETA: 1s - loss: 49.42 - ETA: 1s - loss: 50.37 - ETA: 1s - loss: 52.67 - ETA: 1s - loss: 53.77 - ETA: 1s - loss: 54.47 - ETA: 1s - loss: 55.92 - ETA: 0s - loss: 56.15 - ETA: 0s - loss: 54.51 - ETA: 0s - loss: 53.18 - ETA: 0s - loss: 52.05 - ETA: 0s - loss: 51.84 - ETA: 0s - loss: 52.01 - ETA: 0s - loss: 52.27 - ETA: 0s - loss: 51.71 - ETA: 0s - loss: 52.97 - ETA: 0s - loss: 53.65 - ETA: 0s - loss: 54.09 - ETA: 0s - loss: 54.06 - ETA: 0s - loss: 53.79 - ETA: 0s - loss: 53.73 - ETA: 0s - loss: 54.09 - ETA: 0s - loss: 53.86 - ETA: 0s - loss: 53.67 - ETA: 0s - loss: 53.58 - ETA: 0s - loss: 53.76 - ETA: 0s - loss: 53.36 - 1s 198us/step - loss: 53.3234\n",
      "Epoch 81/100\n",
      "7015/7015 [==============================] - ETA: 2s - loss: 67.37 - ETA: 1s - loss: 58.20 - ETA: 1s - loss: 53.51 - ETA: 1s - loss: 54.49 - ETA: 1s - loss: 55.67 - ETA: 1s - loss: 56.48 - ETA: 1s - loss: 56.65 - ETA: 0s - loss: 56.22 - ETA: 0s - loss: 55.85 - ETA: 0s - loss: 54.00 - ETA: 0s - loss: 53.56 - ETA: 0s - loss: 52.29 - ETA: 0s - loss: 51.41 - ETA: 0s - loss: 51.82 - ETA: 0s - loss: 51.03 - ETA: 0s - loss: 50.58 - ETA: 0s - loss: 50.84 - ETA: 0s - loss: 50.92 - ETA: 0s - loss: 51.54 - ETA: 0s - loss: 51.60 - ETA: 0s - loss: 51.75 - ETA: 0s - loss: 51.79 - ETA: 0s - loss: 52.08 - ETA: 0s - loss: 52.31 - ETA: 0s - loss: 52.46 - ETA: 0s - loss: 52.55 - ETA: 0s - loss: 52.96 - 1s 197us/step - loss: 52.9780\n",
      "Epoch 82/100\n",
      "7015/7015 [==============================] - ETA: 2s - loss: 174.289 - ETA: 1s - loss: 72.985 - ETA: 1s - loss: 58.89 - ETA: 1s - loss: 52.28 - ETA: 1s - loss: 52.23 - ETA: 1s - loss: 51.36 - ETA: 1s - loss: 50.19 - ETA: 1s - loss: 50.67 - ETA: 0s - loss: 51.60 - ETA: 0s - loss: 53.24 - ETA: 0s - loss: 54.02 - ETA: 0s - loss: 53.51 - ETA: 0s - loss: 53.76 - ETA: 0s - loss: 53.39 - ETA: 0s - loss: 53.65 - ETA: 0s - loss: 53.71 - ETA: 0s - loss: 53.28 - ETA: 0s - loss: 52.62 - ETA: 0s - loss: 52.29 - ETA: 0s - loss: 52.65 - ETA: 0s - loss: 53.21 - ETA: 0s - loss: 53.30 - ETA: 0s - loss: 53.15 - ETA: 0s - loss: 53.14 - ETA: 0s - loss: 52.72 - ETA: 0s - loss: 52.39 - ETA: 0s - loss: 52.11 - 1s 194us/step - loss: 52.7356\n"
     ]
    },
    {
     "name": "stdout",
     "output_type": "stream",
     "text": [
      "Epoch 83/100\n",
      "7015/7015 [==============================] - ETA: 2s - loss: 50.40 - ETA: 1s - loss: 47.10 - ETA: 1s - loss: 54.72 - ETA: 1s - loss: 56.39 - ETA: 1s - loss: 54.07 - ETA: 1s - loss: 56.52 - ETA: 1s - loss: 54.40 - ETA: 0s - loss: 53.96 - ETA: 0s - loss: 53.88 - ETA: 0s - loss: 52.58 - ETA: 0s - loss: 54.42 - ETA: 0s - loss: 55.53 - ETA: 0s - loss: 54.96 - ETA: 0s - loss: 54.58 - ETA: 0s - loss: 53.77 - ETA: 0s - loss: 53.46 - ETA: 0s - loss: 53.52 - ETA: 0s - loss: 53.47 - ETA: 0s - loss: 53.51 - ETA: 0s - loss: 53.18 - ETA: 0s - loss: 53.21 - ETA: 0s - loss: 53.28 - ETA: 0s - loss: 53.30 - ETA: 0s - loss: 53.11 - ETA: 0s - loss: 53.17 - ETA: 0s - loss: 53.31 - ETA: 0s - loss: 52.97 - 1s 196us/step - loss: 52.9406\n",
      "Epoch 84/100\n",
      "7015/7015 [==============================] - ETA: 2s - loss: 13.18 - ETA: 1s - loss: 42.05 - ETA: 1s - loss: 41.46 - ETA: 1s - loss: 44.58 - ETA: 1s - loss: 48.11 - ETA: 1s - loss: 47.08 - ETA: 1s - loss: 46.78 - ETA: 1s - loss: 47.95 - ETA: 0s - loss: 49.04 - ETA: 0s - loss: 48.37 - ETA: 0s - loss: 47.74 - ETA: 0s - loss: 48.57 - ETA: 0s - loss: 48.41 - ETA: 0s - loss: 48.55 - ETA: 0s - loss: 48.26 - ETA: 0s - loss: 48.64 - ETA: 0s - loss: 49.08 - ETA: 0s - loss: 49.29 - ETA: 0s - loss: 50.03 - ETA: 0s - loss: 50.63 - ETA: 0s - loss: 50.53 - ETA: 0s - loss: 50.72 - ETA: 0s - loss: 50.74 - ETA: 0s - loss: 50.89 - ETA: 0s - loss: 51.04 - ETA: 0s - loss: 51.40 - ETA: 0s - loss: 51.86 - ETA: 0s - loss: 52.40 - 1s 202us/step - loss: 52.5366\n",
      "Epoch 85/100\n",
      "7015/7015 [==============================] - ETA: 2s - loss: 5.119 - ETA: 1s - loss: 49.62 - ETA: 1s - loss: 47.13 - ETA: 1s - loss: 49.61 - ETA: 1s - loss: 48.45 - ETA: 1s - loss: 50.83 - ETA: 1s - loss: 52.04 - ETA: 1s - loss: 51.86 - ETA: 0s - loss: 53.60 - ETA: 0s - loss: 54.63 - ETA: 0s - loss: 53.65 - ETA: 0s - loss: 54.85 - ETA: 0s - loss: 53.90 - ETA: 0s - loss: 53.96 - ETA: 0s - loss: 53.20 - ETA: 0s - loss: 53.04 - ETA: 0s - loss: 52.53 - ETA: 0s - loss: 52.31 - ETA: 0s - loss: 52.14 - ETA: 0s - loss: 52.09 - ETA: 0s - loss: 51.50 - ETA: 0s - loss: 51.37 - ETA: 0s - loss: 51.95 - ETA: 0s - loss: 52.02 - ETA: 0s - loss: 52.64 - ETA: 0s - loss: 53.03 - ETA: 0s - loss: 53.10 - 1s 197us/step - loss: 53.0881\n",
      "Epoch 86/100\n",
      "7015/7015 [==============================] - ETA: 2s - loss: 25.38 - ETA: 1s - loss: 67.53 - ETA: 1s - loss: 55.99 - ETA: 1s - loss: 54.99 - ETA: 1s - loss: 50.59 - ETA: 1s - loss: 50.51 - ETA: 1s - loss: 50.42 - ETA: 0s - loss: 50.03 - ETA: 0s - loss: 50.83 - ETA: 0s - loss: 50.97 - ETA: 0s - loss: 51.96 - ETA: 0s - loss: 52.53 - ETA: 0s - loss: 51.58 - ETA: 0s - loss: 51.43 - ETA: 0s - loss: 51.81 - ETA: 0s - loss: 52.10 - ETA: 0s - loss: 51.98 - ETA: 0s - loss: 51.76 - ETA: 0s - loss: 52.56 - ETA: 0s - loss: 53.15 - ETA: 0s - loss: 53.24 - ETA: 0s - loss: 53.39 - ETA: 0s - loss: 53.20 - ETA: 0s - loss: 52.83 - ETA: 0s - loss: 52.59 - ETA: 0s - loss: 52.29 - ETA: 0s - loss: 52.28 - 1s 195us/step - loss: 52.5046\n",
      "Epoch 87/100\n",
      "7015/7015 [==============================] - ETA: 1s - loss: 65.17 - ETA: 1s - loss: 43.29 - ETA: 1s - loss: 46.03 - ETA: 1s - loss: 45.71 - ETA: 1s - loss: 44.73 - ETA: 1s - loss: 46.95 - ETA: 1s - loss: 45.98 - ETA: 0s - loss: 45.51 - ETA: 0s - loss: 45.02 - ETA: 0s - loss: 47.11 - ETA: 0s - loss: 49.33 - ETA: 0s - loss: 49.23 - ETA: 0s - loss: 50.86 - ETA: 0s - loss: 52.69 - ETA: 0s - loss: 53.22 - ETA: 0s - loss: 52.85 - ETA: 0s - loss: 53.40 - ETA: 0s - loss: 53.90 - ETA: 0s - loss: 54.11 - ETA: 0s - loss: 53.93 - ETA: 0s - loss: 53.79 - ETA: 0s - loss: 53.48 - ETA: 0s - loss: 53.20 - ETA: 0s - loss: 53.40 - ETA: 0s - loss: 52.63 - ETA: 0s - loss: 52.44 - ETA: 0s - loss: 52.53 - 1s 196us/step - loss: 52.4943\n",
      "Epoch 88/100\n",
      "7015/7015 [==============================] - ETA: 2s - loss: 66.39 - ETA: 1s - loss: 61.61 - ETA: 1s - loss: 52.27 - ETA: 1s - loss: 52.69 - ETA: 1s - loss: 55.17 - ETA: 1s - loss: 52.76 - ETA: 1s - loss: 50.29 - ETA: 1s - loss: 52.29 - ETA: 0s - loss: 52.96 - ETA: 0s - loss: 51.62 - ETA: 0s - loss: 50.47 - ETA: 0s - loss: 50.87 - ETA: 0s - loss: 50.65 - ETA: 0s - loss: 50.43 - ETA: 0s - loss: 50.44 - ETA: 0s - loss: 51.59 - ETA: 0s - loss: 51.87 - ETA: 0s - loss: 52.07 - ETA: 0s - loss: 51.71 - ETA: 0s - loss: 51.96 - ETA: 0s - loss: 51.62 - ETA: 0s - loss: 51.81 - ETA: 0s - loss: 51.60 - ETA: 0s - loss: 52.12 - ETA: 0s - loss: 52.45 - ETA: 0s - loss: 52.49 - ETA: 0s - loss: 52.23 - 1s 197us/step - loss: 52.2841\n",
      "Epoch 89/100\n",
      "7015/7015 [==============================] - ETA: 2s - loss: 29.17 - ETA: 1s - loss: 41.28 - ETA: 1s - loss: 44.64 - ETA: 1s - loss: 46.64 - ETA: 1s - loss: 44.29 - ETA: 1s - loss: 42.54 - ETA: 1s - loss: 44.55 - ETA: 0s - loss: 46.22 - ETA: 0s - loss: 48.70 - ETA: 0s - loss: 49.27 - ETA: 0s - loss: 48.77 - ETA: 0s - loss: 47.79 - ETA: 0s - loss: 47.22 - ETA: 0s - loss: 47.67 - ETA: 0s - loss: 48.19 - ETA: 0s - loss: 49.16 - ETA: 0s - loss: 49.68 - ETA: 0s - loss: 49.56 - ETA: 0s - loss: 49.93 - ETA: 0s - loss: 50.19 - ETA: 0s - loss: 50.60 - ETA: 0s - loss: 50.66 - ETA: 0s - loss: 50.90 - ETA: 0s - loss: 50.46 - ETA: 0s - loss: 50.62 - ETA: 0s - loss: 51.05 - ETA: 0s - loss: 51.93 - 1s 194us/step - loss: 51.9278\n",
      "Epoch 90/100\n",
      "7015/7015 [==============================] - ETA: 2s - loss: 20.77 - ETA: 1s - loss: 46.27 - ETA: 1s - loss: 47.11 - ETA: 1s - loss: 48.97 - ETA: 1s - loss: 48.30 - ETA: 1s - loss: 47.66 - ETA: 1s - loss: 47.95 - ETA: 1s - loss: 49.00 - ETA: 0s - loss: 49.59 - ETA: 0s - loss: 49.67 - ETA: 0s - loss: 52.43 - ETA: 0s - loss: 54.65 - ETA: 0s - loss: 53.58 - ETA: 0s - loss: 53.27 - ETA: 0s - loss: 53.45 - ETA: 0s - loss: 53.13 - ETA: 0s - loss: 52.91 - ETA: 0s - loss: 52.33 - ETA: 0s - loss: 52.65 - ETA: 0s - loss: 52.57 - ETA: 0s - loss: 52.78 - ETA: 0s - loss: 52.73 - ETA: 0s - loss: 52.58 - ETA: 0s - loss: 52.16 - ETA: 0s - loss: 51.59 - ETA: 0s - loss: 51.68 - ETA: 0s - loss: 51.61 - 1s 193us/step - loss: 51.6035\n",
      "Epoch 91/100\n",
      "7015/7015 [==============================] - ETA: 2s - loss: 13.50 - ETA: 1s - loss: 50.34 - ETA: 1s - loss: 46.76 - ETA: 1s - loss: 46.58 - ETA: 1s - loss: 49.55 - ETA: 1s - loss: 47.57 - ETA: 1s - loss: 46.95 - ETA: 1s - loss: 47.68 - ETA: 0s - loss: 47.51 - ETA: 0s - loss: 48.86 - ETA: 0s - loss: 50.25 - ETA: 0s - loss: 50.21 - ETA: 0s - loss: 52.26 - ETA: 0s - loss: 52.10 - ETA: 0s - loss: 52.03 - ETA: 0s - loss: 52.34 - ETA: 0s - loss: 51.85 - ETA: 0s - loss: 51.53 - ETA: 0s - loss: 51.78 - ETA: 0s - loss: 51.58 - ETA: 0s - loss: 51.72 - ETA: 0s - loss: 52.89 - ETA: 0s - loss: 52.62 - ETA: 0s - loss: 52.63 - ETA: 0s - loss: 52.97 - ETA: 0s - loss: 52.68 - ETA: 0s - loss: 52.55 - 1s 194us/step - loss: 52.2013\n",
      "Epoch 92/100\n",
      "7015/7015 [==============================] - ETA: 2s - loss: 146.674 - ETA: 1s - loss: 59.908 - ETA: 1s - loss: 55.49 - ETA: 1s - loss: 56.57 - ETA: 1s - loss: 54.42 - ETA: 1s - loss: 53.01 - ETA: 1s - loss: 53.04 - ETA: 1s - loss: 50.81 - ETA: 0s - loss: 50.80 - ETA: 0s - loss: 52.00 - ETA: 0s - loss: 52.05 - ETA: 0s - loss: 51.69 - ETA: 0s - loss: 51.34 - ETA: 0s - loss: 51.39 - ETA: 0s - loss: 52.59 - ETA: 0s - loss: 52.41 - ETA: 0s - loss: 52.10 - ETA: 0s - loss: 51.48 - ETA: 0s - loss: 51.13 - ETA: 0s - loss: 51.61 - ETA: 0s - loss: 51.48 - ETA: 0s - loss: 51.33 - ETA: 0s - loss: 51.24 - ETA: 0s - loss: 51.40 - ETA: 0s - loss: 50.96 - ETA: 0s - loss: 51.12 - ETA: 0s - loss: 51.24 - 1s 195us/step - loss: 51.2752\n",
      "Epoch 93/100\n",
      "7015/7015 [==============================] - ETA: 2s - loss: 84.94 - ETA: 1s - loss: 43.46 - ETA: 1s - loss: 43.25 - ETA: 1s - loss: 45.81 - ETA: 1s - loss: 49.76 - ETA: 1s - loss: 49.38 - ETA: 1s - loss: 48.54 - ETA: 1s - loss: 49.42 - ETA: 0s - loss: 48.62 - ETA: 0s - loss: 50.21 - ETA: 0s - loss: 51.67 - ETA: 0s - loss: 51.96 - ETA: 0s - loss: 50.88 - ETA: 0s - loss: 51.18 - ETA: 0s - loss: 50.64 - ETA: 0s - loss: 50.29 - ETA: 0s - loss: 50.08 - ETA: 0s - loss: 49.73 - ETA: 0s - loss: 50.43 - ETA: 0s - loss: 49.98 - ETA: 0s - loss: 50.45 - ETA: 0s - loss: 50.20 - ETA: 0s - loss: 50.60 - ETA: 0s - loss: 50.59 - ETA: 0s - loss: 50.92 - ETA: 0s - loss: 51.00 - ETA: 0s - loss: 51.10 - 1s 195us/step - loss: 51.3577\n",
      "Epoch 94/100\n"
     ]
    },
    {
     "name": "stdout",
     "output_type": "stream",
     "text": [
      "7015/7015 [==============================] - ETA: 2s - loss: 17.30 - ETA: 1s - loss: 52.81 - ETA: 1s - loss: 51.28 - ETA: 1s - loss: 50.15 - ETA: 1s - loss: 50.94 - ETA: 1s - loss: 50.85 - ETA: 1s - loss: 50.28 - ETA: 0s - loss: 50.32 - ETA: 0s - loss: 50.85 - ETA: 0s - loss: 49.02 - ETA: 0s - loss: 48.84 - ETA: 0s - loss: 49.46 - ETA: 0s - loss: 49.93 - ETA: 0s - loss: 49.48 - ETA: 0s - loss: 49.84 - ETA: 0s - loss: 50.29 - ETA: 0s - loss: 50.06 - ETA: 0s - loss: 51.62 - ETA: 0s - loss: 51.46 - ETA: 0s - loss: 50.75 - ETA: 0s - loss: 50.44 - ETA: 0s - loss: 50.47 - ETA: 0s - loss: 50.32 - ETA: 0s - loss: 50.51 - ETA: 0s - loss: 50.62 - ETA: 0s - loss: 51.14 - ETA: 0s - loss: 51.03 - 1s 193us/step - loss: 50.9280\n",
      "Epoch 95/100\n",
      "7015/7015 [==============================] - ETA: 2s - loss: 44.21 - ETA: 1s - loss: 36.93 - ETA: 1s - loss: 42.39 - ETA: 1s - loss: 46.81 - ETA: 1s - loss: 48.38 - ETA: 1s - loss: 48.29 - ETA: 1s - loss: 47.83 - ETA: 1s - loss: 46.55 - ETA: 0s - loss: 48.00 - ETA: 0s - loss: 48.48 - ETA: 0s - loss: 50.32 - ETA: 0s - loss: 50.50 - ETA: 0s - loss: 50.41 - ETA: 0s - loss: 50.78 - ETA: 0s - loss: 50.09 - ETA: 0s - loss: 50.22 - ETA: 0s - loss: 50.45 - ETA: 0s - loss: 49.94 - ETA: 0s - loss: 49.84 - ETA: 0s - loss: 49.98 - ETA: 0s - loss: 51.03 - ETA: 0s - loss: 51.30 - ETA: 0s - loss: 51.53 - ETA: 0s - loss: 51.31 - ETA: 0s - loss: 51.44 - ETA: 0s - loss: 51.42 - ETA: 0s - loss: 51.53 - 1s 196us/step - loss: 51.4905\n",
      "Epoch 96/100\n",
      "7015/7015 [==============================] - ETA: 2s - loss: 42.27 - ETA: 1s - loss: 45.15 - ETA: 1s - loss: 43.69 - ETA: 1s - loss: 45.98 - ETA: 1s - loss: 48.00 - ETA: 1s - loss: 48.45 - ETA: 1s - loss: 49.69 - ETA: 1s - loss: 48.89 - ETA: 1s - loss: 49.58 - ETA: 0s - loss: 50.47 - ETA: 0s - loss: 50.14 - ETA: 0s - loss: 49.81 - ETA: 0s - loss: 50.28 - ETA: 0s - loss: 49.96 - ETA: 0s - loss: 50.27 - ETA: 0s - loss: 49.91 - ETA: 0s - loss: 49.62 - ETA: 0s - loss: 49.58 - ETA: 0s - loss: 49.63 - ETA: 0s - loss: 49.87 - ETA: 0s - loss: 49.94 - ETA: 0s - loss: 50.84 - ETA: 0s - loss: 51.07 - ETA: 0s - loss: 50.90 - ETA: 0s - loss: 50.91 - ETA: 0s - loss: 51.00 - ETA: 0s - loss: 51.23 - ETA: 0s - loss: 50.85 - 1s 198us/step - loss: 50.9663\n",
      "Epoch 97/100\n",
      "7015/7015 [==============================] - ETA: 2s - loss: 46.72 - ETA: 1s - loss: 43.44 - ETA: 1s - loss: 53.57 - ETA: 1s - loss: 52.16 - ETA: 1s - loss: 53.40 - ETA: 1s - loss: 53.77 - ETA: 1s - loss: 52.79 - ETA: 0s - loss: 51.80 - ETA: 0s - loss: 52.07 - ETA: 0s - loss: 51.76 - ETA: 0s - loss: 51.71 - ETA: 0s - loss: 52.86 - ETA: 0s - loss: 52.38 - ETA: 0s - loss: 52.08 - ETA: 0s - loss: 52.00 - ETA: 0s - loss: 52.39 - ETA: 0s - loss: 52.60 - ETA: 0s - loss: 52.25 - ETA: 0s - loss: 52.05 - ETA: 0s - loss: 51.79 - ETA: 0s - loss: 51.81 - ETA: 0s - loss: 51.93 - ETA: 0s - loss: 52.12 - ETA: 0s - loss: 51.24 - ETA: 0s - loss: 51.45 - ETA: 0s - loss: 51.01 - ETA: 0s - loss: 51.05 - 1s 192us/step - loss: 51.0354\n",
      "Epoch 98/100\n",
      "7015/7015 [==============================] - ETA: 2s - loss: 66.96 - ETA: 1s - loss: 48.78 - ETA: 1s - loss: 44.64 - ETA: 1s - loss: 43.45 - ETA: 1s - loss: 46.79 - ETA: 1s - loss: 47.51 - ETA: 1s - loss: 47.95 - ETA: 1s - loss: 48.88 - ETA: 0s - loss: 51.68 - ETA: 0s - loss: 53.20 - ETA: 0s - loss: 53.24 - ETA: 0s - loss: 51.48 - ETA: 0s - loss: 52.23 - ETA: 0s - loss: 52.74 - ETA: 0s - loss: 51.45 - ETA: 0s - loss: 51.38 - ETA: 0s - loss: 50.72 - ETA: 0s - loss: 50.48 - ETA: 0s - loss: 50.72 - ETA: 0s - loss: 50.94 - ETA: 0s - loss: 51.25 - ETA: 0s - loss: 51.16 - ETA: 0s - loss: 51.10 - ETA: 0s - loss: 50.80 - ETA: 0s - loss: 50.90 - ETA: 0s - loss: 51.35 - ETA: 0s - loss: 51.17 - ETA: 0s - loss: 51.36 - 1s 200us/step - loss: 51.3192\n",
      "Epoch 99/100\n",
      "7015/7015 [==============================] - ETA: 1s - loss: 19.88 - ETA: 1s - loss: 65.41 - ETA: 1s - loss: 51.44 - ETA: 1s - loss: 51.83 - ETA: 1s - loss: 48.25 - ETA: 1s - loss: 48.90 - ETA: 1s - loss: 46.04 - ETA: 0s - loss: 46.58 - ETA: 0s - loss: 45.30 - ETA: 0s - loss: 46.56 - ETA: 0s - loss: 47.63 - ETA: 0s - loss: 48.73 - ETA: 0s - loss: 48.34 - ETA: 0s - loss: 48.41 - ETA: 0s - loss: 48.78 - ETA: 0s - loss: 48.85 - ETA: 0s - loss: 49.48 - ETA: 0s - loss: 49.69 - ETA: 0s - loss: 49.99 - ETA: 0s - loss: 49.65 - ETA: 0s - loss: 49.71 - ETA: 0s - loss: 50.00 - ETA: 0s - loss: 49.91 - ETA: 0s - loss: 49.50 - ETA: 0s - loss: 49.57 - ETA: 0s - loss: 50.03 - ETA: 0s - loss: 50.14 - 1s 194us/step - loss: 50.2915\n",
      "Epoch 100/100\n",
      "7015/7015 [==============================] - ETA: 2s - loss: 162.973 - ETA: 1s - loss: 55.413 - ETA: 1s - loss: 59.71 - ETA: 1s - loss: 56.51 - ETA: 1s - loss: 52.13 - ETA: 1s - loss: 51.70 - ETA: 1s - loss: 52.50 - ETA: 0s - loss: 52.44 - ETA: 0s - loss: 52.67 - ETA: 0s - loss: 53.62 - ETA: 0s - loss: 52.54 - ETA: 0s - loss: 51.54 - ETA: 0s - loss: 51.34 - ETA: 0s - loss: 50.69 - ETA: 0s - loss: 50.04 - ETA: 0s - loss: 50.35 - ETA: 0s - loss: 50.56 - ETA: 0s - loss: 50.84 - ETA: 0s - loss: 50.88 - ETA: 0s - loss: 50.92 - ETA: 0s - loss: 50.66 - ETA: 0s - loss: 50.63 - ETA: 0s - loss: 50.68 - ETA: 0s - loss: 50.73 - ETA: 0s - loss: 50.80 - ETA: 0s - loss: 50.85 - ETA: 0s - loss: 50.87 - 1s 192us/step - loss: 50.7116\n"
     ]
    }
   ],
   "source": [
    "# Fitting the ANN to the Training set\n",
    "nnmodel = nn.fit(X_train_sc, y_train, batch_size = 10, epochs = 100)"
   ]
  },
  {
   "cell_type": "code",
   "execution_count": 212,
   "metadata": {},
   "outputs": [],
   "source": [
    "# Make predictions\n",
    "nnpred = nn.predict(X_test)"
   ]
  },
  {
   "cell_type": "code",
   "execution_count": 228,
   "metadata": {},
   "outputs": [],
   "source": [
    "# unnest predictions\n",
    "from itertools import chain\n",
    "nnpred = list(chain.from_iterable(nnpred))"
   ]
  },
  {
   "cell_type": "code",
   "execution_count": 229,
   "metadata": {},
   "outputs": [
    {
     "name": "stdout",
     "output_type": "stream",
     "text": [
      "0.837812464220105\n"
     ]
    }
   ],
   "source": [
    "# RSQUARED\n",
    "print(explained_variance_score(nnpred, y_test))"
   ]
  },
  {
   "cell_type": "code",
   "execution_count": 230,
   "metadata": {},
   "outputs": [
    {
     "name": "stdout",
     "output_type": "stream",
     "text": [
      "Mean squared error: 107.05\n"
     ]
    }
   ],
   "source": [
    "# MSE\n",
    "print(\"Mean squared error: %.2f\"\n",
    "      % mean_squared_error(nnpred, y_test))"
   ]
  },
  {
   "cell_type": "code",
   "execution_count": 231,
   "metadata": {},
   "outputs": [
    {
     "name": "stdout",
     "output_type": "stream",
     "text": [
      "RMSE: 10.35\n"
     ]
    }
   ],
   "source": [
    "# RMSE\n",
    "print(\"RMSE: %.2f\"\n",
    "      % np.sqrt(mean_squared_error(nnpred, y_test)))"
   ]
  },
  {
   "cell_type": "code",
   "execution_count": 232,
   "metadata": {},
   "outputs": [
    {
     "name": "stdout",
     "output_type": "stream",
     "text": [
      "R_squared: 0.84\n"
     ]
    }
   ],
   "source": [
    "# RSQUARED\n",
    "print('R_squared: %.2f' % r2_score(nnpred, y_test))"
   ]
  },
  {
   "cell_type": "code",
   "execution_count": 233,
   "metadata": {},
   "outputs": [],
   "source": [
    "# Calculate mean absolute percentage error (MAPE)\n",
    "nnerrors = abs(nnpred - y_test)\n",
    "nnmape = 100 * (nnerrors / y_test)"
   ]
  },
  {
   "cell_type": "code",
   "execution_count": 235,
   "metadata": {},
   "outputs": [
    {
     "name": "stdout",
     "output_type": "stream",
     "text": [
      "Accuracy: 88.03 %.\n"
     ]
    }
   ],
   "source": [
    "# Calculate and display accuracy\n",
    "nnaccuracy = 100 - np.mean(nnmape)\n",
    "print('Accuracy:', round(nnaccuracy, 2), '%.')"
   ]
  },
  {
   "cell_type": "code",
   "execution_count": 238,
   "metadata": {},
   "outputs": [
    {
     "data": {
      "image/png": "[encoded data removed]",
      "text/plain": [
       "<Figure size 432x288 with 1 Axes>"
      ]
     },
     "metadata": {
      "needs_background": "light"
     },
     "output_type": "display_data"
    }
   ],
   "source": [
    "# plot training progress\n",
    "plt.plot(y_test, color = 'red', label = 'Real data')\n",
    "plt.plot(nnpred, color = 'blue', label = 'Predicted data')\n",
    "plt.title('Prediction')\n",
    "plt.legend()\n",
    "plt.show()"
   ]
  },
  {
   "cell_type": "markdown",
   "metadata": {},
   "source": [
    "# Plotting all predictions"
   ]
  },
  {
   "cell_type": "code",
   "execution_count": 250,
   "metadata": {},
   "outputs": [
    {
     "ename": "SyntaxError",
     "evalue": "invalid syntax (<ipython-input-250-e024a57d525e>, line 1)",
     "output_type": "error",
     "traceback": [
      "\u001b[1;36m  File \u001b[1;32m\"<ipython-input-250-e024a57d525e>\"\u001b[1;36m, line \u001b[1;32m1\u001b[0m\n\u001b[1;33m    df_plot = pd.DataFrame({'real data'=[y_test],\u001b[0m\n\u001b[1;37m                                       ^\u001b[0m\n\u001b[1;31mSyntaxError\u001b[0m\u001b[1;31m:\u001b[0m invalid syntax\n"
     ]
    }
   ],
   "source": [
    "df_plot = pd.DataFrame({'real data'=[y_test],\n",
    "     'linear model'=predlin,\n",
    "     'random forest'=predrf,\n",
    "     'xgb basline'=xgbpred,\n",
    "     'xgb tuned'=xgb2pred,\n",
    "     'neural network'=nnpred)"
   ]
  },
  {
   "cell_type": "code",
   "execution_count": 242,
   "metadata": {},
   "outputs": [
    {
     "ename": "ValueError",
     "evalue": "Either both or neither of `x` and `y` must be specified (but try passing to `data`, which is more flexible).",
     "output_type": "error",
     "traceback": [
      "\u001b[1;31m---------------------------------------------------------------------------\u001b[0m",
      "\u001b[1;31mValueError\u001b[0m                                Traceback (most recent call last)",
      "\u001b[1;32m<ipython-input-242-2ad756c93710>\u001b[0m in \u001b[0;36m<module>\u001b[1;34m\u001b[0m\n\u001b[1;32m----> 1\u001b[1;33m \u001b[0msns\u001b[0m\u001b[1;33m.\u001b[0m\u001b[0mscatterplot\u001b[0m\u001b[1;33m(\u001b[0m\u001b[0mx\u001b[0m\u001b[1;33m=\u001b[0m\u001b[1;34m\"xgbpred\"\u001b[0m\u001b[1;33m,\u001b[0m \u001b[0mdata\u001b[0m\u001b[1;33m=\u001b[0m\u001b[0mxgbpred\u001b[0m\u001b[1;33m)\u001b[0m\u001b[1;33m\u001b[0m\u001b[1;33m\u001b[0m\u001b[0m\n\u001b[0m",
      "\u001b[1;32m~\\Anaconda3\\lib\\site-packages\\seaborn\\relational.py\u001b[0m in \u001b[0;36mscatterplot\u001b[1;34m(x, y, hue, style, size, data, palette, hue_order, hue_norm, sizes, size_order, size_norm, markers, style_order, x_bins, y_bins, units, estimator, ci, n_boot, alpha, x_jitter, y_jitter, legend, ax, **kwargs)\u001b[0m\n\u001b[0;32m   1333\u001b[0m         \u001b[0mx_bins\u001b[0m\u001b[1;33m=\u001b[0m\u001b[0mx_bins\u001b[0m\u001b[1;33m,\u001b[0m \u001b[0my_bins\u001b[0m\u001b[1;33m=\u001b[0m\u001b[0my_bins\u001b[0m\u001b[1;33m,\u001b[0m\u001b[1;33m\u001b[0m\u001b[1;33m\u001b[0m\u001b[0m\n\u001b[0;32m   1334\u001b[0m         \u001b[0mestimator\u001b[0m\u001b[1;33m=\u001b[0m\u001b[0mestimator\u001b[0m\u001b[1;33m,\u001b[0m \u001b[0mci\u001b[0m\u001b[1;33m=\u001b[0m\u001b[0mci\u001b[0m\u001b[1;33m,\u001b[0m \u001b[0mn_boot\u001b[0m\u001b[1;33m=\u001b[0m\u001b[0mn_boot\u001b[0m\u001b[1;33m,\u001b[0m\u001b[1;33m\u001b[0m\u001b[1;33m\u001b[0m\u001b[0m\n\u001b[1;32m-> 1335\u001b[1;33m         \u001b[0malpha\u001b[0m\u001b[1;33m=\u001b[0m\u001b[0malpha\u001b[0m\u001b[1;33m,\u001b[0m \u001b[0mx_jitter\u001b[0m\u001b[1;33m=\u001b[0m\u001b[0mx_jitter\u001b[0m\u001b[1;33m,\u001b[0m \u001b[0my_jitter\u001b[0m\u001b[1;33m=\u001b[0m\u001b[0my_jitter\u001b[0m\u001b[1;33m,\u001b[0m \u001b[0mlegend\u001b[0m\u001b[1;33m=\u001b[0m\u001b[0mlegend\u001b[0m\u001b[1;33m,\u001b[0m\u001b[1;33m\u001b[0m\u001b[1;33m\u001b[0m\u001b[0m\n\u001b[0m\u001b[0;32m   1336\u001b[0m     )\n\u001b[0;32m   1337\u001b[0m \u001b[1;33m\u001b[0m\u001b[0m\n",
      "\u001b[1;32m~\\Anaconda3\\lib\\site-packages\\seaborn\\relational.py\u001b[0m in \u001b[0;36m__init__\u001b[1;34m(self, x, y, hue, size, style, data, palette, hue_order, hue_norm, sizes, size_order, size_norm, dashes, markers, style_order, x_bins, y_bins, units, estimator, ci, n_boot, alpha, x_jitter, y_jitter, legend)\u001b[0m\n\u001b[0;32m    850\u001b[0m \u001b[1;33m\u001b[0m\u001b[0m\n\u001b[0;32m    851\u001b[0m         plot_data = self.establish_variables(\n\u001b[1;32m--> 852\u001b[1;33m             \u001b[0mx\u001b[0m\u001b[1;33m,\u001b[0m \u001b[0my\u001b[0m\u001b[1;33m,\u001b[0m \u001b[0mhue\u001b[0m\u001b[1;33m,\u001b[0m \u001b[0msize\u001b[0m\u001b[1;33m,\u001b[0m \u001b[0mstyle\u001b[0m\u001b[1;33m,\u001b[0m \u001b[0munits\u001b[0m\u001b[1;33m,\u001b[0m \u001b[0mdata\u001b[0m\u001b[1;33m\u001b[0m\u001b[1;33m\u001b[0m\u001b[0m\n\u001b[0m\u001b[0;32m    853\u001b[0m         )\n\u001b[0;32m    854\u001b[0m \u001b[1;33m\u001b[0m\u001b[0m\n",
      "\u001b[1;32m~\\Anaconda3\\lib\\site-packages\\seaborn\\relational.py\u001b[0m in \u001b[0;36mestablish_variables\u001b[1;34m(self, x, y, hue, size, style, units, data)\u001b[0m\n\u001b[0;32m    164\u001b[0m             err = (\"Either both or neither of `x` and `y` must be specified \"\n\u001b[0;32m    165\u001b[0m                    \"(but try passing to `data`, which is more flexible).\")\n\u001b[1;32m--> 166\u001b[1;33m             \u001b[1;32mraise\u001b[0m \u001b[0mValueError\u001b[0m\u001b[1;33m(\u001b[0m\u001b[0merr\u001b[0m\u001b[1;33m)\u001b[0m\u001b[1;33m\u001b[0m\u001b[1;33m\u001b[0m\u001b[0m\n\u001b[0m\u001b[0;32m    167\u001b[0m \u001b[1;33m\u001b[0m\u001b[0m\n\u001b[0;32m    168\u001b[0m         \u001b[1;31m# ---- Post-processing\u001b[0m\u001b[1;33m\u001b[0m\u001b[1;33m\u001b[0m\u001b[1;33m\u001b[0m\u001b[0m\n",
      "\u001b[1;31mValueError\u001b[0m: Either both or neither of `x` and `y` must be specified (but try passing to `data`, which is more flexible)."
     ]
    }
   ],
   "source": [
    "sns.scatterplot(x=\"xgbpred\", data=xgbpred)"
   ]
  },
  {
   "cell_type": "code",
   "execution_count": 243,
   "metadata": {},
   "outputs": [
    {
     "data": {
      "text/plain": [
       "array([37.379406, 38.045025, 43.426487, ..., 76.85415 , 52.036594,\n",
       "       25.624071], dtype=float32)"
      ]
     },
     "execution_count": 243,
     "metadata": {},
     "output_type": "execute_result"
    }
   ],
   "source": [
    "xgbpred"
   ]
  },
  {
   "cell_type": "code",
   "execution_count": null,
   "metadata": {},
   "outputs": [],
   "source": []
  }
 ],
 "metadata": {
  "kernelspec": {
   "display_name": "Python 3",
   "language": "python",
   "name": "python3"
  },
  "language_info": {
   "codemirror_mode": {
    "name": "ipython",
    "version": 3
   },
   "file_extension": ".py",
   "mimetype": "text/x-python",
   "name": "python",
   "nbconvert_exporter": "python",
   "pygments_lexer": "ipython3",
   "version": "3.7.3"
  }
 },
 "nbformat": 4,
 "nbformat_minor": 2
}
