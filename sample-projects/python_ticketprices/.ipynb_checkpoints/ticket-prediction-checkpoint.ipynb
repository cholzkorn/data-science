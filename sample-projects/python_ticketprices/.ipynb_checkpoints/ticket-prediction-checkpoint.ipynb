{
 "cells": [
  {
   "cell_type": "markdown",
   "metadata": {},
   "source": [
    "# Imports"
   ]
  },
  {
   "cell_type": "code",
   "execution_count": 1,
   "metadata": {},
   "outputs": [],
   "source": [
    "import pandas as pd\n",
    "import sklearn as sk\n",
    "import scipy\n",
    "import numpy as np\n",
    "import pickle"
   ]
  },
  {
   "cell_type": "code",
   "execution_count": 2,
   "metadata": {},
   "outputs": [],
   "source": [
    "# Import data\n",
    "df = pd.read_csv('data/maindata_small.csv')"
   ]
  },
  {
   "cell_type": "markdown",
   "metadata": {},
   "source": [
    "# First Glance and Set creation"
   ]
  },
  {
   "cell_type": "code",
   "execution_count": 3,
   "metadata": {},
   "outputs": [
    {
     "data": {
      "text/html": [
       "<div>\n",
       "<style scoped>\n",
       "    .dataframe tbody tr th:only-of-type {\n",
       "        vertical-align: middle;\n",
       "    }\n",
       "\n",
       "    .dataframe tbody tr th {\n",
       "        vertical-align: top;\n",
       "    }\n",
       "\n",
       "    .dataframe thead th {\n",
       "        text-align: right;\n",
       "    }\n",
       "</style>\n",
       "<table border=\"1\" class=\"dataframe\">\n",
       "  <thead>\n",
       "    <tr style=\"text-align: right;\">\n",
       "      <th></th>\n",
       "      <th>Unnamed: 0</th>\n",
       "      <th>V1</th>\n",
       "      <th>insert_date</th>\n",
       "      <th>origin</th>\n",
       "      <th>destination</th>\n",
       "      <th>start_date</th>\n",
       "      <th>end_date</th>\n",
       "      <th>train_type</th>\n",
       "      <th>price</th>\n",
       "      <th>train_class</th>\n",
       "      <th>fare</th>\n",
       "    </tr>\n",
       "  </thead>\n",
       "  <tbody>\n",
       "    <tr>\n",
       "      <th>0</th>\n",
       "      <td>1</td>\n",
       "      <td>1263097</td>\n",
       "      <td>2019-05-04 05:11:26</td>\n",
       "      <td>BARCELONA</td>\n",
       "      <td>MADRID</td>\n",
       "      <td>2019-05-16 06:25:00</td>\n",
       "      <td>2019-05-16 08:55:00</td>\n",
       "      <td>AVE</td>\n",
       "      <td>78.80</td>\n",
       "      <td>Turista</td>\n",
       "      <td>Promo</td>\n",
       "    </tr>\n",
       "    <tr>\n",
       "      <th>1</th>\n",
       "      <td>2</td>\n",
       "      <td>1980371</td>\n",
       "      <td>2019-04-15 02:28:14</td>\n",
       "      <td>VALENCIA</td>\n",
       "      <td>MADRID</td>\n",
       "      <td>2019-05-25 14:50:00</td>\n",
       "      <td>2019-05-25 22:17:00</td>\n",
       "      <td>REGIONAL</td>\n",
       "      <td>28.35</td>\n",
       "      <td>Turista</td>\n",
       "      <td>Adulto ida</td>\n",
       "    </tr>\n",
       "    <tr>\n",
       "      <th>2</th>\n",
       "      <td>3</td>\n",
       "      <td>1595459</td>\n",
       "      <td>2019-05-09 21:02:40</td>\n",
       "      <td>MADRID</td>\n",
       "      <td>SEVILLA</td>\n",
       "      <td>2019-06-24 15:00:00</td>\n",
       "      <td>2019-06-24 17:21:00</td>\n",
       "      <td>AVE</td>\n",
       "      <td>41.20</td>\n",
       "      <td>Turista</td>\n",
       "      <td>Promo</td>\n",
       "    </tr>\n",
       "    <tr>\n",
       "      <th>3</th>\n",
       "      <td>4</td>\n",
       "      <td>1126882</td>\n",
       "      <td>2019-05-01 13:16:14</td>\n",
       "      <td>MADRID</td>\n",
       "      <td>VALENCIA</td>\n",
       "      <td>2019-05-15 15:10:00</td>\n",
       "      <td>2019-05-15 16:52:00</td>\n",
       "      <td>AVE</td>\n",
       "      <td>21.95</td>\n",
       "      <td>Turista</td>\n",
       "      <td>Promo</td>\n",
       "    </tr>\n",
       "    <tr>\n",
       "      <th>4</th>\n",
       "      <td>5</td>\n",
       "      <td>688748</td>\n",
       "      <td>2019-04-24 08:11:56</td>\n",
       "      <td>BARCELONA</td>\n",
       "      <td>MADRID</td>\n",
       "      <td>2019-05-08 13:25:00</td>\n",
       "      <td>2019-05-08 16:10:00</td>\n",
       "      <td>AVE</td>\n",
       "      <td>85.10</td>\n",
       "      <td>Turista</td>\n",
       "      <td>Promo</td>\n",
       "    </tr>\n",
       "  </tbody>\n",
       "</table>\n",
       "</div>"
      ],
      "text/plain": [
       "   Unnamed: 0       V1          insert_date     origin destination  \\\n",
       "0           1  1263097  2019-05-04 05:11:26  BARCELONA      MADRID   \n",
       "1           2  1980371  2019-04-15 02:28:14   VALENCIA      MADRID   \n",
       "2           3  1595459  2019-05-09 21:02:40     MADRID     SEVILLA   \n",
       "3           4  1126882  2019-05-01 13:16:14     MADRID    VALENCIA   \n",
       "4           5   688748  2019-04-24 08:11:56  BARCELONA      MADRID   \n",
       "\n",
       "            start_date             end_date train_type  price train_class  \\\n",
       "0  2019-05-16 06:25:00  2019-05-16 08:55:00        AVE  78.80     Turista   \n",
       "1  2019-05-25 14:50:00  2019-05-25 22:17:00   REGIONAL  28.35     Turista   \n",
       "2  2019-06-24 15:00:00  2019-06-24 17:21:00        AVE  41.20     Turista   \n",
       "3  2019-05-15 15:10:00  2019-05-15 16:52:00        AVE  21.95     Turista   \n",
       "4  2019-05-08 13:25:00  2019-05-08 16:10:00        AVE  85.10     Turista   \n",
       "\n",
       "         fare  \n",
       "0       Promo  \n",
       "1  Adulto ida  \n",
       "2       Promo  \n",
       "3       Promo  \n",
       "4       Promo  "
      ]
     },
     "execution_count": 3,
     "metadata": {},
     "output_type": "execute_result"
    }
   ],
   "source": [
    "df.head()"
   ]
  },
  {
   "cell_type": "code",
   "execution_count": 4,
   "metadata": {},
   "outputs": [
    {
     "data": {
      "text/plain": [
       "Unnamed: 0        0\n",
       "V1                0\n",
       "insert_date       0\n",
       "origin            0\n",
       "destination       0\n",
       "start_date        0\n",
       "end_date          0\n",
       "train_type        0\n",
       "price          1231\n",
       "train_class      41\n",
       "fare             41\n",
       "dtype: int64"
      ]
     },
     "execution_count": 4,
     "metadata": {},
     "output_type": "execute_result"
    }
   ],
   "source": [
    "# How many NAs\n",
    "df.isna().sum()"
   ]
  },
  {
   "cell_type": "code",
   "execution_count": 5,
   "metadata": {},
   "outputs": [
    {
     "data": {
      "text/plain": [
       "10000"
      ]
     },
     "execution_count": 5,
     "metadata": {},
     "output_type": "execute_result"
    }
   ],
   "source": [
    "# Length of the dataset\n",
    "len(df)"
   ]
  },
  {
   "cell_type": "code",
   "execution_count": 6,
   "metadata": {},
   "outputs": [
    {
     "data": {
      "text/plain": [
       "0.1231"
      ]
     },
     "execution_count": 6,
     "metadata": {},
     "output_type": "execute_result"
    }
   ],
   "source": [
    "# Proportion of missing price values\n",
    "df.isna().sum()['price'] / len(df)"
   ]
  },
  {
   "cell_type": "markdown",
   "metadata": {},
   "source": [
    "# Feature engineering and set creation"
   ]
  },
  {
   "cell_type": "code",
   "execution_count": 7,
   "metadata": {},
   "outputs": [],
   "source": [
    "import datetime as dt\n",
    "import time"
   ]
  },
  {
   "cell_type": "code",
   "execution_count": 8,
   "metadata": {},
   "outputs": [],
   "source": [
    "# Convert date strings\n",
    "df['insert_date'] = pd.to_datetime(df['insert_date'],\n",
    "                                        infer_datetime_format=True)\n",
    "df['start_date'] = pd.to_datetime(df['start_date'],\n",
    "                                        infer_datetime_format=True)\n",
    "df['end_date'] = pd.to_datetime(df['end_date'],\n",
    "                                        infer_datetime_format=True)"
   ]
  },
  {
   "cell_type": "code",
   "execution_count": 9,
   "metadata": {},
   "outputs": [],
   "source": [
    "# Time between end and start\n",
    "df['traveltime'] = df['end_date'] - df['start_date']"
   ]
  },
  {
   "cell_type": "code",
   "execution_count": 10,
   "metadata": {},
   "outputs": [],
   "source": [
    "# traveltime in minutes\n",
    "temp1 = df['traveltime'].apply(lambda x: str(x))\n",
    "timestring = temp1.replace(to_replace=r'0 days ', value='', regex=True)"
   ]
  },
  {
   "cell_type": "code",
   "execution_count": 11,
   "metadata": {},
   "outputs": [
    {
     "data": {
      "text/plain": [
       "0        9000\n",
       "1       26820\n",
       "2        8460\n",
       "3        6120\n",
       "4        9900\n",
       "5        9000\n",
       "6        8820\n",
       "7       24180\n",
       "8       10500\n",
       "9       22920\n",
       "10       9480\n",
       "11      10200\n",
       "12       9600\n",
       "13       9000\n",
       "14      10080\n",
       "15       9120\n",
       "16      13980\n",
       "17       9000\n",
       "18       9000\n",
       "19      15360\n",
       "20      15000\n",
       "21       9000\n",
       "22      11400\n",
       "23       6420\n",
       "24      10320\n",
       "25       9120\n",
       "26       8460\n",
       "27       6540\n",
       "28      18000\n",
       "29       9360\n",
       "        ...  \n",
       "9970     9600\n",
       "9971     9480\n",
       "9972     9120\n",
       "9973     8460\n",
       "9974     9120\n",
       "9975     9000\n",
       "9976    11400\n",
       "9977     9960\n",
       "9978    10320\n",
       "9979    11400\n",
       "9980    33720\n",
       "9981    26040\n",
       "9982     6000\n",
       "9983    32640\n",
       "9984     8700\n",
       "9985     9120\n",
       "9986     9000\n",
       "9987     9000\n",
       "9988     6240\n",
       "9989     8700\n",
       "9990     9480\n",
       "9991     6000\n",
       "9992     9000\n",
       "9993     9720\n",
       "9994     9360\n",
       "9995     9000\n",
       "9996     6000\n",
       "9997    25140\n",
       "9998     9000\n",
       "9999     6000\n",
       "Name: traveltime_seconds, Length: 10000, dtype: int64"
      ]
     },
     "execution_count": 11,
     "metadata": {},
     "output_type": "execute_result"
    }
   ],
   "source": [
    "# Convert timestring to seconds\n",
    "def get_sec(time_str):\n",
    "    h, m, s = time_str.split(':')\n",
    "    return int(h) * 3600 + int(m) * 60 + int(s)\n",
    "\n",
    "df['traveltime_seconds'] = timestring.apply(lambda x: get_sec(x))\n",
    "df['traveltime_seconds']"
   ]
  },
  {
   "cell_type": "code",
   "execution_count": 12,
   "metadata": {},
   "outputs": [],
   "source": [
    "# Weekday variable - start date and end date weekdays\n",
    "df['insert_day'] = df['insert_date'].dt.day_name()\n",
    "df['start_day'] = df['start_date'].dt.day_name()\n",
    "df['end_day'] = df['end_date'].dt.day_name()"
   ]
  },
  {
   "cell_type": "code",
   "execution_count": 13,
   "metadata": {},
   "outputs": [],
   "source": [
    "# Month variable\n",
    "df['insert_month'] = df['insert_date'].dt.month_name()\n",
    "df['start_month'] = df['start_date'].dt.month_name()\n",
    "df['end_month'] = df['end_date'].dt.month_name()"
   ]
  },
  {
   "cell_type": "code",
   "execution_count": 14,
   "metadata": {},
   "outputs": [],
   "source": [
    "# drop dates\n",
    "df = df.drop(['insert_date', 'start_date', 'end_date'], axis=1)"
   ]
  },
  {
   "cell_type": "code",
   "execution_count": 15,
   "metadata": {},
   "outputs": [],
   "source": [
    "# Missing values will make our prediction set\n",
    "df_work = df[df.price.notna()]\n",
    "df_goal = df[df.price.isna()]"
   ]
  },
  {
   "cell_type": "code",
   "execution_count": 16,
   "metadata": {},
   "outputs": [
    {
     "data": {
      "text/plain": [
       "8769"
      ]
     },
     "execution_count": 16,
     "metadata": {},
     "output_type": "execute_result"
    }
   ],
   "source": [
    "len(df_work)"
   ]
  },
  {
   "cell_type": "code",
   "execution_count": 17,
   "metadata": {},
   "outputs": [
    {
     "data": {
      "text/plain": [
       "1231"
      ]
     },
     "execution_count": 17,
     "metadata": {},
     "output_type": "execute_result"
    }
   ],
   "source": [
    "len(df_goal)"
   ]
  },
  {
   "cell_type": "code",
   "execution_count": 18,
   "metadata": {},
   "outputs": [
    {
     "data": {
      "text/plain": [
       "True"
      ]
     },
     "execution_count": 18,
     "metadata": {},
     "output_type": "execute_result"
    }
   ],
   "source": [
    "# Check if it worked correctly\n",
    "(len(df) == len(df_goal) + len(df_work))"
   ]
  },
  {
   "cell_type": "code",
   "execution_count": 19,
   "metadata": {},
   "outputs": [
    {
     "data": {
      "text/plain": [
       "True"
      ]
     },
     "execution_count": 19,
     "metadata": {},
     "output_type": "execute_result"
    }
   ],
   "source": [
    "# Another check\n",
    "(df_work.price.notna().sum() == len(df_work)) and (df_goal.price.isna().sum() == len(df_goal))"
   ]
  },
  {
   "cell_type": "code",
   "execution_count": 20,
   "metadata": {},
   "outputs": [
    {
     "data": {
      "text/plain": [
       "array(['Turista', 'Preferente', 'Turista Plus', 'Turista con enlace', nan,\n",
       "       'Cama G. Clase', 'Cama Turista'], dtype=object)"
      ]
     },
     "execution_count": 20,
     "metadata": {},
     "output_type": "execute_result"
    }
   ],
   "source": [
    "# Which train classes are there?\n",
    "df.train_class.unique()"
   ]
  },
  {
   "cell_type": "markdown",
   "metadata": {},
   "source": [
    "# Visual Analysis"
   ]
  },
  {
   "cell_type": "code",
   "execution_count": 21,
   "metadata": {},
   "outputs": [],
   "source": [
    "import matplotlib.pyplot as plt\n",
    "import seaborn as sns"
   ]
  },
  {
   "cell_type": "code",
   "execution_count": 22,
   "metadata": {},
   "outputs": [],
   "source": [
    "# set plot size for jupyter notebook\n",
    "plt.rcParams['figure.figsize'] = [10, 5]"
   ]
  },
  {
   "cell_type": "code",
   "execution_count": 23,
   "metadata": {},
   "outputs": [
    {
     "data": {
      "image/png": "[encoded data removed]",
      "text/plain": [
       "<Figure size 720x360 with 1 Axes>"
      ]
     },
     "metadata": {
      "needs_background": "light"
     },
     "output_type": "display_data"
    }
   ],
   "source": [
    "# Price and class\n",
    "pc = sns.boxplot(x=\"train_class\", y=\"price\", data=df_work)"
   ]
  },
  {
   "cell_type": "code",
   "execution_count": 24,
   "metadata": {},
   "outputs": [
    {
     "data": {
      "image/png": "[encoded data removed]",
      "text/plain": [
       "<Figure size 720x360 with 1 Axes>"
      ]
     },
     "metadata": {
      "needs_background": "light"
     },
     "output_type": "display_data"
    }
   ],
   "source": [
    "# bar plot on train class count\n",
    "tcc = sns.countplot(data=df_work, x=\"train_class\")"
   ]
  },
  {
   "cell_type": "code",
   "execution_count": 25,
   "metadata": {},
   "outputs": [
    {
     "data": {
      "image/png": "[encoded data removed]",
      "text/plain": [
       "<Figure size 720x360 with 1 Axes>"
      ]
     },
     "metadata": {
      "needs_background": "light"
     },
     "output_type": "display_data"
    }
   ],
   "source": [
    "# Travel prices per month\n",
    "tpm = sns.boxplot(x=\"start_month\", y=\"price\", data=df_work)"
   ]
  },
  {
   "cell_type": "code",
   "execution_count": 26,
   "metadata": {
    "scrolled": true
   },
   "outputs": [
    {
     "data": {
      "image/png": "[encoded data removed]",
      "text/plain": [
       "<Figure size 720x360 with 1 Axes>"
      ]
     },
     "metadata": {
      "needs_background": "light"
     },
     "output_type": "display_data"
    }
   ],
   "source": [
    "# Travel prices per day\n",
    "tpd = sns.boxplot(x=\"start_day\", y=\"price\", data=df_work)"
   ]
  },
  {
   "cell_type": "code",
   "execution_count": 27,
   "metadata": {},
   "outputs": [
    {
     "data": {
      "image/png": "[encoded data removed]",
      "text/plain": [
       "<Figure size 720x360 with 1 Axes>"
      ]
     },
     "metadata": {
      "needs_background": "light"
     },
     "output_type": "display_data"
    }
   ],
   "source": [
    "# price by travel time\n",
    "ptt = sns.scatterplot(x=\"traveltime_seconds\", y=\"price\", data=df_work)"
   ]
  },
  {
   "cell_type": "markdown",
   "metadata": {},
   "source": [
    "# One-Hot-Encoding"
   ]
  },
  {
   "cell_type": "code",
   "execution_count": 28,
   "metadata": {},
   "outputs": [],
   "source": [
    "from numpy import array\n",
    "from numpy import argmax\n",
    "from sklearn.preprocessing import LabelEncoder\n",
    "from sklearn.preprocessing import OneHotEncoder"
   ]
  },
  {
   "cell_type": "code",
   "execution_count": 29,
   "metadata": {},
   "outputs": [],
   "source": [
    "# Wich values need to be OH-encoded?\n",
    "    # origin\n",
    "    # destination\n",
    "    # train_type\n",
    "    # train_class\n",
    "    # fare\n",
    "    # insert_day\n",
    "    # start_day\n",
    "    # end_day\n",
    "    # insert_month\n",
    "    # start_month\n",
    "    # end_month"
   ]
  },
  {
   "cell_type": "code",
   "execution_count": 30,
   "metadata": {},
   "outputs": [],
   "source": [
    "# state encoder\n",
    "oh_encoder = OneHotEncoder(sparse=False)"
   ]
  },
  {
   "cell_type": "code",
   "execution_count": 31,
   "metadata": {},
   "outputs": [
    {
     "data": {
      "text/plain": [
       "Unnamed: 0                      int64\n",
       "V1                              int64\n",
       "origin                         object\n",
       "destination                    object\n",
       "train_type                     object\n",
       "price                         float64\n",
       "train_class                    object\n",
       "fare                           object\n",
       "traveltime            timedelta64[ns]\n",
       "traveltime_seconds              int64\n",
       "insert_day                     object\n",
       "start_day                      object\n",
       "end_day                        object\n",
       "insert_month                   object\n",
       "start_month                    object\n",
       "end_month                      object\n",
       "dtype: object"
      ]
     },
     "execution_count": 31,
     "metadata": {},
     "output_type": "execute_result"
    }
   ],
   "source": [
    "# checking types\n",
    "df_work.dtypes"
   ]
  },
  {
   "cell_type": "code",
   "execution_count": 32,
   "metadata": {},
   "outputs": [
    {
     "name": "stderr",
     "output_type": "stream",
     "text": [
      "C:\\Users\\cholz\\Anaconda3\\lib\\site-packages\\ipykernel_launcher.py:9: SettingWithCopyWarning: \n",
      "A value is trying to be set on a copy of a slice from a DataFrame.\n",
      "Try using .loc[row_indexer,col_indexer] = value instead\n",
      "\n",
      "See the caveats in the documentation: http://pandas.pydata.org/pandas-docs/stable/indexing.html#indexing-view-versus-copy\n",
      "  if __name__ == '__main__':\n",
      "C:\\Users\\cholz\\Anaconda3\\lib\\site-packages\\ipykernel_launcher.py:12: SettingWithCopyWarning: \n",
      "A value is trying to be set on a copy of a slice from a DataFrame.\n",
      "Try using .loc[row_indexer,col_indexer] = value instead\n",
      "\n",
      "See the caveats in the documentation: http://pandas.pydata.org/pandas-docs/stable/indexing.html#indexing-view-versus-copy\n",
      "  if sys.path[0] == '':\n"
     ]
    }
   ],
   "source": [
    "# changing column types for df_work and df_goal\n",
    "\n",
    "\n",
    "obj_to_cat = ['origin', 'destination', 'train_type', 'train_class', 'fare',\n",
    "              'insert_day', 'start_day', 'end_day', 'insert_month',\n",
    "              'start_month', 'end_month']\n",
    "\n",
    "for col in obj_to_cat:\n",
    "    df_work[col] = df_work[col].astype('category')\n",
    "\n",
    "for col in obj_to_cat:\n",
    "    df_goal[col] = df_goal[col].astype('category')"
   ]
  },
  {
   "cell_type": "code",
   "execution_count": 33,
   "metadata": {},
   "outputs": [],
   "source": [
    "# dropping traveltime\n",
    "df_work = df_work.drop(['traveltime'], axis=1)\n",
    "df_goal = df_goal.drop(['traveltime'], axis=1)"
   ]
  },
  {
   "cell_type": "code",
   "execution_count": 34,
   "metadata": {},
   "outputs": [],
   "source": [
    "# oh-encoding\n",
    "df_work_oh = pd.get_dummies(df_work)\n",
    "df_goal_oh = pd.get_dummies(df_goal)"
   ]
  },
  {
   "cell_type": "markdown",
   "metadata": {},
   "source": [
    "# Splits"
   ]
  },
  {
   "cell_type": "code",
   "execution_count": 35,
   "metadata": {},
   "outputs": [],
   "source": [
    "from sklearn.model_selection import train_test_split"
   ]
  },
  {
   "cell_type": "code",
   "execution_count": 36,
   "metadata": {},
   "outputs": [],
   "source": [
    "# Dividing training set into X and y\n",
    "X = df_work_oh.drop('price', axis=1)\n",
    "y = df_work_oh.price"
   ]
  },
  {
   "cell_type": "code",
   "execution_count": 37,
   "metadata": {},
   "outputs": [],
   "source": [
    "# Train-Test-Split\n",
    "X_train, X_test, y_train, y_test = train_test_split(X, y, test_size=0.2, random_state=42)"
   ]
  },
  {
   "cell_type": "markdown",
   "metadata": {},
   "source": [
    "# Linear Regression"
   ]
  },
  {
   "cell_type": "code",
   "execution_count": 38,
   "metadata": {},
   "outputs": [],
   "source": [
    "# import\n",
    "from sklearn.linear_model import LinearRegression\n",
    "from sklearn.metrics import mean_squared_error, r2_score"
   ]
  },
  {
   "cell_type": "code",
   "execution_count": 39,
   "metadata": {},
   "outputs": [],
   "source": [
    "# base model\n",
    "linreg = LinearRegression()"
   ]
  },
  {
   "cell_type": "code",
   "execution_count": 40,
   "metadata": {},
   "outputs": [],
   "source": [
    "# fitting\n",
    "# linearmodel = linreg.fit(X_train, y_train)\n",
    "\n",
    "# Load the model instead of fitting it each time\n",
    "linearmodel = pickle.load(open('linearmodel.sav', 'rb'))"
   ]
  },
  {
   "cell_type": "code",
   "execution_count": 41,
   "metadata": {},
   "outputs": [
    {
     "name": "stdout",
     "output_type": "stream",
     "text": [
      "71.21760736113471\n",
      "[-1.93717745e-05 -1.04827436e-07 -7.74585015e-04  2.69655536e+01\n",
      " -3.65301895e-01 -1.01961701e+01 -2.87156512e+00 -1.35325165e+01\n",
      "  2.83226986e+01  3.65301895e-01 -1.34713890e+01 -2.04405229e+00\n",
      " -1.31725592e+01  4.86393111e-01  2.82550034e+00  8.31156735e+00\n",
      "  3.47079587e+00  6.90562787e+00  7.92067507e+00 -3.57437155e+00\n",
      " -5.64372764e-01 -5.54704523e+00  3.80323242e+00 -5.21675866e+00\n",
      " -6.85618110e+00 -1.35749245e+01  6.61966484e+00 -5.00980310e+00\n",
      " -2.70450329e-12 -1.45661261e-13  1.36683613e+01 -9.08373713e+00\n",
      " -5.79922596e-01 -4.00470159e+00 -6.95525963e+00  1.84013297e+01\n",
      " -1.55875313e-12 -1.08257101e+01 -6.20359990e-01  3.24594561e-02\n",
      "  3.10513243e-01 -1.23377102e-01 -3.23552939e-01 -1.58439736e-01\n",
      " -9.73848303e-02  3.59781908e-01 -2.88376476e+00  4.05518397e-01\n",
      " -4.15618868e+00  8.89733911e+00 -1.60151220e+00  3.47525047e+00\n",
      " -4.13664234e+00  4.96442352e+00 -1.05981404e+00  1.84685194e+00\n",
      " -6.32157552e+00  1.67473546e+00 -5.14701510e+00  4.04239374e+00\n",
      " -5.51533664e-01  5.51533664e-01 -8.15860159e+00 -7.57445994e-01\n",
      " -8.15774495e-01  9.73182208e+00  1.10892454e+01 -7.57445994e-01\n",
      " -8.15774495e-01 -9.51602488e+00]\n"
     ]
    }
   ],
   "source": [
    "# print results\n",
    "print(linearmodel.intercept_)\n",
    "print(linearmodel.coef_)"
   ]
  },
  {
   "cell_type": "code",
   "execution_count": 42,
   "metadata": {},
   "outputs": [],
   "source": [
    "# imports for p-values\n",
    "import statsmodels.api as sm"
   ]
  },
  {
   "cell_type": "code",
   "execution_count": 43,
   "metadata": {},
   "outputs": [],
   "source": [
    "# calculate p-values\n",
    "mod = sm.OLS(y_train, X_train)\n",
    "fii = mod.fit()\n",
    "p_values = fii.summary2().tables[1]['P>|t|']"
   ]
  },
  {
   "cell_type": "code",
   "execution_count": 44,
   "metadata": {},
   "outputs": [
    {
     "data": {
      "text/plain": [
       "Unnamed: 0                   False\n",
       "V1                           False\n",
       "traveltime_seconds            True\n",
       "origin_BARCELONA              True\n",
       "origin_MADRID                 True\n",
       "origin_PONFERRADA             True\n",
       "origin_SEVILLA               False\n",
       "origin_VALENCIA               True\n",
       "destination_BARCELONA         True\n",
       "destination_MADRID            True\n",
       "destination_PONFERRADA        True\n",
       "destination_SEVILLA           True\n",
       "destination_VALENCIA          True\n",
       "train_type_ALVIA              True\n",
       "train_type_AV City            True\n",
       "train_type_AVE                True\n",
       "train_type_AVE-LD             True\n",
       "train_type_AVE-MD             True\n",
       "train_type_AVE-TGV            True\n",
       "train_type_INTERCITY         False\n",
       "train_type_LD                False\n",
       "train_type_LD-MD              True\n",
       "train_type_MD                False\n",
       "train_type_MD-AVE            False\n",
       "train_type_MD-LD              True\n",
       "train_type_R. EXPRES          True\n",
       "train_type_REGIONAL           True\n",
       "train_type_TRENHOTEL         False\n",
       "train_class_Cama G. Clase    False\n",
       "train_class_Cama Turista     False\n",
       "                             ...  \n",
       "insert_day_Monday             True\n",
       "insert_day_Saturday           True\n",
       "insert_day_Sunday             True\n",
       "insert_day_Thursday           True\n",
       "insert_day_Tuesday            True\n",
       "insert_day_Wednesday          True\n",
       "start_day_Friday             False\n",
       "start_day_Monday              True\n",
       "start_day_Saturday           False\n",
       "start_day_Sunday              True\n",
       "start_day_Thursday           False\n",
       "start_day_Tuesday             True\n",
       "start_day_Wednesday          False\n",
       "end_day_Friday                True\n",
       "end_day_Monday               False\n",
       "end_day_Saturday              True\n",
       "end_day_Sunday               False\n",
       "end_day_Thursday              True\n",
       "end_day_Tuesday              False\n",
       "end_day_Wednesday             True\n",
       "insert_month_April            True\n",
       "insert_month_May              True\n",
       "start_month_April            False\n",
       "start_month_July              True\n",
       "start_month_June              True\n",
       "start_month_May               True\n",
       "end_month_April               True\n",
       "end_month_July                True\n",
       "end_month_June                True\n",
       "end_month_May                False\n",
       "Name: P>|t|, Length: 70, dtype: bool"
      ]
     },
     "execution_count": 44,
     "metadata": {},
     "output_type": "execute_result"
    }
   ],
   "source": [
    "p_values <= 0.05"
   ]
  },
  {
   "cell_type": "code",
   "execution_count": 45,
   "metadata": {},
   "outputs": [],
   "source": [
    "# Make a test prediction\n",
    "predlin = linearmodel.predict(X_test)"
   ]
  },
  {
   "cell_type": "code",
   "execution_count": 46,
   "metadata": {},
   "outputs": [
    {
     "name": "stdout",
     "output_type": "stream",
     "text": [
      "Mean squared error: 129.19\n"
     ]
    }
   ],
   "source": [
    "# MSE\n",
    "print(\"Mean squared error: %.2f\"\n",
    "      % mean_squared_error(predlin, y_test))"
   ]
  },
  {
   "cell_type": "code",
   "execution_count": 47,
   "metadata": {},
   "outputs": [
    {
     "name": "stdout",
     "output_type": "stream",
     "text": [
      "RMSE: 11.37\n"
     ]
    }
   ],
   "source": [
    "# RMSE\n",
    "print(\"RMSE: %.2f\"\n",
    "      % np.sqrt(mean_squared_error(predlin, y_test)))"
   ]
  },
  {
   "cell_type": "code",
   "execution_count": 48,
   "metadata": {},
   "outputs": [
    {
     "name": "stdout",
     "output_type": "stream",
     "text": [
      "R_squared: 0.77\n"
     ]
    }
   ],
   "source": [
    "# RSQUARED\n",
    "print('R_squared: %.2f' % r2_score(predlin, y_test))"
   ]
  },
  {
   "cell_type": "code",
   "execution_count": 49,
   "metadata": {},
   "outputs": [],
   "source": [
    "# Calculate mean absolute percentage error (MAPE)\n",
    "lmerrors = abs(predlin - y_test)\n",
    "lmmape = 100 * (lmerrors / y_test)"
   ]
  },
  {
   "cell_type": "code",
   "execution_count": 50,
   "metadata": {},
   "outputs": [
    {
     "name": "stdout",
     "output_type": "stream",
     "text": [
      "Accuracy: 86.31 %.\n"
     ]
    }
   ],
   "source": [
    "# Calculate and display accuracy\n",
    "lmaccuracy = 100 - np.mean(lmmape)\n",
    "print('Accuracy:', round(lmaccuracy, 2), '%.')"
   ]
  },
  {
   "cell_type": "code",
   "execution_count": 51,
   "metadata": {},
   "outputs": [],
   "source": [
    "# save model to disk\n",
    "filename = 'linearmodel.sav'\n",
    "pickle.dump(linearmodel, open(filename, 'wb'))"
   ]
  },
  {
   "cell_type": "markdown",
   "metadata": {},
   "source": [
    "# Random Forest"
   ]
  },
  {
   "cell_type": "code",
   "execution_count": 52,
   "metadata": {},
   "outputs": [],
   "source": [
    "from sklearn.ensemble import RandomForestRegressor"
   ]
  },
  {
   "cell_type": "code",
   "execution_count": 53,
   "metadata": {},
   "outputs": [],
   "source": [
    "# Instantiate model with 200 decision trees\n",
    "rf = RandomForestRegressor(n_estimators = 200, random_state = 123)"
   ]
  },
  {
   "cell_type": "code",
   "execution_count": 54,
   "metadata": {},
   "outputs": [],
   "source": [
    "# Train the model on training data\n",
    "# rfmodel = rf.fit(X_train, y_train)\n",
    "\n",
    "# Load the model instead of fitting it each time\n",
    "rfmodel = pickle.load(open('rfmodel.sav', 'rb'))"
   ]
  },
  {
   "cell_type": "code",
   "execution_count": 55,
   "metadata": {},
   "outputs": [],
   "source": [
    "# predict training data\n",
    "predrf = rfmodel.predict(X_test)"
   ]
  },
  {
   "cell_type": "code",
   "execution_count": 56,
   "metadata": {},
   "outputs": [
    {
     "name": "stdout",
     "output_type": "stream",
     "text": [
      "Mean squared error: 85.07\n"
     ]
    }
   ],
   "source": [
    "# MSE\n",
    "print(\"Mean squared error: %.2f\"\n",
    "      % mean_squared_error(predrf, y_test))"
   ]
  },
  {
   "cell_type": "code",
   "execution_count": 57,
   "metadata": {},
   "outputs": [
    {
     "name": "stdout",
     "output_type": "stream",
     "text": [
      "RMSE: 9.22\n"
     ]
    }
   ],
   "source": [
    "# RMSE\n",
    "print(\"RMSE: %.2f\"\n",
    "      % np.sqrt(mean_squared_error(predrf, y_test)))"
   ]
  },
  {
   "cell_type": "code",
   "execution_count": 58,
   "metadata": {},
   "outputs": [
    {
     "name": "stdout",
     "output_type": "stream",
     "text": [
      "R_squared: 0.87\n"
     ]
    }
   ],
   "source": [
    "# RSQUARED\n",
    "print('R_squared: %.2f' % r2_score(predrf, y_test))"
   ]
  },
  {
   "cell_type": "code",
   "execution_count": 59,
   "metadata": {},
   "outputs": [],
   "source": [
    "# Calculate mean absolute percentage error (MAPE)\n",
    "rferrors = abs(predrf - y_test)\n",
    "rfmape = 100 * (rferrors / y_test)"
   ]
  },
  {
   "cell_type": "code",
   "execution_count": 60,
   "metadata": {},
   "outputs": [
    {
     "name": "stdout",
     "output_type": "stream",
     "text": [
      "Accuracy: 90.52 %.\n"
     ]
    }
   ],
   "source": [
    "# Calculate and display accuracy\n",
    "rfaccuracy = 100 - np.mean(rfmape)\n",
    "print('Accuracy:', round(rfaccuracy, 2), '%.')"
   ]
  },
  {
   "cell_type": "code",
   "execution_count": 61,
   "metadata": {},
   "outputs": [],
   "source": [
    "from sklearn.feature_selection import SelectFromModel"
   ]
  },
  {
   "cell_type": "code",
   "execution_count": 62,
   "metadata": {},
   "outputs": [],
   "source": [
    "# Make column name list\n",
    "feature_names = list(X_train.columns)"
   ]
  },
  {
   "cell_type": "code",
   "execution_count": 63,
   "metadata": {},
   "outputs": [
    {
     "name": "stdout",
     "output_type": "stream",
     "text": [
      "('Unnamed: 0', 0.028788079151918673)\n",
      "('V1', 0.026837246915306312)\n",
      "('traveltime_seconds', 0.48070592043546073)\n",
      "('origin_BARCELONA', 0.0442343394055756)\n",
      "('origin_MADRID', 0.0012797064354426915)\n",
      "('origin_PONFERRADA', 2.1097446496883508e-05)\n",
      "('origin_SEVILLA', 0.04123149021886489)\n",
      "('origin_VALENCIA', 0.005368224117470505)\n",
      "('destination_BARCELONA', 0.039548872547334274)\n",
      "('destination_MADRID', 0.0013826133553846958)\n",
      "('destination_PONFERRADA', 0.00022260077498834462)\n",
      "('destination_SEVILLA', 0.04685878395676649)\n",
      "('destination_VALENCIA', 0.0005865077151811979)\n",
      "('train_type_ALVIA', 0.010989243141256003)\n",
      "('train_type_AV City', 0.0005244390854982758)\n",
      "('train_type_AVE', 0.016431468511532682)\n",
      "('train_type_AVE-LD', 5.04444043649971e-05)\n",
      "('train_type_AVE-MD', 0.001807033991459208)\n",
      "('train_type_AVE-TGV', 0.0020228230794691274)\n",
      "('train_type_INTERCITY', 0.0022022988024666596)\n",
      "('train_type_LD', 2.054557481918553e-05)\n",
      "('train_type_LD-MD', 0.00023419615800758322)\n",
      "('train_type_MD', 2.6240062696361262e-05)\n",
      "('train_type_MD-AVE', 3.140888798161606e-05)\n",
      "('train_type_MD-LD', 0.0003918852543511944)\n",
      "('train_type_R. EXPRES', 0.00024952965874436365)\n",
      "('train_type_REGIONAL', 0.0021133131504278663)\n",
      "('train_type_TRENHOTEL', 0.00018147908647271662)\n",
      "('train_class_Cama G. Clase', 0.0)\n",
      "('train_class_Cama Turista', 0.0)\n",
      "('train_class_Preferente', 0.03622840393242531)\n",
      "('train_class_Turista', 0.04861132784670572)\n",
      "('train_class_Turista Plus', 0.001717731957705899)\n",
      "('train_class_Turista con enlace', 0.001041490359377717)\n",
      "('fare_Adulto ida', 3.607396224949958e-05)\n",
      "('fare_Flexible', 0.05322281196873511)\n",
      "('fare_Individual-Flexible', 0.0)\n",
      "('fare_Promo', 0.05241632287635343)\n",
      "('fare_Promo +', 8.724724339616241e-05)\n",
      "('insert_day_Friday', 0.0015308922017169752)\n",
      "('insert_day_Monday', 0.0022549482355942465)\n",
      "('insert_day_Saturday', 0.002111453690474643)\n",
      "('insert_day_Sunday', 0.002124554096800803)\n",
      "('insert_day_Thursday', 0.0014745892571354036)\n",
      "('insert_day_Tuesday', 0.0023669031997792453)\n",
      "('insert_day_Wednesday', 0.0018640728535694506)\n",
      "('start_day_Friday', 0.0014682330662364313)\n",
      "('start_day_Monday', 0.001822970574372259)\n",
      "('start_day_Saturday', 0.00245140672902979)\n",
      "('start_day_Sunday', 0.0030679589428076882)\n",
      "('start_day_Thursday', 0.0019555632151687452)\n",
      "('start_day_Tuesday', 0.0016090538183451376)\n",
      "('start_day_Wednesday', 0.001284230920899783)\n",
      "('end_day_Friday', 0.0017577970622104568)\n",
      "('end_day_Monday', 0.0016923315761106614)\n",
      "('end_day_Saturday', 0.001868767677477955)\n",
      "('end_day_Sunday', 0.0027236967432642772)\n",
      "('end_day_Thursday', 0.0018058279091424164)\n",
      "('end_day_Tuesday', 0.001683591798632996)\n",
      "('end_day_Wednesday', 0.001244150501281051)\n",
      "('insert_month_April', 0.0010395774982115216)\n",
      "('insert_month_May', 0.0010015757226644673)\n",
      "('start_month_April', 0.002257845130232536)\n",
      "('start_month_July', 0.0005125785907688077)\n",
      "('start_month_June', 0.001247031608772208)\n",
      "('start_month_May', 0.0010801947578838531)\n",
      "('end_month_April', 0.0022495113221037396)\n",
      "('end_month_July', 0.0004427837478909104)\n",
      "('end_month_June', 0.0011899130594781296)\n",
      "('end_month_May', 0.0011127530192556448)\n"
     ]
    }
   ],
   "source": [
    "# Print the name and gini importance of each feature\n",
    "for feature in zip(feature_names, rfmodel.feature_importances_):\n",
    "    print(feature)"
   ]
  },
  {
   "cell_type": "code",
   "execution_count": 64,
   "metadata": {},
   "outputs": [],
   "source": [
    "# Create a selector object that will use the random forest classifier to identify\n",
    "# features that have an importance of more than 0.01\n",
    "sfm = SelectFromModel(rfmodel, threshold=0.01)"
   ]
  },
  {
   "cell_type": "code",
   "execution_count": 65,
   "metadata": {},
   "outputs": [
    {
     "data": {
      "text/plain": [
       "SelectFromModel(estimator=RandomForestRegressor(bootstrap=True, criterion='mse', max_depth=None,\n",
       "           max_features='auto', max_leaf_nodes=None,\n",
       "           min_impurity_decrease=0.0, min_impurity_split=None,\n",
       "           min_samples_leaf=1, min_samples_split=2,\n",
       "           min_weight_fraction_leaf=0.0, n_estimators=200, n_jobs=None,\n",
       "           oob_score=False, random_state=123, verbose=0, warm_start=False),\n",
       "        max_features=None, norm_order=1, prefit=False, threshold=0.01)"
      ]
     },
     "execution_count": 65,
     "metadata": {},
     "output_type": "execute_result"
    }
   ],
   "source": [
    "# Train the selector\n",
    "sfm.fit(X_train, y_train)"
   ]
  },
  {
   "cell_type": "code",
   "execution_count": 66,
   "metadata": {},
   "outputs": [
    {
     "name": "stdout",
     "output_type": "stream",
     "text": [
      "Unnamed: 0\n",
      "V1\n",
      "traveltime_seconds\n",
      "origin_BARCELONA\n",
      "origin_SEVILLA\n",
      "destination_BARCELONA\n",
      "destination_SEVILLA\n",
      "train_type_ALVIA\n",
      "train_type_AVE\n",
      "train_class_Preferente\n",
      "train_class_Turista\n",
      "fare_Flexible\n",
      "fare_Promo\n"
     ]
    }
   ],
   "source": [
    "# Print the names of the most important features\n",
    "for feature_list_index in sfm.get_support(indices=True):\n",
    "    print(feature_names[feature_list_index])"
   ]
  },
  {
   "cell_type": "code",
   "execution_count": 67,
   "metadata": {},
   "outputs": [],
   "source": [
    "# DATA SUBSET WITH ONLY THE IMPORTANT FEATURES\n",
    "\n",
    "# Transform the data to create a new dataset containing only the most important features\n",
    "# Note: We have to apply the transform to both the training X and test X data.\n",
    "X_important_train = sfm.transform(X_train)\n",
    "X_important_test = sfm.transform(X_test)"
   ]
  },
  {
   "cell_type": "code",
   "execution_count": 68,
   "metadata": {},
   "outputs": [],
   "source": [
    "# save model to disk\n",
    "filename = 'rfmodel.sav'\n",
    "pickle.dump(rfmodel, open(filename, 'wb'))"
   ]
  },
  {
   "cell_type": "markdown",
   "metadata": {},
   "source": [
    "# XGBoost"
   ]
  },
  {
   "cell_type": "code",
   "execution_count": 69,
   "metadata": {},
   "outputs": [],
   "source": [
    "import xgboost\n",
    "from sklearn.metrics import explained_variance_score"
   ]
  },
  {
   "cell_type": "code",
   "execution_count": 70,
   "metadata": {},
   "outputs": [
    {
     "name": "stdout",
     "output_type": "stream",
     "text": [
      "[17:26:40] WARNING: C:/Jenkins/workspace/xgboost-win64_release_0.90/src/objective/regression_obj.cu:152: reg:linear is now deprecated in favor of reg:squarederror.\n"
     ]
    }
   ],
   "source": [
    "# State the model\n",
    "xgb = xgboost.XGBRegressor(n_estimators=100, learning_rate=0.08, gamma=0, subsample=0.75,\n",
    "                           colsample_bytree=1, max_depth=7)\n",
    "\n",
    "# Load the model instead of fitting it each time\n",
    "rfmodel = pickle.load(open('xgbmodel.sav', 'rb'))"
   ]
  },
  {
   "cell_type": "code",
   "execution_count": 71,
   "metadata": {
    "scrolled": true
   },
   "outputs": [
    {
     "name": "stdout",
     "output_type": "stream",
     "text": [
      "[17:26:40] WARNING: C:/Jenkins/workspace/xgboost-win64_release_0.90/src/objective/regression_obj.cu:152: reg:linear is now deprecated in favor of reg:squarederror.\n"
     ]
    }
   ],
   "source": [
    "# Train the model\n",
    "# xgbmodel = xgb.fit(X_train, y_train)\n",
    "\n",
    "# Load the model instead of fitting it each time\n",
    "xgbmodel = pickle.load(open('xgbmodel.sav', 'rb'))"
   ]
  },
  {
   "cell_type": "code",
   "execution_count": 72,
   "metadata": {},
   "outputs": [],
   "source": [
    "# Make predictions\n",
    "xgbpred = xgbmodel.predict(X_test)"
   ]
  },
  {
   "cell_type": "code",
   "execution_count": 73,
   "metadata": {},
   "outputs": [
    {
     "name": "stdout",
     "output_type": "stream",
     "text": [
      "0.8640318986854577\n"
     ]
    }
   ],
   "source": [
    "# RSQUARED\n",
    "print(explained_variance_score(xgbpred, y_test))"
   ]
  },
  {
   "cell_type": "code",
   "execution_count": 74,
   "metadata": {},
   "outputs": [
    {
     "name": "stdout",
     "output_type": "stream",
     "text": [
      "Mean squared error: 82.87\n"
     ]
    }
   ],
   "source": [
    "# MSE\n",
    "print(\"Mean squared error: %.2f\"\n",
    "      % mean_squared_error(xgbpred, y_test))"
   ]
  },
  {
   "cell_type": "code",
   "execution_count": 75,
   "metadata": {},
   "outputs": [
    {
     "name": "stdout",
     "output_type": "stream",
     "text": [
      "RMSE: 9.10\n"
     ]
    }
   ],
   "source": [
    "# RMSE\n",
    "print(\"RMSE: %.2f\"\n",
    "      % np.sqrt(mean_squared_error(xgbpred, y_test)))"
   ]
  },
  {
   "cell_type": "code",
   "execution_count": 76,
   "metadata": {},
   "outputs": [
    {
     "name": "stdout",
     "output_type": "stream",
     "text": [
      "R_squared: 0.86\n"
     ]
    }
   ],
   "source": [
    "# RSQUARED\n",
    "print('R_squared: %.2f' % r2_score(xgbpred, y_test))"
   ]
  },
  {
   "cell_type": "code",
   "execution_count": 77,
   "metadata": {},
   "outputs": [],
   "source": [
    "# Calculate mean absolute percentage error (MAPE)\n",
    "xgberrors = abs(xgbpred - y_test)\n",
    "xgbmape = 100 * (xgberrors / y_test)"
   ]
  },
  {
   "cell_type": "code",
   "execution_count": 78,
   "metadata": {},
   "outputs": [
    {
     "name": "stdout",
     "output_type": "stream",
     "text": [
      "Accuracy: 90.04 %.\n"
     ]
    }
   ],
   "source": [
    "# Calculate and display accuracy\n",
    "xgbaccuracy = 100 - np.mean(xgbmape)\n",
    "print('Accuracy:', round(xgbaccuracy, 2), '%.')"
   ]
  },
  {
   "cell_type": "code",
   "execution_count": 79,
   "metadata": {},
   "outputs": [],
   "source": [
    "# save model to disk\n",
    "filename = 'xgbmodel.sav'\n",
    "pickle.dump(xgbmodel, open(filename, 'wb'))"
   ]
  },
  {
   "cell_type": "markdown",
   "metadata": {},
   "source": [
    "# XGBoost Grid Search on the test/train"
   ]
  },
  {
   "cell_type": "code",
   "execution_count": 80,
   "metadata": {},
   "outputs": [],
   "source": [
    "# READ THIS\n",
    "    # https://www.datacamp.com/community/tutorials/xgboost-in-python"
   ]
  },
  {
   "cell_type": "code",
   "execution_count": 81,
   "metadata": {},
   "outputs": [],
   "source": [
    "from sklearn.model_selection import GridSearchCV\n",
    "from sklearn.model_selection import cross_val_predict\n",
    "from sklearn.model_selection import KFold\n",
    "from sklearn.model_selection import RandomizedSearchCV\n",
    "import scipy.stats as st"
   ]
  },
  {
   "cell_type": "code",
   "execution_count": 82,
   "metadata": {},
   "outputs": [],
   "source": [
    "# State the model\n",
    "xgbgs = xgboost.XGBRegressor()"
   ]
  },
  {
   "cell_type": "code",
   "execution_count": 83,
   "metadata": {},
   "outputs": [],
   "source": [
    "# Preparing parameter grid\n",
    "one_to_left = st.beta(10, 1)  \n",
    "from_zero_positive = st.expon(0, 100)\n",
    "\n",
    "params = {  \n",
    "    \"n_estimators\": st.randint(3, 200),\n",
    "    \"max_depth\": st.randint(3, 40),\n",
    "    \"learning_rate\": st.uniform(0.05, 0.1),\n",
    "    \"colsample_bytree\": one_to_left,\n",
    "    \"subsample\": one_to_left,\n",
    "    \"gamma\": st.uniform(0, 10),\n",
    "    'reg_alpha': from_zero_positive,\n",
    "    \"min_child_weight\": from_zero_positive,\n",
    "}\n",
    "\n",
    "params2 = {\n",
    "    \"n_estimators\": st.randint(3, 400),\n",
    "    \"max_depth\": st.randint(3, 100),\n",
    "    \"learning_rate\": st.uniform(0.05, 0.3),\n",
    "    \"colsample_bytree\": one_to_left,\n",
    "    \"subsample\": one_to_left,\n",
    "    \"gamma\": st.uniform(0, 0.2),\n",
    "    'reg_alpha': from_zero_positive,\n",
    "    \"min_child_weight\": from_zero_positive,\n",
    "}"
   ]
  },
  {
   "cell_type": "code",
   "execution_count": 84,
   "metadata": {},
   "outputs": [],
   "source": [
    "# Instantiating randomized grid search\n",
    "gs = RandomizedSearchCV(xgbgs, params2, n_jobs=5, cv=5)  "
   ]
  },
  {
   "cell_type": "code",
   "execution_count": 85,
   "metadata": {},
   "outputs": [
    {
     "name": "stderr",
     "output_type": "stream",
     "text": [
      "C:\\Users\\cholz\\Anaconda3\\lib\\site-packages\\xgboost\\core.py:587: FutureWarning: Series.base is deprecated and will be removed in a future version\n",
      "  if getattr(data, 'base', None) is not None and \\\n"
     ]
    },
    {
     "name": "stdout",
     "output_type": "stream",
     "text": [
      "[17:28:07] WARNING: C:/Jenkins/workspace/xgboost-win64_release_0.90/src/objective/regression_obj.cu:152: reg:linear is now deprecated in favor of reg:squarederror.\n"
     ]
    },
    {
     "data": {
      "text/plain": [
       "RandomizedSearchCV(cv=5, error_score='raise-deprecating',\n",
       "          estimator=XGBRegressor(base_score=0.5, booster='gbtree', colsample_bylevel=1,\n",
       "       colsample_bynode=1, colsample_bytree=1, gamma=0,\n",
       "       importance_type='gain', learning_rate=0.1, max_delta_step=0,\n",
       "       max_depth=3, min_child_weight=1, missing=None, n_estimators=100,\n",
       "       n_jobs=1, nthread=None, objective='reg:linear', random_state=0,\n",
       "       reg_alpha=0, reg_lambda=1, scale_pos_weight=1, seed=None,\n",
       "       silent=None, subsample=1, verbosity=1),\n",
       "          fit_params=None, iid='warn', n_iter=10, n_jobs=5,\n",
       "          param_distributions={'n_estimators': <scipy.stats._distn_infrastructure.rv_frozen object at 0x00000242FAC51828>, 'max_depth': <scipy.stats._distn_infrastructure.rv_frozen object at 0x00000242FAC6B9E8>, 'learning_rate': <scipy.stats._distn_infrastructure.rv_frozen object at 0x00000242FACA4278>, 'cols...28>, 'min_child_weight': <scipy.stats._distn_infrastructure.rv_frozen object at 0x00000242FACA2F28>},\n",
       "          pre_dispatch='2*n_jobs', random_state=None, refit=True,\n",
       "          return_train_score='warn', scoring=None, verbose=0)"
      ]
     },
     "execution_count": 85,
     "metadata": {},
     "output_type": "execute_result"
    }
   ],
   "source": [
    "# Fitting the model and the grid\n",
    "gs.fit(X_train, y_train)"
   ]
  },
  {
   "cell_type": "code",
   "execution_count": 86,
   "metadata": {},
   "outputs": [
    {
     "data": {
      "text/plain": [
       "{'colsample_bytree': 0.9989861020170278,\n",
       " 'gamma': 0.1564804455615587,\n",
       " 'learning_rate': 0.05553399865356852,\n",
       " 'max_depth': 80,\n",
       " 'min_child_weight': 15.08850890956071,\n",
       " 'n_estimators': 179,\n",
       " 'reg_alpha': 227.1844053558706,\n",
       " 'subsample': 0.9924901704349209}"
      ]
     },
     "execution_count": 86,
     "metadata": {},
     "output_type": "execute_result"
    }
   ],
   "source": [
    "# Displaying best parameters\n",
    "bestxgb_params = gs.best_params_\n",
    "bestxgb_params"
   ]
  },
  {
   "cell_type": "code",
   "execution_count": 87,
   "metadata": {},
   "outputs": [],
   "source": [
    "# New model\n",
    "xgb_best = xgboost.XGBRegressor(colsample_bytree=0.7986306694454575,\n",
    " gamma=0.008783023184115057,\n",
    " learning_rate=0.1522743685057763,\n",
    " max_depth=46,\n",
    " min_child_weight=61.276714293435155,\n",
    " n_estimators=388,\n",
    " reg_alpha=95.34130218741632,\n",
    " subsample=0.9695758721284863)"
   ]
  },
  {
   "cell_type": "code",
   "execution_count": 95,
   "metadata": {},
   "outputs": [
    {
     "name": "stdout",
     "output_type": "stream",
     "text": [
      "[17:44:56] WARNING: C:/Jenkins/workspace/xgboost-win64_release_0.90/src/objective/regression_obj.cu:152: reg:linear is now deprecated in favor of reg:squarederror.\n"
     ]
    }
   ],
   "source": [
    "# Train the model\n",
    "# xgb2_model = xgb_best.fit(X_train, y_train)"
   ]
  },
  {
   "cell_type": "code",
   "execution_count": 96,
   "metadata": {},
   "outputs": [],
   "source": [
    "# save model to disk\n",
    "filename = 'xgb2_model.sav'\n",
    "pickle.dump(xgb2_model, open(filename, 'wb'))"
   ]
  },
  {
   "cell_type": "code",
   "execution_count": 97,
   "metadata": {},
   "outputs": [
    {
     "name": "stdout",
     "output_type": "stream",
     "text": [
      "[17:45:39] WARNING: C:/Jenkins/workspace/xgboost-win64_release_0.90/src/objective/regression_obj.cu:152: reg:linear is now deprecated in favor of reg:squarederror.\n"
     ]
    }
   ],
   "source": [
    "# Load the model instead of fitting it each time\n",
    "xgb2_model = pickle.load(open('xgb2_model.sav', 'rb'))"
   ]
  },
  {
   "cell_type": "code",
   "execution_count": 99,
   "metadata": {},
   "outputs": [],
   "source": [
    "# Make predictions\n",
    "xgb2pred = xgb2_model.predict(X_test)"
   ]
  },
  {
   "cell_type": "code",
   "execution_count": 100,
   "metadata": {},
   "outputs": [
    {
     "name": "stdout",
     "output_type": "stream",
     "text": [
      "0.8564662445487086\n"
     ]
    }
   ],
   "source": [
    "# RSQUARED\n",
    "print(explained_variance_score(xgb2pred, y_test))"
   ]
  },
  {
   "cell_type": "code",
   "execution_count": 101,
   "metadata": {},
   "outputs": [
    {
     "name": "stdout",
     "output_type": "stream",
     "text": [
      "Mean squared error: 89.22\n"
     ]
    }
   ],
   "source": [
    "# MSE\n",
    "print(\"Mean squared error: %.2f\"\n",
    "      % mean_squared_error(xgb2pred, y_test))"
   ]
  },
  {
   "cell_type": "code",
   "execution_count": 102,
   "metadata": {},
   "outputs": [
    {
     "name": "stdout",
     "output_type": "stream",
     "text": [
      "RMSE: 9.45\n"
     ]
    }
   ],
   "source": [
    "# RMSE\n",
    "print(\"RMSE: %.2f\"\n",
    "      % np.sqrt(mean_squared_error(xgb2pred, y_test)))"
   ]
  },
  {
   "cell_type": "code",
   "execution_count": 103,
   "metadata": {},
   "outputs": [
    {
     "name": "stdout",
     "output_type": "stream",
     "text": [
      "R_squared: 0.86\n"
     ]
    }
   ],
   "source": [
    "# RSQUARED\n",
    "print('R_squared: %.2f' % r2_score(xgb2pred, y_test))"
   ]
  },
  {
   "cell_type": "code",
   "execution_count": 104,
   "metadata": {},
   "outputs": [],
   "source": [
    "# Calculate mean absolute percentage error (MAPE)\n",
    "xgb2errors = abs(xgb2pred - y_test)\n",
    "xgb2mape = 100 * (xgb2errors / y_test)"
   ]
  },
  {
   "cell_type": "code",
   "execution_count": 105,
   "metadata": {},
   "outputs": [
    {
     "name": "stdout",
     "output_type": "stream",
     "text": [
      "Accuracy: 89.32 %.\n"
     ]
    }
   ],
   "source": [
    "# Calculate and display accuracy\n",
    "xgb2accuracy = 100 - np.mean(xgb2mape)\n",
    "print('Accuracy:', round(xgb2accuracy, 2), '%.')"
   ]
  },
  {
   "cell_type": "code",
   "execution_count": 106,
   "metadata": {},
   "outputs": [],
   "source": [
    "# We overfitted the model. Let's try XGBoost with Cross Validation next."
   ]
  },
  {
   "cell_type": "markdown",
   "metadata": {},
   "source": [
    "# XGBoost Cross Validation"
   ]
  },
  {
   "cell_type": "code",
   "execution_count": 108,
   "metadata": {},
   "outputs": [],
   "source": [
    "# documentation here:\n",
    "    # https://scikit-learn.org/stable/modules/cross_validation.html"
   ]
  },
  {
   "cell_type": "code",
   "execution_count": 109,
   "metadata": {},
   "outputs": [],
   "source": [
    "from xgboost.sklearn import XGBRegressor\n",
    "from sklearn.model_selection import cross_val_score\n",
    "from sklearn import metrics"
   ]
  },
  {
   "cell_type": "code",
   "execution_count": 110,
   "metadata": {},
   "outputs": [
    {
     "name": "stderr",
     "output_type": "stream",
     "text": [
      "C:\\Users\\cholz\\Anaconda3\\lib\\site-packages\\xgboost\\core.py:587: FutureWarning: Series.base is deprecated and will be removed in a future version\n",
      "  if getattr(data, 'base', None) is not None and \\\n"
     ]
    },
    {
     "name": "stdout",
     "output_type": "stream",
     "text": [
      "[17:46:19] WARNING: C:/Jenkins/workspace/xgboost-win64_release_0.90/src/objective/regression_obj.cu:152: reg:linear is now deprecated in favor of reg:squarederror.\n"
     ]
    },
    {
     "name": "stderr",
     "output_type": "stream",
     "text": [
      "C:\\Users\\cholz\\Anaconda3\\lib\\site-packages\\xgboost\\core.py:587: FutureWarning: Series.base is deprecated and will be removed in a future version\n",
      "  if getattr(data, 'base', None) is not None and \\\n"
     ]
    },
    {
     "name": "stdout",
     "output_type": "stream",
     "text": [
      "[17:46:24] WARNING: C:/Jenkins/workspace/xgboost-win64_release_0.90/src/objective/regression_obj.cu:152: reg:linear is now deprecated in favor of reg:squarederror.\n"
     ]
    },
    {
     "name": "stderr",
     "output_type": "stream",
     "text": [
      "C:\\Users\\cholz\\Anaconda3\\lib\\site-packages\\xgboost\\core.py:587: FutureWarning: Series.base is deprecated and will be removed in a future version\n",
      "  if getattr(data, 'base', None) is not None and \\\n"
     ]
    },
    {
     "name": "stdout",
     "output_type": "stream",
     "text": [
      "[17:46:30] WARNING: C:/Jenkins/workspace/xgboost-win64_release_0.90/src/objective/regression_obj.cu:152: reg:linear is now deprecated in favor of reg:squarederror.\n"
     ]
    },
    {
     "name": "stderr",
     "output_type": "stream",
     "text": [
      "C:\\Users\\cholz\\Anaconda3\\lib\\site-packages\\xgboost\\core.py:587: FutureWarning: Series.base is deprecated and will be removed in a future version\n",
      "  if getattr(data, 'base', None) is not None and \\\n"
     ]
    },
    {
     "name": "stdout",
     "output_type": "stream",
     "text": [
      "[17:46:35] WARNING: C:/Jenkins/workspace/xgboost-win64_release_0.90/src/objective/regression_obj.cu:152: reg:linear is now deprecated in favor of reg:squarederror.\n"
     ]
    },
    {
     "name": "stderr",
     "output_type": "stream",
     "text": [
      "C:\\Users\\cholz\\Anaconda3\\lib\\site-packages\\xgboost\\core.py:587: FutureWarning: Series.base is deprecated and will be removed in a future version\n",
      "  if getattr(data, 'base', None) is not None and \\\n"
     ]
    },
    {
     "name": "stdout",
     "output_type": "stream",
     "text": [
      "[17:46:40] WARNING: C:/Jenkins/workspace/xgboost-win64_release_0.90/src/objective/regression_obj.cu:152: reg:linear is now deprecated in favor of reg:squarederror.\n"
     ]
    },
    {
     "name": "stderr",
     "output_type": "stream",
     "text": [
      "C:\\Users\\cholz\\Anaconda3\\lib\\site-packages\\xgboost\\core.py:587: FutureWarning: Series.base is deprecated and will be removed in a future version\n",
      "  if getattr(data, 'base', None) is not None and \\\n"
     ]
    },
    {
     "name": "stdout",
     "output_type": "stream",
     "text": [
      "[17:46:45] WARNING: C:/Jenkins/workspace/xgboost-win64_release_0.90/src/objective/regression_obj.cu:152: reg:linear is now deprecated in favor of reg:squarederror.\n"
     ]
    },
    {
     "name": "stderr",
     "output_type": "stream",
     "text": [
      "C:\\Users\\cholz\\Anaconda3\\lib\\site-packages\\xgboost\\core.py:587: FutureWarning: Series.base is deprecated and will be removed in a future version\n",
      "  if getattr(data, 'base', None) is not None and \\\n"
     ]
    },
    {
     "name": "stdout",
     "output_type": "stream",
     "text": [
      "[17:47:09] WARNING: C:/Jenkins/workspace/xgboost-win64_release_0.90/src/objective/regression_obj.cu:152: reg:linear is now deprecated in favor of reg:squarederror.\n"
     ]
    },
    {
     "name": "stderr",
     "output_type": "stream",
     "text": [
      "C:\\Users\\cholz\\Anaconda3\\lib\\site-packages\\xgboost\\core.py:587: FutureWarning: Series.base is deprecated and will be removed in a future version\n",
      "  if getattr(data, 'base', None) is not None and \\\n"
     ]
    },
    {
     "name": "stdout",
     "output_type": "stream",
     "text": [
      "[17:47:33] WARNING: C:/Jenkins/workspace/xgboost-win64_release_0.90/src/objective/regression_obj.cu:152: reg:linear is now deprecated in favor of reg:squarederror.\n"
     ]
    },
    {
     "name": "stderr",
     "output_type": "stream",
     "text": [
      "C:\\Users\\cholz\\Anaconda3\\lib\\site-packages\\xgboost\\core.py:587: FutureWarning: Series.base is deprecated and will be removed in a future version\n",
      "  if getattr(data, 'base', None) is not None and \\\n"
     ]
    },
    {
     "name": "stdout",
     "output_type": "stream",
     "text": [
      "[17:47:56] WARNING: C:/Jenkins/workspace/xgboost-win64_release_0.90/src/objective/regression_obj.cu:152: reg:linear is now deprecated in favor of reg:squarederror.\n"
     ]
    },
    {
     "name": "stderr",
     "output_type": "stream",
     "text": [
      "C:\\Users\\cholz\\Anaconda3\\lib\\site-packages\\xgboost\\core.py:587: FutureWarning: Series.base is deprecated and will be removed in a future version\n",
      "  if getattr(data, 'base', None) is not None and \\\n"
     ]
    },
    {
     "name": "stdout",
     "output_type": "stream",
     "text": [
      "[17:48:20] WARNING: C:/Jenkins/workspace/xgboost-win64_release_0.90/src/objective/regression_obj.cu:152: reg:linear is now deprecated in favor of reg:squarederror.\n"
     ]
    }
   ],
   "source": [
    "# Evaluating base model vs grid model\n",
    "scores_base = cross_val_score(xgbmodel, X_train, y_train, cv=5)\n",
    "scores_grid = cross_val_score(xgb2_model, X_train, y_train, cv=5)"
   ]
  },
  {
   "cell_type": "code",
   "execution_count": 112,
   "metadata": {},
   "outputs": [
    {
     "name": "stdout",
     "output_type": "stream",
     "text": [
      "Accuracy Base Model: 0.89 (+/- 0.01)\n",
      "Accuracy Grid Model: 0.88 (+/- 0.01)\n"
     ]
    }
   ],
   "source": [
    "print(\"Accuracy Base Model: %0.2f (+/- %0.2f)\" % (scores_base.mean(), scores_base.std() * 2))\n",
    "print(\"Accuracy Grid Model: %0.2f (+/- %0.2f)\" % (scores_grid.mean(), scores_grid.std() * 2))"
   ]
  },
  {
   "cell_type": "markdown",
   "metadata": {},
   "source": [
    "# Neural Network"
   ]
  },
  {
   "cell_type": "code",
   "execution_count": 132,
   "metadata": {},
   "outputs": [],
   "source": [
    "import numpy as np\n",
    "import itertools\n",
    "from keras.layers import Dense, Activation\n",
    "from keras.models import Sequential\n",
    "from sklearn.model_selection import train_test_split\n",
    "import matplotlib.pyplot as plt"
   ]
  },
  {
   "cell_type": "code",
   "execution_count": 114,
   "metadata": {},
   "outputs": [
    {
     "data": {
      "text/plain": [
       "14"
      ]
     },
     "execution_count": 114,
     "metadata": {},
     "output_type": "execute_result"
    }
   ],
   "source": [
    "# Usually it's a good practice to apply following formula in order to find out the total number\n",
    "# of hidden layers needed.\n",
    "\n",
    "# Nh = Ns/(α∗ (Ni + No))\n",
    "\n",
    "# where\n",
    "    # Ni = number of input neurons.\n",
    "    # No = number of output neurons.\n",
    "    # Ns = number of samples in training data set.\n",
    "    # α = an arbitrary scaling factor usually 2-10.\n",
    "\n",
    "nh = round(len(X_train)/(7 * (X_train.shape[1] + 1)))\n",
    "nh"
   ]
  },
  {
   "cell_type": "code",
   "execution_count": 115,
   "metadata": {},
   "outputs": [
    {
     "name": "stderr",
     "output_type": "stream",
     "text": [
      "C:\\Users\\cholz\\Anaconda3\\lib\\site-packages\\sklearn\\preprocessing\\data.py:645: DataConversionWarning: Data with input dtype uint8, int64 were all converted to float64 by StandardScaler.\n",
      "  return self.partial_fit(X, y)\n",
      "C:\\Users\\cholz\\Anaconda3\\lib\\site-packages\\sklearn\\base.py:464: DataConversionWarning: Data with input dtype uint8, int64 were all converted to float64 by StandardScaler.\n",
      "  return self.fit(X, **fit_params).transform(X)\n",
      "C:\\Users\\cholz\\Anaconda3\\lib\\site-packages\\ipykernel_launcher.py:5: DataConversionWarning: Data with input dtype uint8, int64 were all converted to float64 by StandardScaler.\n",
      "  \"\"\"\n"
     ]
    }
   ],
   "source": [
    "# Feature Scaling\n",
    "from sklearn.preprocessing import StandardScaler\n",
    "sc = StandardScaler()\n",
    "X_train_sc = sc.fit_transform(X_train)\n",
    "X_test_sc = sc.transform(X_test)"
   ]
  },
  {
   "cell_type": "code",
   "execution_count": 116,
   "metadata": {},
   "outputs": [
    {
     "name": "stderr",
     "output_type": "stream",
     "text": [
      "WARNING: Logging before flag parsing goes to stderr.\n",
      "W0803 17:49:09.785211 10300 deprecation_wrapper.py:119] From C:\\Users\\cholz\\Anaconda3\\lib\\site-packages\\keras\\backend\\tensorflow_backend.py:74: The name tf.get_default_graph is deprecated. Please use tf.compat.v1.get_default_graph instead.\n",
      "\n",
      "W0803 17:49:09.834209 10300 deprecation_wrapper.py:119] From C:\\Users\\cholz\\Anaconda3\\lib\\site-packages\\keras\\backend\\tensorflow_backend.py:517: The name tf.placeholder is deprecated. Please use tf.compat.v1.placeholder instead.\n",
      "\n",
      "W0803 17:49:09.844209 10300 deprecation_wrapper.py:119] From C:\\Users\\cholz\\Anaconda3\\lib\\site-packages\\keras\\backend\\tensorflow_backend.py:4138: The name tf.random_uniform is deprecated. Please use tf.random.uniform instead.\n",
      "\n",
      "W0803 17:49:09.919715 10300 deprecation_wrapper.py:119] From C:\\Users\\cholz\\Anaconda3\\lib\\site-packages\\keras\\optimizers.py:790: The name tf.train.Optimizer is deprecated. Please use tf.compat.v1.train.Optimizer instead.\n",
      "\n"
     ]
    }
   ],
   "source": [
    "# Initialising the ANN\n",
    "nn = Sequential()\n",
    "\n",
    "# Adding the input layer and the first hidden layer\n",
    "nn.add(Dense(70, activation = 'relu', input_dim = 70))\n",
    "\n",
    "# Adding the second hidden layer\n",
    "nn.add(Dense(units = 70, activation = 'relu'))\n",
    "\n",
    "# Adding the third hidden layer\n",
    "nn.add(Dense(units = 70, activation = 'relu'))\n",
    "\n",
    "# Adding the output layer\n",
    "nn.add(Dense(units = 1))\n",
    "\n",
    "#model.add(Dense(1))\n",
    "# Compiling the ANN\n",
    "nn.compile(optimizer = 'adam', loss = 'mean_squared_error')"
   ]
  },
  {
   "cell_type": "code",
   "execution_count": 117,
   "metadata": {},
   "outputs": [
    {
     "name": "stderr",
     "output_type": "stream",
     "text": [
      "W0803 17:49:12.489259 10300 deprecation_wrapper.py:119] From C:\\Users\\cholz\\Anaconda3\\lib\\site-packages\\keras\\backend\\tensorflow_backend.py:986: The name tf.assign_add is deprecated. Please use tf.compat.v1.assign_add instead.\n",
      "\n",
      "W0803 17:49:12.640750 10300 deprecation_wrapper.py:119] From C:\\Users\\cholz\\Anaconda3\\lib\\site-packages\\keras\\backend\\tensorflow_backend.py:973: The name tf.assign is deprecated. Please use tf.compat.v1.assign instead.\n",
      "\n"
     ]
    },
    {
     "name": "stdout",
     "output_type": "stream",
     "text": [
      "Epoch 1/100\n",
      "7015/7015 [==============================] - 2s 215us/step - loss: 426.7692\n",
      "Epoch 2/100\n",
      "7015/7015 [==============================] - 1s 146us/step - loss: 102.3174\n",
      "Epoch 3/100\n",
      "7015/7015 [==============================] - 1s 145us/step - loss: 95.1724\n",
      "Epoch 4/100\n",
      "7015/7015 [==============================] - 1s 151us/step - loss: 89.5188\n",
      "Epoch 5/100\n",
      "7015/7015 [==============================] - 1s 146us/step - loss: 85.1770\n",
      "Epoch 6/100\n",
      "7015/7015 [==============================] - 1s 146us/step - loss: 83.4572\n",
      "Epoch 7/100\n",
      "7015/7015 [==============================] - 1s 146us/step - loss: 82.6299\n",
      "Epoch 8/100\n",
      "7015/7015 [==============================] - 1s 145us/step - loss: 80.1694\n",
      "Epoch 9/100\n",
      "7015/7015 [==============================] - 1s 145us/step - loss: 79.5412\n",
      "Epoch 10/100\n",
      "7015/7015 [==============================] - 1s 145us/step - loss: 76.6164\n",
      "Epoch 11/100\n",
      "7015/7015 [==============================] - 1s 145us/step - loss: 76.6023\n",
      "Epoch 12/100\n",
      "7015/7015 [==============================] - 1s 145us/step - loss: 75.0048\n",
      "Epoch 13/100\n",
      "7015/7015 [==============================] - 1s 144us/step - loss: 74.2776\n",
      "Epoch 14/100\n",
      "7015/7015 [==============================] - 1s 144us/step - loss: 73.3378\n",
      "Epoch 15/100\n",
      "7015/7015 [==============================] - 1s 145us/step - loss: 72.9933\n",
      "Epoch 16/100\n",
      "7015/7015 [==============================] - 1s 145us/step - loss: 72.0028\n",
      "Epoch 17/100\n",
      "7015/7015 [==============================] - 1s 144us/step - loss: 71.2825\n",
      "Epoch 18/100\n",
      "7015/7015 [==============================] - 1s 144us/step - loss: 71.2366\n",
      "Epoch 19/100\n",
      "7015/7015 [==============================] - 1s 145us/step - loss: 71.9761\n",
      "Epoch 20/100\n",
      "7015/7015 [==============================] - 1s 149us/step - loss: 69.7739\n",
      "Epoch 21/100\n",
      "7015/7015 [==============================] - 1s 144us/step - loss: 69.5546\n",
      "Epoch 22/100\n",
      "7015/7015 [==============================] - 1s 146us/step - loss: 68.3737\n",
      "Epoch 23/100\n",
      "7015/7015 [==============================] - 1s 150us/step - loss: 68.3004\n",
      "Epoch 24/100\n",
      "7015/7015 [==============================] - 1s 148us/step - loss: 67.2210\n",
      "Epoch 25/100\n",
      "7015/7015 [==============================] - 1s 148us/step - loss: 66.4862\n",
      "Epoch 26/100\n",
      "7015/7015 [==============================] - 1s 147us/step - loss: 66.6008\n",
      "Epoch 27/100\n",
      "7015/7015 [==============================] - 1s 146us/step - loss: 65.9407\n",
      "Epoch 28/100\n",
      "7015/7015 [==============================] - 1s 144us/step - loss: 65.8783\n",
      "Epoch 29/100\n",
      "7015/7015 [==============================] - 1s 144us/step - loss: 64.7741\n",
      "Epoch 30/100\n",
      "7015/7015 [==============================] - 1s 145us/step - loss: 65.1433\n",
      "Epoch 31/100\n",
      "7015/7015 [==============================] - 1s 145us/step - loss: 63.9541\n",
      "Epoch 32/100\n",
      "7015/7015 [==============================] - 1s 144us/step - loss: 63.2504\n",
      "Epoch 33/100\n",
      "7015/7015 [==============================] - 1s 144us/step - loss: 62.5462\n",
      "Epoch 34/100\n",
      "7015/7015 [==============================] - 1s 145us/step - loss: 63.5076\n",
      "Epoch 35/100\n",
      "7015/7015 [==============================] - 1s 148us/step - loss: 63.0902\n",
      "Epoch 36/100\n",
      "7015/7015 [==============================] - 1s 148us/step - loss: 61.5133\n",
      "Epoch 37/100\n",
      "7015/7015 [==============================] - 1s 145us/step - loss: 60.9815\n",
      "Epoch 38/100\n",
      "7015/7015 [==============================] - 1s 145us/step - loss: 60.7225\n",
      "Epoch 39/100\n",
      "7015/7015 [==============================] - 1s 145us/step - loss: 59.9007\n",
      "Epoch 40/100\n",
      "7015/7015 [==============================] - 1s 144us/step - loss: 59.1082\n",
      "Epoch 41/100\n",
      "7015/7015 [==============================] - 1s 144us/step - loss: 58.9154\n",
      "Epoch 42/100\n",
      "7015/7015 [==============================] - 1s 144us/step - loss: 59.4979\n",
      "Epoch 43/100\n",
      "7015/7015 [==============================] - 1s 144us/step - loss: 58.0892\n",
      "Epoch 44/100\n",
      "7015/7015 [==============================] - 1s 144us/step - loss: 58.0335\n",
      "Epoch 45/100\n",
      "7015/7015 [==============================] - 1s 144us/step - loss: 57.7431\n",
      "Epoch 46/100\n",
      "7015/7015 [==============================] - 1s 144us/step - loss: 57.4427\n",
      "Epoch 47/100\n",
      "7015/7015 [==============================] - 1s 147us/step - loss: 56.4965\n",
      "Epoch 48/100\n",
      "7015/7015 [==============================] - 1s 144us/step - loss: 57.0859\n",
      "Epoch 49/100\n",
      "7015/7015 [==============================] - 1s 144us/step - loss: 57.3347\n",
      "Epoch 50/100\n",
      "7015/7015 [==============================] - 1s 145us/step - loss: 55.5380\n",
      "Epoch 51/100\n",
      "7015/7015 [==============================] - 1s 149us/step - loss: 56.2364\n",
      "Epoch 52/100\n",
      "7015/7015 [==============================] - 1s 145us/step - loss: 55.4374\n",
      "Epoch 53/100\n",
      "7015/7015 [==============================] - 1s 145us/step - loss: 55.3847\n",
      "Epoch 54/100\n",
      "7015/7015 [==============================] - 1s 146us/step - loss: 54.2241\n",
      "Epoch 55/100\n",
      "7015/7015 [==============================] - 1s 146us/step - loss: 55.1080\n",
      "Epoch 56/100\n",
      "7015/7015 [==============================] - 1s 150us/step - loss: 53.8811\n",
      "Epoch 57/100\n",
      "7015/7015 [==============================] - 1s 145us/step - loss: 53.5483\n",
      "Epoch 58/100\n",
      "7015/7015 [==============================] - 1s 145us/step - loss: 53.4545\n",
      "Epoch 59/100\n",
      "7015/7015 [==============================] - 1s 145us/step - loss: 52.3545\n",
      "Epoch 60/100\n",
      "7015/7015 [==============================] - 1s 144us/step - loss: 52.9269\n",
      "Epoch 61/100\n",
      "7015/7015 [==============================] - 1s 145us/step - loss: 52.4117\n",
      "Epoch 62/100\n",
      "7015/7015 [==============================] - 1s 144us/step - loss: 51.6152\n",
      "Epoch 63/100\n",
      "7015/7015 [==============================] - 1s 145us/step - loss: 51.1205\n",
      "Epoch 64/100\n",
      "7015/7015 [==============================] - 1s 144us/step - loss: 51.0435\n",
      "Epoch 65/100\n",
      "7015/7015 [==============================] - 1s 144us/step - loss: 51.1766\n",
      "Epoch 66/100\n",
      "7015/7015 [==============================] - 1s 146us/step - loss: 49.8031\n",
      "Epoch 67/100\n",
      "7015/7015 [==============================] - 1s 149us/step - loss: 49.8357\n",
      "Epoch 68/100\n",
      "7015/7015 [==============================] - 1s 144us/step - loss: 49.6219\n",
      "Epoch 69/100\n",
      "7015/7015 [==============================] - 1s 144us/step - loss: 49.6405\n",
      "Epoch 70/100\n",
      "7015/7015 [==============================] - 1s 144us/step - loss: 48.6183\n",
      "Epoch 71/100\n",
      "7015/7015 [==============================] - 1s 144us/step - loss: 48.6441\n",
      "Epoch 72/100\n",
      "7015/7015 [==============================] - 1s 144us/step - loss: 47.8102\n",
      "Epoch 73/100\n",
      "7015/7015 [==============================] - 1s 144us/step - loss: 47.8204\n",
      "Epoch 74/100\n",
      "7015/7015 [==============================] - 1s 144us/step - loss: 47.2852\n",
      "Epoch 75/100\n",
      "7015/7015 [==============================] - 1s 144us/step - loss: 47.6251\n",
      "Epoch 76/100\n",
      "7015/7015 [==============================] - 1s 144us/step - loss: 46.6847\n",
      "Epoch 77/100\n",
      "7015/7015 [==============================] - 1s 147us/step - loss: 46.5803\n",
      "Epoch 78/100\n",
      "7015/7015 [==============================] - 1s 146us/step - loss: 46.2291\n",
      "Epoch 79/100\n",
      "7015/7015 [==============================] - 1s 145us/step - loss: 46.0034\n",
      "Epoch 80/100\n",
      "7015/7015 [==============================] - 1s 144us/step - loss: 45.6977\n",
      "Epoch 81/100\n",
      "7015/7015 [==============================] - 1s 144us/step - loss: 45.5334\n",
      "Epoch 82/100\n",
      "7015/7015 [==============================] - 1s 148us/step - loss: 45.0602\n",
      "Epoch 83/100\n",
      "7015/7015 [==============================] - 1s 147us/step - loss: 44.4321\n",
      "Epoch 84/100\n",
      "7015/7015 [==============================] - 1s 144us/step - loss: 44.6832\n",
      "Epoch 85/100\n",
      "7015/7015 [==============================] - 1s 144us/step - loss: 44.5411\n",
      "Epoch 86/100\n",
      "7015/7015 [==============================] - 1s 144us/step - loss: 43.7087\n",
      "Epoch 87/100\n",
      "7015/7015 [==============================] - 1s 150us/step - loss: 44.4963\n",
      "Epoch 88/100\n",
      "7015/7015 [==============================] - 1s 148us/step - loss: 43.2239\n",
      "Epoch 89/100\n",
      "7015/7015 [==============================] - 1s 149us/step - loss: 43.6671\n",
      "Epoch 90/100\n",
      "7015/7015 [==============================] - 1s 148us/step - loss: 43.4542\n",
      "Epoch 91/100\n",
      "7015/7015 [==============================] - 1s 149us/step - loss: 43.0039\n",
      "Epoch 92/100\n",
      "7015/7015 [==============================] - 1s 145us/step - loss: 42.9811\n",
      "Epoch 93/100\n",
      "7015/7015 [==============================] - 1s 144us/step - loss: 42.4981\n",
      "Epoch 94/100\n"
     ]
    },
    {
     "name": "stdout",
     "output_type": "stream",
     "text": [
      "7015/7015 [==============================] - 1s 144us/step - loss: 43.0937\n",
      "Epoch 95/100\n",
      "7015/7015 [==============================] - 1s 144us/step - loss: 42.0890\n",
      "Epoch 96/100\n",
      "7015/7015 [==============================] - 1s 144us/step - loss: 42.9137\n",
      "Epoch 97/100\n",
      "7015/7015 [==============================] - 1s 144us/step - loss: 41.7490\n",
      "Epoch 98/100\n",
      "7015/7015 [==============================] - 1s 152us/step - loss: 41.4912\n",
      "Epoch 99/100\n",
      "7015/7015 [==============================] - 1s 146us/step - loss: 41.4016\n",
      "Epoch 100/100\n",
      "7015/7015 [==============================] - 1s 145us/step - loss: 41.6094\n"
     ]
    }
   ],
   "source": [
    "# Fitting the ANN to the Training set\n",
    "nnmodel = nn.fit(X_train_sc, y_train, batch_size = 10, epochs = 100)\n",
    "\n",
    "# Load the model instead of fitting it each time\n",
    "#nnmodel = pickle.load(open('nnmodel.sav', 'rb'))"
   ]
  },
  {
   "cell_type": "code",
   "execution_count": 118,
   "metadata": {},
   "outputs": [],
   "source": [
    "# Make predictions\n",
    "nnpred = nn.predict(X_test_sc)"
   ]
  },
  {
   "cell_type": "code",
   "execution_count": 134,
   "metadata": {},
   "outputs": [
    {
     "data": {
      "text/plain": [
       "array([[34.06271 ],\n",
       "       [43.797474],\n",
       "       [42.300415],\n",
       "       ...,\n",
       "       [78.92718 ],\n",
       "       [44.63905 ],\n",
       "       [37.12623 ]], dtype=float32)"
      ]
     },
     "execution_count": 134,
     "metadata": {},
     "output_type": "execute_result"
    }
   ],
   "source": [
    "nnpred"
   ]
  },
  {
   "cell_type": "code",
   "execution_count": 135,
   "metadata": {},
   "outputs": [],
   "source": [
    "# transform predictions back\n",
    "nnpred = nnpred.flatten()\n",
    "nnpred = pd.Series(nnpred)"
   ]
  },
  {
   "cell_type": "code",
   "execution_count": 136,
   "metadata": {},
   "outputs": [
    {
     "name": "stdout",
     "output_type": "stream",
     "text": [
      "0.8220760520411731\n"
     ]
    }
   ],
   "source": [
    "# RSQUARED\n",
    "print(explained_variance_score(nnpred, y_test))"
   ]
  },
  {
   "cell_type": "code",
   "execution_count": 137,
   "metadata": {},
   "outputs": [
    {
     "name": "stdout",
     "output_type": "stream",
     "text": [
      "Mean squared error: 120.08\n"
     ]
    }
   ],
   "source": [
    "# MSE\n",
    "print(\"Mean squared error: %.2f\"\n",
    "      % mean_squared_error(nnpred, y_test))"
   ]
  },
  {
   "cell_type": "code",
   "execution_count": 138,
   "metadata": {},
   "outputs": [
    {
     "name": "stdout",
     "output_type": "stream",
     "text": [
      "RMSE: 10.96\n"
     ]
    }
   ],
   "source": [
    "# RMSE\n",
    "print(\"RMSE: %.2f\"\n",
    "      % np.sqrt(mean_squared_error(nnpred, y_test)))"
   ]
  },
  {
   "cell_type": "code",
   "execution_count": 139,
   "metadata": {},
   "outputs": [
    {
     "name": "stdout",
     "output_type": "stream",
     "text": [
      "R_squared: 0.82\n"
     ]
    }
   ],
   "source": [
    "# RSQUARED\n",
    "print('R_squared: %.2f' % r2_score(nnpred, y_test))"
   ]
  },
  {
   "cell_type": "code",
   "execution_count": 140,
   "metadata": {},
   "outputs": [],
   "source": [
    "# Calculate mean absolute percentage error (MAPE)\n",
    "nnerrors = abs(nnpred - y_test)\n",
    "nnmape = 100 * (nnerrors / y_test)"
   ]
  },
  {
   "cell_type": "code",
   "execution_count": 141,
   "metadata": {},
   "outputs": [
    {
     "name": "stdout",
     "output_type": "stream",
     "text": [
      "Accuracy: 42.28 %.\n"
     ]
    }
   ],
   "source": [
    "# Calculate and display accuracy\n",
    "nnaccuracy = 100 - np.mean(nnmape)\n",
    "print('Accuracy:', round(nnaccuracy, 2), '%.')"
   ]
  },
  {
   "cell_type": "code",
   "execution_count": 144,
   "metadata": {},
   "outputs": [],
   "source": [
    "# save model to disk\n",
    "filename = 'nnmodel.sav'\n",
    "pickle.dump(nnmodel, open(filename, 'wb'))"
   ]
  },
  {
   "cell_type": "markdown",
   "metadata": {},
   "source": [
    "# Plotting all predictions"
   ]
  },
  {
   "cell_type": "code",
   "execution_count": 145,
   "metadata": {},
   "outputs": [],
   "source": [
    "import seaborn as sns"
   ]
  },
  {
   "cell_type": "code",
   "execution_count": 169,
   "metadata": {},
   "outputs": [],
   "source": [
    "predplot = pd.DataFrame({'real data': y_test,\n",
    "                         'linear model': predlin,\n",
    "                         'random forest': predrf,\n",
    "                         'xgboost': xgbpred,\n",
    "                         'xgboost gridsearch': xgb2pred,\n",
    "                         'neural network': nnpred.values\n",
    "                        })"
   ]
  },
  {
   "cell_type": "code",
   "execution_count": 170,
   "metadata": {},
   "outputs": [
    {
     "data": {
      "text/plain": [
       "<matplotlib.axes._subplots.AxesSubplot at 0x2428c1e5a90>"
      ]
     },
     "execution_count": 170,
     "metadata": {},
     "output_type": "execute_result"
    },
    {
     "data": {
      "image/png": "[encoded data removed]",
      "text/plain": [
       "<Figure size 720x360 with 1 Axes>"
      ]
     },
     "metadata": {
      "needs_background": "light"
     },
     "output_type": "display_data"
    }
   ],
   "source": [
    "predplot.reset_index().plot(x='index',\n",
    "                            y=['real data', 'linear model',\n",
    "                               'random forest', 'xgboost',\n",
    "                               'xgboost gridsearch', 'neural network'],\n",
    "                            linestyle='none',\n",
    "                            marker='x',\n",
    "                            alpha=.7)"
   ]
  }
 ],
 "metadata": {
  "kernelspec": {
   "display_name": "Python 3",
   "language": "python",
   "name": "python3"
  },
  "language_info": {
   "codemirror_mode": {
    "name": "ipython",
    "version": 3
   },
   "file_extension": ".py",
   "mimetype": "text/x-python",
   "name": "python",
   "nbconvert_exporter": "python",
   "pygments_lexer": "ipython3",
   "version": "3.7.3"
  }
 },
 "nbformat": 4,
 "nbformat_minor": 2
}
