{
 "cells": [
  {
   "cell_type": "markdown",
   "metadata": {},
   "source": [
    "# Imports"
   ]
  },
  {
   "cell_type": "code",
   "execution_count": 1,
   "metadata": {},
   "outputs": [],
   "source": [
    "import pandas as pd\n",
    "import sklearn as sk\n",
    "import scipy\n",
    "import numpy as np\n",
    "import pickle"
   ]
  },
  {
   "cell_type": "code",
   "execution_count": 2,
   "metadata": {},
   "outputs": [],
   "source": [
    "# Import data\n",
    "df = pd.read_csv('data/maindata_small.csv')"
   ]
  },
  {
   "cell_type": "markdown",
   "metadata": {},
   "source": [
    "# First Glance and Set creation"
   ]
  },
  {
   "cell_type": "code",
   "execution_count": 3,
   "metadata": {},
   "outputs": [
    {
     "data": {
      "text/html": [
       "<div>\n",
       "<style scoped>\n",
       "    .dataframe tbody tr th:only-of-type {\n",
       "        vertical-align: middle;\n",
       "    }\n",
       "\n",
       "    .dataframe tbody tr th {\n",
       "        vertical-align: top;\n",
       "    }\n",
       "\n",
       "    .dataframe thead th {\n",
       "        text-align: right;\n",
       "    }\n",
       "</style>\n",
       "<table border=\"1\" class=\"dataframe\">\n",
       "  <thead>\n",
       "    <tr style=\"text-align: right;\">\n",
       "      <th></th>\n",
       "      <th>Unnamed: 0</th>\n",
       "      <th>V1</th>\n",
       "      <th>insert_date</th>\n",
       "      <th>origin</th>\n",
       "      <th>destination</th>\n",
       "      <th>start_date</th>\n",
       "      <th>end_date</th>\n",
       "      <th>train_type</th>\n",
       "      <th>price</th>\n",
       "      <th>train_class</th>\n",
       "      <th>fare</th>\n",
       "    </tr>\n",
       "  </thead>\n",
       "  <tbody>\n",
       "    <tr>\n",
       "      <th>0</th>\n",
       "      <td>1</td>\n",
       "      <td>1263097</td>\n",
       "      <td>2019-05-04 05:11:26</td>\n",
       "      <td>BARCELONA</td>\n",
       "      <td>MADRID</td>\n",
       "      <td>2019-05-16 06:25:00</td>\n",
       "      <td>2019-05-16 08:55:00</td>\n",
       "      <td>AVE</td>\n",
       "      <td>78.80</td>\n",
       "      <td>Turista</td>\n",
       "      <td>Promo</td>\n",
       "    </tr>\n",
       "    <tr>\n",
       "      <th>1</th>\n",
       "      <td>2</td>\n",
       "      <td>1980371</td>\n",
       "      <td>2019-04-15 02:28:14</td>\n",
       "      <td>VALENCIA</td>\n",
       "      <td>MADRID</td>\n",
       "      <td>2019-05-25 14:50:00</td>\n",
       "      <td>2019-05-25 22:17:00</td>\n",
       "      <td>REGIONAL</td>\n",
       "      <td>28.35</td>\n",
       "      <td>Turista</td>\n",
       "      <td>Adulto ida</td>\n",
       "    </tr>\n",
       "    <tr>\n",
       "      <th>2</th>\n",
       "      <td>3</td>\n",
       "      <td>1595459</td>\n",
       "      <td>2019-05-09 21:02:40</td>\n",
       "      <td>MADRID</td>\n",
       "      <td>SEVILLA</td>\n",
       "      <td>2019-06-24 15:00:00</td>\n",
       "      <td>2019-06-24 17:21:00</td>\n",
       "      <td>AVE</td>\n",
       "      <td>41.20</td>\n",
       "      <td>Turista</td>\n",
       "      <td>Promo</td>\n",
       "    </tr>\n",
       "    <tr>\n",
       "      <th>3</th>\n",
       "      <td>4</td>\n",
       "      <td>1126882</td>\n",
       "      <td>2019-05-01 13:16:14</td>\n",
       "      <td>MADRID</td>\n",
       "      <td>VALENCIA</td>\n",
       "      <td>2019-05-15 15:10:00</td>\n",
       "      <td>2019-05-15 16:52:00</td>\n",
       "      <td>AVE</td>\n",
       "      <td>21.95</td>\n",
       "      <td>Turista</td>\n",
       "      <td>Promo</td>\n",
       "    </tr>\n",
       "    <tr>\n",
       "      <th>4</th>\n",
       "      <td>5</td>\n",
       "      <td>688748</td>\n",
       "      <td>2019-04-24 08:11:56</td>\n",
       "      <td>BARCELONA</td>\n",
       "      <td>MADRID</td>\n",
       "      <td>2019-05-08 13:25:00</td>\n",
       "      <td>2019-05-08 16:10:00</td>\n",
       "      <td>AVE</td>\n",
       "      <td>85.10</td>\n",
       "      <td>Turista</td>\n",
       "      <td>Promo</td>\n",
       "    </tr>\n",
       "  </tbody>\n",
       "</table>\n",
       "</div>"
      ],
      "text/plain": [
       "   Unnamed: 0       V1          insert_date     origin destination  \\\n",
       "0           1  1263097  2019-05-04 05:11:26  BARCELONA      MADRID   \n",
       "1           2  1980371  2019-04-15 02:28:14   VALENCIA      MADRID   \n",
       "2           3  1595459  2019-05-09 21:02:40     MADRID     SEVILLA   \n",
       "3           4  1126882  2019-05-01 13:16:14     MADRID    VALENCIA   \n",
       "4           5   688748  2019-04-24 08:11:56  BARCELONA      MADRID   \n",
       "\n",
       "            start_date             end_date train_type  price train_class  \\\n",
       "0  2019-05-16 06:25:00  2019-05-16 08:55:00        AVE  78.80     Turista   \n",
       "1  2019-05-25 14:50:00  2019-05-25 22:17:00   REGIONAL  28.35     Turista   \n",
       "2  2019-06-24 15:00:00  2019-06-24 17:21:00        AVE  41.20     Turista   \n",
       "3  2019-05-15 15:10:00  2019-05-15 16:52:00        AVE  21.95     Turista   \n",
       "4  2019-05-08 13:25:00  2019-05-08 16:10:00        AVE  85.10     Turista   \n",
       "\n",
       "         fare  \n",
       "0       Promo  \n",
       "1  Adulto ida  \n",
       "2       Promo  \n",
       "3       Promo  \n",
       "4       Promo  "
      ]
     },
     "execution_count": 3,
     "metadata": {},
     "output_type": "execute_result"
    }
   ],
   "source": [
    "df.head()"
   ]
  },
  {
   "cell_type": "code",
   "execution_count": 4,
   "metadata": {},
   "outputs": [
    {
     "data": {
      "text/plain": [
       "Unnamed: 0        0\n",
       "V1                0\n",
       "insert_date       0\n",
       "origin            0\n",
       "destination       0\n",
       "start_date        0\n",
       "end_date          0\n",
       "train_type        0\n",
       "price          1231\n",
       "train_class      41\n",
       "fare             41\n",
       "dtype: int64"
      ]
     },
     "execution_count": 4,
     "metadata": {},
     "output_type": "execute_result"
    }
   ],
   "source": [
    "# How many NAs\n",
    "df.isna().sum()"
   ]
  },
  {
   "cell_type": "code",
   "execution_count": 5,
   "metadata": {},
   "outputs": [
    {
     "data": {
      "text/plain": [
       "10000"
      ]
     },
     "execution_count": 5,
     "metadata": {},
     "output_type": "execute_result"
    }
   ],
   "source": [
    "# Length of the dataset\n",
    "len(df)"
   ]
  },
  {
   "cell_type": "code",
   "execution_count": 6,
   "metadata": {},
   "outputs": [
    {
     "data": {
      "text/plain": [
       "0.1231"
      ]
     },
     "execution_count": 6,
     "metadata": {},
     "output_type": "execute_result"
    }
   ],
   "source": [
    "# Proportion of missing price values\n",
    "df.isna().sum()['price'] / len(df)"
   ]
  },
  {
   "cell_type": "markdown",
   "metadata": {},
   "source": [
    "# Feature engineering and set creation"
   ]
  },
  {
   "cell_type": "code",
   "execution_count": 7,
   "metadata": {},
   "outputs": [],
   "source": [
    "import datetime as dt\n",
    "import time"
   ]
  },
  {
   "cell_type": "code",
   "execution_count": 8,
   "metadata": {},
   "outputs": [],
   "source": [
    "# Convert date strings\n",
    "df['insert_date'] = pd.to_datetime(df['insert_date'],\n",
    "                                        infer_datetime_format=True)\n",
    "df['start_date'] = pd.to_datetime(df['start_date'],\n",
    "                                        infer_datetime_format=True)\n",
    "df['end_date'] = pd.to_datetime(df['end_date'],\n",
    "                                        infer_datetime_format=True)"
   ]
  },
  {
   "cell_type": "code",
   "execution_count": 9,
   "metadata": {},
   "outputs": [],
   "source": [
    "# Time between end and start\n",
    "df['traveltime'] = df['end_date'] - df['start_date']"
   ]
  },
  {
   "cell_type": "code",
   "execution_count": 10,
   "metadata": {},
   "outputs": [],
   "source": [
    "# traveltime in minutes\n",
    "temp1 = df['traveltime'].apply(lambda x: str(x))\n",
    "timestring = temp1.replace(to_replace=r'0 days ', value='', regex=True)"
   ]
  },
  {
   "cell_type": "code",
   "execution_count": 11,
   "metadata": {},
   "outputs": [
    {
     "data": {
      "text/plain": [
       "0        9000\n",
       "1       26820\n",
       "2        8460\n",
       "3        6120\n",
       "4        9900\n",
       "5        9000\n",
       "6        8820\n",
       "7       24180\n",
       "8       10500\n",
       "9       22920\n",
       "10       9480\n",
       "11      10200\n",
       "12       9600\n",
       "13       9000\n",
       "14      10080\n",
       "15       9120\n",
       "16      13980\n",
       "17       9000\n",
       "18       9000\n",
       "19      15360\n",
       "20      15000\n",
       "21       9000\n",
       "22      11400\n",
       "23       6420\n",
       "24      10320\n",
       "25       9120\n",
       "26       8460\n",
       "27       6540\n",
       "28      18000\n",
       "29       9360\n",
       "        ...  \n",
       "9970     9600\n",
       "9971     9480\n",
       "9972     9120\n",
       "9973     8460\n",
       "9974     9120\n",
       "9975     9000\n",
       "9976    11400\n",
       "9977     9960\n",
       "9978    10320\n",
       "9979    11400\n",
       "9980    33720\n",
       "9981    26040\n",
       "9982     6000\n",
       "9983    32640\n",
       "9984     8700\n",
       "9985     9120\n",
       "9986     9000\n",
       "9987     9000\n",
       "9988     6240\n",
       "9989     8700\n",
       "9990     9480\n",
       "9991     6000\n",
       "9992     9000\n",
       "9993     9720\n",
       "9994     9360\n",
       "9995     9000\n",
       "9996     6000\n",
       "9997    25140\n",
       "9998     9000\n",
       "9999     6000\n",
       "Name: traveltime_seconds, Length: 10000, dtype: int64"
      ]
     },
     "execution_count": 11,
     "metadata": {},
     "output_type": "execute_result"
    }
   ],
   "source": [
    "# Convert timestring to seconds\n",
    "def get_sec(time_str):\n",
    "    h, m, s = time_str.split(':')\n",
    "    return int(h) * 3600 + int(m) * 60 + int(s)\n",
    "\n",
    "df['traveltime_seconds'] = timestring.apply(lambda x: get_sec(x))\n",
    "df['traveltime_seconds']"
   ]
  },
  {
   "cell_type": "code",
   "execution_count": 12,
   "metadata": {},
   "outputs": [],
   "source": [
    "# Weekday variable - start date and end date weekdays\n",
    "df['insert_day'] = df['insert_date'].dt.day_name()\n",
    "df['start_day'] = df['start_date'].dt.day_name()\n",
    "df['end_day'] = df['end_date'].dt.day_name()"
   ]
  },
  {
   "cell_type": "code",
   "execution_count": 13,
   "metadata": {},
   "outputs": [],
   "source": [
    "# Month variable\n",
    "df['insert_month'] = df['insert_date'].dt.month_name()\n",
    "df['start_month'] = df['start_date'].dt.month_name()\n",
    "df['end_month'] = df['end_date'].dt.month_name()"
   ]
  },
  {
   "cell_type": "code",
   "execution_count": 14,
   "metadata": {},
   "outputs": [],
   "source": [
    "# drop dates\n",
    "df = df.drop(['insert_date', 'start_date', 'end_date'], axis=1)"
   ]
  },
  {
   "cell_type": "code",
   "execution_count": 15,
   "metadata": {},
   "outputs": [],
   "source": [
    "# Missing values will make our prediction set\n",
    "df_work = df[df.price.notna()]\n",
    "df_goal = df[df.price.isna()]"
   ]
  },
  {
   "cell_type": "code",
   "execution_count": 16,
   "metadata": {},
   "outputs": [
    {
     "data": {
      "text/plain": [
       "8769"
      ]
     },
     "execution_count": 16,
     "metadata": {},
     "output_type": "execute_result"
    }
   ],
   "source": [
    "len(df_work)"
   ]
  },
  {
   "cell_type": "code",
   "execution_count": 17,
   "metadata": {},
   "outputs": [
    {
     "data": {
      "text/plain": [
       "1231"
      ]
     },
     "execution_count": 17,
     "metadata": {},
     "output_type": "execute_result"
    }
   ],
   "source": [
    "len(df_goal)"
   ]
  },
  {
   "cell_type": "code",
   "execution_count": 18,
   "metadata": {},
   "outputs": [
    {
     "data": {
      "text/plain": [
       "True"
      ]
     },
     "execution_count": 18,
     "metadata": {},
     "output_type": "execute_result"
    }
   ],
   "source": [
    "# Check if it worked correctly\n",
    "(len(df) == len(df_goal) + len(df_work))"
   ]
  },
  {
   "cell_type": "code",
   "execution_count": 19,
   "metadata": {},
   "outputs": [
    {
     "data": {
      "text/plain": [
       "True"
      ]
     },
     "execution_count": 19,
     "metadata": {},
     "output_type": "execute_result"
    }
   ],
   "source": [
    "# Another check\n",
    "(df_work.price.notna().sum() == len(df_work)) and (df_goal.price.isna().sum() == len(df_goal))"
   ]
  },
  {
   "cell_type": "code",
   "execution_count": 20,
   "metadata": {},
   "outputs": [
    {
     "data": {
      "text/plain": [
       "array(['Turista', 'Preferente', 'Turista Plus', 'Turista con enlace', nan,\n",
       "       'Cama G. Clase', 'Cama Turista'], dtype=object)"
      ]
     },
     "execution_count": 20,
     "metadata": {},
     "output_type": "execute_result"
    }
   ],
   "source": [
    "# Which train classes are there?\n",
    "df.train_class.unique()"
   ]
  },
  {
   "cell_type": "markdown",
   "metadata": {},
   "source": [
    "# Visual Analysis"
   ]
  },
  {
   "cell_type": "code",
   "execution_count": 21,
   "metadata": {},
   "outputs": [],
   "source": [
    "import matplotlib.pyplot as plt\n",
    "import seaborn as sns"
   ]
  },
  {
   "cell_type": "code",
   "execution_count": 22,
   "metadata": {},
   "outputs": [],
   "source": [
    "# set plot size for jupyter notebook\n",
    "plt.rcParams['figure.figsize'] = [10, 5]"
   ]
  },
  {
   "cell_type": "code",
   "execution_count": 23,
   "metadata": {},
   "outputs": [
    {
     "data": {
      "image/png": "[encoded data removed]",
      "text/plain": [
       "<Figure size 720x360 with 1 Axes>"
      ]
     },
     "metadata": {
      "needs_background": "light"
     },
     "output_type": "display_data"
    }
   ],
   "source": [
    "# Price and class\n",
    "pc = sns.boxplot(x=\"train_class\", y=\"price\", data=df_work)"
   ]
  },
  {
   "cell_type": "code",
   "execution_count": 24,
   "metadata": {},
   "outputs": [
    {
     "data": {
      "image/png": "[encoded data removed]",
      "text/plain": [
       "<Figure size 720x360 with 1 Axes>"
      ]
     },
     "metadata": {
      "needs_background": "light"
     },
     "output_type": "display_data"
    }
   ],
   "source": [
    "# bar plot on train class count\n",
    "tcc = sns.countplot(data=df_work, x=\"train_class\")"
   ]
  },
  {
   "cell_type": "code",
   "execution_count": 25,
   "metadata": {},
   "outputs": [
    {
     "data": {
      "image/png": "[encoded data removed]",
      "text/plain": [
       "<Figure size 720x360 with 1 Axes>"
      ]
     },
     "metadata": {
      "needs_background": "light"
     },
     "output_type": "display_data"
    }
   ],
   "source": [
    "# Travel prices per month\n",
    "tpm = sns.boxplot(x=\"start_month\", y=\"price\", data=df_work)"
   ]
  },
  {
   "cell_type": "code",
   "execution_count": 26,
   "metadata": {
    "scrolled": true
   },
   "outputs": [
    {
     "data": {
      "image/png": "[encoded data removed]",
      "text/plain": [
       "<Figure size 720x360 with 1 Axes>"
      ]
     },
     "metadata": {
      "needs_background": "light"
     },
     "output_type": "display_data"
    }
   ],
   "source": [
    "# Travel prices per day\n",
    "tpd = sns.boxplot(x=\"start_day\", y=\"price\", data=df_work)"
   ]
  },
  {
   "cell_type": "code",
   "execution_count": 27,
   "metadata": {},
   "outputs": [
    {
     "data": {
      "image/png": "[encoded data removed]",
      "text/plain": [
       "<Figure size 720x360 with 1 Axes>"
      ]
     },
     "metadata": {
      "needs_background": "light"
     },
     "output_type": "display_data"
    }
   ],
   "source": [
    "# price by travel time\n",
    "ptt = sns.scatterplot(x=\"traveltime_seconds\", y=\"price\", data=df_work)"
   ]
  },
  {
   "cell_type": "markdown",
   "metadata": {},
   "source": [
    "# One-Hot-Encoding"
   ]
  },
  {
   "cell_type": "code",
   "execution_count": 28,
   "metadata": {},
   "outputs": [],
   "source": [
    "from numpy import array\n",
    "from numpy import argmax\n",
    "from sklearn.preprocessing import LabelEncoder\n",
    "from sklearn.preprocessing import OneHotEncoder"
   ]
  },
  {
   "cell_type": "code",
   "execution_count": 29,
   "metadata": {},
   "outputs": [],
   "source": [
    "# Wich values need to be OH-encoded?\n",
    "    # origin\n",
    "    # destination\n",
    "    # train_type\n",
    "    # train_class\n",
    "    # fare\n",
    "    # insert_day\n",
    "    # start_day\n",
    "    # end_day\n",
    "    # insert_month\n",
    "    # start_month\n",
    "    # end_month"
   ]
  },
  {
   "cell_type": "code",
   "execution_count": 30,
   "metadata": {},
   "outputs": [],
   "source": [
    "# state encoder\n",
    "oh_encoder = OneHotEncoder(sparse=False)"
   ]
  },
  {
   "cell_type": "code",
   "execution_count": 31,
   "metadata": {},
   "outputs": [
    {
     "data": {
      "text/plain": [
       "Unnamed: 0                      int64\n",
       "V1                              int64\n",
       "origin                         object\n",
       "destination                    object\n",
       "train_type                     object\n",
       "price                         float64\n",
       "train_class                    object\n",
       "fare                           object\n",
       "traveltime            timedelta64[ns]\n",
       "traveltime_seconds              int64\n",
       "insert_day                     object\n",
       "start_day                      object\n",
       "end_day                        object\n",
       "insert_month                   object\n",
       "start_month                    object\n",
       "end_month                      object\n",
       "dtype: object"
      ]
     },
     "execution_count": 31,
     "metadata": {},
     "output_type": "execute_result"
    }
   ],
   "source": [
    "# checking types\n",
    "df_work.dtypes"
   ]
  },
  {
   "cell_type": "code",
   "execution_count": 32,
   "metadata": {},
   "outputs": [
    {
     "name": "stderr",
     "output_type": "stream",
     "text": [
      "C:\\Users\\cholz\\Anaconda3\\lib\\site-packages\\ipykernel_launcher.py:9: SettingWithCopyWarning: \n",
      "A value is trying to be set on a copy of a slice from a DataFrame.\n",
      "Try using .loc[row_indexer,col_indexer] = value instead\n",
      "\n",
      "See the caveats in the documentation: http://pandas.pydata.org/pandas-docs/stable/indexing.html#indexing-view-versus-copy\n",
      "  if __name__ == '__main__':\n",
      "C:\\Users\\cholz\\Anaconda3\\lib\\site-packages\\ipykernel_launcher.py:12: SettingWithCopyWarning: \n",
      "A value is trying to be set on a copy of a slice from a DataFrame.\n",
      "Try using .loc[row_indexer,col_indexer] = value instead\n",
      "\n",
      "See the caveats in the documentation: http://pandas.pydata.org/pandas-docs/stable/indexing.html#indexing-view-versus-copy\n",
      "  if sys.path[0] == '':\n"
     ]
    }
   ],
   "source": [
    "# changing column types for df_work and df_goal\n",
    "\n",
    "\n",
    "obj_to_cat = ['origin', 'destination', 'train_type', 'train_class', 'fare',\n",
    "              'insert_day', 'start_day', 'end_day', 'insert_month',\n",
    "              'start_month', 'end_month']\n",
    "\n",
    "for col in obj_to_cat:\n",
    "    df_work[col] = df_work[col].astype('category')\n",
    "\n",
    "for col in obj_to_cat:\n",
    "    df_goal[col] = df_goal[col].astype('category')"
   ]
  },
  {
   "cell_type": "code",
   "execution_count": 33,
   "metadata": {},
   "outputs": [],
   "source": [
    "# dropping traveltime\n",
    "df_work = df_work.drop(['traveltime'], axis=1)\n",
    "df_goal = df_goal.drop(['traveltime'], axis=1)"
   ]
  },
  {
   "cell_type": "code",
   "execution_count": 34,
   "metadata": {},
   "outputs": [],
   "source": [
    "# oh-encoding\n",
    "df_work_oh = pd.get_dummies(df_work)\n",
    "df_goal_oh = pd.get_dummies(df_goal)"
   ]
  },
  {
   "cell_type": "markdown",
   "metadata": {},
   "source": [
    "# Splits"
   ]
  },
  {
   "cell_type": "code",
   "execution_count": 35,
   "metadata": {},
   "outputs": [],
   "source": [
    "from sklearn.model_selection import train_test_split"
   ]
  },
  {
   "cell_type": "code",
   "execution_count": 36,
   "metadata": {},
   "outputs": [],
   "source": [
    "# Dividing training set into X and y\n",
    "X = df_work_oh.drop('price', axis=1)\n",
    "y = df_work_oh.price"
   ]
  },
  {
   "cell_type": "code",
   "execution_count": 37,
   "metadata": {},
   "outputs": [],
   "source": [
    "# Train-Test-Split\n",
    "X_train, X_test, y_train, y_test = train_test_split(X, y, test_size=0.2, random_state=42)"
   ]
  },
  {
   "cell_type": "markdown",
   "metadata": {},
   "source": [
    "# Linear Regression"
   ]
  },
  {
   "cell_type": "code",
   "execution_count": 38,
   "metadata": {},
   "outputs": [],
   "source": [
    "# import\n",
    "from sklearn.linear_model import LinearRegression\n",
    "from sklearn.metrics import mean_squared_error, r2_score"
   ]
  },
  {
   "cell_type": "code",
   "execution_count": 39,
   "metadata": {},
   "outputs": [],
   "source": [
    "# base model\n",
    "linreg = LinearRegression()"
   ]
  },
  {
   "cell_type": "code",
   "execution_count": 40,
   "metadata": {},
   "outputs": [],
   "source": [
    "# fitting\n",
    "# linearmodel = linreg.fit(X_train, y_train)\n",
    "\n",
    "# Load the model instead of fitting it each time\n",
    "linearmodel = pickle.load(open('linearmodel.sav', 'rb'))"
   ]
  },
  {
   "cell_type": "code",
   "execution_count": 41,
   "metadata": {},
   "outputs": [
    {
     "name": "stdout",
     "output_type": "stream",
     "text": [
      "71.21760736113471\n",
      "[-1.93717745e-05 -1.04827436e-07 -7.74585015e-04  2.69655536e+01\n",
      " -3.65301895e-01 -1.01961701e+01 -2.87156512e+00 -1.35325165e+01\n",
      "  2.83226986e+01  3.65301895e-01 -1.34713890e+01 -2.04405229e+00\n",
      " -1.31725592e+01  4.86393111e-01  2.82550034e+00  8.31156735e+00\n",
      "  3.47079587e+00  6.90562787e+00  7.92067507e+00 -3.57437155e+00\n",
      " -5.64372764e-01 -5.54704523e+00  3.80323242e+00 -5.21675866e+00\n",
      " -6.85618110e+00 -1.35749245e+01  6.61966484e+00 -5.00980310e+00\n",
      " -2.70450329e-12 -1.45661261e-13  1.36683613e+01 -9.08373713e+00\n",
      " -5.79922596e-01 -4.00470159e+00 -6.95525963e+00  1.84013297e+01\n",
      " -1.55875313e-12 -1.08257101e+01 -6.20359990e-01  3.24594561e-02\n",
      "  3.10513243e-01 -1.23377102e-01 -3.23552939e-01 -1.58439736e-01\n",
      " -9.73848303e-02  3.59781908e-01 -2.88376476e+00  4.05518397e-01\n",
      " -4.15618868e+00  8.89733911e+00 -1.60151220e+00  3.47525047e+00\n",
      " -4.13664234e+00  4.96442352e+00 -1.05981404e+00  1.84685194e+00\n",
      " -6.32157552e+00  1.67473546e+00 -5.14701510e+00  4.04239374e+00\n",
      " -5.51533664e-01  5.51533664e-01 -8.15860159e+00 -7.57445994e-01\n",
      " -8.15774495e-01  9.73182208e+00  1.10892454e+01 -7.57445994e-01\n",
      " -8.15774495e-01 -9.51602488e+00]\n"
     ]
    }
   ],
   "source": [
    "# print results\n",
    "print(linearmodel.intercept_)\n",
    "print(linearmodel.coef_)"
   ]
  },
  {
   "cell_type": "code",
   "execution_count": 42,
   "metadata": {},
   "outputs": [],
   "source": [
    "# imports for p-values\n",
    "import statsmodels.api as sm"
   ]
  },
  {
   "cell_type": "code",
   "execution_count": 43,
   "metadata": {},
   "outputs": [],
   "source": [
    "# calculate p-values\n",
    "mod = sm.OLS(y_train, X_train)\n",
    "fii = mod.fit()\n",
    "p_values = fii.summary2().tables[1]['P>|t|']"
   ]
  },
  {
   "cell_type": "code",
   "execution_count": 44,
   "metadata": {},
   "outputs": [
    {
     "data": {
      "text/plain": [
       "Unnamed: 0                   False\n",
       "V1                           False\n",
       "traveltime_seconds            True\n",
       "origin_BARCELONA              True\n",
       "origin_MADRID                 True\n",
       "origin_PONFERRADA             True\n",
       "origin_SEVILLA               False\n",
       "origin_VALENCIA               True\n",
       "destination_BARCELONA         True\n",
       "destination_MADRID            True\n",
       "destination_PONFERRADA        True\n",
       "destination_SEVILLA           True\n",
       "destination_VALENCIA          True\n",
       "train_type_ALVIA              True\n",
       "train_type_AV City            True\n",
       "train_type_AVE                True\n",
       "train_type_AVE-LD             True\n",
       "train_type_AVE-MD             True\n",
       "train_type_AVE-TGV            True\n",
       "train_type_INTERCITY         False\n",
       "train_type_LD                False\n",
       "train_type_LD-MD              True\n",
       "train_type_MD                False\n",
       "train_type_MD-AVE            False\n",
       "train_type_MD-LD              True\n",
       "train_type_R. EXPRES          True\n",
       "train_type_REGIONAL           True\n",
       "train_type_TRENHOTEL         False\n",
       "train_class_Cama G. Clase    False\n",
       "train_class_Cama Turista     False\n",
       "                             ...  \n",
       "insert_day_Monday             True\n",
       "insert_day_Saturday           True\n",
       "insert_day_Sunday             True\n",
       "insert_day_Thursday           True\n",
       "insert_day_Tuesday            True\n",
       "insert_day_Wednesday          True\n",
       "start_day_Friday             False\n",
       "start_day_Monday              True\n",
       "start_day_Saturday           False\n",
       "start_day_Sunday              True\n",
       "start_day_Thursday           False\n",
       "start_day_Tuesday             True\n",
       "start_day_Wednesday          False\n",
       "end_day_Friday                True\n",
       "end_day_Monday               False\n",
       "end_day_Saturday              True\n",
       "end_day_Sunday               False\n",
       "end_day_Thursday              True\n",
       "end_day_Tuesday              False\n",
       "end_day_Wednesday             True\n",
       "insert_month_April            True\n",
       "insert_month_May              True\n",
       "start_month_April            False\n",
       "start_month_July              True\n",
       "start_month_June              True\n",
       "start_month_May               True\n",
       "end_month_April               True\n",
       "end_month_July                True\n",
       "end_month_June                True\n",
       "end_month_May                False\n",
       "Name: P>|t|, Length: 70, dtype: bool"
      ]
     },
     "execution_count": 44,
     "metadata": {},
     "output_type": "execute_result"
    }
   ],
   "source": [
    "p_values <= 0.05"
   ]
  },
  {
   "cell_type": "code",
   "execution_count": 45,
   "metadata": {},
   "outputs": [],
   "source": [
    "# Make a test prediction\n",
    "predlin = linearmodel.predict(X_test)"
   ]
  },
  {
   "cell_type": "code",
   "execution_count": 46,
   "metadata": {},
   "outputs": [
    {
     "name": "stdout",
     "output_type": "stream",
     "text": [
      "Mean squared error: 129.19\n"
     ]
    }
   ],
   "source": [
    "# MSE\n",
    "print(\"Mean squared error: %.2f\"\n",
    "      % mean_squared_error(predlin, y_test))"
   ]
  },
  {
   "cell_type": "code",
   "execution_count": 47,
   "metadata": {},
   "outputs": [
    {
     "name": "stdout",
     "output_type": "stream",
     "text": [
      "RMSE: 11.37\n"
     ]
    }
   ],
   "source": [
    "# RMSE\n",
    "print(\"RMSE: %.2f\"\n",
    "      % np.sqrt(mean_squared_error(predlin, y_test)))"
   ]
  },
  {
   "cell_type": "code",
   "execution_count": 48,
   "metadata": {},
   "outputs": [
    {
     "name": "stdout",
     "output_type": "stream",
     "text": [
      "R_squared: 0.77\n"
     ]
    }
   ],
   "source": [
    "# RSQUARED\n",
    "print('R_squared: %.2f' % r2_score(predlin, y_test))"
   ]
  },
  {
   "cell_type": "code",
   "execution_count": 49,
   "metadata": {},
   "outputs": [],
   "source": [
    "# save model to disk\n",
    "filename = 'linearmodel.sav'\n",
    "pickle.dump(linearmodel, open(filename, 'wb'))"
   ]
  },
  {
   "cell_type": "markdown",
   "metadata": {},
   "source": [
    "# Random Forest"
   ]
  },
  {
   "cell_type": "code",
   "execution_count": 50,
   "metadata": {},
   "outputs": [],
   "source": [
    "from sklearn.ensemble import RandomForestRegressor"
   ]
  },
  {
   "cell_type": "code",
   "execution_count": 51,
   "metadata": {},
   "outputs": [],
   "source": [
    "# Instantiate model with 200 decision trees\n",
    "rf = RandomForestRegressor(n_estimators = 200, random_state = 123)"
   ]
  },
  {
   "cell_type": "code",
   "execution_count": 52,
   "metadata": {},
   "outputs": [],
   "source": [
    "# Train the model on training data\n",
    "# rfmodel = rf.fit(X_train, y_train)\n",
    "\n",
    "# Load the model instead of fitting it each time\n",
    "rfmodel = pickle.load(open('rfmodel.sav', 'rb'))"
   ]
  },
  {
   "cell_type": "code",
   "execution_count": 53,
   "metadata": {},
   "outputs": [],
   "source": [
    "# predict training data\n",
    "predrf = rfmodel.predict(X_test)"
   ]
  },
  {
   "cell_type": "code",
   "execution_count": 54,
   "metadata": {},
   "outputs": [
    {
     "name": "stdout",
     "output_type": "stream",
     "text": [
      "Mean squared error: 85.07\n"
     ]
    }
   ],
   "source": [
    "# MSE\n",
    "print(\"Mean squared error: %.2f\"\n",
    "      % mean_squared_error(predrf, y_test))"
   ]
  },
  {
   "cell_type": "code",
   "execution_count": 55,
   "metadata": {},
   "outputs": [
    {
     "name": "stdout",
     "output_type": "stream",
     "text": [
      "RMSE: 9.22\n"
     ]
    }
   ],
   "source": [
    "# RMSE\n",
    "print(\"RMSE: %.2f\"\n",
    "      % np.sqrt(mean_squared_error(predrf, y_test)))"
   ]
  },
  {
   "cell_type": "code",
   "execution_count": 56,
   "metadata": {},
   "outputs": [
    {
     "name": "stdout",
     "output_type": "stream",
     "text": [
      "R_squared: 0.87\n"
     ]
    }
   ],
   "source": [
    "# RSQUARED\n",
    "print('R_squared: %.2f' % r2_score(predrf, y_test))"
   ]
  },
  {
   "cell_type": "code",
   "execution_count": 57,
   "metadata": {},
   "outputs": [],
   "source": [
    "# Calculate mean absolute percentage error (MAPE)\n",
    "rferrors = abs(predrf - y_test)\n",
    "rfmape = 100 * (rferrors / y_test)"
   ]
  },
  {
   "cell_type": "code",
   "execution_count": 58,
   "metadata": {},
   "outputs": [
    {
     "name": "stdout",
     "output_type": "stream",
     "text": [
      "Accuracy: 90.52 %.\n"
     ]
    }
   ],
   "source": [
    "# Calculate and display accuracy\n",
    "rfaccuracy = 100 - np.mean(rfmape)\n",
    "print('Accuracy:', round(rfaccuracy, 2), '%.')"
   ]
  },
  {
   "cell_type": "code",
   "execution_count": 59,
   "metadata": {},
   "outputs": [],
   "source": [
    "from sklearn.feature_selection import SelectFromModel"
   ]
  },
  {
   "cell_type": "code",
   "execution_count": 60,
   "metadata": {},
   "outputs": [],
   "source": [
    "# Make column name list\n",
    "feature_names = list(X_train.columns)"
   ]
  },
  {
   "cell_type": "code",
   "execution_count": 61,
   "metadata": {},
   "outputs": [
    {
     "name": "stdout",
     "output_type": "stream",
     "text": [
      "('Unnamed: 0', 0.028788079151918673)\n",
      "('V1', 0.026837246915306312)\n",
      "('traveltime_seconds', 0.48070592043546073)\n",
      "('origin_BARCELONA', 0.0442343394055756)\n",
      "('origin_MADRID', 0.0012797064354426915)\n",
      "('origin_PONFERRADA', 2.1097446496883508e-05)\n",
      "('origin_SEVILLA', 0.04123149021886489)\n",
      "('origin_VALENCIA', 0.005368224117470505)\n",
      "('destination_BARCELONA', 0.039548872547334274)\n",
      "('destination_MADRID', 0.0013826133553846958)\n",
      "('destination_PONFERRADA', 0.00022260077498834462)\n",
      "('destination_SEVILLA', 0.04685878395676649)\n",
      "('destination_VALENCIA', 0.0005865077151811979)\n",
      "('train_type_ALVIA', 0.010989243141256003)\n",
      "('train_type_AV City', 0.0005244390854982758)\n",
      "('train_type_AVE', 0.016431468511532682)\n",
      "('train_type_AVE-LD', 5.04444043649971e-05)\n",
      "('train_type_AVE-MD', 0.001807033991459208)\n",
      "('train_type_AVE-TGV', 0.0020228230794691274)\n",
      "('train_type_INTERCITY', 0.0022022988024666596)\n",
      "('train_type_LD', 2.054557481918553e-05)\n",
      "('train_type_LD-MD', 0.00023419615800758322)\n",
      "('train_type_MD', 2.6240062696361262e-05)\n",
      "('train_type_MD-AVE', 3.140888798161606e-05)\n",
      "('train_type_MD-LD', 0.0003918852543511944)\n",
      "('train_type_R. EXPRES', 0.00024952965874436365)\n",
      "('train_type_REGIONAL', 0.0021133131504278663)\n",
      "('train_type_TRENHOTEL', 0.00018147908647271662)\n",
      "('train_class_Cama G. Clase', 0.0)\n",
      "('train_class_Cama Turista', 0.0)\n",
      "('train_class_Preferente', 0.03622840393242531)\n",
      "('train_class_Turista', 0.04861132784670572)\n",
      "('train_class_Turista Plus', 0.001717731957705899)\n",
      "('train_class_Turista con enlace', 0.001041490359377717)\n",
      "('fare_Adulto ida', 3.607396224949958e-05)\n",
      "('fare_Flexible', 0.05322281196873511)\n",
      "('fare_Individual-Flexible', 0.0)\n",
      "('fare_Promo', 0.05241632287635343)\n",
      "('fare_Promo +', 8.724724339616241e-05)\n",
      "('insert_day_Friday', 0.0015308922017169752)\n",
      "('insert_day_Monday', 0.0022549482355942465)\n",
      "('insert_day_Saturday', 0.002111453690474643)\n",
      "('insert_day_Sunday', 0.002124554096800803)\n",
      "('insert_day_Thursday', 0.0014745892571354036)\n",
      "('insert_day_Tuesday', 0.0023669031997792453)\n",
      "('insert_day_Wednesday', 0.0018640728535694506)\n",
      "('start_day_Friday', 0.0014682330662364313)\n",
      "('start_day_Monday', 0.001822970574372259)\n",
      "('start_day_Saturday', 0.00245140672902979)\n",
      "('start_day_Sunday', 0.0030679589428076882)\n",
      "('start_day_Thursday', 0.0019555632151687452)\n",
      "('start_day_Tuesday', 0.0016090538183451376)\n",
      "('start_day_Wednesday', 0.001284230920899783)\n",
      "('end_day_Friday', 0.0017577970622104568)\n",
      "('end_day_Monday', 0.0016923315761106614)\n",
      "('end_day_Saturday', 0.001868767677477955)\n",
      "('end_day_Sunday', 0.0027236967432642772)\n",
      "('end_day_Thursday', 0.0018058279091424164)\n",
      "('end_day_Tuesday', 0.001683591798632996)\n",
      "('end_day_Wednesday', 0.001244150501281051)\n",
      "('insert_month_April', 0.0010395774982115216)\n",
      "('insert_month_May', 0.0010015757226644673)\n",
      "('start_month_April', 0.002257845130232536)\n",
      "('start_month_July', 0.0005125785907688077)\n",
      "('start_month_June', 0.001247031608772208)\n",
      "('start_month_May', 0.0010801947578838531)\n",
      "('end_month_April', 0.0022495113221037396)\n",
      "('end_month_July', 0.0004427837478909104)\n",
      "('end_month_June', 0.0011899130594781296)\n",
      "('end_month_May', 0.0011127530192556448)\n"
     ]
    }
   ],
   "source": [
    "# Print the name and gini importance of each feature\n",
    "for feature in zip(feature_names, rfmodel.feature_importances_):\n",
    "    print(feature)"
   ]
  },
  {
   "cell_type": "code",
   "execution_count": 62,
   "metadata": {},
   "outputs": [],
   "source": [
    "# Create a selector object that will use the random forest classifier to identify\n",
    "# features that have an importance of more than 0.01\n",
    "sfm = SelectFromModel(rfmodel, threshold=0.01)"
   ]
  },
  {
   "cell_type": "code",
   "execution_count": 63,
   "metadata": {},
   "outputs": [
    {
     "data": {
      "text/plain": [
       "SelectFromModel(estimator=RandomForestRegressor(bootstrap=True, criterion='mse', max_depth=None,\n",
       "           max_features='auto', max_leaf_nodes=None,\n",
       "           min_impurity_decrease=0.0, min_impurity_split=None,\n",
       "           min_samples_leaf=1, min_samples_split=2,\n",
       "           min_weight_fraction_leaf=0.0, n_estimators=200, n_jobs=None,\n",
       "           oob_score=False, random_state=123, verbose=0, warm_start=False),\n",
       "        max_features=None, norm_order=1, prefit=False, threshold=0.01)"
      ]
     },
     "execution_count": 63,
     "metadata": {},
     "output_type": "execute_result"
    }
   ],
   "source": [
    "# Train the selector\n",
    "sfm.fit(X_train, y_train)"
   ]
  },
  {
   "cell_type": "code",
   "execution_count": 64,
   "metadata": {},
   "outputs": [
    {
     "name": "stdout",
     "output_type": "stream",
     "text": [
      "Unnamed: 0\n",
      "V1\n",
      "traveltime_seconds\n",
      "origin_BARCELONA\n",
      "origin_SEVILLA\n",
      "destination_BARCELONA\n",
      "destination_SEVILLA\n",
      "train_type_ALVIA\n",
      "train_type_AVE\n",
      "train_class_Preferente\n",
      "train_class_Turista\n",
      "fare_Flexible\n",
      "fare_Promo\n"
     ]
    }
   ],
   "source": [
    "# Print the names of the most important features\n",
    "for feature_list_index in sfm.get_support(indices=True):\n",
    "    print(feature_names[feature_list_index])"
   ]
  },
  {
   "cell_type": "code",
   "execution_count": 65,
   "metadata": {},
   "outputs": [],
   "source": [
    "# DATA SUBSET WITH ONLY THE IMPORTANT FEATURES\n",
    "\n",
    "# Transform the data to create a new dataset containing only the most important features\n",
    "# Note: We have to apply the transform to both the training X and test X data.\n",
    "X_important_train = sfm.transform(X_train)\n",
    "X_important_test = sfm.transform(X_test)"
   ]
  },
  {
   "cell_type": "code",
   "execution_count": 66,
   "metadata": {},
   "outputs": [],
   "source": [
    "# save model to disk\n",
    "filename = 'rfmodel.sav'\n",
    "pickle.dump(rfmodel, open(filename, 'wb'))"
   ]
  },
  {
   "cell_type": "markdown",
   "metadata": {},
   "source": [
    "# XGBoost"
   ]
  },
  {
   "cell_type": "code",
   "execution_count": 67,
   "metadata": {},
   "outputs": [],
   "source": [
    "import xgboost\n",
    "from sklearn.metrics import explained_variance_score"
   ]
  },
  {
   "cell_type": "code",
   "execution_count": 68,
   "metadata": {},
   "outputs": [
    {
     "name": "stdout",
     "output_type": "stream",
     "text": [
      "[11:13:49] WARNING: C:/Jenkins/workspace/xgboost-win64_release_0.90/src/objective/regression_obj.cu:152: reg:linear is now deprecated in favor of reg:squarederror.\n"
     ]
    }
   ],
   "source": [
    "# State the model\n",
    "xgb = xgboost.XGBRegressor(n_estimators=100, learning_rate=0.08, gamma=0, subsample=0.75,\n",
    "                           colsample_bytree=1, max_depth=7)\n",
    "\n",
    "# Load the model instead of fitting it each time\n",
    "rfmodel = pickle.load(open('xgbmodel.sav', 'rb'))"
   ]
  },
  {
   "cell_type": "code",
   "execution_count": 69,
   "metadata": {
    "scrolled": true
   },
   "outputs": [
    {
     "name": "stdout",
     "output_type": "stream",
     "text": [
      "[11:13:49] WARNING: C:/Jenkins/workspace/xgboost-win64_release_0.90/src/objective/regression_obj.cu:152: reg:linear is now deprecated in favor of reg:squarederror.\n"
     ]
    }
   ],
   "source": [
    "# Train the model\n",
    "# xgbmodel = xgb.fit(X_train, y_train)\n",
    "\n",
    "# Load the model instead of fitting it each time\n",
    "xgbmodel = pickle.load(open('xgbmodel.sav', 'rb'))"
   ]
  },
  {
   "cell_type": "code",
   "execution_count": 70,
   "metadata": {},
   "outputs": [],
   "source": [
    "# Make predictions\n",
    "xgbpred = xgbmodel.predict(X_test)"
   ]
  },
  {
   "cell_type": "code",
   "execution_count": 71,
   "metadata": {},
   "outputs": [
    {
     "name": "stdout",
     "output_type": "stream",
     "text": [
      "0.8640318986854577\n"
     ]
    }
   ],
   "source": [
    "# RSQUARED\n",
    "print(explained_variance_score(xgbpred, y_test))"
   ]
  },
  {
   "cell_type": "code",
   "execution_count": 72,
   "metadata": {},
   "outputs": [
    {
     "name": "stdout",
     "output_type": "stream",
     "text": [
      "Mean squared error: 82.87\n"
     ]
    }
   ],
   "source": [
    "# MSE\n",
    "print(\"Mean squared error: %.2f\"\n",
    "      % mean_squared_error(xgbpred, y_test))"
   ]
  },
  {
   "cell_type": "code",
   "execution_count": 73,
   "metadata": {},
   "outputs": [
    {
     "name": "stdout",
     "output_type": "stream",
     "text": [
      "RMSE: 9.10\n"
     ]
    }
   ],
   "source": [
    "# RMSE\n",
    "print(\"RMSE: %.2f\"\n",
    "      % np.sqrt(mean_squared_error(xgbpred, y_test)))"
   ]
  },
  {
   "cell_type": "code",
   "execution_count": 74,
   "metadata": {},
   "outputs": [
    {
     "name": "stdout",
     "output_type": "stream",
     "text": [
      "R_squared: 0.86\n"
     ]
    }
   ],
   "source": [
    "# RSQUARED\n",
    "print('R_squared: %.2f' % r2_score(xgbpred, y_test))"
   ]
  },
  {
   "cell_type": "code",
   "execution_count": 75,
   "metadata": {},
   "outputs": [],
   "source": [
    "# Calculate mean absolute percentage error (MAPE)\n",
    "xgberrors = abs(xgbpred - y_test)\n",
    "xgbmape = 100 * (xgberrors / y_test)"
   ]
  },
  {
   "cell_type": "code",
   "execution_count": 76,
   "metadata": {},
   "outputs": [
    {
     "name": "stdout",
     "output_type": "stream",
     "text": [
      "Accuracy: 90.04 %.\n"
     ]
    }
   ],
   "source": [
    "# Calculate and display accuracy\n",
    "xgbaccuracy = 100 - np.mean(xgbmape)\n",
    "print('Accuracy:', round(xgbaccuracy, 2), '%.')"
   ]
  },
  {
   "cell_type": "code",
   "execution_count": 77,
   "metadata": {},
   "outputs": [],
   "source": [
    "# save model to disk\n",
    "filename = 'xgbmodel.sav'\n",
    "pickle.dump(xgbmodel, open(filename, 'wb'))"
   ]
  },
  {
   "cell_type": "markdown",
   "metadata": {},
   "source": [
    "# XGBoost Grid Search on the test/train"
   ]
  },
  {
   "cell_type": "code",
   "execution_count": 78,
   "metadata": {},
   "outputs": [],
   "source": [
    "# READ THIS\n",
    "    # https://www.datacamp.com/community/tutorials/xgboost-in-python"
   ]
  },
  {
   "cell_type": "code",
   "execution_count": 79,
   "metadata": {},
   "outputs": [],
   "source": [
    "from sklearn.model_selection import GridSearchCV\n",
    "from sklearn.model_selection import cross_val_predict\n",
    "from sklearn.model_selection import KFold\n",
    "from sklearn.model_selection import RandomizedSearchCV\n",
    "import scipy.stats as st"
   ]
  },
  {
   "cell_type": "code",
   "execution_count": 80,
   "metadata": {},
   "outputs": [],
   "source": [
    "# State the model\n",
    "xgbgs = xgboost.XGBRegressor()"
   ]
  },
  {
   "cell_type": "code",
   "execution_count": 81,
   "metadata": {},
   "outputs": [],
   "source": [
    "# Preparing parameter grid\n",
    "one_to_left = st.beta(10, 1)  \n",
    "from_zero_positive = st.expon(0, 100)\n",
    "\n",
    "params = {  \n",
    "    \"n_estimators\": st.randint(3, 200),\n",
    "    \"max_depth\": st.randint(3, 40),\n",
    "    \"learning_rate\": st.uniform(0.05, 0.1),\n",
    "    \"colsample_bytree\": one_to_left,\n",
    "    \"subsample\": one_to_left,\n",
    "    \"gamma\": st.uniform(0, 10),\n",
    "    'reg_alpha': from_zero_positive,\n",
    "    \"min_child_weight\": from_zero_positive,\n",
    "}\n",
    "\n",
    "params2 = {\n",
    "    \"n_estimators\": st.randint(3, 400),\n",
    "    \"max_depth\": st.randint(3, 100),\n",
    "    \"learning_rate\": st.uniform(0.05, 0.3),\n",
    "    \"colsample_bytree\": one_to_left,\n",
    "    \"subsample\": one_to_left,\n",
    "    \"gamma\": st.uniform(0, 0.2),\n",
    "    'reg_alpha': from_zero_positive,\n",
    "    \"min_child_weight\": from_zero_positive,\n",
    "}"
   ]
  },
  {
   "cell_type": "code",
   "execution_count": 82,
   "metadata": {},
   "outputs": [],
   "source": [
    "# Instantiating randomized grid search\n",
    "gs = RandomizedSearchCV(xgbgs, params2, n_jobs=5, cv=5)  "
   ]
  },
  {
   "cell_type": "code",
   "execution_count": 83,
   "metadata": {},
   "outputs": [
    {
     "name": "stderr",
     "output_type": "stream",
     "text": [
      "C:\\Users\\cholz\\Anaconda3\\lib\\site-packages\\xgboost\\core.py:587: FutureWarning: Series.base is deprecated and will be removed in a future version\n",
      "  if getattr(data, 'base', None) is not None and \\\n"
     ]
    },
    {
     "name": "stdout",
     "output_type": "stream",
     "text": [
      "[11:16:20] WARNING: C:/Jenkins/workspace/xgboost-win64_release_0.90/src/objective/regression_obj.cu:152: reg:linear is now deprecated in favor of reg:squarederror.\n"
     ]
    },
    {
     "data": {
      "text/plain": [
       "RandomizedSearchCV(cv=5, error_score='raise-deprecating',\n",
       "          estimator=XGBRegressor(base_score=0.5, booster='gbtree', colsample_bylevel=1,\n",
       "       colsample_bynode=1, colsample_bytree=1, gamma=0,\n",
       "       importance_type='gain', learning_rate=0.1, max_delta_step=0,\n",
       "       max_depth=3, min_child_weight=1, missing=None, n_estimators=100,\n",
       "       n_jobs=1, nthread=None, objective='reg:linear', random_state=0,\n",
       "       reg_alpha=0, reg_lambda=1, scale_pos_weight=1, seed=None,\n",
       "       silent=None, subsample=1, verbosity=1),\n",
       "          fit_params=None, iid='warn', n_iter=10, n_jobs=5,\n",
       "          param_distributions={'n_estimators': <scipy.stats._distn_infrastructure.rv_frozen object at 0x00000231AFC07128>, 'max_depth': <scipy.stats._distn_infrastructure.rv_frozen object at 0x00000231AFC07A58>, 'learning_rate': <scipy.stats._distn_infrastructure.rv_frozen object at 0x00000231AFC07BE0>, 'cols...70>, 'min_child_weight': <scipy.stats._distn_infrastructure.rv_frozen object at 0x00000231AFB6BB70>},\n",
       "          pre_dispatch='2*n_jobs', random_state=None, refit=True,\n",
       "          return_train_score='warn', scoring=None, verbose=0)"
      ]
     },
     "execution_count": 83,
     "metadata": {},
     "output_type": "execute_result"
    }
   ],
   "source": [
    "# Fitting the model and the grid\n",
    "gs.fit(X_train, y_train)"
   ]
  },
  {
   "cell_type": "code",
   "execution_count": 84,
   "metadata": {},
   "outputs": [
    {
     "data": {
      "text/plain": [
       "{'colsample_bytree': 0.9805895598918279,\n",
       " 'gamma': 0.13419018576176994,\n",
       " 'learning_rate': 0.05321046884562404,\n",
       " 'max_depth': 15,\n",
       " 'min_child_weight': 24.57719271105743,\n",
       " 'n_estimators': 260,\n",
       " 'reg_alpha': 77.94522545630309,\n",
       " 'subsample': 0.9095786176240308}"
      ]
     },
     "execution_count": 84,
     "metadata": {},
     "output_type": "execute_result"
    }
   ],
   "source": [
    "# Displaying best parameters\n",
    "bestxgb_params = gs.best_params_\n",
    "bestxgb_params"
   ]
  },
  {
   "cell_type": "code",
   "execution_count": 85,
   "metadata": {},
   "outputs": [],
   "source": [
    "# New model\n",
    "xgb_best = xgboost.XGBRegressor(colsample_bytree=0.7986306694454575,\n",
    " gamma=0.008783023184115057,\n",
    " learning_rate=0.1522743685057763,\n",
    " max_depth=46,\n",
    " min_child_weight=61.276714293435155,\n",
    " n_estimators=388,\n",
    " reg_alpha=95.34130218741632,\n",
    " subsample=0.9695758721284863)"
   ]
  },
  {
   "cell_type": "code",
   "execution_count": 91,
   "metadata": {},
   "outputs": [
    {
     "name": "stdout",
     "output_type": "stream",
     "text": [
      "[11:22:32] WARNING: C:/Jenkins/workspace/xgboost-win64_release_0.90/src/objective/regression_obj.cu:152: reg:linear is now deprecated in favor of reg:squarederror.\n"
     ]
    }
   ],
   "source": [
    "# Train the model\n",
    "# xgb2_model = xgb_best.fit(X_train, y_train)\n",
    "\n",
    "# Load the model instead of fitting it each time\n",
    "xgb2_model = pickle.load(open('xgb_best.sav', 'rb'))"
   ]
  },
  {
   "cell_type": "code",
   "execution_count": 92,
   "metadata": {},
   "outputs": [],
   "source": [
    "# Make predictions\n",
    "xgb2pred = xgb2_model.predict(X_test)"
   ]
  },
  {
   "cell_type": "code",
   "execution_count": 93,
   "metadata": {},
   "outputs": [
    {
     "name": "stdout",
     "output_type": "stream",
     "text": [
      "0.8564662445487086\n"
     ]
    }
   ],
   "source": [
    "# RSQUARED\n",
    "print(explained_variance_score(xgb2pred, y_test))"
   ]
  },
  {
   "cell_type": "code",
   "execution_count": 94,
   "metadata": {},
   "outputs": [
    {
     "name": "stdout",
     "output_type": "stream",
     "text": [
      "Mean squared error: 89.22\n"
     ]
    }
   ],
   "source": [
    "# MSE\n",
    "print(\"Mean squared error: %.2f\"\n",
    "      % mean_squared_error(xgb2pred, y_test))"
   ]
  },
  {
   "cell_type": "code",
   "execution_count": 95,
   "metadata": {},
   "outputs": [
    {
     "name": "stdout",
     "output_type": "stream",
     "text": [
      "RMSE: 9.45\n"
     ]
    }
   ],
   "source": [
    "# RMSE\n",
    "print(\"RMSE: %.2f\"\n",
    "      % np.sqrt(mean_squared_error(xgb2pred, y_test)))"
   ]
  },
  {
   "cell_type": "code",
   "execution_count": 96,
   "metadata": {},
   "outputs": [
    {
     "name": "stdout",
     "output_type": "stream",
     "text": [
      "R_squared: 0.86\n"
     ]
    }
   ],
   "source": [
    "# RSQUARED\n",
    "print('R_squared: %.2f' % r2_score(xgb2pred, y_test))"
   ]
  },
  {
   "cell_type": "code",
   "execution_count": 97,
   "metadata": {},
   "outputs": [],
   "source": [
    "# Calculate mean absolute percentage error (MAPE)\n",
    "xgb2errors = abs(xgb2pred - y_test)\n",
    "xgb2mape = 100 * (xgb2errors / y_test)"
   ]
  },
  {
   "cell_type": "code",
   "execution_count": 98,
   "metadata": {},
   "outputs": [
    {
     "name": "stdout",
     "output_type": "stream",
     "text": [
      "Accuracy: 89.32 %.\n"
     ]
    }
   ],
   "source": [
    "# Calculate and display accuracy\n",
    "xgb2accuracy = 100 - np.mean(xgb2mape)\n",
    "print('Accuracy:', round(xgb2accuracy, 2), '%.')"
   ]
  },
  {
   "cell_type": "code",
   "execution_count": 99,
   "metadata": {},
   "outputs": [],
   "source": [
    "# We overfitted the model. Let's try XGBoost with Cross Validation next."
   ]
  },
  {
   "cell_type": "code",
   "execution_count": 100,
   "metadata": {},
   "outputs": [],
   "source": [
    "# save model to disk\n",
    "filename = 'xgb_best.sav'\n",
    "pickle.dump(xgb_best, open(filename, 'wb'))"
   ]
  },
  {
   "cell_type": "markdown",
   "metadata": {},
   "source": [
    "# XGBoost Cross Validation"
   ]
  },
  {
   "cell_type": "code",
   "execution_count": 101,
   "metadata": {},
   "outputs": [],
   "source": [
    "# documentation here:\n",
    "    # https://scikit-learn.org/stable/modules/cross_validation.html"
   ]
  },
  {
   "cell_type": "code",
   "execution_count": 102,
   "metadata": {},
   "outputs": [],
   "source": [
    "from xgboost.sklearn import XGBRegressor\n",
    "from sklearn.model_selection import cross_val_score\n",
    "from sklearn import metrics"
   ]
  },
  {
   "cell_type": "code",
   "execution_count": 103,
   "metadata": {},
   "outputs": [
    {
     "name": "stderr",
     "output_type": "stream",
     "text": [
      "C:\\Users\\cholz\\Anaconda3\\lib\\site-packages\\xgboost\\core.py:587: FutureWarning: Series.base is deprecated and will be removed in a future version\n",
      "  if getattr(data, 'base', None) is not None and \\\n"
     ]
    },
    {
     "name": "stdout",
     "output_type": "stream",
     "text": [
      "[11:22:38] WARNING: C:/Jenkins/workspace/xgboost-win64_release_0.90/src/objective/regression_obj.cu:152: reg:linear is now deprecated in favor of reg:squarederror.\n"
     ]
    },
    {
     "name": "stderr",
     "output_type": "stream",
     "text": [
      "C:\\Users\\cholz\\Anaconda3\\lib\\site-packages\\xgboost\\core.py:587: FutureWarning: Series.base is deprecated and will be removed in a future version\n",
      "  if getattr(data, 'base', None) is not None and \\\n"
     ]
    },
    {
     "name": "stdout",
     "output_type": "stream",
     "text": [
      "[11:22:43] WARNING: C:/Jenkins/workspace/xgboost-win64_release_0.90/src/objective/regression_obj.cu:152: reg:linear is now deprecated in favor of reg:squarederror.\n"
     ]
    },
    {
     "name": "stderr",
     "output_type": "stream",
     "text": [
      "C:\\Users\\cholz\\Anaconda3\\lib\\site-packages\\xgboost\\core.py:587: FutureWarning: Series.base is deprecated and will be removed in a future version\n",
      "  if getattr(data, 'base', None) is not None and \\\n"
     ]
    },
    {
     "name": "stdout",
     "output_type": "stream",
     "text": [
      "[11:22:48] WARNING: C:/Jenkins/workspace/xgboost-win64_release_0.90/src/objective/regression_obj.cu:152: reg:linear is now deprecated in favor of reg:squarederror.\n"
     ]
    },
    {
     "name": "stderr",
     "output_type": "stream",
     "text": [
      "C:\\Users\\cholz\\Anaconda3\\lib\\site-packages\\xgboost\\core.py:587: FutureWarning: Series.base is deprecated and will be removed in a future version\n",
      "  if getattr(data, 'base', None) is not None and \\\n"
     ]
    },
    {
     "name": "stdout",
     "output_type": "stream",
     "text": [
      "[11:22:53] WARNING: C:/Jenkins/workspace/xgboost-win64_release_0.90/src/objective/regression_obj.cu:152: reg:linear is now deprecated in favor of reg:squarederror.\n"
     ]
    },
    {
     "name": "stderr",
     "output_type": "stream",
     "text": [
      "C:\\Users\\cholz\\Anaconda3\\lib\\site-packages\\xgboost\\core.py:587: FutureWarning: Series.base is deprecated and will be removed in a future version\n",
      "  if getattr(data, 'base', None) is not None and \\\n"
     ]
    },
    {
     "name": "stdout",
     "output_type": "stream",
     "text": [
      "[11:22:59] WARNING: C:/Jenkins/workspace/xgboost-win64_release_0.90/src/objective/regression_obj.cu:152: reg:linear is now deprecated in favor of reg:squarederror.\n"
     ]
    },
    {
     "name": "stderr",
     "output_type": "stream",
     "text": [
      "C:\\Users\\cholz\\Anaconda3\\lib\\site-packages\\xgboost\\core.py:587: FutureWarning: Series.base is deprecated and will be removed in a future version\n",
      "  if getattr(data, 'base', None) is not None and \\\n"
     ]
    },
    {
     "name": "stdout",
     "output_type": "stream",
     "text": [
      "[11:23:04] WARNING: C:/Jenkins/workspace/xgboost-win64_release_0.90/src/objective/regression_obj.cu:152: reg:linear is now deprecated in favor of reg:squarederror.\n"
     ]
    },
    {
     "name": "stderr",
     "output_type": "stream",
     "text": [
      "C:\\Users\\cholz\\Anaconda3\\lib\\site-packages\\xgboost\\core.py:587: FutureWarning: Series.base is deprecated and will be removed in a future version\n",
      "  if getattr(data, 'base', None) is not None and \\\n"
     ]
    },
    {
     "name": "stdout",
     "output_type": "stream",
     "text": [
      "[11:23:29] WARNING: C:/Jenkins/workspace/xgboost-win64_release_0.90/src/objective/regression_obj.cu:152: reg:linear is now deprecated in favor of reg:squarederror.\n"
     ]
    },
    {
     "name": "stderr",
     "output_type": "stream",
     "text": [
      "C:\\Users\\cholz\\Anaconda3\\lib\\site-packages\\xgboost\\core.py:587: FutureWarning: Series.base is deprecated and will be removed in a future version\n",
      "  if getattr(data, 'base', None) is not None and \\\n"
     ]
    },
    {
     "name": "stdout",
     "output_type": "stream",
     "text": [
      "[11:23:54] WARNING: C:/Jenkins/workspace/xgboost-win64_release_0.90/src/objective/regression_obj.cu:152: reg:linear is now deprecated in favor of reg:squarederror.\n"
     ]
    },
    {
     "name": "stderr",
     "output_type": "stream",
     "text": [
      "C:\\Users\\cholz\\Anaconda3\\lib\\site-packages\\xgboost\\core.py:587: FutureWarning: Series.base is deprecated and will be removed in a future version\n",
      "  if getattr(data, 'base', None) is not None and \\\n"
     ]
    },
    {
     "name": "stdout",
     "output_type": "stream",
     "text": [
      "[11:24:18] WARNING: C:/Jenkins/workspace/xgboost-win64_release_0.90/src/objective/regression_obj.cu:152: reg:linear is now deprecated in favor of reg:squarederror.\n"
     ]
    },
    {
     "name": "stderr",
     "output_type": "stream",
     "text": [
      "C:\\Users\\cholz\\Anaconda3\\lib\\site-packages\\xgboost\\core.py:587: FutureWarning: Series.base is deprecated and will be removed in a future version\n",
      "  if getattr(data, 'base', None) is not None and \\\n"
     ]
    },
    {
     "name": "stdout",
     "output_type": "stream",
     "text": [
      "[11:24:43] WARNING: C:/Jenkins/workspace/xgboost-win64_release_0.90/src/objective/regression_obj.cu:152: reg:linear is now deprecated in favor of reg:squarederror.\n"
     ]
    }
   ],
   "source": [
    "# Evaluating base model vs grid model\n",
    "scores_base = cross_val_score(xgbmodel, X_train, y_train, cv=5)\n",
    "scores_grid = cross_val_score(xgb2_model, X_train, y_train, cv=5)"
   ]
  },
  {
   "cell_type": "code",
   "execution_count": 104,
   "metadata": {},
   "outputs": [
    {
     "name": "stdout",
     "output_type": "stream",
     "text": [
      "Accuracy Base Model: 0.89 (+/- 0.01)\n",
      "Accuracy Grid Model: 0.88 (+/- 0.01)\n"
     ]
    }
   ],
   "source": [
    "print(\"Accuracy Base Model: %0.2f (+/- %0.2f)\" % (scores_base.mean(), scores_base.std() * 2))\n",
    "print(\"Accuracy Grid Model: %0.2f (+/- %0.2f)\" % (scores_grid.mean(), scores_grid.std() * 2))"
   ]
  },
  {
   "cell_type": "markdown",
   "metadata": {},
   "source": [
    "# Neural Network"
   ]
  },
  {
   "cell_type": "code",
   "execution_count": 120,
   "metadata": {},
   "outputs": [],
   "source": [
    "import numpy as np\n",
    "from keras.layers import Dense, Activation\n",
    "from keras.models import Sequential\n",
    "from sklearn.model_selection import train_test_split\n",
    "import matplotlib.pyplot as plt"
   ]
  },
  {
   "cell_type": "code",
   "execution_count": 121,
   "metadata": {},
   "outputs": [
    {
     "data": {
      "text/plain": [
       "14"
      ]
     },
     "execution_count": 121,
     "metadata": {},
     "output_type": "execute_result"
    }
   ],
   "source": [
    "# Usually it's a good practice to apply following formula in order to find out the total number\n",
    "# of hidden layers needed.\n",
    "\n",
    "# Nh = Ns/(α∗ (Ni + No))\n",
    "\n",
    "# where\n",
    "    # Ni = number of input neurons.\n",
    "    # No = number of output neurons.\n",
    "    # Ns = number of samples in training data set.\n",
    "    # α = an arbitrary scaling factor usually 2-10.\n",
    "\n",
    "nh = round(len(X_train)/(7 * (X_train.shape[1] + 1)))\n",
    "nh"
   ]
  },
  {
   "cell_type": "code",
   "execution_count": 122,
   "metadata": {},
   "outputs": [
    {
     "name": "stderr",
     "output_type": "stream",
     "text": [
      "C:\\Users\\cholz\\Anaconda3\\lib\\site-packages\\sklearn\\preprocessing\\data.py:645: DataConversionWarning: Data with input dtype uint8, int64 were all converted to float64 by StandardScaler.\n",
      "  return self.partial_fit(X, y)\n",
      "C:\\Users\\cholz\\Anaconda3\\lib\\site-packages\\sklearn\\base.py:464: DataConversionWarning: Data with input dtype uint8, int64 were all converted to float64 by StandardScaler.\n",
      "  return self.fit(X, **fit_params).transform(X)\n",
      "C:\\Users\\cholz\\Anaconda3\\lib\\site-packages\\ipykernel_launcher.py:5: DataConversionWarning: Data with input dtype uint8, int64 were all converted to float64 by StandardScaler.\n",
      "  \"\"\"\n"
     ]
    }
   ],
   "source": [
    "# Feature Scaling\n",
    "from sklearn.preprocessing import StandardScaler\n",
    "sc = StandardScaler()\n",
    "X_train_sc = sc.fit_transform(X_train)\n",
    "X_test_sc = sc.transform(X_test)"
   ]
  },
  {
   "cell_type": "code",
   "execution_count": 123,
   "metadata": {},
   "outputs": [],
   "source": [
    "# Initialising the ANN\n",
    "nn = Sequential()\n",
    "\n",
    "# Adding the input layer and the first hidden layer\n",
    "nn.add(Dense(70, activation = 'relu', input_dim = 70))\n",
    "\n",
    "# Adding the second hidden layer\n",
    "nn.add(Dense(units = 70, activation = 'relu'))\n",
    "\n",
    "# Adding the third hidden layer\n",
    "nn.add(Dense(units = 70, activation = 'relu'))\n",
    "\n",
    "# Adding the output layer\n",
    "nn.add(Dense(units = 1))\n",
    "\n",
    "#model.add(Dense(1))\n",
    "# Compiling the ANN\n",
    "nn.compile(optimizer = 'adam', loss = 'mean_squared_error')"
   ]
  },
  {
   "cell_type": "code",
   "execution_count": 124,
   "metadata": {},
   "outputs": [],
   "source": [
    "# Fitting the ANN to the Training set\n",
    "nnmodel = nn.fit(X_train_sc, y_train, batch_size = 10, epochs = 100)\n",
    "\n",
    "# Load the model instead of fitting it each time\n",
    "#nnmodel = pickle.load(open('nnmodel.sav', 'rb'))"
   ]
  },
  {
   "cell_type": "code",
   "execution_count": 125,
   "metadata": {},
   "outputs": [],
   "source": [
    "# Make predictions\n",
    "nnpred = nn.predict(X_test)"
   ]
  },
  {
   "cell_type": "code",
   "execution_count": 126,
   "metadata": {},
   "outputs": [],
   "source": [
    "# unnest predictions\n",
    "from itertools import chain\n",
    "nnpred = list(chain.from_iterable(nnpred))"
   ]
  },
  {
   "cell_type": "code",
   "execution_count": 127,
   "metadata": {},
   "outputs": [
    {
     "name": "stdout",
     "output_type": "stream",
     "text": [
      "-0.00015442406853516388\n"
     ]
    }
   ],
   "source": [
    "# RSQUARED\n",
    "print(explained_variance_score(nnpred, y_test))"
   ]
  },
  {
   "cell_type": "code",
   "execution_count": 128,
   "metadata": {},
   "outputs": [
    {
     "name": "stdout",
     "output_type": "stream",
     "text": [
      "Mean squared error: 434183512.04\n"
     ]
    }
   ],
   "source": [
    "# MSE\n",
    "print(\"Mean squared error: %.2f\"\n",
    "      % mean_squared_error(nnpred, y_test))"
   ]
  },
  {
   "cell_type": "code",
   "execution_count": 129,
   "metadata": {},
   "outputs": [
    {
     "name": "stdout",
     "output_type": "stream",
     "text": [
      "RMSE: 20837.07\n"
     ]
    }
   ],
   "source": [
    "# RMSE\n",
    "print(\"RMSE: %.2f\"\n",
    "      % np.sqrt(mean_squared_error(nnpred, y_test)))"
   ]
  },
  {
   "cell_type": "code",
   "execution_count": 130,
   "metadata": {},
   "outputs": [
    {
     "name": "stdout",
     "output_type": "stream",
     "text": [
      "R_squared: -2.61\n"
     ]
    }
   ],
   "source": [
    "# RSQUARED\n",
    "print('R_squared: %.2f' % r2_score(nnpred, y_test))"
   ]
  },
  {
   "cell_type": "code",
   "execution_count": 131,
   "metadata": {},
   "outputs": [],
   "source": [
    "# Calculate mean absolute percentage error (MAPE)\n",
    "nnerrors = abs(nnpred - y_test)\n",
    "nnmape = 100 * (nnerrors / y_test)"
   ]
  },
  {
   "cell_type": "code",
   "execution_count": 132,
   "metadata": {},
   "outputs": [
    {
     "name": "stdout",
     "output_type": "stream",
     "text": [
      "Accuracy: -33021.63 %.\n"
     ]
    }
   ],
   "source": [
    "# Calculate and display accuracy\n",
    "nnaccuracy = 100 - np.mean(nnmape)\n",
    "print('Accuracy:', round(nnaccuracy, 2), '%.')"
   ]
  },
  {
   "cell_type": "code",
   "execution_count": 133,
   "metadata": {},
   "outputs": [
    {
     "data": {
      "image/png": "[encoded data removed]",
      "text/plain": [
       "<Figure size 720x360 with 1 Axes>"
      ]
     },
     "metadata": {
      "needs_background": "light"
     },
     "output_type": "display_data"
    }
   ],
   "source": [
    "# plot training progress\n",
    "plt.plot(y_test, color = 'red', label = 'Real data')\n",
    "plt.plot(nnpred, color = 'blue', label = 'Predicted data')\n",
    "plt.title('Prediction')\n",
    "plt.legend()\n",
    "plt.show()"
   ]
  },
  {
   "cell_type": "code",
   "execution_count": 134,
   "metadata": {},
   "outputs": [],
   "source": [
    "# save model to disk\n",
    "filename = 'nnmodel.sav'\n",
    "pickle.dump(nnmodel, open(filename, 'wb'))"
   ]
  },
  {
   "cell_type": "markdown",
   "metadata": {},
   "source": [
    "# Plotting all predictions"
   ]
  },
  {
   "cell_type": "code",
   "execution_count": 145,
   "metadata": {},
   "outputs": [],
   "source": [
    "import seaborn as sns"
   ]
  },
  {
   "cell_type": "code",
   "execution_count": 136,
   "metadata": {},
   "outputs": [],
   "source": [
    "predplot = pd.DataFrame({'real data': y_test,\n",
    "                         'linear model': predlin,\n",
    "                         'random forest': predrf,\n",
    "                         'xgboost': xgbpred,\n",
    "                         'xgboost gridsearch': xgb2pred,\n",
    "                         'neural network': nnpred})"
   ]
  },
  {
   "cell_type": "code",
   "execution_count": 153,
   "metadata": {},
   "outputs": [
    {
     "data": {
      "text/plain": [
       "<matplotlib.axes._subplots.AxesSubplot at 0x231c11eb198>"
      ]
     },
     "execution_count": 153,
     "metadata": {},
     "output_type": "execute_result"
    },
    {
     "data": {
      "image/png": "[encoded data removed]",
      "text/plain": [
       "<Figure size 720x360 with 1 Axes>"
      ]
     },
     "metadata": {
      "needs_background": "light"
     },
     "output_type": "display_data"
    }
   ],
   "source": [
    "predplot.reset_index().plot(x='index',\n",
    "                            y=['real data', 'linear model',\n",
    "                               'random forest', 'xgboost',\n",
    "                               'xgboost gridsearch', 'neural network'],\n",
    "                            linestyle='none',\n",
    "                            marker='x',\n",
    "                            alpha=.7)"
   ]
  },
  {
   "cell_type": "code",
   "execution_count": 138,
   "metadata": {},
   "outputs": [
    {
     "data": {
      "text/html": [
       "<div>\n",
       "<style scoped>\n",
       "    .dataframe tbody tr th:only-of-type {\n",
       "        vertical-align: middle;\n",
       "    }\n",
       "\n",
       "    .dataframe tbody tr th {\n",
       "        vertical-align: top;\n",
       "    }\n",
       "\n",
       "    .dataframe thead th {\n",
       "        text-align: right;\n",
       "    }\n",
       "</style>\n",
       "<table border=\"1\" class=\"dataframe\">\n",
       "  <thead>\n",
       "    <tr style=\"text-align: right;\">\n",
       "      <th></th>\n",
       "      <th>real data</th>\n",
       "      <th>linear model</th>\n",
       "      <th>random forest</th>\n",
       "      <th>xgboost</th>\n",
       "      <th>xgboost gridsearch</th>\n",
       "      <th>neural network</th>\n",
       "    </tr>\n",
       "  </thead>\n",
       "  <tbody>\n",
       "    <tr>\n",
       "      <th>7974</th>\n",
       "      <td>33.65</td>\n",
       "      <td>40.989573</td>\n",
       "      <td>36.96300</td>\n",
       "      <td>37.379406</td>\n",
       "      <td>35.849976</td>\n",
       "      <td>-15725.441406</td>\n",
       "    </tr>\n",
       "    <tr>\n",
       "      <th>2635</th>\n",
       "      <td>21.95</td>\n",
       "      <td>40.703901</td>\n",
       "      <td>35.59750</td>\n",
       "      <td>38.045025</td>\n",
       "      <td>39.805588</td>\n",
       "      <td>-35305.718750</td>\n",
       "    </tr>\n",
       "    <tr>\n",
       "      <th>2967</th>\n",
       "      <td>43.25</td>\n",
       "      <td>45.217880</td>\n",
       "      <td>43.25000</td>\n",
       "      <td>43.426487</td>\n",
       "      <td>43.074169</td>\n",
       "      <td>-28800.660156</td>\n",
       "    </tr>\n",
       "    <tr>\n",
       "      <th>3604</th>\n",
       "      <td>27.80</td>\n",
       "      <td>41.718151</td>\n",
       "      <td>34.95175</td>\n",
       "      <td>34.368744</td>\n",
       "      <td>35.175423</td>\n",
       "      <td>-16093.612305</td>\n",
       "    </tr>\n",
       "    <tr>\n",
       "      <th>1144</th>\n",
       "      <td>85.10</td>\n",
       "      <td>77.999041</td>\n",
       "      <td>77.67375</td>\n",
       "      <td>77.425713</td>\n",
       "      <td>75.357376</td>\n",
       "      <td>-32472.283203</td>\n",
       "    </tr>\n",
       "    <tr>\n",
       "      <th>2296</th>\n",
       "      <td>28.35</td>\n",
       "      <td>30.965276</td>\n",
       "      <td>28.35000</td>\n",
       "      <td>27.922184</td>\n",
       "      <td>26.747303</td>\n",
       "      <td>-33114.003906</td>\n",
       "    </tr>\n",
       "    <tr>\n",
       "      <th>6187</th>\n",
       "      <td>66.55</td>\n",
       "      <td>63.649020</td>\n",
       "      <td>66.35825</td>\n",
       "      <td>66.243202</td>\n",
       "      <td>65.071617</td>\n",
       "      <td>-7621.073242</td>\n",
       "    </tr>\n",
       "    <tr>\n",
       "      <th>362</th>\n",
       "      <td>143.40</td>\n",
       "      <td>104.143938</td>\n",
       "      <td>94.34425</td>\n",
       "      <td>90.876656</td>\n",
       "      <td>94.844688</td>\n",
       "      <td>-32255.988281</td>\n",
       "    </tr>\n",
       "    <tr>\n",
       "      <th>4945</th>\n",
       "      <td>102.15</td>\n",
       "      <td>89.075986</td>\n",
       "      <td>92.94725</td>\n",
       "      <td>94.163948</td>\n",
       "      <td>92.977112</td>\n",
       "      <td>-4313.677734</td>\n",
       "    </tr>\n",
       "    <tr>\n",
       "      <th>9943</th>\n",
       "      <td>28.35</td>\n",
       "      <td>27.325038</td>\n",
       "      <td>28.35000</td>\n",
       "      <td>27.970875</td>\n",
       "      <td>28.107878</td>\n",
       "      <td>-21629.277344</td>\n",
       "    </tr>\n",
       "    <tr>\n",
       "      <th>8726</th>\n",
       "      <td>100.40</td>\n",
       "      <td>79.331338</td>\n",
       "      <td>87.72775</td>\n",
       "      <td>86.960175</td>\n",
       "      <td>91.929710</td>\n",
       "      <td>-12329.427734</td>\n",
       "    </tr>\n",
       "    <tr>\n",
       "      <th>7154</th>\n",
       "      <td>39.45</td>\n",
       "      <td>42.692026</td>\n",
       "      <td>50.28325</td>\n",
       "      <td>49.608631</td>\n",
       "      <td>48.258125</td>\n",
       "      <td>-8675.387695</td>\n",
       "    </tr>\n",
       "    <tr>\n",
       "      <th>6504</th>\n",
       "      <td>76.30</td>\n",
       "      <td>78.378453</td>\n",
       "      <td>76.30000</td>\n",
       "      <td>75.600464</td>\n",
       "      <td>75.310814</td>\n",
       "      <td>-22757.583984</td>\n",
       "    </tr>\n",
       "    <tr>\n",
       "      <th>2668</th>\n",
       "      <td>88.95</td>\n",
       "      <td>79.889649</td>\n",
       "      <td>77.29625</td>\n",
       "      <td>82.446510</td>\n",
       "      <td>77.991585</td>\n",
       "      <td>-15987.333984</td>\n",
       "    </tr>\n",
       "    <tr>\n",
       "      <th>5600</th>\n",
       "      <td>75.40</td>\n",
       "      <td>80.040613</td>\n",
       "      <td>75.48400</td>\n",
       "      <td>76.225449</td>\n",
       "      <td>75.982857</td>\n",
       "      <td>-21866.751953</td>\n",
       "    </tr>\n",
       "    <tr>\n",
       "      <th>7112</th>\n",
       "      <td>52.50</td>\n",
       "      <td>56.737747</td>\n",
       "      <td>52.50400</td>\n",
       "      <td>51.650124</td>\n",
       "      <td>52.026554</td>\n",
       "      <td>-5960.160156</td>\n",
       "    </tr>\n",
       "    <tr>\n",
       "      <th>6193</th>\n",
       "      <td>29.90</td>\n",
       "      <td>26.058921</td>\n",
       "      <td>28.11900</td>\n",
       "      <td>27.501621</td>\n",
       "      <td>26.397577</td>\n",
       "      <td>-5855.145020</td>\n",
       "    </tr>\n",
       "    <tr>\n",
       "      <th>5239</th>\n",
       "      <td>28.35</td>\n",
       "      <td>33.466816</td>\n",
       "      <td>28.35000</td>\n",
       "      <td>28.832893</td>\n",
       "      <td>29.426079</td>\n",
       "      <td>-15733.656250</td>\n",
       "    </tr>\n",
       "    <tr>\n",
       "      <th>1905</th>\n",
       "      <td>58.15</td>\n",
       "      <td>78.653284</td>\n",
       "      <td>70.78580</td>\n",
       "      <td>70.566254</td>\n",
       "      <td>72.081131</td>\n",
       "      <td>-1132.310425</td>\n",
       "    </tr>\n",
       "    <tr>\n",
       "      <th>2585</th>\n",
       "      <td>107.70</td>\n",
       "      <td>110.191992</td>\n",
       "      <td>107.70000</td>\n",
       "      <td>105.547302</td>\n",
       "      <td>108.811203</td>\n",
       "      <td>274.168640</td>\n",
       "    </tr>\n",
       "    <tr>\n",
       "      <th>5922</th>\n",
       "      <td>100.40</td>\n",
       "      <td>77.506924</td>\n",
       "      <td>87.46100</td>\n",
       "      <td>85.293991</td>\n",
       "      <td>82.477982</td>\n",
       "      <td>-3106.262939</td>\n",
       "    </tr>\n",
       "    <tr>\n",
       "      <th>4190</th>\n",
       "      <td>76.30</td>\n",
       "      <td>81.176427</td>\n",
       "      <td>76.30000</td>\n",
       "      <td>76.571991</td>\n",
       "      <td>75.686005</td>\n",
       "      <td>-3880.687256</td>\n",
       "    </tr>\n",
       "    <tr>\n",
       "      <th>6430</th>\n",
       "      <td>181.50</td>\n",
       "      <td>128.973119</td>\n",
       "      <td>184.90200</td>\n",
       "      <td>173.547455</td>\n",
       "      <td>164.954025</td>\n",
       "      <td>-17231.134766</td>\n",
       "    </tr>\n",
       "    <tr>\n",
       "      <th>5350</th>\n",
       "      <td>28.35</td>\n",
       "      <td>24.726391</td>\n",
       "      <td>28.35000</td>\n",
       "      <td>28.098679</td>\n",
       "      <td>27.193686</td>\n",
       "      <td>-9465.392578</td>\n",
       "    </tr>\n",
       "    <tr>\n",
       "      <th>4154</th>\n",
       "      <td>60.30</td>\n",
       "      <td>47.900922</td>\n",
       "      <td>54.65650</td>\n",
       "      <td>54.195892</td>\n",
       "      <td>51.735420</td>\n",
       "      <td>-7723.034668</td>\n",
       "    </tr>\n",
       "    <tr>\n",
       "      <th>1757</th>\n",
       "      <td>59.60</td>\n",
       "      <td>67.154142</td>\n",
       "      <td>59.60000</td>\n",
       "      <td>60.185719</td>\n",
       "      <td>61.015953</td>\n",
       "      <td>-36213.078125</td>\n",
       "    </tr>\n",
       "    <tr>\n",
       "      <th>6698</th>\n",
       "      <td>27.90</td>\n",
       "      <td>32.334693</td>\n",
       "      <td>33.53750</td>\n",
       "      <td>33.145550</td>\n",
       "      <td>35.577637</td>\n",
       "      <td>-28751.294922</td>\n",
       "    </tr>\n",
       "    <tr>\n",
       "      <th>9699</th>\n",
       "      <td>49.15</td>\n",
       "      <td>42.780125</td>\n",
       "      <td>46.25400</td>\n",
       "      <td>44.862892</td>\n",
       "      <td>42.861332</td>\n",
       "      <td>-36418.386719</td>\n",
       "    </tr>\n",
       "    <tr>\n",
       "      <th>9083</th>\n",
       "      <td>57.75</td>\n",
       "      <td>43.032693</td>\n",
       "      <td>37.98925</td>\n",
       "      <td>40.684887</td>\n",
       "      <td>40.472710</td>\n",
       "      <td>-30567.617188</td>\n",
       "    </tr>\n",
       "    <tr>\n",
       "      <th>1884</th>\n",
       "      <td>49.15</td>\n",
       "      <td>45.734326</td>\n",
       "      <td>46.54300</td>\n",
       "      <td>47.720905</td>\n",
       "      <td>44.519936</td>\n",
       "      <td>-13784.245117</td>\n",
       "    </tr>\n",
       "    <tr>\n",
       "      <th>...</th>\n",
       "      <td>...</td>\n",
       "      <td>...</td>\n",
       "      <td>...</td>\n",
       "      <td>...</td>\n",
       "      <td>...</td>\n",
       "      <td>...</td>\n",
       "    </tr>\n",
       "    <tr>\n",
       "      <th>1992</th>\n",
       "      <td>36.05</td>\n",
       "      <td>32.571867</td>\n",
       "      <td>34.62475</td>\n",
       "      <td>32.816925</td>\n",
       "      <td>32.148373</td>\n",
       "      <td>-11873.916992</td>\n",
       "    </tr>\n",
       "    <tr>\n",
       "      <th>5088</th>\n",
       "      <td>28.35</td>\n",
       "      <td>30.330327</td>\n",
       "      <td>28.35000</td>\n",
       "      <td>28.798098</td>\n",
       "      <td>28.863146</td>\n",
       "      <td>-14730.145508</td>\n",
       "    </tr>\n",
       "    <tr>\n",
       "      <th>2803</th>\n",
       "      <td>87.40</td>\n",
       "      <td>92.505103</td>\n",
       "      <td>87.60550</td>\n",
       "      <td>86.534096</td>\n",
       "      <td>101.882912</td>\n",
       "      <td>-18317.419922</td>\n",
       "    </tr>\n",
       "    <tr>\n",
       "      <th>3567</th>\n",
       "      <td>58.95</td>\n",
       "      <td>56.362440</td>\n",
       "      <td>56.58675</td>\n",
       "      <td>56.705654</td>\n",
       "      <td>52.226151</td>\n",
       "      <td>-3285.062256</td>\n",
       "    </tr>\n",
       "    <tr>\n",
       "      <th>2934</th>\n",
       "      <td>69.40</td>\n",
       "      <td>75.007054</td>\n",
       "      <td>69.50250</td>\n",
       "      <td>73.434349</td>\n",
       "      <td>74.313637</td>\n",
       "      <td>-14058.003906</td>\n",
       "    </tr>\n",
       "    <tr>\n",
       "      <th>3845</th>\n",
       "      <td>49.15</td>\n",
       "      <td>33.988164</td>\n",
       "      <td>45.73900</td>\n",
       "      <td>45.252087</td>\n",
       "      <td>48.499779</td>\n",
       "      <td>-16562.007812</td>\n",
       "    </tr>\n",
       "    <tr>\n",
       "      <th>8701</th>\n",
       "      <td>51.15</td>\n",
       "      <td>43.485816</td>\n",
       "      <td>49.29525</td>\n",
       "      <td>45.539455</td>\n",
       "      <td>44.661350</td>\n",
       "      <td>-28119.513672</td>\n",
       "    </tr>\n",
       "    <tr>\n",
       "      <th>9918</th>\n",
       "      <td>107.70</td>\n",
       "      <td>109.299495</td>\n",
       "      <td>107.70000</td>\n",
       "      <td>105.813644</td>\n",
       "      <td>109.825302</td>\n",
       "      <td>-3160.122070</td>\n",
       "    </tr>\n",
       "    <tr>\n",
       "      <th>779</th>\n",
       "      <td>61.45</td>\n",
       "      <td>69.927856</td>\n",
       "      <td>67.33375</td>\n",
       "      <td>66.370117</td>\n",
       "      <td>64.219513</td>\n",
       "      <td>-25211.019531</td>\n",
       "    </tr>\n",
       "    <tr>\n",
       "      <th>3772</th>\n",
       "      <td>57.00</td>\n",
       "      <td>63.901937</td>\n",
       "      <td>56.99800</td>\n",
       "      <td>55.269318</td>\n",
       "      <td>58.462223</td>\n",
       "      <td>-2150.996826</td>\n",
       "    </tr>\n",
       "    <tr>\n",
       "      <th>4973</th>\n",
       "      <td>127.10</td>\n",
       "      <td>110.305085</td>\n",
       "      <td>126.71200</td>\n",
       "      <td>126.512985</td>\n",
       "      <td>125.815178</td>\n",
       "      <td>-23099.500000</td>\n",
       "    </tr>\n",
       "    <tr>\n",
       "      <th>4903</th>\n",
       "      <td>100.40</td>\n",
       "      <td>78.768305</td>\n",
       "      <td>86.10000</td>\n",
       "      <td>83.741364</td>\n",
       "      <td>84.608894</td>\n",
       "      <td>-5749.655273</td>\n",
       "    </tr>\n",
       "    <tr>\n",
       "      <th>191</th>\n",
       "      <td>102.15</td>\n",
       "      <td>88.791517</td>\n",
       "      <td>92.81575</td>\n",
       "      <td>86.359566</td>\n",
       "      <td>86.208748</td>\n",
       "      <td>-18982.363281</td>\n",
       "    </tr>\n",
       "    <tr>\n",
       "      <th>9349</th>\n",
       "      <td>33.65</td>\n",
       "      <td>38.968400</td>\n",
       "      <td>37.94125</td>\n",
       "      <td>31.622118</td>\n",
       "      <td>35.171284</td>\n",
       "      <td>-30749.652344</td>\n",
       "    </tr>\n",
       "    <tr>\n",
       "      <th>414</th>\n",
       "      <td>58.15</td>\n",
       "      <td>79.201270</td>\n",
       "      <td>68.91050</td>\n",
       "      <td>71.097755</td>\n",
       "      <td>66.731888</td>\n",
       "      <td>-2073.059326</td>\n",
       "    </tr>\n",
       "    <tr>\n",
       "      <th>8181</th>\n",
       "      <td>45.30</td>\n",
       "      <td>38.416047</td>\n",
       "      <td>42.31350</td>\n",
       "      <td>44.236088</td>\n",
       "      <td>44.181438</td>\n",
       "      <td>-14406.888672</td>\n",
       "    </tr>\n",
       "    <tr>\n",
       "      <th>7773</th>\n",
       "      <td>58.15</td>\n",
       "      <td>77.339917</td>\n",
       "      <td>75.51975</td>\n",
       "      <td>74.903900</td>\n",
       "      <td>77.472298</td>\n",
       "      <td>-20443.433594</td>\n",
       "    </tr>\n",
       "    <tr>\n",
       "      <th>4291</th>\n",
       "      <td>39.45</td>\n",
       "      <td>46.210047</td>\n",
       "      <td>49.03350</td>\n",
       "      <td>50.408508</td>\n",
       "      <td>48.144215</td>\n",
       "      <td>-30087.351562</td>\n",
       "    </tr>\n",
       "    <tr>\n",
       "      <th>6547</th>\n",
       "      <td>57.75</td>\n",
       "      <td>39.246776</td>\n",
       "      <td>32.89825</td>\n",
       "      <td>36.748241</td>\n",
       "      <td>37.084442</td>\n",
       "      <td>-11492.138672</td>\n",
       "    </tr>\n",
       "    <tr>\n",
       "      <th>940</th>\n",
       "      <td>85.10</td>\n",
       "      <td>78.432539</td>\n",
       "      <td>77.27575</td>\n",
       "      <td>78.238777</td>\n",
       "      <td>80.808632</td>\n",
       "      <td>-2310.119873</td>\n",
       "    </tr>\n",
       "    <tr>\n",
       "      <th>1886</th>\n",
       "      <td>102.15</td>\n",
       "      <td>88.385533</td>\n",
       "      <td>90.57725</td>\n",
       "      <td>87.888496</td>\n",
       "      <td>79.996574</td>\n",
       "      <td>-22192.343750</td>\n",
       "    </tr>\n",
       "    <tr>\n",
       "      <th>2380</th>\n",
       "      <td>53.40</td>\n",
       "      <td>49.316619</td>\n",
       "      <td>57.01150</td>\n",
       "      <td>55.380573</td>\n",
       "      <td>56.956459</td>\n",
       "      <td>-3608.347900</td>\n",
       "    </tr>\n",
       "    <tr>\n",
       "      <th>5036</th>\n",
       "      <td>28.35</td>\n",
       "      <td>25.382991</td>\n",
       "      <td>28.35000</td>\n",
       "      <td>28.045013</td>\n",
       "      <td>28.440563</td>\n",
       "      <td>-19163.156250</td>\n",
       "    </tr>\n",
       "    <tr>\n",
       "      <th>6637</th>\n",
       "      <td>35.50</td>\n",
       "      <td>32.596914</td>\n",
       "      <td>36.50375</td>\n",
       "      <td>33.664024</td>\n",
       "      <td>34.162254</td>\n",
       "      <td>-19630.843750</td>\n",
       "    </tr>\n",
       "    <tr>\n",
       "      <th>9697</th>\n",
       "      <td>98.00</td>\n",
       "      <td>103.757312</td>\n",
       "      <td>109.96200</td>\n",
       "      <td>107.951233</td>\n",
       "      <td>109.801064</td>\n",
       "      <td>-13740.574219</td>\n",
       "    </tr>\n",
       "    <tr>\n",
       "      <th>5819</th>\n",
       "      <td>36.05</td>\n",
       "      <td>32.168457</td>\n",
       "      <td>31.73675</td>\n",
       "      <td>34.207539</td>\n",
       "      <td>34.023674</td>\n",
       "      <td>-26830.427734</td>\n",
       "    </tr>\n",
       "    <tr>\n",
       "      <th>4194</th>\n",
       "      <td>76.30</td>\n",
       "      <td>78.335243</td>\n",
       "      <td>76.30000</td>\n",
       "      <td>76.115105</td>\n",
       "      <td>77.808594</td>\n",
       "      <td>-16345.679688</td>\n",
       "    </tr>\n",
       "    <tr>\n",
       "      <th>2854</th>\n",
       "      <td>49.55</td>\n",
       "      <td>78.830063</td>\n",
       "      <td>73.47225</td>\n",
       "      <td>76.854149</td>\n",
       "      <td>74.674797</td>\n",
       "      <td>-4590.899414</td>\n",
       "    </tr>\n",
       "    <tr>\n",
       "      <th>6142</th>\n",
       "      <td>36.15</td>\n",
       "      <td>61.515007</td>\n",
       "      <td>57.61800</td>\n",
       "      <td>52.036594</td>\n",
       "      <td>51.268204</td>\n",
       "      <td>-29734.726562</td>\n",
       "    </tr>\n",
       "    <tr>\n",
       "      <th>7224</th>\n",
       "      <td>20.60</td>\n",
       "      <td>32.360998</td>\n",
       "      <td>24.19725</td>\n",
       "      <td>25.624071</td>\n",
       "      <td>24.338190</td>\n",
       "      <td>-34720.531250</td>\n",
       "    </tr>\n",
       "  </tbody>\n",
       "</table>\n",
       "<p>1754 rows × 6 columns</p>\n",
       "</div>"
      ],
      "text/plain": [
       "      real data  linear model  random forest     xgboost  xgboost gridsearch  \\\n",
       "7974      33.65     40.989573       36.96300   37.379406           35.849976   \n",
       "2635      21.95     40.703901       35.59750   38.045025           39.805588   \n",
       "2967      43.25     45.217880       43.25000   43.426487           43.074169   \n",
       "3604      27.80     41.718151       34.95175   34.368744           35.175423   \n",
       "1144      85.10     77.999041       77.67375   77.425713           75.357376   \n",
       "2296      28.35     30.965276       28.35000   27.922184           26.747303   \n",
       "6187      66.55     63.649020       66.35825   66.243202           65.071617   \n",
       "362      143.40    104.143938       94.34425   90.876656           94.844688   \n",
       "4945     102.15     89.075986       92.94725   94.163948           92.977112   \n",
       "9943      28.35     27.325038       28.35000   27.970875           28.107878   \n",
       "8726     100.40     79.331338       87.72775   86.960175           91.929710   \n",
       "7154      39.45     42.692026       50.28325   49.608631           48.258125   \n",
       "6504      76.30     78.378453       76.30000   75.600464           75.310814   \n",
       "2668      88.95     79.889649       77.29625   82.446510           77.991585   \n",
       "5600      75.40     80.040613       75.48400   76.225449           75.982857   \n",
       "7112      52.50     56.737747       52.50400   51.650124           52.026554   \n",
       "6193      29.90     26.058921       28.11900   27.501621           26.397577   \n",
       "5239      28.35     33.466816       28.35000   28.832893           29.426079   \n",
       "1905      58.15     78.653284       70.78580   70.566254           72.081131   \n",
       "2585     107.70    110.191992      107.70000  105.547302          108.811203   \n",
       "5922     100.40     77.506924       87.46100   85.293991           82.477982   \n",
       "4190      76.30     81.176427       76.30000   76.571991           75.686005   \n",
       "6430     181.50    128.973119      184.90200  173.547455          164.954025   \n",
       "5350      28.35     24.726391       28.35000   28.098679           27.193686   \n",
       "4154      60.30     47.900922       54.65650   54.195892           51.735420   \n",
       "1757      59.60     67.154142       59.60000   60.185719           61.015953   \n",
       "6698      27.90     32.334693       33.53750   33.145550           35.577637   \n",
       "9699      49.15     42.780125       46.25400   44.862892           42.861332   \n",
       "9083      57.75     43.032693       37.98925   40.684887           40.472710   \n",
       "1884      49.15     45.734326       46.54300   47.720905           44.519936   \n",
       "...         ...           ...            ...         ...                 ...   \n",
       "1992      36.05     32.571867       34.62475   32.816925           32.148373   \n",
       "5088      28.35     30.330327       28.35000   28.798098           28.863146   \n",
       "2803      87.40     92.505103       87.60550   86.534096          101.882912   \n",
       "3567      58.95     56.362440       56.58675   56.705654           52.226151   \n",
       "2934      69.40     75.007054       69.50250   73.434349           74.313637   \n",
       "3845      49.15     33.988164       45.73900   45.252087           48.499779   \n",
       "8701      51.15     43.485816       49.29525   45.539455           44.661350   \n",
       "9918     107.70    109.299495      107.70000  105.813644          109.825302   \n",
       "779       61.45     69.927856       67.33375   66.370117           64.219513   \n",
       "3772      57.00     63.901937       56.99800   55.269318           58.462223   \n",
       "4973     127.10    110.305085      126.71200  126.512985          125.815178   \n",
       "4903     100.40     78.768305       86.10000   83.741364           84.608894   \n",
       "191      102.15     88.791517       92.81575   86.359566           86.208748   \n",
       "9349      33.65     38.968400       37.94125   31.622118           35.171284   \n",
       "414       58.15     79.201270       68.91050   71.097755           66.731888   \n",
       "8181      45.30     38.416047       42.31350   44.236088           44.181438   \n",
       "7773      58.15     77.339917       75.51975   74.903900           77.472298   \n",
       "4291      39.45     46.210047       49.03350   50.408508           48.144215   \n",
       "6547      57.75     39.246776       32.89825   36.748241           37.084442   \n",
       "940       85.10     78.432539       77.27575   78.238777           80.808632   \n",
       "1886     102.15     88.385533       90.57725   87.888496           79.996574   \n",
       "2380      53.40     49.316619       57.01150   55.380573           56.956459   \n",
       "5036      28.35     25.382991       28.35000   28.045013           28.440563   \n",
       "6637      35.50     32.596914       36.50375   33.664024           34.162254   \n",
       "9697      98.00    103.757312      109.96200  107.951233          109.801064   \n",
       "5819      36.05     32.168457       31.73675   34.207539           34.023674   \n",
       "4194      76.30     78.335243       76.30000   76.115105           77.808594   \n",
       "2854      49.55     78.830063       73.47225   76.854149           74.674797   \n",
       "6142      36.15     61.515007       57.61800   52.036594           51.268204   \n",
       "7224      20.60     32.360998       24.19725   25.624071           24.338190   \n",
       "\n",
       "      neural network  \n",
       "7974   -15725.441406  \n",
       "2635   -35305.718750  \n",
       "2967   -28800.660156  \n",
       "3604   -16093.612305  \n",
       "1144   -32472.283203  \n",
       "2296   -33114.003906  \n",
       "6187    -7621.073242  \n",
       "362    -32255.988281  \n",
       "4945    -4313.677734  \n",
       "9943   -21629.277344  \n",
       "8726   -12329.427734  \n",
       "7154    -8675.387695  \n",
       "6504   -22757.583984  \n",
       "2668   -15987.333984  \n",
       "5600   -21866.751953  \n",
       "7112    -5960.160156  \n",
       "6193    -5855.145020  \n",
       "5239   -15733.656250  \n",
       "1905    -1132.310425  \n",
       "2585      274.168640  \n",
       "5922    -3106.262939  \n",
       "4190    -3880.687256  \n",
       "6430   -17231.134766  \n",
       "5350    -9465.392578  \n",
       "4154    -7723.034668  \n",
       "1757   -36213.078125  \n",
       "6698   -28751.294922  \n",
       "9699   -36418.386719  \n",
       "9083   -30567.617188  \n",
       "1884   -13784.245117  \n",
       "...              ...  \n",
       "1992   -11873.916992  \n",
       "5088   -14730.145508  \n",
       "2803   -18317.419922  \n",
       "3567    -3285.062256  \n",
       "2934   -14058.003906  \n",
       "3845   -16562.007812  \n",
       "8701   -28119.513672  \n",
       "9918    -3160.122070  \n",
       "779    -25211.019531  \n",
       "3772    -2150.996826  \n",
       "4973   -23099.500000  \n",
       "4903    -5749.655273  \n",
       "191    -18982.363281  \n",
       "9349   -30749.652344  \n",
       "414     -2073.059326  \n",
       "8181   -14406.888672  \n",
       "7773   -20443.433594  \n",
       "4291   -30087.351562  \n",
       "6547   -11492.138672  \n",
       "940     -2310.119873  \n",
       "1886   -22192.343750  \n",
       "2380    -3608.347900  \n",
       "5036   -19163.156250  \n",
       "6637   -19630.843750  \n",
       "9697   -13740.574219  \n",
       "5819   -26830.427734  \n",
       "4194   -16345.679688  \n",
       "2854    -4590.899414  \n",
       "6142   -29734.726562  \n",
       "7224   -34720.531250  \n",
       "\n",
       "[1754 rows x 6 columns]"
      ]
     },
     "execution_count": 138,
     "metadata": {},
     "output_type": "execute_result"
    }
   ],
   "source": [
    "predplot"
   ]
  },
  {
   "cell_type": "code",
   "execution_count": 157,
   "metadata": {},
   "outputs": [
    {
     "data": {
      "text/plain": [
       "1754"
      ]
     },
     "execution_count": 157,
     "metadata": {},
     "output_type": "execute_result"
    }
   ],
   "source": [
    "len(predrf)"
   ]
  },
  {
   "cell_type": "code",
   "execution_count": null,
   "metadata": {},
   "outputs": [],
   "source": []
  }
 ],
 "metadata": {
  "kernelspec": {
   "display_name": "Python 3",
   "language": "python",
   "name": "python3"
  },
  "language_info": {
   "codemirror_mode": {
    "name": "ipython",
    "version": 3
   },
   "file_extension": ".py",
   "mimetype": "text/x-python",
   "name": "python",
   "nbconvert_exporter": "python",
   "pygments_lexer": "ipython3",
   "version": "3.7.3"
  }
 },
 "nbformat": 4,
 "nbformat_minor": 2
}
