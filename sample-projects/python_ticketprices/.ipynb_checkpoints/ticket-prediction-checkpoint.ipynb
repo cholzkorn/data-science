{
 "cells": [
  {
   "cell_type": "markdown",
   "metadata": {},
   "source": [
    "# Imports"
   ]
  },
  {
   "cell_type": "code",
   "execution_count": 1,
   "metadata": {},
   "outputs": [],
   "source": [
    "import pandas as pd\n",
    "import sklearn as sk\n",
    "import scipy\n",
    "import numpy as np\n",
    "import pickle"
   ]
  },
  {
   "cell_type": "code",
   "execution_count": 2,
   "metadata": {},
   "outputs": [],
   "source": [
    "# Import data\n",
    "df = pd.read_csv('data/maindata_small.csv')"
   ]
  },
  {
   "cell_type": "markdown",
   "metadata": {},
   "source": [
    "# First Glance and Set creation"
   ]
  },
  {
   "cell_type": "code",
   "execution_count": 3,
   "metadata": {},
   "outputs": [
    {
     "data": {
      "text/html": [
       "<div>\n",
       "<style scoped>\n",
       "    .dataframe tbody tr th:only-of-type {\n",
       "        vertical-align: middle;\n",
       "    }\n",
       "\n",
       "    .dataframe tbody tr th {\n",
       "        vertical-align: top;\n",
       "    }\n",
       "\n",
       "    .dataframe thead th {\n",
       "        text-align: right;\n",
       "    }\n",
       "</style>\n",
       "<table border=\"1\" class=\"dataframe\">\n",
       "  <thead>\n",
       "    <tr style=\"text-align: right;\">\n",
       "      <th></th>\n",
       "      <th>Unnamed: 0</th>\n",
       "      <th>V1</th>\n",
       "      <th>insert_date</th>\n",
       "      <th>origin</th>\n",
       "      <th>destination</th>\n",
       "      <th>start_date</th>\n",
       "      <th>end_date</th>\n",
       "      <th>train_type</th>\n",
       "      <th>price</th>\n",
       "      <th>train_class</th>\n",
       "      <th>fare</th>\n",
       "    </tr>\n",
       "  </thead>\n",
       "  <tbody>\n",
       "    <tr>\n",
       "      <th>0</th>\n",
       "      <td>1</td>\n",
       "      <td>1263097</td>\n",
       "      <td>2019-05-04 05:11:26</td>\n",
       "      <td>BARCELONA</td>\n",
       "      <td>MADRID</td>\n",
       "      <td>2019-05-16 06:25:00</td>\n",
       "      <td>2019-05-16 08:55:00</td>\n",
       "      <td>AVE</td>\n",
       "      <td>78.80</td>\n",
       "      <td>Turista</td>\n",
       "      <td>Promo</td>\n",
       "    </tr>\n",
       "    <tr>\n",
       "      <th>1</th>\n",
       "      <td>2</td>\n",
       "      <td>1980371</td>\n",
       "      <td>2019-04-15 02:28:14</td>\n",
       "      <td>VALENCIA</td>\n",
       "      <td>MADRID</td>\n",
       "      <td>2019-05-25 14:50:00</td>\n",
       "      <td>2019-05-25 22:17:00</td>\n",
       "      <td>REGIONAL</td>\n",
       "      <td>28.35</td>\n",
       "      <td>Turista</td>\n",
       "      <td>Adulto ida</td>\n",
       "    </tr>\n",
       "    <tr>\n",
       "      <th>2</th>\n",
       "      <td>3</td>\n",
       "      <td>1595459</td>\n",
       "      <td>2019-05-09 21:02:40</td>\n",
       "      <td>MADRID</td>\n",
       "      <td>SEVILLA</td>\n",
       "      <td>2019-06-24 15:00:00</td>\n",
       "      <td>2019-06-24 17:21:00</td>\n",
       "      <td>AVE</td>\n",
       "      <td>41.20</td>\n",
       "      <td>Turista</td>\n",
       "      <td>Promo</td>\n",
       "    </tr>\n",
       "    <tr>\n",
       "      <th>3</th>\n",
       "      <td>4</td>\n",
       "      <td>1126882</td>\n",
       "      <td>2019-05-01 13:16:14</td>\n",
       "      <td>MADRID</td>\n",
       "      <td>VALENCIA</td>\n",
       "      <td>2019-05-15 15:10:00</td>\n",
       "      <td>2019-05-15 16:52:00</td>\n",
       "      <td>AVE</td>\n",
       "      <td>21.95</td>\n",
       "      <td>Turista</td>\n",
       "      <td>Promo</td>\n",
       "    </tr>\n",
       "    <tr>\n",
       "      <th>4</th>\n",
       "      <td>5</td>\n",
       "      <td>688748</td>\n",
       "      <td>2019-04-24 08:11:56</td>\n",
       "      <td>BARCELONA</td>\n",
       "      <td>MADRID</td>\n",
       "      <td>2019-05-08 13:25:00</td>\n",
       "      <td>2019-05-08 16:10:00</td>\n",
       "      <td>AVE</td>\n",
       "      <td>85.10</td>\n",
       "      <td>Turista</td>\n",
       "      <td>Promo</td>\n",
       "    </tr>\n",
       "  </tbody>\n",
       "</table>\n",
       "</div>"
      ],
      "text/plain": [
       "   Unnamed: 0       V1          insert_date     origin destination  \\\n",
       "0           1  1263097  2019-05-04 05:11:26  BARCELONA      MADRID   \n",
       "1           2  1980371  2019-04-15 02:28:14   VALENCIA      MADRID   \n",
       "2           3  1595459  2019-05-09 21:02:40     MADRID     SEVILLA   \n",
       "3           4  1126882  2019-05-01 13:16:14     MADRID    VALENCIA   \n",
       "4           5   688748  2019-04-24 08:11:56  BARCELONA      MADRID   \n",
       "\n",
       "            start_date             end_date train_type  price train_class  \\\n",
       "0  2019-05-16 06:25:00  2019-05-16 08:55:00        AVE  78.80     Turista   \n",
       "1  2019-05-25 14:50:00  2019-05-25 22:17:00   REGIONAL  28.35     Turista   \n",
       "2  2019-06-24 15:00:00  2019-06-24 17:21:00        AVE  41.20     Turista   \n",
       "3  2019-05-15 15:10:00  2019-05-15 16:52:00        AVE  21.95     Turista   \n",
       "4  2019-05-08 13:25:00  2019-05-08 16:10:00        AVE  85.10     Turista   \n",
       "\n",
       "         fare  \n",
       "0       Promo  \n",
       "1  Adulto ida  \n",
       "2       Promo  \n",
       "3       Promo  \n",
       "4       Promo  "
      ]
     },
     "execution_count": 3,
     "metadata": {},
     "output_type": "execute_result"
    }
   ],
   "source": [
    "df.head()"
   ]
  },
  {
   "cell_type": "code",
   "execution_count": 4,
   "metadata": {},
   "outputs": [
    {
     "data": {
      "text/plain": [
       "Unnamed: 0        0\n",
       "V1                0\n",
       "insert_date       0\n",
       "origin            0\n",
       "destination       0\n",
       "start_date        0\n",
       "end_date          0\n",
       "train_type        0\n",
       "price          1231\n",
       "train_class      41\n",
       "fare             41\n",
       "dtype: int64"
      ]
     },
     "execution_count": 4,
     "metadata": {},
     "output_type": "execute_result"
    }
   ],
   "source": [
    "# How many NAs\n",
    "df.isna().sum()"
   ]
  },
  {
   "cell_type": "code",
   "execution_count": 5,
   "metadata": {},
   "outputs": [
    {
     "data": {
      "text/plain": [
       "10000"
      ]
     },
     "execution_count": 5,
     "metadata": {},
     "output_type": "execute_result"
    }
   ],
   "source": [
    "# Length of the dataset\n",
    "len(df)"
   ]
  },
  {
   "cell_type": "code",
   "execution_count": 6,
   "metadata": {},
   "outputs": [
    {
     "data": {
      "text/plain": [
       "0.1231"
      ]
     },
     "execution_count": 6,
     "metadata": {},
     "output_type": "execute_result"
    }
   ],
   "source": [
    "# Proportion of missing price values\n",
    "df.isna().sum()['price'] / len(df)"
   ]
  },
  {
   "cell_type": "markdown",
   "metadata": {},
   "source": [
    "# Feature engineering and set creation"
   ]
  },
  {
   "cell_type": "code",
   "execution_count": 7,
   "metadata": {},
   "outputs": [],
   "source": [
    "import datetime as dt\n",
    "import time"
   ]
  },
  {
   "cell_type": "code",
   "execution_count": 8,
   "metadata": {},
   "outputs": [],
   "source": [
    "# Convert date strings\n",
    "df['insert_date'] = pd.to_datetime(df['insert_date'],\n",
    "                                        infer_datetime_format=True)\n",
    "df['start_date'] = pd.to_datetime(df['start_date'],\n",
    "                                        infer_datetime_format=True)\n",
    "df['end_date'] = pd.to_datetime(df['end_date'],\n",
    "                                        infer_datetime_format=True)"
   ]
  },
  {
   "cell_type": "code",
   "execution_count": 9,
   "metadata": {},
   "outputs": [],
   "source": [
    "# Time between end and start\n",
    "df['traveltime'] = df['end_date'] - df['start_date']"
   ]
  },
  {
   "cell_type": "code",
   "execution_count": 10,
   "metadata": {},
   "outputs": [],
   "source": [
    "# traveltime in minutes\n",
    "temp1 = df['traveltime'].apply(lambda x: str(x))\n",
    "timestring = temp1.replace(to_replace=r'0 days ', value='', regex=True)"
   ]
  },
  {
   "cell_type": "code",
   "execution_count": 11,
   "metadata": {},
   "outputs": [
    {
     "data": {
      "text/plain": [
       "0        9000\n",
       "1       26820\n",
       "2        8460\n",
       "3        6120\n",
       "4        9900\n",
       "5        9000\n",
       "6        8820\n",
       "7       24180\n",
       "8       10500\n",
       "9       22920\n",
       "10       9480\n",
       "11      10200\n",
       "12       9600\n",
       "13       9000\n",
       "14      10080\n",
       "15       9120\n",
       "16      13980\n",
       "17       9000\n",
       "18       9000\n",
       "19      15360\n",
       "20      15000\n",
       "21       9000\n",
       "22      11400\n",
       "23       6420\n",
       "24      10320\n",
       "25       9120\n",
       "26       8460\n",
       "27       6540\n",
       "28      18000\n",
       "29       9360\n",
       "        ...  \n",
       "9970     9600\n",
       "9971     9480\n",
       "9972     9120\n",
       "9973     8460\n",
       "9974     9120\n",
       "9975     9000\n",
       "9976    11400\n",
       "9977     9960\n",
       "9978    10320\n",
       "9979    11400\n",
       "9980    33720\n",
       "9981    26040\n",
       "9982     6000\n",
       "9983    32640\n",
       "9984     8700\n",
       "9985     9120\n",
       "9986     9000\n",
       "9987     9000\n",
       "9988     6240\n",
       "9989     8700\n",
       "9990     9480\n",
       "9991     6000\n",
       "9992     9000\n",
       "9993     9720\n",
       "9994     9360\n",
       "9995     9000\n",
       "9996     6000\n",
       "9997    25140\n",
       "9998     9000\n",
       "9999     6000\n",
       "Name: traveltime_seconds, Length: 10000, dtype: int64"
      ]
     },
     "execution_count": 11,
     "metadata": {},
     "output_type": "execute_result"
    }
   ],
   "source": [
    "# Convert timestring to seconds\n",
    "def get_sec(time_str):\n",
    "    h, m, s = time_str.split(':')\n",
    "    return int(h) * 3600 + int(m) * 60 + int(s)\n",
    "\n",
    "df['traveltime_seconds'] = timestring.apply(lambda x: get_sec(x))\n",
    "df['traveltime_seconds']"
   ]
  },
  {
   "cell_type": "code",
   "execution_count": 12,
   "metadata": {},
   "outputs": [],
   "source": [
    "# Weekday variable - start date and end date weekdays\n",
    "df['insert_day'] = df['insert_date'].dt.day_name()\n",
    "df['start_day'] = df['start_date'].dt.day_name()\n",
    "df['end_day'] = df['end_date'].dt.day_name()"
   ]
  },
  {
   "cell_type": "code",
   "execution_count": 13,
   "metadata": {},
   "outputs": [],
   "source": [
    "# Month variable\n",
    "df['insert_month'] = df['insert_date'].dt.month_name()\n",
    "df['start_month'] = df['start_date'].dt.month_name()\n",
    "df['end_month'] = df['end_date'].dt.month_name()"
   ]
  },
  {
   "cell_type": "code",
   "execution_count": 14,
   "metadata": {},
   "outputs": [],
   "source": [
    "# drop dates\n",
    "df = df.drop(['insert_date', 'start_date', 'end_date'], axis=1)"
   ]
  },
  {
   "cell_type": "code",
   "execution_count": 15,
   "metadata": {},
   "outputs": [],
   "source": [
    "# Missing values will make our prediction set\n",
    "df_work = df[df.price.notna()]\n",
    "df_goal = df[df.price.isna()]"
   ]
  },
  {
   "cell_type": "code",
   "execution_count": 16,
   "metadata": {},
   "outputs": [
    {
     "data": {
      "text/plain": [
       "8769"
      ]
     },
     "execution_count": 16,
     "metadata": {},
     "output_type": "execute_result"
    }
   ],
   "source": [
    "len(df_work)"
   ]
  },
  {
   "cell_type": "code",
   "execution_count": 17,
   "metadata": {},
   "outputs": [
    {
     "data": {
      "text/plain": [
       "1231"
      ]
     },
     "execution_count": 17,
     "metadata": {},
     "output_type": "execute_result"
    }
   ],
   "source": [
    "len(df_goal)"
   ]
  },
  {
   "cell_type": "code",
   "execution_count": 18,
   "metadata": {},
   "outputs": [
    {
     "data": {
      "text/plain": [
       "True"
      ]
     },
     "execution_count": 18,
     "metadata": {},
     "output_type": "execute_result"
    }
   ],
   "source": [
    "# Check if it worked correctly\n",
    "(len(df) == len(df_goal) + len(df_work))"
   ]
  },
  {
   "cell_type": "code",
   "execution_count": 19,
   "metadata": {},
   "outputs": [
    {
     "data": {
      "text/plain": [
       "True"
      ]
     },
     "execution_count": 19,
     "metadata": {},
     "output_type": "execute_result"
    }
   ],
   "source": [
    "# Another check\n",
    "(df_work.price.notna().sum() == len(df_work)) and (df_goal.price.isna().sum() == len(df_goal))"
   ]
  },
  {
   "cell_type": "code",
   "execution_count": 20,
   "metadata": {},
   "outputs": [
    {
     "data": {
      "text/plain": [
       "array(['Turista', 'Preferente', 'Turista Plus', 'Turista con enlace', nan,\n",
       "       'Cama G. Clase', 'Cama Turista'], dtype=object)"
      ]
     },
     "execution_count": 20,
     "metadata": {},
     "output_type": "execute_result"
    }
   ],
   "source": [
    "# Which train classes are there?\n",
    "df.train_class.unique()"
   ]
  },
  {
   "cell_type": "markdown",
   "metadata": {},
   "source": [
    "# Visual Analysis"
   ]
  },
  {
   "cell_type": "code",
   "execution_count": 21,
   "metadata": {},
   "outputs": [],
   "source": [
    "import matplotlib.pyplot as plt\n",
    "import seaborn as sns"
   ]
  },
  {
   "cell_type": "code",
   "execution_count": 22,
   "metadata": {},
   "outputs": [],
   "source": [
    "# set plot size for jupyter notebook\n",
    "plt.rcParams['figure.figsize'] = [10, 5]"
   ]
  },
  {
   "cell_type": "code",
   "execution_count": 23,
   "metadata": {},
   "outputs": [
    {
     "data": {
      "image/png": "[encoded data removed]",
      "text/plain": [
       "<Figure size 720x360 with 1 Axes>"
      ]
     },
     "metadata": {
      "needs_background": "light"
     },
     "output_type": "display_data"
    }
   ],
   "source": [
    "# Price and class\n",
    "pc = sns.boxplot(x=\"train_class\", y=\"price\", data=df_work)"
   ]
  },
  {
   "cell_type": "code",
   "execution_count": 24,
   "metadata": {},
   "outputs": [
    {
     "data": {
      "image/png": "[encoded data removed]",
      "text/plain": [
       "<Figure size 720x360 with 1 Axes>"
      ]
     },
     "metadata": {
      "needs_background": "light"
     },
     "output_type": "display_data"
    }
   ],
   "source": [
    "# bar plot on train class count\n",
    "tcc = sns.countplot(data=df_work, x=\"train_class\")"
   ]
  },
  {
   "cell_type": "code",
   "execution_count": 25,
   "metadata": {},
   "outputs": [
    {
     "data": {
      "image/png": "[encoded data removed]",
      "text/plain": [
       "<Figure size 720x360 with 1 Axes>"
      ]
     },
     "metadata": {
      "needs_background": "light"
     },
     "output_type": "display_data"
    }
   ],
   "source": [
    "# Travel prices per month\n",
    "tpm = sns.boxplot(x=\"start_month\", y=\"price\", data=df_work)"
   ]
  },
  {
   "cell_type": "code",
   "execution_count": 26,
   "metadata": {
    "scrolled": true
   },
   "outputs": [
    {
     "data": {
      "image/png": "[encoded data removed]",
      "text/plain": [
       "<Figure size 720x360 with 1 Axes>"
      ]
     },
     "metadata": {
      "needs_background": "light"
     },
     "output_type": "display_data"
    }
   ],
   "source": [
    "# Travel prices per day\n",
    "tpd = sns.boxplot(x=\"start_day\", y=\"price\", data=df_work)"
   ]
  },
  {
   "cell_type": "code",
   "execution_count": 27,
   "metadata": {},
   "outputs": [
    {
     "data": {
      "image/png": "[encoded data removed]",
      "text/plain": [
       "<Figure size 720x360 with 1 Axes>"
      ]
     },
     "metadata": {
      "needs_background": "light"
     },
     "output_type": "display_data"
    }
   ],
   "source": [
    "# price by travel time\n",
    "ptt = sns.scatterplot(x=\"traveltime_seconds\", y=\"price\", data=df_work)"
   ]
  },
  {
   "cell_type": "markdown",
   "metadata": {},
   "source": [
    "# One-Hot-Encoding"
   ]
  },
  {
   "cell_type": "code",
   "execution_count": 28,
   "metadata": {},
   "outputs": [],
   "source": [
    "from numpy import array\n",
    "from numpy import argmax\n",
    "from sklearn.preprocessing import LabelEncoder\n",
    "from sklearn.preprocessing import OneHotEncoder"
   ]
  },
  {
   "cell_type": "code",
   "execution_count": 29,
   "metadata": {},
   "outputs": [],
   "source": [
    "# Wich values need to be OH-encoded?\n",
    "    # origin\n",
    "    # destination\n",
    "    # train_type\n",
    "    # train_class\n",
    "    # fare\n",
    "    # insert_day\n",
    "    # start_day\n",
    "    # end_day\n",
    "    # insert_month\n",
    "    # start_month\n",
    "    # end_month"
   ]
  },
  {
   "cell_type": "code",
   "execution_count": 30,
   "metadata": {},
   "outputs": [],
   "source": [
    "# state encoder\n",
    "oh_encoder = OneHotEncoder(sparse=False)"
   ]
  },
  {
   "cell_type": "code",
   "execution_count": 31,
   "metadata": {},
   "outputs": [
    {
     "data": {
      "text/plain": [
       "Unnamed: 0                      int64\n",
       "V1                              int64\n",
       "origin                         object\n",
       "destination                    object\n",
       "train_type                     object\n",
       "price                         float64\n",
       "train_class                    object\n",
       "fare                           object\n",
       "traveltime            timedelta64[ns]\n",
       "traveltime_seconds              int64\n",
       "insert_day                     object\n",
       "start_day                      object\n",
       "end_day                        object\n",
       "insert_month                   object\n",
       "start_month                    object\n",
       "end_month                      object\n",
       "dtype: object"
      ]
     },
     "execution_count": 31,
     "metadata": {},
     "output_type": "execute_result"
    }
   ],
   "source": [
    "# checking types\n",
    "df_work.dtypes"
   ]
  },
  {
   "cell_type": "code",
   "execution_count": 32,
   "metadata": {},
   "outputs": [
    {
     "name": "stderr",
     "output_type": "stream",
     "text": [
      "C:\\Users\\cholz\\Anaconda3\\lib\\site-packages\\ipykernel_launcher.py:9: SettingWithCopyWarning: \n",
      "A value is trying to be set on a copy of a slice from a DataFrame.\n",
      "Try using .loc[row_indexer,col_indexer] = value instead\n",
      "\n",
      "See the caveats in the documentation: http://pandas.pydata.org/pandas-docs/stable/indexing.html#indexing-view-versus-copy\n",
      "  if __name__ == '__main__':\n",
      "C:\\Users\\cholz\\Anaconda3\\lib\\site-packages\\ipykernel_launcher.py:12: SettingWithCopyWarning: \n",
      "A value is trying to be set on a copy of a slice from a DataFrame.\n",
      "Try using .loc[row_indexer,col_indexer] = value instead\n",
      "\n",
      "See the caveats in the documentation: http://pandas.pydata.org/pandas-docs/stable/indexing.html#indexing-view-versus-copy\n",
      "  if sys.path[0] == '':\n"
     ]
    }
   ],
   "source": [
    "# changing column types for df_work and df_goal\n",
    "\n",
    "\n",
    "obj_to_cat = ['origin', 'destination', 'train_type', 'train_class', 'fare',\n",
    "              'insert_day', 'start_day', 'end_day', 'insert_month',\n",
    "              'start_month', 'end_month']\n",
    "\n",
    "for col in obj_to_cat:\n",
    "    df_work[col] = df_work[col].astype('category')\n",
    "\n",
    "for col in obj_to_cat:\n",
    "    df_goal[col] = df_goal[col].astype('category')"
   ]
  },
  {
   "cell_type": "code",
   "execution_count": 33,
   "metadata": {},
   "outputs": [],
   "source": [
    "# dropping traveltime\n",
    "df_work = df_work.drop(['traveltime'], axis=1)\n",
    "df_goal = df_goal.drop(['traveltime'], axis=1)"
   ]
  },
  {
   "cell_type": "code",
   "execution_count": 34,
   "metadata": {},
   "outputs": [],
   "source": [
    "# oh-encoding\n",
    "df_work_oh = pd.get_dummies(df_work)\n",
    "df_goal_oh = pd.get_dummies(df_goal)"
   ]
  },
  {
   "cell_type": "markdown",
   "metadata": {},
   "source": [
    "# Splits"
   ]
  },
  {
   "cell_type": "code",
   "execution_count": 35,
   "metadata": {},
   "outputs": [],
   "source": [
    "from sklearn.model_selection import train_test_split"
   ]
  },
  {
   "cell_type": "code",
   "execution_count": 36,
   "metadata": {},
   "outputs": [],
   "source": [
    "# Dividing training set into X and y\n",
    "X = df_work_oh.drop('price', axis=1)\n",
    "y = df_work_oh.price"
   ]
  },
  {
   "cell_type": "code",
   "execution_count": 37,
   "metadata": {},
   "outputs": [],
   "source": [
    "# Train-Test-Split\n",
    "X_train, X_test, y_train, y_test = train_test_split(X, y, test_size=0.2, random_state=42)"
   ]
  },
  {
   "cell_type": "markdown",
   "metadata": {},
   "source": [
    "# Linear Regression"
   ]
  },
  {
   "cell_type": "code",
   "execution_count": 362,
   "metadata": {},
   "outputs": [],
   "source": [
    "# import\n",
    "from sklearn.linear_model import LinearRegression\n",
    "from sklearn.metrics import mean_squared_error, r2_score"
   ]
  },
  {
   "cell_type": "code",
   "execution_count": 363,
   "metadata": {},
   "outputs": [],
   "source": [
    "# base model\n",
    "linreg = LinearRegression()"
   ]
  },
  {
   "cell_type": "code",
   "execution_count": 366,
   "metadata": {},
   "outputs": [],
   "source": [
    "# fitting\n",
    "#linearmodel = linreg.fit(X_train, y_train)\n",
    "\n",
    "# Load the model instead of fitting it each time\n",
    "linearmodel = pickle.load(open('linearmodel.sav', 'rb'))"
   ]
  },
  {
   "cell_type": "code",
   "execution_count": 367,
   "metadata": {},
   "outputs": [
    {
     "name": "stdout",
     "output_type": "stream",
     "text": [
      "71.21760736113471\n",
      "[-1.93717745e-05 -1.04827436e-07 -7.74585015e-04  2.69655536e+01\n",
      " -3.65301895e-01 -1.01961701e+01 -2.87156512e+00 -1.35325165e+01\n",
      "  2.83226986e+01  3.65301895e-01 -1.34713890e+01 -2.04405229e+00\n",
      " -1.31725592e+01  4.86393111e-01  2.82550034e+00  8.31156735e+00\n",
      "  3.47079587e+00  6.90562787e+00  7.92067507e+00 -3.57437155e+00\n",
      " -5.64372764e-01 -5.54704523e+00  3.80323242e+00 -5.21675866e+00\n",
      " -6.85618110e+00 -1.35749245e+01  6.61966484e+00 -5.00980310e+00\n",
      " -2.70450329e-12 -1.45661261e-13  1.36683613e+01 -9.08373713e+00\n",
      " -5.79922596e-01 -4.00470159e+00 -6.95525963e+00  1.84013297e+01\n",
      " -1.55875313e-12 -1.08257101e+01 -6.20359990e-01  3.24594561e-02\n",
      "  3.10513243e-01 -1.23377102e-01 -3.23552939e-01 -1.58439736e-01\n",
      " -9.73848303e-02  3.59781908e-01 -2.88376476e+00  4.05518397e-01\n",
      " -4.15618868e+00  8.89733911e+00 -1.60151220e+00  3.47525047e+00\n",
      " -4.13664234e+00  4.96442352e+00 -1.05981404e+00  1.84685194e+00\n",
      " -6.32157552e+00  1.67473546e+00 -5.14701510e+00  4.04239374e+00\n",
      " -5.51533664e-01  5.51533664e-01 -8.15860159e+00 -7.57445994e-01\n",
      " -8.15774495e-01  9.73182208e+00  1.10892454e+01 -7.57445994e-01\n",
      " -8.15774495e-01 -9.51602488e+00]\n"
     ]
    }
   ],
   "source": [
    "# print results\n",
    "print(linearmodel.intercept_)\n",
    "print(linearmodel.coef_)"
   ]
  },
  {
   "cell_type": "code",
   "execution_count": 368,
   "metadata": {},
   "outputs": [],
   "source": [
    "# imports for p-values\n",
    "import statsmodels.api as sm"
   ]
  },
  {
   "cell_type": "code",
   "execution_count": 369,
   "metadata": {},
   "outputs": [],
   "source": [
    "# calculate p-values\n",
    "mod = sm.OLS(y_train, X_train)\n",
    "fii = mod.fit()\n",
    "p_values = fii.summary2().tables[1]['P>|t|']"
   ]
  },
  {
   "cell_type": "code",
   "execution_count": 370,
   "metadata": {},
   "outputs": [
    {
     "data": {
      "text/plain": [
       "Unnamed: 0                   False\n",
       "V1                           False\n",
       "traveltime_seconds            True\n",
       "origin_BARCELONA              True\n",
       "origin_MADRID                 True\n",
       "origin_PONFERRADA             True\n",
       "origin_SEVILLA               False\n",
       "origin_VALENCIA               True\n",
       "destination_BARCELONA         True\n",
       "destination_MADRID            True\n",
       "destination_PONFERRADA        True\n",
       "destination_SEVILLA           True\n",
       "destination_VALENCIA          True\n",
       "train_type_ALVIA              True\n",
       "train_type_AV City            True\n",
       "train_type_AVE                True\n",
       "train_type_AVE-LD             True\n",
       "train_type_AVE-MD             True\n",
       "train_type_AVE-TGV            True\n",
       "train_type_INTERCITY         False\n",
       "train_type_LD                False\n",
       "train_type_LD-MD              True\n",
       "train_type_MD                False\n",
       "train_type_MD-AVE            False\n",
       "train_type_MD-LD              True\n",
       "train_type_R. EXPRES          True\n",
       "train_type_REGIONAL           True\n",
       "train_type_TRENHOTEL         False\n",
       "train_class_Cama G. Clase    False\n",
       "train_class_Cama Turista     False\n",
       "                             ...  \n",
       "insert_day_Monday             True\n",
       "insert_day_Saturday           True\n",
       "insert_day_Sunday             True\n",
       "insert_day_Thursday           True\n",
       "insert_day_Tuesday            True\n",
       "insert_day_Wednesday          True\n",
       "start_day_Friday             False\n",
       "start_day_Monday              True\n",
       "start_day_Saturday           False\n",
       "start_day_Sunday              True\n",
       "start_day_Thursday           False\n",
       "start_day_Tuesday             True\n",
       "start_day_Wednesday          False\n",
       "end_day_Friday                True\n",
       "end_day_Monday               False\n",
       "end_day_Saturday              True\n",
       "end_day_Sunday               False\n",
       "end_day_Thursday              True\n",
       "end_day_Tuesday              False\n",
       "end_day_Wednesday             True\n",
       "insert_month_April            True\n",
       "insert_month_May              True\n",
       "start_month_April            False\n",
       "start_month_July              True\n",
       "start_month_June              True\n",
       "start_month_May               True\n",
       "end_month_April               True\n",
       "end_month_July                True\n",
       "end_month_June                True\n",
       "end_month_May                False\n",
       "Name: P>|t|, Length: 70, dtype: bool"
      ]
     },
     "execution_count": 370,
     "metadata": {},
     "output_type": "execute_result"
    }
   ],
   "source": [
    "p_values <= 0.05"
   ]
  },
  {
   "cell_type": "code",
   "execution_count": 371,
   "metadata": {},
   "outputs": [],
   "source": [
    "# Make a test prediction\n",
    "predlin = linearmodel.predict(X_test)"
   ]
  },
  {
   "cell_type": "code",
   "execution_count": 372,
   "metadata": {},
   "outputs": [
    {
     "name": "stdout",
     "output_type": "stream",
     "text": [
      "Mean squared error: 129.19\n"
     ]
    }
   ],
   "source": [
    "# MSE\n",
    "print(\"Mean squared error: %.2f\"\n",
    "      % mean_squared_error(predlin, y_test))"
   ]
  },
  {
   "cell_type": "code",
   "execution_count": 373,
   "metadata": {},
   "outputs": [
    {
     "name": "stdout",
     "output_type": "stream",
     "text": [
      "RMSE: 11.37\n"
     ]
    }
   ],
   "source": [
    "# RMSE\n",
    "print(\"RMSE: %.2f\"\n",
    "      % np.sqrt(mean_squared_error(predlin, y_test)))"
   ]
  },
  {
   "cell_type": "code",
   "execution_count": 374,
   "metadata": {},
   "outputs": [
    {
     "name": "stdout",
     "output_type": "stream",
     "text": [
      "R_squared: 0.77\n"
     ]
    }
   ],
   "source": [
    "# RSQUARED\n",
    "print('R_squared: %.2f' % r2_score(predlin, y_test))"
   ]
  },
  {
   "cell_type": "code",
   "execution_count": 375,
   "metadata": {},
   "outputs": [],
   "source": [
    "# Calculate mean absolute percentage error (MAPE)\n",
    "lmerrors = abs(predlin - y_test)\n",
    "lmmape = 100 * (lmerrors / y_test)"
   ]
  },
  {
   "cell_type": "code",
   "execution_count": 376,
   "metadata": {},
   "outputs": [
    {
     "name": "stdout",
     "output_type": "stream",
     "text": [
      "Accuracy: 86.31 %.\n"
     ]
    }
   ],
   "source": [
    "# Calculate and display accuracy\n",
    "lmaccuracy = 100 - np.mean(lmmape)\n",
    "print('Accuracy:', round(lmaccuracy, 2), '%.')"
   ]
  },
  {
   "cell_type": "code",
   "execution_count": 377,
   "metadata": {},
   "outputs": [],
   "source": [
    "# save model to disk\n",
    "filename = 'linearmodel.sav'\n",
    "pickle.dump(linearmodel, open(filename, 'wb'))"
   ]
  },
  {
   "cell_type": "markdown",
   "metadata": {},
   "source": [
    "# Random Forest"
   ]
  },
  {
   "cell_type": "code",
   "execution_count": 52,
   "metadata": {},
   "outputs": [],
   "source": [
    "from sklearn.ensemble import RandomForestRegressor"
   ]
  },
  {
   "cell_type": "code",
   "execution_count": 53,
   "metadata": {},
   "outputs": [],
   "source": [
    "# Instantiate model with 200 decision trees\n",
    "rf = RandomForestRegressor(n_estimators = 200, random_state = 123)"
   ]
  },
  {
   "cell_type": "code",
   "execution_count": 54,
   "metadata": {},
   "outputs": [],
   "source": [
    "# Train the model on training data\n",
    "# rfmodel = rf.fit(X_train, y_train)\n",
    "\n",
    "# Load the model instead of fitting it each time\n",
    "rfmodel = pickle.load(open('rfmodel.sav', 'rb'))"
   ]
  },
  {
   "cell_type": "code",
   "execution_count": 55,
   "metadata": {},
   "outputs": [],
   "source": [
    "# predict training data\n",
    "predrf = rfmodel.predict(X_test)"
   ]
  },
  {
   "cell_type": "code",
   "execution_count": 56,
   "metadata": {},
   "outputs": [
    {
     "name": "stdout",
     "output_type": "stream",
     "text": [
      "Mean squared error: 85.07\n"
     ]
    }
   ],
   "source": [
    "# MSE\n",
    "print(\"Mean squared error: %.2f\"\n",
    "      % mean_squared_error(predrf, y_test))"
   ]
  },
  {
   "cell_type": "code",
   "execution_count": 57,
   "metadata": {},
   "outputs": [
    {
     "name": "stdout",
     "output_type": "stream",
     "text": [
      "RMSE: 9.22\n"
     ]
    }
   ],
   "source": [
    "# RMSE\n",
    "print(\"RMSE: %.2f\"\n",
    "      % np.sqrt(mean_squared_error(predrf, y_test)))"
   ]
  },
  {
   "cell_type": "code",
   "execution_count": 58,
   "metadata": {},
   "outputs": [
    {
     "name": "stdout",
     "output_type": "stream",
     "text": [
      "R_squared: 0.87\n"
     ]
    }
   ],
   "source": [
    "# RSQUARED\n",
    "print('R_squared: %.2f' % r2_score(predrf, y_test))"
   ]
  },
  {
   "cell_type": "code",
   "execution_count": 59,
   "metadata": {},
   "outputs": [],
   "source": [
    "# Calculate mean absolute percentage error (MAPE)\n",
    "rferrors = abs(predrf - y_test)\n",
    "rfmape = 100 * (rferrors / y_test)"
   ]
  },
  {
   "cell_type": "code",
   "execution_count": 60,
   "metadata": {},
   "outputs": [
    {
     "name": "stdout",
     "output_type": "stream",
     "text": [
      "Accuracy: 90.52 %.\n"
     ]
    }
   ],
   "source": [
    "# Calculate and display accuracy\n",
    "rfaccuracy = 100 - np.mean(rfmape)\n",
    "print('Accuracy:', round(rfaccuracy, 2), '%.')"
   ]
  },
  {
   "cell_type": "code",
   "execution_count": 61,
   "metadata": {},
   "outputs": [],
   "source": [
    "from sklearn.feature_selection import SelectFromModel"
   ]
  },
  {
   "cell_type": "code",
   "execution_count": 62,
   "metadata": {},
   "outputs": [],
   "source": [
    "# Make column name list\n",
    "feature_names = list(X_train.columns)"
   ]
  },
  {
   "cell_type": "code",
   "execution_count": 63,
   "metadata": {},
   "outputs": [
    {
     "name": "stdout",
     "output_type": "stream",
     "text": [
      "('Unnamed: 0', 0.028788079151918673)\n",
      "('V1', 0.026837246915306312)\n",
      "('traveltime_seconds', 0.48070592043546073)\n",
      "('origin_BARCELONA', 0.0442343394055756)\n",
      "('origin_MADRID', 0.0012797064354426915)\n",
      "('origin_PONFERRADA', 2.1097446496883508e-05)\n",
      "('origin_SEVILLA', 0.04123149021886489)\n",
      "('origin_VALENCIA', 0.005368224117470505)\n",
      "('destination_BARCELONA', 0.039548872547334274)\n",
      "('destination_MADRID', 0.0013826133553846958)\n",
      "('destination_PONFERRADA', 0.00022260077498834462)\n",
      "('destination_SEVILLA', 0.04685878395676649)\n",
      "('destination_VALENCIA', 0.0005865077151811979)\n",
      "('train_type_ALVIA', 0.010989243141256003)\n",
      "('train_type_AV City', 0.0005244390854982758)\n",
      "('train_type_AVE', 0.016431468511532682)\n",
      "('train_type_AVE-LD', 5.04444043649971e-05)\n",
      "('train_type_AVE-MD', 0.001807033991459208)\n",
      "('train_type_AVE-TGV', 0.0020228230794691274)\n",
      "('train_type_INTERCITY', 0.0022022988024666596)\n",
      "('train_type_LD', 2.054557481918553e-05)\n",
      "('train_type_LD-MD', 0.00023419615800758322)\n",
      "('train_type_MD', 2.6240062696361262e-05)\n",
      "('train_type_MD-AVE', 3.140888798161606e-05)\n",
      "('train_type_MD-LD', 0.0003918852543511944)\n",
      "('train_type_R. EXPRES', 0.00024952965874436365)\n",
      "('train_type_REGIONAL', 0.0021133131504278663)\n",
      "('train_type_TRENHOTEL', 0.00018147908647271662)\n",
      "('train_class_Cama G. Clase', 0.0)\n",
      "('train_class_Cama Turista', 0.0)\n",
      "('train_class_Preferente', 0.03622840393242531)\n",
      "('train_class_Turista', 0.04861132784670572)\n",
      "('train_class_Turista Plus', 0.001717731957705899)\n",
      "('train_class_Turista con enlace', 0.001041490359377717)\n",
      "('fare_Adulto ida', 3.607396224949958e-05)\n",
      "('fare_Flexible', 0.05322281196873511)\n",
      "('fare_Individual-Flexible', 0.0)\n",
      "('fare_Promo', 0.05241632287635343)\n",
      "('fare_Promo +', 8.724724339616241e-05)\n",
      "('insert_day_Friday', 0.0015308922017169752)\n",
      "('insert_day_Monday', 0.0022549482355942465)\n",
      "('insert_day_Saturday', 0.002111453690474643)\n",
      "('insert_day_Sunday', 0.002124554096800803)\n",
      "('insert_day_Thursday', 0.0014745892571354036)\n",
      "('insert_day_Tuesday', 0.0023669031997792453)\n",
      "('insert_day_Wednesday', 0.0018640728535694506)\n",
      "('start_day_Friday', 0.0014682330662364313)\n",
      "('start_day_Monday', 0.001822970574372259)\n",
      "('start_day_Saturday', 0.00245140672902979)\n",
      "('start_day_Sunday', 0.0030679589428076882)\n",
      "('start_day_Thursday', 0.0019555632151687452)\n",
      "('start_day_Tuesday', 0.0016090538183451376)\n",
      "('start_day_Wednesday', 0.001284230920899783)\n",
      "('end_day_Friday', 0.0017577970622104568)\n",
      "('end_day_Monday', 0.0016923315761106614)\n",
      "('end_day_Saturday', 0.001868767677477955)\n",
      "('end_day_Sunday', 0.0027236967432642772)\n",
      "('end_day_Thursday', 0.0018058279091424164)\n",
      "('end_day_Tuesday', 0.001683591798632996)\n",
      "('end_day_Wednesday', 0.001244150501281051)\n",
      "('insert_month_April', 0.0010395774982115216)\n",
      "('insert_month_May', 0.0010015757226644673)\n",
      "('start_month_April', 0.002257845130232536)\n",
      "('start_month_July', 0.0005125785907688077)\n",
      "('start_month_June', 0.001247031608772208)\n",
      "('start_month_May', 0.0010801947578838531)\n",
      "('end_month_April', 0.0022495113221037396)\n",
      "('end_month_July', 0.0004427837478909104)\n",
      "('end_month_June', 0.0011899130594781296)\n",
      "('end_month_May', 0.0011127530192556448)\n"
     ]
    }
   ],
   "source": [
    "# Print the name and gini importance of each feature\n",
    "for feature in zip(feature_names, rfmodel.feature_importances_):\n",
    "    print(feature)"
   ]
  },
  {
   "cell_type": "code",
   "execution_count": 64,
   "metadata": {},
   "outputs": [],
   "source": [
    "# Create a selector object that will use the random forest classifier to identify\n",
    "# features that have an importance of more than 0.01\n",
    "sfm = SelectFromModel(rfmodel, threshold=0.01)"
   ]
  },
  {
   "cell_type": "code",
   "execution_count": 65,
   "metadata": {},
   "outputs": [
    {
     "data": {
      "text/plain": [
       "SelectFromModel(estimator=RandomForestRegressor(bootstrap=True, criterion='mse', max_depth=None,\n",
       "           max_features='auto', max_leaf_nodes=None,\n",
       "           min_impurity_decrease=0.0, min_impurity_split=None,\n",
       "           min_samples_leaf=1, min_samples_split=2,\n",
       "           min_weight_fraction_leaf=0.0, n_estimators=200, n_jobs=None,\n",
       "           oob_score=False, random_state=123, verbose=0, warm_start=False),\n",
       "        max_features=None, norm_order=1, prefit=False, threshold=0.01)"
      ]
     },
     "execution_count": 65,
     "metadata": {},
     "output_type": "execute_result"
    }
   ],
   "source": [
    "# Train the selector\n",
    "sfm.fit(X_train, y_train)"
   ]
  },
  {
   "cell_type": "code",
   "execution_count": 66,
   "metadata": {},
   "outputs": [
    {
     "name": "stdout",
     "output_type": "stream",
     "text": [
      "Unnamed: 0\n",
      "V1\n",
      "traveltime_seconds\n",
      "origin_BARCELONA\n",
      "origin_SEVILLA\n",
      "destination_BARCELONA\n",
      "destination_SEVILLA\n",
      "train_type_ALVIA\n",
      "train_type_AVE\n",
      "train_class_Preferente\n",
      "train_class_Turista\n",
      "fare_Flexible\n",
      "fare_Promo\n"
     ]
    }
   ],
   "source": [
    "# Print the names of the most important features\n",
    "for feature_list_index in sfm.get_support(indices=True):\n",
    "    print(feature_names[feature_list_index])"
   ]
  },
  {
   "cell_type": "code",
   "execution_count": 67,
   "metadata": {},
   "outputs": [],
   "source": [
    "# DATA SUBSET WITH ONLY THE IMPORTANT FEATURES\n",
    "\n",
    "# Transform the data to create a new dataset containing only the most important features\n",
    "# Note: We have to apply the transform to both the training X and test X data.\n",
    "X_important_train = sfm.transform(X_train)\n",
    "X_important_test = sfm.transform(X_test)"
   ]
  },
  {
   "cell_type": "code",
   "execution_count": 68,
   "metadata": {},
   "outputs": [],
   "source": [
    "# save model to disk\n",
    "filename = 'rfmodel.sav'\n",
    "pickle.dump(rfmodel, open(filename, 'wb'))"
   ]
  },
  {
   "cell_type": "markdown",
   "metadata": {},
   "source": [
    "# XGBoost"
   ]
  },
  {
   "cell_type": "code",
   "execution_count": 69,
   "metadata": {},
   "outputs": [],
   "source": [
    "import xgboost\n",
    "from sklearn.metrics import explained_variance_score"
   ]
  },
  {
   "cell_type": "code",
   "execution_count": 70,
   "metadata": {},
   "outputs": [
    {
     "name": "stdout",
     "output_type": "stream",
     "text": [
      "[17:26:40] WARNING: C:/Jenkins/workspace/xgboost-win64_release_0.90/src/objective/regression_obj.cu:152: reg:linear is now deprecated in favor of reg:squarederror.\n"
     ]
    }
   ],
   "source": [
    "# State the model\n",
    "xgb = xgboost.XGBRegressor(n_estimators=100, learning_rate=0.08, gamma=0, subsample=0.75,\n",
    "                           colsample_bytree=1, max_depth=7)\n",
    "\n",
    "# Load the model instead of fitting it each time\n",
    "rfmodel = pickle.load(open('xgbmodel.sav', 'rb'))"
   ]
  },
  {
   "cell_type": "code",
   "execution_count": 71,
   "metadata": {
    "scrolled": true
   },
   "outputs": [
    {
     "name": "stdout",
     "output_type": "stream",
     "text": [
      "[17:26:40] WARNING: C:/Jenkins/workspace/xgboost-win64_release_0.90/src/objective/regression_obj.cu:152: reg:linear is now deprecated in favor of reg:squarederror.\n"
     ]
    }
   ],
   "source": [
    "# Train the model\n",
    "# xgbmodel = xgb.fit(X_train, y_train)\n",
    "\n",
    "# Load the model instead of fitting it each time\n",
    "xgbmodel = pickle.load(open('xgbmodel.sav', 'rb'))"
   ]
  },
  {
   "cell_type": "code",
   "execution_count": 72,
   "metadata": {},
   "outputs": [],
   "source": [
    "# Make predictions\n",
    "xgbpred = xgbmodel.predict(X_test)"
   ]
  },
  {
   "cell_type": "code",
   "execution_count": 73,
   "metadata": {},
   "outputs": [
    {
     "name": "stdout",
     "output_type": "stream",
     "text": [
      "0.8640318986854577\n"
     ]
    }
   ],
   "source": [
    "# RSQUARED\n",
    "print(explained_variance_score(xgbpred, y_test))"
   ]
  },
  {
   "cell_type": "code",
   "execution_count": 74,
   "metadata": {},
   "outputs": [
    {
     "name": "stdout",
     "output_type": "stream",
     "text": [
      "Mean squared error: 82.87\n"
     ]
    }
   ],
   "source": [
    "# MSE\n",
    "print(\"Mean squared error: %.2f\"\n",
    "      % mean_squared_error(xgbpred, y_test))"
   ]
  },
  {
   "cell_type": "code",
   "execution_count": 75,
   "metadata": {},
   "outputs": [
    {
     "name": "stdout",
     "output_type": "stream",
     "text": [
      "RMSE: 9.10\n"
     ]
    }
   ],
   "source": [
    "# RMSE\n",
    "print(\"RMSE: %.2f\"\n",
    "      % np.sqrt(mean_squared_error(xgbpred, y_test)))"
   ]
  },
  {
   "cell_type": "code",
   "execution_count": 76,
   "metadata": {},
   "outputs": [
    {
     "name": "stdout",
     "output_type": "stream",
     "text": [
      "R_squared: 0.86\n"
     ]
    }
   ],
   "source": [
    "# RSQUARED\n",
    "print('R_squared: %.2f' % r2_score(xgbpred, y_test))"
   ]
  },
  {
   "cell_type": "code",
   "execution_count": 77,
   "metadata": {},
   "outputs": [],
   "source": [
    "# Calculate mean absolute percentage error (MAPE)\n",
    "xgberrors = abs(xgbpred - y_test)\n",
    "xgbmape = 100 * (xgberrors / y_test)"
   ]
  },
  {
   "cell_type": "code",
   "execution_count": 78,
   "metadata": {},
   "outputs": [
    {
     "name": "stdout",
     "output_type": "stream",
     "text": [
      "Accuracy: 90.04 %.\n"
     ]
    }
   ],
   "source": [
    "# Calculate and display accuracy\n",
    "xgbaccuracy = 100 - np.mean(xgbmape)\n",
    "print('Accuracy:', round(xgbaccuracy, 2), '%.')"
   ]
  },
  {
   "cell_type": "code",
   "execution_count": 79,
   "metadata": {},
   "outputs": [],
   "source": [
    "# save model to disk\n",
    "filename = 'xgbmodel.sav'\n",
    "pickle.dump(xgbmodel, open(filename, 'wb'))"
   ]
  },
  {
   "cell_type": "markdown",
   "metadata": {},
   "source": [
    "# XGBoost Grid Search on the test/train"
   ]
  },
  {
   "cell_type": "code",
   "execution_count": 80,
   "metadata": {},
   "outputs": [],
   "source": [
    "# READ THIS\n",
    "    # https://www.datacamp.com/community/tutorials/xgboost-in-python"
   ]
  },
  {
   "cell_type": "code",
   "execution_count": 81,
   "metadata": {},
   "outputs": [],
   "source": [
    "from sklearn.model_selection import GridSearchCV\n",
    "from sklearn.model_selection import cross_val_predict\n",
    "from sklearn.model_selection import KFold\n",
    "from sklearn.model_selection import RandomizedSearchCV\n",
    "import scipy.stats as st"
   ]
  },
  {
   "cell_type": "code",
   "execution_count": 82,
   "metadata": {},
   "outputs": [],
   "source": [
    "# State the model\n",
    "xgbgs = xgboost.XGBRegressor()"
   ]
  },
  {
   "cell_type": "code",
   "execution_count": 83,
   "metadata": {},
   "outputs": [],
   "source": [
    "# Preparing parameter grid\n",
    "one_to_left = st.beta(10, 1)  \n",
    "from_zero_positive = st.expon(0, 100)\n",
    "\n",
    "params = {  \n",
    "    \"n_estimators\": st.randint(3, 200),\n",
    "    \"max_depth\": st.randint(3, 40),\n",
    "    \"learning_rate\": st.uniform(0.05, 0.1),\n",
    "    \"colsample_bytree\": one_to_left,\n",
    "    \"subsample\": one_to_left,\n",
    "    \"gamma\": st.uniform(0, 10),\n",
    "    'reg_alpha': from_zero_positive,\n",
    "    \"min_child_weight\": from_zero_positive,\n",
    "}\n",
    "\n",
    "params2 = {\n",
    "    \"n_estimators\": st.randint(3, 400),\n",
    "    \"max_depth\": st.randint(3, 100),\n",
    "    \"learning_rate\": st.uniform(0.05, 0.3),\n",
    "    \"colsample_bytree\": one_to_left,\n",
    "    \"subsample\": one_to_left,\n",
    "    \"gamma\": st.uniform(0, 0.2),\n",
    "    'reg_alpha': from_zero_positive,\n",
    "    \"min_child_weight\": from_zero_positive,\n",
    "}"
   ]
  },
  {
   "cell_type": "code",
   "execution_count": 84,
   "metadata": {},
   "outputs": [],
   "source": [
    "# Instantiating randomized grid search\n",
    "gs = RandomizedSearchCV(xgbgs, params2, n_jobs=5, cv=5)  "
   ]
  },
  {
   "cell_type": "code",
   "execution_count": 85,
   "metadata": {},
   "outputs": [
    {
     "name": "stderr",
     "output_type": "stream",
     "text": [
      "C:\\Users\\cholz\\Anaconda3\\lib\\site-packages\\xgboost\\core.py:587: FutureWarning: Series.base is deprecated and will be removed in a future version\n",
      "  if getattr(data, 'base', None) is not None and \\\n"
     ]
    },
    {
     "name": "stdout",
     "output_type": "stream",
     "text": [
      "[17:28:07] WARNING: C:/Jenkins/workspace/xgboost-win64_release_0.90/src/objective/regression_obj.cu:152: reg:linear is now deprecated in favor of reg:squarederror.\n"
     ]
    },
    {
     "data": {
      "text/plain": [
       "RandomizedSearchCV(cv=5, error_score='raise-deprecating',\n",
       "          estimator=XGBRegressor(base_score=0.5, booster='gbtree', colsample_bylevel=1,\n",
       "       colsample_bynode=1, colsample_bytree=1, gamma=0,\n",
       "       importance_type='gain', learning_rate=0.1, max_delta_step=0,\n",
       "       max_depth=3, min_child_weight=1, missing=None, n_estimators=100,\n",
       "       n_jobs=1, nthread=None, objective='reg:linear', random_state=0,\n",
       "       reg_alpha=0, reg_lambda=1, scale_pos_weight=1, seed=None,\n",
       "       silent=None, subsample=1, verbosity=1),\n",
       "          fit_params=None, iid='warn', n_iter=10, n_jobs=5,\n",
       "          param_distributions={'n_estimators': <scipy.stats._distn_infrastructure.rv_frozen object at 0x00000242FAC51828>, 'max_depth': <scipy.stats._distn_infrastructure.rv_frozen object at 0x00000242FAC6B9E8>, 'learning_rate': <scipy.stats._distn_infrastructure.rv_frozen object at 0x00000242FACA4278>, 'cols...28>, 'min_child_weight': <scipy.stats._distn_infrastructure.rv_frozen object at 0x00000242FACA2F28>},\n",
       "          pre_dispatch='2*n_jobs', random_state=None, refit=True,\n",
       "          return_train_score='warn', scoring=None, verbose=0)"
      ]
     },
     "execution_count": 85,
     "metadata": {},
     "output_type": "execute_result"
    }
   ],
   "source": [
    "# Fitting the model and the grid\n",
    "gs.fit(X_train, y_train)"
   ]
  },
  {
   "cell_type": "code",
   "execution_count": 86,
   "metadata": {},
   "outputs": [
    {
     "data": {
      "text/plain": [
       "{'colsample_bytree': 0.9989861020170278,\n",
       " 'gamma': 0.1564804455615587,\n",
       " 'learning_rate': 0.05553399865356852,\n",
       " 'max_depth': 80,\n",
       " 'min_child_weight': 15.08850890956071,\n",
       " 'n_estimators': 179,\n",
       " 'reg_alpha': 227.1844053558706,\n",
       " 'subsample': 0.9924901704349209}"
      ]
     },
     "execution_count": 86,
     "metadata": {},
     "output_type": "execute_result"
    }
   ],
   "source": [
    "# Displaying best parameters\n",
    "bestxgb_params = gs.best_params_\n",
    "bestxgb_params"
   ]
  },
  {
   "cell_type": "code",
   "execution_count": 87,
   "metadata": {},
   "outputs": [],
   "source": [
    "# New model\n",
    "xgb_best = xgboost.XGBRegressor(colsample_bytree=0.7986306694454575,\n",
    " gamma=0.008783023184115057,\n",
    " learning_rate=0.1522743685057763,\n",
    " max_depth=46,\n",
    " min_child_weight=61.276714293435155,\n",
    " n_estimators=388,\n",
    " reg_alpha=95.34130218741632,\n",
    " subsample=0.9695758721284863)"
   ]
  },
  {
   "cell_type": "code",
   "execution_count": 95,
   "metadata": {},
   "outputs": [
    {
     "name": "stdout",
     "output_type": "stream",
     "text": [
      "[17:44:56] WARNING: C:/Jenkins/workspace/xgboost-win64_release_0.90/src/objective/regression_obj.cu:152: reg:linear is now deprecated in favor of reg:squarederror.\n"
     ]
    }
   ],
   "source": [
    "# Train the model\n",
    "# xgb2_model = xgb_best.fit(X_train, y_train)"
   ]
  },
  {
   "cell_type": "code",
   "execution_count": 96,
   "metadata": {},
   "outputs": [],
   "source": [
    "# save model to disk\n",
    "filename = 'xgb2_model.sav'\n",
    "pickle.dump(xgb2_model, open(filename, 'wb'))"
   ]
  },
  {
   "cell_type": "code",
   "execution_count": 97,
   "metadata": {},
   "outputs": [
    {
     "name": "stdout",
     "output_type": "stream",
     "text": [
      "[17:45:39] WARNING: C:/Jenkins/workspace/xgboost-win64_release_0.90/src/objective/regression_obj.cu:152: reg:linear is now deprecated in favor of reg:squarederror.\n"
     ]
    }
   ],
   "source": [
    "# Load the model instead of fitting it each time\n",
    "xgb2_model = pickle.load(open('xgb2_model.sav', 'rb'))"
   ]
  },
  {
   "cell_type": "code",
   "execution_count": 99,
   "metadata": {},
   "outputs": [],
   "source": [
    "# Make predictions\n",
    "xgb2pred = xgb2_model.predict(X_test)"
   ]
  },
  {
   "cell_type": "code",
   "execution_count": 100,
   "metadata": {},
   "outputs": [
    {
     "name": "stdout",
     "output_type": "stream",
     "text": [
      "0.8564662445487086\n"
     ]
    }
   ],
   "source": [
    "# RSQUARED\n",
    "print(explained_variance_score(xgb2pred, y_test))"
   ]
  },
  {
   "cell_type": "code",
   "execution_count": 101,
   "metadata": {},
   "outputs": [
    {
     "name": "stdout",
     "output_type": "stream",
     "text": [
      "Mean squared error: 89.22\n"
     ]
    }
   ],
   "source": [
    "# MSE\n",
    "print(\"Mean squared error: %.2f\"\n",
    "      % mean_squared_error(xgb2pred, y_test))"
   ]
  },
  {
   "cell_type": "code",
   "execution_count": 102,
   "metadata": {},
   "outputs": [
    {
     "name": "stdout",
     "output_type": "stream",
     "text": [
      "RMSE: 9.45\n"
     ]
    }
   ],
   "source": [
    "# RMSE\n",
    "print(\"RMSE: %.2f\"\n",
    "      % np.sqrt(mean_squared_error(xgb2pred, y_test)))"
   ]
  },
  {
   "cell_type": "code",
   "execution_count": 103,
   "metadata": {},
   "outputs": [
    {
     "name": "stdout",
     "output_type": "stream",
     "text": [
      "R_squared: 0.86\n"
     ]
    }
   ],
   "source": [
    "# RSQUARED\n",
    "print('R_squared: %.2f' % r2_score(xgb2pred, y_test))"
   ]
  },
  {
   "cell_type": "code",
   "execution_count": 104,
   "metadata": {},
   "outputs": [],
   "source": [
    "# Calculate mean absolute percentage error (MAPE)\n",
    "xgb2errors = abs(xgb2pred - y_test)\n",
    "xgb2mape = 100 * (xgb2errors / y_test)"
   ]
  },
  {
   "cell_type": "code",
   "execution_count": 105,
   "metadata": {},
   "outputs": [
    {
     "name": "stdout",
     "output_type": "stream",
     "text": [
      "Accuracy: 89.32 %.\n"
     ]
    }
   ],
   "source": [
    "# Calculate and display accuracy\n",
    "xgb2accuracy = 100 - np.mean(xgb2mape)\n",
    "print('Accuracy:', round(xgb2accuracy, 2), '%.')"
   ]
  },
  {
   "cell_type": "code",
   "execution_count": 106,
   "metadata": {},
   "outputs": [],
   "source": [
    "# We overfitted the model. Let's try XGBoost with Cross Validation next."
   ]
  },
  {
   "cell_type": "markdown",
   "metadata": {},
   "source": [
    "# XGBoost Cross Validation"
   ]
  },
  {
   "cell_type": "code",
   "execution_count": 108,
   "metadata": {},
   "outputs": [],
   "source": [
    "# documentation here:\n",
    "    # https://scikit-learn.org/stable/modules/cross_validation.html"
   ]
  },
  {
   "cell_type": "code",
   "execution_count": 109,
   "metadata": {},
   "outputs": [],
   "source": [
    "from xgboost.sklearn import XGBRegressor\n",
    "from sklearn.model_selection import cross_val_score\n",
    "from sklearn import metrics"
   ]
  },
  {
   "cell_type": "code",
   "execution_count": 110,
   "metadata": {},
   "outputs": [
    {
     "name": "stderr",
     "output_type": "stream",
     "text": [
      "C:\\Users\\cholz\\Anaconda3\\lib\\site-packages\\xgboost\\core.py:587: FutureWarning: Series.base is deprecated and will be removed in a future version\n",
      "  if getattr(data, 'base', None) is not None and \\\n"
     ]
    },
    {
     "name": "stdout",
     "output_type": "stream",
     "text": [
      "[17:46:19] WARNING: C:/Jenkins/workspace/xgboost-win64_release_0.90/src/objective/regression_obj.cu:152: reg:linear is now deprecated in favor of reg:squarederror.\n"
     ]
    },
    {
     "name": "stderr",
     "output_type": "stream",
     "text": [
      "C:\\Users\\cholz\\Anaconda3\\lib\\site-packages\\xgboost\\core.py:587: FutureWarning: Series.base is deprecated and will be removed in a future version\n",
      "  if getattr(data, 'base', None) is not None and \\\n"
     ]
    },
    {
     "name": "stdout",
     "output_type": "stream",
     "text": [
      "[17:46:24] WARNING: C:/Jenkins/workspace/xgboost-win64_release_0.90/src/objective/regression_obj.cu:152: reg:linear is now deprecated in favor of reg:squarederror.\n"
     ]
    },
    {
     "name": "stderr",
     "output_type": "stream",
     "text": [
      "C:\\Users\\cholz\\Anaconda3\\lib\\site-packages\\xgboost\\core.py:587: FutureWarning: Series.base is deprecated and will be removed in a future version\n",
      "  if getattr(data, 'base', None) is not None and \\\n"
     ]
    },
    {
     "name": "stdout",
     "output_type": "stream",
     "text": [
      "[17:46:30] WARNING: C:/Jenkins/workspace/xgboost-win64_release_0.90/src/objective/regression_obj.cu:152: reg:linear is now deprecated in favor of reg:squarederror.\n"
     ]
    },
    {
     "name": "stderr",
     "output_type": "stream",
     "text": [
      "C:\\Users\\cholz\\Anaconda3\\lib\\site-packages\\xgboost\\core.py:587: FutureWarning: Series.base is deprecated and will be removed in a future version\n",
      "  if getattr(data, 'base', None) is not None and \\\n"
     ]
    },
    {
     "name": "stdout",
     "output_type": "stream",
     "text": [
      "[17:46:35] WARNING: C:/Jenkins/workspace/xgboost-win64_release_0.90/src/objective/regression_obj.cu:152: reg:linear is now deprecated in favor of reg:squarederror.\n"
     ]
    },
    {
     "name": "stderr",
     "output_type": "stream",
     "text": [
      "C:\\Users\\cholz\\Anaconda3\\lib\\site-packages\\xgboost\\core.py:587: FutureWarning: Series.base is deprecated and will be removed in a future version\n",
      "  if getattr(data, 'base', None) is not None and \\\n"
     ]
    },
    {
     "name": "stdout",
     "output_type": "stream",
     "text": [
      "[17:46:40] WARNING: C:/Jenkins/workspace/xgboost-win64_release_0.90/src/objective/regression_obj.cu:152: reg:linear is now deprecated in favor of reg:squarederror.\n"
     ]
    },
    {
     "name": "stderr",
     "output_type": "stream",
     "text": [
      "C:\\Users\\cholz\\Anaconda3\\lib\\site-packages\\xgboost\\core.py:587: FutureWarning: Series.base is deprecated and will be removed in a future version\n",
      "  if getattr(data, 'base', None) is not None and \\\n"
     ]
    },
    {
     "name": "stdout",
     "output_type": "stream",
     "text": [
      "[17:46:45] WARNING: C:/Jenkins/workspace/xgboost-win64_release_0.90/src/objective/regression_obj.cu:152: reg:linear is now deprecated in favor of reg:squarederror.\n"
     ]
    },
    {
     "name": "stderr",
     "output_type": "stream",
     "text": [
      "C:\\Users\\cholz\\Anaconda3\\lib\\site-packages\\xgboost\\core.py:587: FutureWarning: Series.base is deprecated and will be removed in a future version\n",
      "  if getattr(data, 'base', None) is not None and \\\n"
     ]
    },
    {
     "name": "stdout",
     "output_type": "stream",
     "text": [
      "[17:47:09] WARNING: C:/Jenkins/workspace/xgboost-win64_release_0.90/src/objective/regression_obj.cu:152: reg:linear is now deprecated in favor of reg:squarederror.\n"
     ]
    },
    {
     "name": "stderr",
     "output_type": "stream",
     "text": [
      "C:\\Users\\cholz\\Anaconda3\\lib\\site-packages\\xgboost\\core.py:587: FutureWarning: Series.base is deprecated and will be removed in a future version\n",
      "  if getattr(data, 'base', None) is not None and \\\n"
     ]
    },
    {
     "name": "stdout",
     "output_type": "stream",
     "text": [
      "[17:47:33] WARNING: C:/Jenkins/workspace/xgboost-win64_release_0.90/src/objective/regression_obj.cu:152: reg:linear is now deprecated in favor of reg:squarederror.\n"
     ]
    },
    {
     "name": "stderr",
     "output_type": "stream",
     "text": [
      "C:\\Users\\cholz\\Anaconda3\\lib\\site-packages\\xgboost\\core.py:587: FutureWarning: Series.base is deprecated and will be removed in a future version\n",
      "  if getattr(data, 'base', None) is not None and \\\n"
     ]
    },
    {
     "name": "stdout",
     "output_type": "stream",
     "text": [
      "[17:47:56] WARNING: C:/Jenkins/workspace/xgboost-win64_release_0.90/src/objective/regression_obj.cu:152: reg:linear is now deprecated in favor of reg:squarederror.\n"
     ]
    },
    {
     "name": "stderr",
     "output_type": "stream",
     "text": [
      "C:\\Users\\cholz\\Anaconda3\\lib\\site-packages\\xgboost\\core.py:587: FutureWarning: Series.base is deprecated and will be removed in a future version\n",
      "  if getattr(data, 'base', None) is not None and \\\n"
     ]
    },
    {
     "name": "stdout",
     "output_type": "stream",
     "text": [
      "[17:48:20] WARNING: C:/Jenkins/workspace/xgboost-win64_release_0.90/src/objective/regression_obj.cu:152: reg:linear is now deprecated in favor of reg:squarederror.\n"
     ]
    }
   ],
   "source": [
    "# Evaluating base model vs grid model\n",
    "scores_base = cross_val_score(xgbmodel, X_train, y_train, cv=5)\n",
    "scores_grid = cross_val_score(xgb2_model, X_train, y_train, cv=5)"
   ]
  },
  {
   "cell_type": "code",
   "execution_count": 112,
   "metadata": {},
   "outputs": [
    {
     "name": "stdout",
     "output_type": "stream",
     "text": [
      "Accuracy Base Model: 0.89 (+/- 0.01)\n",
      "Accuracy Grid Model: 0.88 (+/- 0.01)\n"
     ]
    }
   ],
   "source": [
    "print(\"Accuracy Base Model: %0.2f (+/- %0.2f)\" % (scores_base.mean(), scores_base.std() * 2))\n",
    "print(\"Accuracy Grid Model: %0.2f (+/- %0.2f)\" % (scores_grid.mean(), scores_grid.std() * 2))"
   ]
  },
  {
   "cell_type": "markdown",
   "metadata": {},
   "source": [
    "# Neural Network"
   ]
  },
  {
   "cell_type": "code",
   "execution_count": 330,
   "metadata": {},
   "outputs": [],
   "source": [
    "import numpy as np\n",
    "import itertools\n",
    "from keras.layers import Dense, Activation\n",
    "from keras.models import Sequential\n",
    "from keras.layers.normalization import BatchNormalization\n",
    "from sklearn.model_selection import train_test_split\n",
    "import matplotlib.pyplot as plt"
   ]
  },
  {
   "cell_type": "code",
   "execution_count": 114,
   "metadata": {},
   "outputs": [
    {
     "data": {
      "text/plain": [
       "14"
      ]
     },
     "execution_count": 114,
     "metadata": {},
     "output_type": "execute_result"
    }
   ],
   "source": [
    "# Usually it's a good practice to apply following formula in order to find out the total number\n",
    "# of hidden layers needed.\n",
    "\n",
    "# Nh = Ns/(α∗ (Ni + No))\n",
    "\n",
    "# where\n",
    "    # Ni = number of input neurons.\n",
    "    # No = number of output neurons.\n",
    "    # Ns = number of samples in training data set.\n",
    "    # α = an arbitrary scaling factor usually 2-10.\n",
    "\n",
    "nh = round(len(X_train)/(7 * (X_train.shape[1] + 1)))\n",
    "nh"
   ]
  },
  {
   "cell_type": "code",
   "execution_count": 115,
   "metadata": {},
   "outputs": [
    {
     "name": "stderr",
     "output_type": "stream",
     "text": [
      "C:\\Users\\cholz\\Anaconda3\\lib\\site-packages\\sklearn\\preprocessing\\data.py:645: DataConversionWarning: Data with input dtype uint8, int64 were all converted to float64 by StandardScaler.\n",
      "  return self.partial_fit(X, y)\n",
      "C:\\Users\\cholz\\Anaconda3\\lib\\site-packages\\sklearn\\base.py:464: DataConversionWarning: Data with input dtype uint8, int64 were all converted to float64 by StandardScaler.\n",
      "  return self.fit(X, **fit_params).transform(X)\n",
      "C:\\Users\\cholz\\Anaconda3\\lib\\site-packages\\ipykernel_launcher.py:5: DataConversionWarning: Data with input dtype uint8, int64 were all converted to float64 by StandardScaler.\n",
      "  \"\"\"\n"
     ]
    }
   ],
   "source": [
    "# Feature Scaling\n",
    "from sklearn.preprocessing import StandardScaler\n",
    "sc = StandardScaler()\n",
    "X_train_sc = sc.fit_transform(X_train)\n",
    "X_test_sc = sc.transform(X_test)"
   ]
  },
  {
   "cell_type": "code",
   "execution_count": 339,
   "metadata": {},
   "outputs": [],
   "source": [
    "# Initialising the ANN\n",
    "nn = Sequential()\n",
    "\n",
    "# Adding the input layer and the first hidden layer\n",
    "nn.add(Dense(70, activation = 'relu', input_dim = 70))\n",
    "nn.add(BatchNormalization())\n",
    "\n",
    "# Adding 14 hidden layers\n",
    "for i in range(14): \n",
    "    nn.add(Dense(units = 70, activation = 'relu'))\n",
    "\n",
    "# Adding the output layer\n",
    "nn.add(Dense(units = 1))\n",
    "\n",
    "#model.add(Dense(1))\n",
    "# Compiling the ANN\n",
    "nn.compile(optimizer = 'adam', loss = 'mean_squared_error')"
   ]
  },
  {
   "cell_type": "code",
   "execution_count": 340,
   "metadata": {},
   "outputs": [
    {
     "name": "stdout",
     "output_type": "stream",
     "text": [
      "Epoch 1/100\n",
      "7015/7015 [==============================] - 8s 1ms/step - loss: 674.2923\n",
      "Epoch 2/100\n",
      "7015/7015 [==============================] - 2s 215us/step - loss: 162.0049\n",
      "Epoch 3/100\n",
      "7015/7015 [==============================] - 2s 220us/step - loss: 147.6143\n",
      "Epoch 4/100\n",
      "7015/7015 [==============================] - 2s 223us/step - loss: 129.0396\n",
      "Epoch 5/100\n",
      "7015/7015 [==============================] - 2s 215us/step - loss: 116.4601\n",
      "Epoch 6/100\n",
      "7015/7015 [==============================] - 2s 214us/step - loss: 130.4674\n",
      "Epoch 7/100\n",
      "7015/7015 [==============================] - 2s 214us/step - loss: 110.2104\n",
      "Epoch 8/100\n",
      "7015/7015 [==============================] - 2s 217us/step - loss: 106.6662\n",
      "Epoch 9/100\n",
      "7015/7015 [==============================] - 1s 214us/step - loss: 109.2517\n",
      "Epoch 10/100\n",
      "7015/7015 [==============================] - 1s 214us/step - loss: 109.0571\n",
      "Epoch 11/100\n",
      "7015/7015 [==============================] - 1s 213us/step - loss: 95.3927\n",
      "Epoch 12/100\n",
      "7015/7015 [==============================] - 1s 213us/step - loss: 97.4888\n",
      "Epoch 13/100\n",
      "7015/7015 [==============================] - 1s 213us/step - loss: 95.5056\n",
      "Epoch 14/100\n",
      "7015/7015 [==============================] - 2s 223us/step - loss: 93.2884\n",
      "Epoch 15/100\n",
      "7015/7015 [==============================] - 1s 214us/step - loss: 88.0342\n",
      "Epoch 16/100\n",
      "7015/7015 [==============================] - 1s 213us/step - loss: 84.6597\n",
      "Epoch 17/100\n",
      "7015/7015 [==============================] - 1s 212us/step - loss: 90.8078\n",
      "Epoch 18/100\n",
      "7015/7015 [==============================] - 1s 213us/step - loss: 85.6570\n",
      "Epoch 19/100\n",
      "7015/7015 [==============================] - 1s 213us/step - loss: 97.6244\n",
      "Epoch 20/100\n",
      "7015/7015 [==============================] - 1s 212us/step - loss: 85.1170\n",
      "Epoch 21/100\n",
      "7015/7015 [==============================] - 1s 212us/step - loss: 86.7856\n",
      "Epoch 22/100\n",
      "7015/7015 [==============================] - 1s 212us/step - loss: 80.7353\n",
      "Epoch 23/100\n",
      "7015/7015 [==============================] - 1s 212us/step - loss: 73.0769\n",
      "Epoch 24/100\n",
      "7015/7015 [==============================] - 1s 213us/step - loss: 83.7825\n",
      "Epoch 25/100\n",
      "7015/7015 [==============================] - 2s 221us/step - loss: 77.8741\n",
      "Epoch 26/100\n",
      "7015/7015 [==============================] - 1s 211us/step - loss: 74.4505\n",
      "Epoch 27/100\n",
      "7015/7015 [==============================] - 1s 211us/step - loss: 76.3400\n",
      "Epoch 28/100\n",
      "7015/7015 [==============================] - 1s 212us/step - loss: 74.7298\n",
      "Epoch 29/100\n",
      "7015/7015 [==============================] - 1s 212us/step - loss: 74.5691\n",
      "Epoch 30/100\n",
      "7015/7015 [==============================] - 1s 212us/step - loss: 72.9141\n",
      "Epoch 31/100\n",
      "7015/7015 [==============================] - 1s 212us/step - loss: 72.6540\n",
      "Epoch 32/100\n",
      "7015/7015 [==============================] - 1s 212us/step - loss: 71.2432\n",
      "Epoch 33/100\n",
      "7015/7015 [==============================] - 1s 211us/step - loss: 73.3155\n",
      "Epoch 34/100\n",
      "7015/7015 [==============================] - 1s 212us/step - loss: 71.5543\n",
      "Epoch 35/100\n",
      "7015/7015 [==============================] - 2s 216us/step - loss: 71.0650\n",
      "Epoch 36/100\n",
      "7015/7015 [==============================] - 2s 217us/step - loss: 69.1584\n",
      "Epoch 37/100\n",
      "7015/7015 [==============================] - 1s 212us/step - loss: 67.2294\n",
      "Epoch 38/100\n",
      "7015/7015 [==============================] - 1s 212us/step - loss: 74.1357\n",
      "Epoch 39/100\n",
      "7015/7015 [==============================] - 1s 211us/step - loss: 65.0237\n",
      "Epoch 40/100\n",
      "7015/7015 [==============================] - 2s 217us/step - loss: 66.3542\n",
      "Epoch 41/100\n",
      "7015/7015 [==============================] - 2s 216us/step - loss: 66.2373\n",
      "Epoch 42/100\n",
      "7015/7015 [==============================] - 2s 215us/step - loss: 68.6372\n",
      "Epoch 43/100\n",
      "7015/7015 [==============================] - 2s 214us/step - loss: 65.6725\n",
      "Epoch 44/100\n",
      "7015/7015 [==============================] - 1s 211us/step - loss: 65.5378\n",
      "Epoch 45/100\n",
      "7015/7015 [==============================] - 1s 212us/step - loss: 67.2980\n",
      "Epoch 46/100\n",
      "7015/7015 [==============================] - 2s 226us/step - loss: 65.0480\n",
      "Epoch 47/100\n",
      "7015/7015 [==============================] - 1s 213us/step - loss: 60.7497\n",
      "Epoch 48/100\n",
      "7015/7015 [==============================] - 1s 212us/step - loss: 64.9754\n",
      "Epoch 49/100\n",
      "7015/7015 [==============================] - 1s 213us/step - loss: 58.4843\n",
      "Epoch 50/100\n",
      "7015/7015 [==============================] - 1s 213us/step - loss: 65.9515\n",
      "Epoch 51/100\n",
      "7015/7015 [==============================] - 1s 213us/step - loss: 61.8464\n",
      "Epoch 52/100\n",
      "7015/7015 [==============================] - 1s 212us/step - loss: 60.9373\n",
      "Epoch 53/100\n",
      "7015/7015 [==============================] - 1s 212us/step - loss: 59.1344\n",
      "Epoch 54/100\n",
      "7015/7015 [==============================] - 1s 212us/step - loss: 58.0222\n",
      "Epoch 55/100\n",
      "7015/7015 [==============================] - 1s 212us/step - loss: 56.5788\n",
      "Epoch 56/100\n",
      "7015/7015 [==============================] - 1s 212us/step - loss: 58.5765\n",
      "Epoch 57/100\n",
      "7015/7015 [==============================] - 2s 222us/step - loss: 57.2076\n",
      "Epoch 58/100\n",
      "7015/7015 [==============================] - 1s 212us/step - loss: 56.5020\n",
      "Epoch 59/100\n",
      "7015/7015 [==============================] - 1s 212us/step - loss: 60.8704\n",
      "Epoch 60/100\n",
      "7015/7015 [==============================] - 1s 211us/step - loss: 55.3099\n",
      "Epoch 61/100\n",
      "7015/7015 [==============================] - 1s 211us/step - loss: 57.2846\n",
      "Epoch 62/100\n",
      "7015/7015 [==============================] - 1s 212us/step - loss: 55.0980\n",
      "Epoch 63/100\n",
      "7015/7015 [==============================] - 1s 211us/step - loss: 54.7052\n",
      "Epoch 64/100\n",
      "7015/7015 [==============================] - 1s 214us/step - loss: 51.1418\n",
      "Epoch 65/100\n",
      "7015/7015 [==============================] - 2s 218us/step - loss: 52.3561\n",
      "Epoch 66/100\n",
      "7015/7015 [==============================] - 2s 215us/step - loss: 53.0529\n",
      "Epoch 67/100\n",
      "7015/7015 [==============================] - 2s 218us/step - loss: 51.7188\n",
      "Epoch 68/100\n",
      "7015/7015 [==============================] - 2s 221us/step - loss: 54.1027\n",
      "Epoch 69/100\n",
      "7015/7015 [==============================] - 1s 213us/step - loss: 51.2241\n",
      "Epoch 70/100\n",
      "7015/7015 [==============================] - 1s 212us/step - loss: 55.2930\n",
      "Epoch 71/100\n",
      "7015/7015 [==============================] - 1s 212us/step - loss: 51.7718\n",
      "Epoch 72/100\n",
      "7015/7015 [==============================] - 1s 212us/step - loss: 52.9375\n",
      "Epoch 73/100\n",
      "7015/7015 [==============================] - 1s 213us/step - loss: 49.7843\n",
      "Epoch 74/100\n",
      "7015/7015 [==============================] - 1s 213us/step - loss: 52.3240\n",
      "Epoch 75/100\n",
      "7015/7015 [==============================] - 1s 213us/step - loss: 50.6881\n",
      "Epoch 76/100\n",
      "7015/7015 [==============================] - 1s 212us/step - loss: 48.7676\n",
      "Epoch 77/100\n",
      "7015/7015 [==============================] - 1s 211us/step - loss: 47.1654\n",
      "Epoch 78/100\n",
      "7015/7015 [==============================] - 2s 224us/step - loss: 47.2645\n",
      "Epoch 79/100\n",
      "7015/7015 [==============================] - 1s 212us/step - loss: 51.2942\n",
      "Epoch 80/100\n",
      "7015/7015 [==============================] - 1s 212us/step - loss: 46.5455\n",
      "Epoch 81/100\n",
      "7015/7015 [==============================] - 1s 212us/step - loss: 47.8853\n",
      "Epoch 82/100\n",
      "7015/7015 [==============================] - 1s 213us/step - loss: 48.1207\n",
      "Epoch 83/100\n",
      "7015/7015 [==============================] - 1s 211us/step - loss: 47.2965\n",
      "Epoch 84/100\n",
      "7015/7015 [==============================] - 2s 219us/step - loss: 47.9764\n",
      "Epoch 85/100\n",
      "7015/7015 [==============================] - 2s 217us/step - loss: 49.6963\n",
      "Epoch 86/100\n",
      "7015/7015 [==============================] - 2s 218us/step - loss: 46.7612\n",
      "Epoch 87/100\n",
      "7015/7015 [==============================] - 1s 213us/step - loss: 46.4947\n",
      "Epoch 88/100\n",
      "7015/7015 [==============================] - 1s 213us/step - loss: 46.3702\n",
      "Epoch 89/100\n",
      "7015/7015 [==============================] - 2s 222us/step - loss: 46.9391\n",
      "Epoch 90/100\n",
      "7015/7015 [==============================] - 2s 217us/step - loss: 46.0153\n",
      "Epoch 91/100\n",
      "7015/7015 [==============================] - 1s 214us/step - loss: 47.0679\n",
      "Epoch 92/100\n",
      "7015/7015 [==============================] - 1s 213us/step - loss: 43.5280\n",
      "Epoch 93/100\n",
      "7015/7015 [==============================] - 2s 214us/step - loss: 43.4440\n",
      "Epoch 94/100\n"
     ]
    },
    {
     "name": "stdout",
     "output_type": "stream",
     "text": [
      "7015/7015 [==============================] - 1s 213us/step - loss: 44.3793\n",
      "Epoch 95/100\n",
      "7015/7015 [==============================] - 1s 211us/step - loss: 44.4823\n",
      "Epoch 96/100\n",
      "7015/7015 [==============================] - 1s 212us/step - loss: 42.9221\n",
      "Epoch 97/100\n",
      "7015/7015 [==============================] - 1s 212us/step - loss: 44.6169\n",
      "Epoch 98/100\n",
      "7015/7015 [==============================] - 1s 212us/step - loss: 41.8301\n",
      "Epoch 99/100\n",
      "7015/7015 [==============================] - 2s 219us/step - loss: 42.6625\n",
      "Epoch 100/100\n",
      "7015/7015 [==============================] - 2s 214us/step - loss: 43.7780\n"
     ]
    }
   ],
   "source": [
    "# Fitting the ANN to the Training set\n",
    "nnmodel = nn.fit(X_train_sc, y_train, batch_size = 32, epochs = 100)\n",
    "\n",
    "# Load the model instead of fitting it each time\n",
    "#nnmodel = pickle.load(open('nnmodel.sav', 'rb'))"
   ]
  },
  {
   "cell_type": "code",
   "execution_count": 341,
   "metadata": {},
   "outputs": [],
   "source": [
    "# Make predictions\n",
    "nnpred = nn.predict(X_test_sc)"
   ]
  },
  {
   "cell_type": "code",
   "execution_count": 342,
   "metadata": {},
   "outputs": [
    {
     "data": {
      "text/plain": [
       "array([[36.243755],\n",
       "       [35.848442],\n",
       "       [44.34925 ],\n",
       "       ...,\n",
       "       [81.1128  ],\n",
       "       [47.532345],\n",
       "       [35.881325]], dtype=float32)"
      ]
     },
     "execution_count": 342,
     "metadata": {},
     "output_type": "execute_result"
    }
   ],
   "source": [
    "nnpred"
   ]
  },
  {
   "cell_type": "code",
   "execution_count": 343,
   "metadata": {},
   "outputs": [],
   "source": [
    "# transform predictions back\n",
    "nnpred = nnpred.flatten()\n",
    "nnpred = pd.Series(nnpred)"
   ]
  },
  {
   "cell_type": "code",
   "execution_count": 344,
   "metadata": {},
   "outputs": [
    {
     "name": "stdout",
     "output_type": "stream",
     "text": [
      "0.8263978004517316\n"
     ]
    }
   ],
   "source": [
    "# RSQUARED\n",
    "print(explained_variance_score(nnpred, y_test))"
   ]
  },
  {
   "cell_type": "code",
   "execution_count": 345,
   "metadata": {},
   "outputs": [
    {
     "name": "stdout",
     "output_type": "stream",
     "text": [
      "Mean squared error: 105.64\n"
     ]
    }
   ],
   "source": [
    "# MSE\n",
    "print(\"Mean squared error: %.2f\"\n",
    "      % mean_squared_error(nnpred, y_test))"
   ]
  },
  {
   "cell_type": "code",
   "execution_count": 346,
   "metadata": {},
   "outputs": [
    {
     "name": "stdout",
     "output_type": "stream",
     "text": [
      "RMSE: 10.28\n"
     ]
    }
   ],
   "source": [
    "# RMSE\n",
    "print(\"RMSE: %.2f\"\n",
    "      % np.sqrt(mean_squared_error(nnpred, y_test)))"
   ]
  },
  {
   "cell_type": "code",
   "execution_count": 347,
   "metadata": {},
   "outputs": [
    {
     "name": "stdout",
     "output_type": "stream",
     "text": [
      "R_squared: 0.83\n"
     ]
    }
   ],
   "source": [
    "# RSQUARED\n",
    "print('R_squared: %.2f' % r2_score(nnpred, y_test))"
   ]
  },
  {
   "cell_type": "code",
   "execution_count": 348,
   "metadata": {},
   "outputs": [],
   "source": [
    "# Calculate mean absolute percentage error (MAPE)\n",
    "nnerrors = abs(nnpred - y_test)\n",
    "nnmape = 100 * (nnerrors / y_test)"
   ]
  },
  {
   "cell_type": "code",
   "execution_count": 349,
   "metadata": {},
   "outputs": [
    {
     "name": "stdout",
     "output_type": "stream",
     "text": [
      "Accuracy: 44.32 %.\n"
     ]
    }
   ],
   "source": [
    "# Calculate and display accuracy\n",
    "nnaccuracy = 100 - np.mean(nnmape)\n",
    "print('Accuracy:', round(nnaccuracy, 2), '%.')"
   ]
  },
  {
   "cell_type": "code",
   "execution_count": 350,
   "metadata": {},
   "outputs": [],
   "source": [
    "# save model to disk\n",
    "filename = 'nnmodel.sav'\n",
    "pickle.dump(nnmodel, open(filename, 'wb'))"
   ]
  },
  {
   "cell_type": "markdown",
   "metadata": {},
   "source": [
    "# Plotting all predictions"
   ]
  },
  {
   "cell_type": "code",
   "execution_count": 351,
   "metadata": {},
   "outputs": [],
   "source": [
    "import seaborn as sns"
   ]
  },
  {
   "cell_type": "code",
   "execution_count": 352,
   "metadata": {},
   "outputs": [],
   "source": [
    "predplot = pd.DataFrame({'real data': y_test,\n",
    "                         'linear model': predlin,\n",
    "                         'random forest': predrf,\n",
    "                         'xgboost': xgbpred,\n",
    "                         'xgboost gridsearch': xgb2pred,\n",
    "                         'neural network': nnpred.values\n",
    "                        })"
   ]
  },
  {
   "cell_type": "code",
   "execution_count": 353,
   "metadata": {},
   "outputs": [
    {
     "data": {
      "text/plain": [
       "<matplotlib.axes._subplots.AxesSubplot at 0x242c33284e0>"
      ]
     },
     "execution_count": 353,
     "metadata": {},
     "output_type": "execute_result"
    },
    {
     "data": {
      "image/png": "[encoded data removed]",
      "text/plain": [
       "<Figure size 720x360 with 1 Axes>"
      ]
     },
     "metadata": {
      "needs_background": "light"
     },
     "output_type": "display_data"
    }
   ],
   "source": [
    "predplot.reset_index().plot(x='index',\n",
    "                            y=['real data', 'linear model',\n",
    "                               'random forest', 'xgboost',\n",
    "                               'xgboost gridsearch', 'neural network'],\n",
    "                            linestyle='none',\n",
    "                            marker='x',\n",
    "                            alpha=.9)"
   ]
  },
  {
   "cell_type": "markdown",
   "metadata": {},
   "source": [
    "# Combining the predictions into a new model"
   ]
  },
  {
   "cell_type": "code",
   "execution_count": 354,
   "metadata": {},
   "outputs": [],
   "source": [
    "# import\n",
    "from sklearn.linear_model import LinearRegression\n",
    "from sklearn.metrics import mean_squared_error, r2_score"
   ]
  },
  {
   "cell_type": "code",
   "execution_count": 356,
   "metadata": {},
   "outputs": [
    {
     "ename": "ValueError",
     "evalue": "shapes (7015,70) and (5,) not aligned: 70 (dim 1) != 5 (dim 0)",
     "output_type": "error",
     "traceback": [
      "\u001b[1;31m---------------------------------------------------------------------------\u001b[0m",
      "\u001b[1;31mValueError\u001b[0m                                Traceback (most recent call last)",
      "\u001b[1;32m<ipython-input-356-5e98322bb14d>\u001b[0m in \u001b[0;36m<module>\u001b[1;34m\u001b[0m\n\u001b[0;32m      1\u001b[0m \u001b[1;31m# predict the train sets with our models\u001b[0m\u001b[1;33m\u001b[0m\u001b[1;33m\u001b[0m\u001b[1;33m\u001b[0m\u001b[0m\n\u001b[1;32m----> 2\u001b[1;33m \u001b[0mlinx\u001b[0m \u001b[1;33m=\u001b[0m \u001b[0mlinearmodel\u001b[0m\u001b[1;33m.\u001b[0m\u001b[0mpredict\u001b[0m\u001b[1;33m(\u001b[0m\u001b[0mX_train\u001b[0m\u001b[1;33m)\u001b[0m\u001b[1;33m\u001b[0m\u001b[1;33m\u001b[0m\u001b[0m\n\u001b[0m\u001b[0;32m      3\u001b[0m \u001b[0mrfx\u001b[0m \u001b[1;33m=\u001b[0m \u001b[0mrfmodel\u001b[0m\u001b[1;33m.\u001b[0m\u001b[0mpredict\u001b[0m\u001b[1;33m(\u001b[0m\u001b[0mX_train\u001b[0m\u001b[1;33m)\u001b[0m\u001b[1;33m\u001b[0m\u001b[1;33m\u001b[0m\u001b[0m\n\u001b[0;32m      4\u001b[0m \u001b[0mxgbx\u001b[0m \u001b[1;33m=\u001b[0m \u001b[0mxgbmodel\u001b[0m\u001b[1;33m.\u001b[0m\u001b[0mpredict\u001b[0m\u001b[1;33m(\u001b[0m\u001b[0mX_train\u001b[0m\u001b[1;33m)\u001b[0m\u001b[1;33m\u001b[0m\u001b[1;33m\u001b[0m\u001b[0m\n\u001b[0;32m      5\u001b[0m \u001b[0mxgb2x\u001b[0m \u001b[1;33m=\u001b[0m \u001b[0mxgb2_model\u001b[0m\u001b[1;33m.\u001b[0m\u001b[0mpredict\u001b[0m\u001b[1;33m(\u001b[0m\u001b[0mX_train\u001b[0m\u001b[1;33m)\u001b[0m\u001b[1;33m\u001b[0m\u001b[1;33m\u001b[0m\u001b[0m\n",
      "\u001b[1;32m~\\Anaconda3\\lib\\site-packages\\sklearn\\linear_model\\base.py\u001b[0m in \u001b[0;36mpredict\u001b[1;34m(self, X)\u001b[0m\n\u001b[0;32m    211\u001b[0m             \u001b[0mReturns\u001b[0m \u001b[0mpredicted\u001b[0m \u001b[0mvalues\u001b[0m\u001b[1;33m.\u001b[0m\u001b[1;33m\u001b[0m\u001b[1;33m\u001b[0m\u001b[0m\n\u001b[0;32m    212\u001b[0m         \"\"\"\n\u001b[1;32m--> 213\u001b[1;33m         \u001b[1;32mreturn\u001b[0m \u001b[0mself\u001b[0m\u001b[1;33m.\u001b[0m\u001b[0m_decision_function\u001b[0m\u001b[1;33m(\u001b[0m\u001b[0mX\u001b[0m\u001b[1;33m)\u001b[0m\u001b[1;33m\u001b[0m\u001b[1;33m\u001b[0m\u001b[0m\n\u001b[0m\u001b[0;32m    214\u001b[0m \u001b[1;33m\u001b[0m\u001b[0m\n\u001b[0;32m    215\u001b[0m     \u001b[0m_preprocess_data\u001b[0m \u001b[1;33m=\u001b[0m \u001b[0mstaticmethod\u001b[0m\u001b[1;33m(\u001b[0m\u001b[0m_preprocess_data\u001b[0m\u001b[1;33m)\u001b[0m\u001b[1;33m\u001b[0m\u001b[1;33m\u001b[0m\u001b[0m\n",
      "\u001b[1;32m~\\Anaconda3\\lib\\site-packages\\sklearn\\linear_model\\base.py\u001b[0m in \u001b[0;36m_decision_function\u001b[1;34m(self, X)\u001b[0m\n\u001b[0;32m    196\u001b[0m         \u001b[0mX\u001b[0m \u001b[1;33m=\u001b[0m \u001b[0mcheck_array\u001b[0m\u001b[1;33m(\u001b[0m\u001b[0mX\u001b[0m\u001b[1;33m,\u001b[0m \u001b[0maccept_sparse\u001b[0m\u001b[1;33m=\u001b[0m\u001b[1;33m[\u001b[0m\u001b[1;34m'csr'\u001b[0m\u001b[1;33m,\u001b[0m \u001b[1;34m'csc'\u001b[0m\u001b[1;33m,\u001b[0m \u001b[1;34m'coo'\u001b[0m\u001b[1;33m]\u001b[0m\u001b[1;33m)\u001b[0m\u001b[1;33m\u001b[0m\u001b[1;33m\u001b[0m\u001b[0m\n\u001b[0;32m    197\u001b[0m         return safe_sparse_dot(X, self.coef_.T,\n\u001b[1;32m--> 198\u001b[1;33m                                dense_output=True) + self.intercept_\n\u001b[0m\u001b[0;32m    199\u001b[0m \u001b[1;33m\u001b[0m\u001b[0m\n\u001b[0;32m    200\u001b[0m     \u001b[1;32mdef\u001b[0m \u001b[0mpredict\u001b[0m\u001b[1;33m(\u001b[0m\u001b[0mself\u001b[0m\u001b[1;33m,\u001b[0m \u001b[0mX\u001b[0m\u001b[1;33m)\u001b[0m\u001b[1;33m:\u001b[0m\u001b[1;33m\u001b[0m\u001b[1;33m\u001b[0m\u001b[0m\n",
      "\u001b[1;32m~\\Anaconda3\\lib\\site-packages\\sklearn\\utils\\extmath.py\u001b[0m in \u001b[0;36msafe_sparse_dot\u001b[1;34m(a, b, dense_output)\u001b[0m\n\u001b[0;32m    171\u001b[0m         \u001b[1;32mreturn\u001b[0m \u001b[0mret\u001b[0m\u001b[1;33m\u001b[0m\u001b[1;33m\u001b[0m\u001b[0m\n\u001b[0;32m    172\u001b[0m     \u001b[1;32melse\u001b[0m\u001b[1;33m:\u001b[0m\u001b[1;33m\u001b[0m\u001b[1;33m\u001b[0m\u001b[0m\n\u001b[1;32m--> 173\u001b[1;33m         \u001b[1;32mreturn\u001b[0m \u001b[0mnp\u001b[0m\u001b[1;33m.\u001b[0m\u001b[0mdot\u001b[0m\u001b[1;33m(\u001b[0m\u001b[0ma\u001b[0m\u001b[1;33m,\u001b[0m \u001b[0mb\u001b[0m\u001b[1;33m)\u001b[0m\u001b[1;33m\u001b[0m\u001b[1;33m\u001b[0m\u001b[0m\n\u001b[0m\u001b[0;32m    174\u001b[0m \u001b[1;33m\u001b[0m\u001b[0m\n\u001b[0;32m    175\u001b[0m \u001b[1;33m\u001b[0m\u001b[0m\n",
      "\u001b[1;31mValueError\u001b[0m: shapes (7015,70) and (5,) not aligned: 70 (dim 1) != 5 (dim 0)"
     ]
    }
   ],
   "source": [
    "# predict the train sets with our models\n",
    "linx = linearmodel.predict(X_train)\n",
    "rfx = rfmodel.predict(X_train)\n",
    "xgbx = xgbmodel.predict(X_train)\n",
    "xgb2x = xgb2_model.predict(X_train)\n",
    "nnx = nn.predict(X_train)\n",
    "\n",
    "# transform predictions back\n",
    "nnx = nnx.flatten()\n",
    "nnx = pd.Series(nnx)"
   ]
  },
  {
   "cell_type": "code",
   "execution_count": 357,
   "metadata": {},
   "outputs": [],
   "source": [
    "lindf = pd.DataFrame({   'linear model': linx,\n",
    "                         'random forest': rfx,\n",
    "                         'xgboost': xgbx,\n",
    "                         'xgboost gridsearch': xgb2x,\n",
    "                         'neural network': nnx\n",
    "                        })"
   ]
  },
  {
   "cell_type": "code",
   "execution_count": 358,
   "metadata": {},
   "outputs": [],
   "source": [
    "lindf2 = pd.DataFrame({ 'linear model': predlin,\n",
    "                        'random forest': predrf,\n",
    "                        'xgboost': xgbpred,\n",
    "                        'xgboost gridsearch': xgb2pred,\n",
    "                        'neural network': nnpred\n",
    "                    })"
   ]
  },
  {
   "cell_type": "code",
   "execution_count": 359,
   "metadata": {},
   "outputs": [],
   "source": [
    "# base model\n",
    "linreg = LinearRegression()"
   ]
  },
  {
   "cell_type": "code",
   "execution_count": 360,
   "metadata": {},
   "outputs": [],
   "source": [
    "# fit the model\n",
    "stackedmodel = linreg.fit(lindf, y_train)"
   ]
  },
  {
   "cell_type": "code",
   "execution_count": 361,
   "metadata": {},
   "outputs": [
    {
     "name": "stdout",
     "output_type": "stream",
     "text": [
      "-0.10883479972148535\n",
      "[-2.95190820e-01  2.11623261e-01  2.11623261e-01  8.73981514e-01\n",
      " -7.04584199e-09]\n"
     ]
    }
   ],
   "source": [
    "# print results - these will be used as weights later\n",
    "print(stackedmodel.intercept_)\n",
    "print(stackedmodel.coef_)"
   ]
  },
  {
   "cell_type": "code",
   "execution_count": 298,
   "metadata": {},
   "outputs": [],
   "source": [
    "# simple average, without NN\n",
    "lindf2['avg'] = lindf2.mean(axis=1)\n",
    "lindf2pred = lindf2['avg']"
   ]
  },
  {
   "cell_type": "code",
   "execution_count": 299,
   "metadata": {},
   "outputs": [
    {
     "name": "stdout",
     "output_type": "stream",
     "text": [
      "Mean squared error: 87.66\n"
     ]
    }
   ],
   "source": [
    "# MSE\n",
    "print(\"Mean squared error: %.2f\"\n",
    "      % mean_squared_error(lindf2pred, y_test))"
   ]
  },
  {
   "cell_type": "code",
   "execution_count": 300,
   "metadata": {},
   "outputs": [
    {
     "name": "stdout",
     "output_type": "stream",
     "text": [
      "RMSE: 9.36\n"
     ]
    }
   ],
   "source": [
    "# RMSE\n",
    "print(\"RMSE: %.2f\"\n",
    "      % np.sqrt(mean_squared_error(lindf2pred, y_test)))"
   ]
  },
  {
   "cell_type": "code",
   "execution_count": 303,
   "metadata": {},
   "outputs": [
    {
     "name": "stdout",
     "output_type": "stream",
     "text": [
      "R_squared: 0.85\n"
     ]
    }
   ],
   "source": [
    "# RSQUARED\n",
    "print('R_squared: %.2f' % r2_score(lindf2pred, y_test))"
   ]
  },
  {
   "cell_type": "code",
   "execution_count": 304,
   "metadata": {},
   "outputs": [],
   "source": [
    "# Calculate mean absolute percentage error (MAPE)\n",
    "lindf2errors = abs(lindf2pred - y_test)\n",
    "lindf2mape = 100 * (lindf2errors / y_test)"
   ]
  },
  {
   "cell_type": "code",
   "execution_count": 308,
   "metadata": {},
   "outputs": [
    {
     "name": "stdout",
     "output_type": "stream",
     "text": [
      "Accuracy: 44.67 %.\n"
     ]
    }
   ],
   "source": [
    "# Calculate and display accuracy\n",
    "lindf2accuracy = 100 - np.mean(lindf2mape)\n",
    "print('Accuracy:', round(lindf2accuracy, 2), '%.')"
   ]
  },
  {
   "cell_type": "code",
   "execution_count": 307,
   "metadata": {},
   "outputs": [],
   "source": [
    "# save predictions to disk\n",
    "filename = 'lindf2pred.sav'\n",
    "pickle.dump(lindf2pred, open(filename, 'wb'))"
   ]
  },
  {
   "cell_type": "code",
   "execution_count": 320,
   "metadata": {},
   "outputs": [],
   "source": [
    "# weighted averages:\n",
    "linw = pd.DataFrame()\n",
    "linw['linear model'] = lindf2['linear model']*-2.95190820e-01\n",
    "linw['random forest'] = lindf2['random forest']*2.11623261e-01\n",
    "linw['xgboost'] = lindf2['xgboost']*2.11623261e-01\n",
    "linw['xgboost gridsearch'] = lindf2['xgboost gridsearch']*8.73981514e-01\n",
    "linw['neural network'] = lindf2['neural network']*-7.04584199e-09"
   ]
  },
  {
   "cell_type": "code",
   "execution_count": 321,
   "metadata": {},
   "outputs": [],
   "source": [
    "# weighted average, without NN\n",
    "linw['avg'] = -0.10883479972148535 + linw['linear model'] + linw['random forest'] + linw['xgboost'] + linw['xgboost gridsearch'] + linw['neural network']\n",
    "linwpred = linw['avg']"
   ]
  },
  {
   "cell_type": "code",
   "execution_count": 322,
   "metadata": {},
   "outputs": [
    {
     "name": "stdout",
     "output_type": "stream",
     "text": [
      "Mean squared error: 87.99\n"
     ]
    }
   ],
   "source": [
    "# MSE\n",
    "print(\"Mean squared error: %.2f\"\n",
    "      % mean_squared_error(linwpred, y_test))"
   ]
  },
  {
   "cell_type": "code",
   "execution_count": 323,
   "metadata": {},
   "outputs": [
    {
     "name": "stdout",
     "output_type": "stream",
     "text": [
      "RMSE: 9.38\n"
     ]
    }
   ],
   "source": [
    "# RMSE\n",
    "print(\"RMSE: %.2f\"\n",
    "      % np.sqrt(mean_squared_error(linwpred, y_test)))"
   ]
  },
  {
   "cell_type": "code",
   "execution_count": 324,
   "metadata": {},
   "outputs": [
    {
     "name": "stdout",
     "output_type": "stream",
     "text": [
      "R_squared: 0.87\n"
     ]
    }
   ],
   "source": [
    "# RSQUARED\n",
    "print('R_squared: %.2f' % r2_score(linwpred, y_test))"
   ]
  },
  {
   "cell_type": "code",
   "execution_count": 325,
   "metadata": {},
   "outputs": [],
   "source": [
    "# Calculate mean absolute percentage error (MAPE)\n",
    "linwerrors = abs(linwpred - y_test)\n",
    "linwmape = 100 * (linwerrors / y_test)"
   ]
  },
  {
   "cell_type": "code",
   "execution_count": 326,
   "metadata": {},
   "outputs": [
    {
     "name": "stdout",
     "output_type": "stream",
     "text": [
      "Accuracy: 43.76 %.\n"
     ]
    }
   ],
   "source": [
    "# Calculate and display accuracy\n",
    "linwaccuracy = 100 - np.mean(linwmape)\n",
    "print('Accuracy:', round(linwaccuracy, 2), '%.')"
   ]
  },
  {
   "cell_type": "code",
   "execution_count": 329,
   "metadata": {},
   "outputs": [
    {
     "data": {
      "text/html": [
       "<div>\n",
       "<style scoped>\n",
       "    .dataframe tbody tr th:only-of-type {\n",
       "        vertical-align: middle;\n",
       "    }\n",
       "\n",
       "    .dataframe tbody tr th {\n",
       "        vertical-align: top;\n",
       "    }\n",
       "\n",
       "    .dataframe thead th {\n",
       "        text-align: right;\n",
       "    }\n",
       "</style>\n",
       "<table border=\"1\" class=\"dataframe\">\n",
       "  <thead>\n",
       "    <tr style=\"text-align: right;\">\n",
       "      <th></th>\n",
       "      <th>linear model</th>\n",
       "      <th>random forest</th>\n",
       "      <th>xgboost</th>\n",
       "      <th>xgboost gridsearch</th>\n",
       "      <th>neural network</th>\n",
       "    </tr>\n",
       "  </thead>\n",
       "  <tbody>\n",
       "    <tr>\n",
       "      <th>0</th>\n",
       "      <td>40.989573</td>\n",
       "      <td>36.96300</td>\n",
       "      <td>37.379406</td>\n",
       "      <td>35.849976</td>\n",
       "      <td>30.454586</td>\n",
       "    </tr>\n",
       "    <tr>\n",
       "      <th>1</th>\n",
       "      <td>40.703901</td>\n",
       "      <td>35.59750</td>\n",
       "      <td>38.045025</td>\n",
       "      <td>39.805588</td>\n",
       "      <td>48.526344</td>\n",
       "    </tr>\n",
       "    <tr>\n",
       "      <th>2</th>\n",
       "      <td>45.217880</td>\n",
       "      <td>43.25000</td>\n",
       "      <td>43.426487</td>\n",
       "      <td>43.074169</td>\n",
       "      <td>43.102184</td>\n",
       "    </tr>\n",
       "    <tr>\n",
       "      <th>3</th>\n",
       "      <td>41.718151</td>\n",
       "      <td>34.95175</td>\n",
       "      <td>34.368744</td>\n",
       "      <td>35.175423</td>\n",
       "      <td>33.777992</td>\n",
       "    </tr>\n",
       "    <tr>\n",
       "      <th>4</th>\n",
       "      <td>77.999041</td>\n",
       "      <td>77.67375</td>\n",
       "      <td>77.425713</td>\n",
       "      <td>75.357376</td>\n",
       "      <td>71.760094</td>\n",
       "    </tr>\n",
       "    <tr>\n",
       "      <th>5</th>\n",
       "      <td>30.965276</td>\n",
       "      <td>28.35000</td>\n",
       "      <td>27.922184</td>\n",
       "      <td>26.747303</td>\n",
       "      <td>27.715200</td>\n",
       "    </tr>\n",
       "    <tr>\n",
       "      <th>6</th>\n",
       "      <td>63.649020</td>\n",
       "      <td>66.35825</td>\n",
       "      <td>66.243202</td>\n",
       "      <td>65.071617</td>\n",
       "      <td>56.113041</td>\n",
       "    </tr>\n",
       "    <tr>\n",
       "      <th>7</th>\n",
       "      <td>104.143938</td>\n",
       "      <td>94.34425</td>\n",
       "      <td>90.876656</td>\n",
       "      <td>94.844688</td>\n",
       "      <td>88.590141</td>\n",
       "    </tr>\n",
       "    <tr>\n",
       "      <th>8</th>\n",
       "      <td>89.075986</td>\n",
       "      <td>92.94725</td>\n",
       "      <td>94.163948</td>\n",
       "      <td>92.977112</td>\n",
       "      <td>92.795158</td>\n",
       "    </tr>\n",
       "    <tr>\n",
       "      <th>9</th>\n",
       "      <td>27.325038</td>\n",
       "      <td>28.35000</td>\n",
       "      <td>27.970875</td>\n",
       "      <td>28.107878</td>\n",
       "      <td>27.698048</td>\n",
       "    </tr>\n",
       "    <tr>\n",
       "      <th>10</th>\n",
       "      <td>79.331338</td>\n",
       "      <td>87.72775</td>\n",
       "      <td>86.960175</td>\n",
       "      <td>91.929710</td>\n",
       "      <td>70.500053</td>\n",
       "    </tr>\n",
       "    <tr>\n",
       "      <th>11</th>\n",
       "      <td>42.692026</td>\n",
       "      <td>50.28325</td>\n",
       "      <td>49.608631</td>\n",
       "      <td>48.258125</td>\n",
       "      <td>48.170860</td>\n",
       "    </tr>\n",
       "    <tr>\n",
       "      <th>12</th>\n",
       "      <td>78.378453</td>\n",
       "      <td>76.30000</td>\n",
       "      <td>75.600464</td>\n",
       "      <td>75.310814</td>\n",
       "      <td>71.027596</td>\n",
       "    </tr>\n",
       "    <tr>\n",
       "      <th>13</th>\n",
       "      <td>79.889649</td>\n",
       "      <td>77.29625</td>\n",
       "      <td>82.446510</td>\n",
       "      <td>77.991585</td>\n",
       "      <td>63.503849</td>\n",
       "    </tr>\n",
       "    <tr>\n",
       "      <th>14</th>\n",
       "      <td>80.040613</td>\n",
       "      <td>75.48400</td>\n",
       "      <td>76.225449</td>\n",
       "      <td>75.982857</td>\n",
       "      <td>72.805702</td>\n",
       "    </tr>\n",
       "    <tr>\n",
       "      <th>15</th>\n",
       "      <td>56.737747</td>\n",
       "      <td>52.50400</td>\n",
       "      <td>51.650124</td>\n",
       "      <td>52.026554</td>\n",
       "      <td>48.845081</td>\n",
       "    </tr>\n",
       "    <tr>\n",
       "      <th>16</th>\n",
       "      <td>26.058921</td>\n",
       "      <td>28.11900</td>\n",
       "      <td>27.501621</td>\n",
       "      <td>26.397577</td>\n",
       "      <td>27.335230</td>\n",
       "    </tr>\n",
       "    <tr>\n",
       "      <th>17</th>\n",
       "      <td>33.466816</td>\n",
       "      <td>28.35000</td>\n",
       "      <td>28.832893</td>\n",
       "      <td>29.426079</td>\n",
       "      <td>27.767115</td>\n",
       "    </tr>\n",
       "    <tr>\n",
       "      <th>18</th>\n",
       "      <td>78.653284</td>\n",
       "      <td>70.78580</td>\n",
       "      <td>70.566254</td>\n",
       "      <td>72.081131</td>\n",
       "      <td>64.566902</td>\n",
       "    </tr>\n",
       "    <tr>\n",
       "      <th>19</th>\n",
       "      <td>110.191992</td>\n",
       "      <td>107.70000</td>\n",
       "      <td>105.547302</td>\n",
       "      <td>108.811203</td>\n",
       "      <td>101.732407</td>\n",
       "    </tr>\n",
       "    <tr>\n",
       "      <th>20</th>\n",
       "      <td>77.506924</td>\n",
       "      <td>87.46100</td>\n",
       "      <td>85.293991</td>\n",
       "      <td>82.477982</td>\n",
       "      <td>86.244560</td>\n",
       "    </tr>\n",
       "    <tr>\n",
       "      <th>21</th>\n",
       "      <td>81.176427</td>\n",
       "      <td>76.30000</td>\n",
       "      <td>76.571991</td>\n",
       "      <td>75.686005</td>\n",
       "      <td>71.626854</td>\n",
       "    </tr>\n",
       "    <tr>\n",
       "      <th>22</th>\n",
       "      <td>128.973119</td>\n",
       "      <td>184.90200</td>\n",
       "      <td>173.547455</td>\n",
       "      <td>164.954025</td>\n",
       "      <td>159.490921</td>\n",
       "    </tr>\n",
       "    <tr>\n",
       "      <th>23</th>\n",
       "      <td>24.726391</td>\n",
       "      <td>28.35000</td>\n",
       "      <td>28.098679</td>\n",
       "      <td>27.193686</td>\n",
       "      <td>27.753927</td>\n",
       "    </tr>\n",
       "    <tr>\n",
       "      <th>24</th>\n",
       "      <td>47.900922</td>\n",
       "      <td>54.65650</td>\n",
       "      <td>54.195892</td>\n",
       "      <td>51.735420</td>\n",
       "      <td>50.464649</td>\n",
       "    </tr>\n",
       "    <tr>\n",
       "      <th>25</th>\n",
       "      <td>67.154142</td>\n",
       "      <td>59.60000</td>\n",
       "      <td>60.185719</td>\n",
       "      <td>61.015953</td>\n",
       "      <td>59.412769</td>\n",
       "    </tr>\n",
       "    <tr>\n",
       "      <th>26</th>\n",
       "      <td>32.334693</td>\n",
       "      <td>33.53750</td>\n",
       "      <td>33.145550</td>\n",
       "      <td>35.577637</td>\n",
       "      <td>27.098103</td>\n",
       "    </tr>\n",
       "    <tr>\n",
       "      <th>27</th>\n",
       "      <td>42.780125</td>\n",
       "      <td>46.25400</td>\n",
       "      <td>44.862892</td>\n",
       "      <td>42.861332</td>\n",
       "      <td>37.278656</td>\n",
       "    </tr>\n",
       "    <tr>\n",
       "      <th>28</th>\n",
       "      <td>43.032693</td>\n",
       "      <td>37.98925</td>\n",
       "      <td>40.684887</td>\n",
       "      <td>40.472710</td>\n",
       "      <td>30.609753</td>\n",
       "    </tr>\n",
       "    <tr>\n",
       "      <th>29</th>\n",
       "      <td>45.734326</td>\n",
       "      <td>46.54300</td>\n",
       "      <td>47.720905</td>\n",
       "      <td>44.519936</td>\n",
       "      <td>44.256100</td>\n",
       "    </tr>\n",
       "    <tr>\n",
       "      <th>...</th>\n",
       "      <td>...</td>\n",
       "      <td>...</td>\n",
       "      <td>...</td>\n",
       "      <td>...</td>\n",
       "      <td>...</td>\n",
       "    </tr>\n",
       "    <tr>\n",
       "      <th>1724</th>\n",
       "      <td>32.571867</td>\n",
       "      <td>34.62475</td>\n",
       "      <td>32.816925</td>\n",
       "      <td>32.148373</td>\n",
       "      <td>33.056656</td>\n",
       "    </tr>\n",
       "    <tr>\n",
       "      <th>1725</th>\n",
       "      <td>30.330327</td>\n",
       "      <td>28.35000</td>\n",
       "      <td>28.798098</td>\n",
       "      <td>28.863146</td>\n",
       "      <td>27.733780</td>\n",
       "    </tr>\n",
       "    <tr>\n",
       "      <th>1726</th>\n",
       "      <td>92.505103</td>\n",
       "      <td>87.60550</td>\n",
       "      <td>86.534096</td>\n",
       "      <td>101.882912</td>\n",
       "      <td>81.983871</td>\n",
       "    </tr>\n",
       "    <tr>\n",
       "      <th>1727</th>\n",
       "      <td>56.362440</td>\n",
       "      <td>56.58675</td>\n",
       "      <td>56.705654</td>\n",
       "      <td>52.226151</td>\n",
       "      <td>48.255329</td>\n",
       "    </tr>\n",
       "    <tr>\n",
       "      <th>1728</th>\n",
       "      <td>75.007054</td>\n",
       "      <td>69.50250</td>\n",
       "      <td>73.434349</td>\n",
       "      <td>74.313637</td>\n",
       "      <td>70.151253</td>\n",
       "    </tr>\n",
       "    <tr>\n",
       "      <th>1729</th>\n",
       "      <td>33.988164</td>\n",
       "      <td>45.73900</td>\n",
       "      <td>45.252087</td>\n",
       "      <td>48.499779</td>\n",
       "      <td>42.660713</td>\n",
       "    </tr>\n",
       "    <tr>\n",
       "      <th>1730</th>\n",
       "      <td>43.485816</td>\n",
       "      <td>49.29525</td>\n",
       "      <td>45.539455</td>\n",
       "      <td>44.661350</td>\n",
       "      <td>36.436584</td>\n",
       "    </tr>\n",
       "    <tr>\n",
       "      <th>1731</th>\n",
       "      <td>109.299495</td>\n",
       "      <td>107.70000</td>\n",
       "      <td>105.813644</td>\n",
       "      <td>109.825302</td>\n",
       "      <td>114.670662</td>\n",
       "    </tr>\n",
       "    <tr>\n",
       "      <th>1732</th>\n",
       "      <td>69.927856</td>\n",
       "      <td>67.33375</td>\n",
       "      <td>66.370117</td>\n",
       "      <td>64.219513</td>\n",
       "      <td>56.727989</td>\n",
       "    </tr>\n",
       "    <tr>\n",
       "      <th>1733</th>\n",
       "      <td>63.901937</td>\n",
       "      <td>56.99800</td>\n",
       "      <td>55.269318</td>\n",
       "      <td>58.462223</td>\n",
       "      <td>56.707703</td>\n",
       "    </tr>\n",
       "    <tr>\n",
       "      <th>1734</th>\n",
       "      <td>110.305085</td>\n",
       "      <td>126.71200</td>\n",
       "      <td>126.512985</td>\n",
       "      <td>125.815178</td>\n",
       "      <td>115.472595</td>\n",
       "    </tr>\n",
       "    <tr>\n",
       "      <th>1735</th>\n",
       "      <td>78.768305</td>\n",
       "      <td>86.10000</td>\n",
       "      <td>83.741364</td>\n",
       "      <td>84.608894</td>\n",
       "      <td>89.177216</td>\n",
       "    </tr>\n",
       "    <tr>\n",
       "      <th>1736</th>\n",
       "      <td>88.791517</td>\n",
       "      <td>92.81575</td>\n",
       "      <td>86.359566</td>\n",
       "      <td>86.208748</td>\n",
       "      <td>91.470375</td>\n",
       "    </tr>\n",
       "    <tr>\n",
       "      <th>1737</th>\n",
       "      <td>38.968400</td>\n",
       "      <td>37.94125</td>\n",
       "      <td>31.622118</td>\n",
       "      <td>35.171284</td>\n",
       "      <td>34.787460</td>\n",
       "    </tr>\n",
       "    <tr>\n",
       "      <th>1738</th>\n",
       "      <td>79.201270</td>\n",
       "      <td>68.91050</td>\n",
       "      <td>71.097755</td>\n",
       "      <td>66.731888</td>\n",
       "      <td>74.886162</td>\n",
       "    </tr>\n",
       "    <tr>\n",
       "      <th>1739</th>\n",
       "      <td>38.416047</td>\n",
       "      <td>42.31350</td>\n",
       "      <td>44.236088</td>\n",
       "      <td>44.181438</td>\n",
       "      <td>34.535282</td>\n",
       "    </tr>\n",
       "    <tr>\n",
       "      <th>1740</th>\n",
       "      <td>77.339917</td>\n",
       "      <td>75.51975</td>\n",
       "      <td>74.903900</td>\n",
       "      <td>77.472298</td>\n",
       "      <td>70.780380</td>\n",
       "    </tr>\n",
       "    <tr>\n",
       "      <th>1741</th>\n",
       "      <td>46.210047</td>\n",
       "      <td>49.03350</td>\n",
       "      <td>50.408508</td>\n",
       "      <td>48.144215</td>\n",
       "      <td>47.092476</td>\n",
       "    </tr>\n",
       "    <tr>\n",
       "      <th>1742</th>\n",
       "      <td>39.246776</td>\n",
       "      <td>32.89825</td>\n",
       "      <td>36.748241</td>\n",
       "      <td>37.084442</td>\n",
       "      <td>30.055889</td>\n",
       "    </tr>\n",
       "    <tr>\n",
       "      <th>1743</th>\n",
       "      <td>78.432539</td>\n",
       "      <td>77.27575</td>\n",
       "      <td>78.238777</td>\n",
       "      <td>80.808632</td>\n",
       "      <td>72.056137</td>\n",
       "    </tr>\n",
       "    <tr>\n",
       "      <th>1744</th>\n",
       "      <td>88.385533</td>\n",
       "      <td>90.57725</td>\n",
       "      <td>87.888496</td>\n",
       "      <td>79.996574</td>\n",
       "      <td>76.681152</td>\n",
       "    </tr>\n",
       "    <tr>\n",
       "      <th>1745</th>\n",
       "      <td>49.316619</td>\n",
       "      <td>57.01150</td>\n",
       "      <td>55.380573</td>\n",
       "      <td>56.956459</td>\n",
       "      <td>51.013500</td>\n",
       "    </tr>\n",
       "    <tr>\n",
       "      <th>1746</th>\n",
       "      <td>25.382991</td>\n",
       "      <td>28.35000</td>\n",
       "      <td>28.045013</td>\n",
       "      <td>28.440563</td>\n",
       "      <td>27.760292</td>\n",
       "    </tr>\n",
       "    <tr>\n",
       "      <th>1747</th>\n",
       "      <td>32.596914</td>\n",
       "      <td>36.50375</td>\n",
       "      <td>33.664024</td>\n",
       "      <td>34.162254</td>\n",
       "      <td>35.071308</td>\n",
       "    </tr>\n",
       "    <tr>\n",
       "      <th>1748</th>\n",
       "      <td>103.757312</td>\n",
       "      <td>109.96200</td>\n",
       "      <td>107.951233</td>\n",
       "      <td>109.801064</td>\n",
       "      <td>96.915703</td>\n",
       "    </tr>\n",
       "    <tr>\n",
       "      <th>1749</th>\n",
       "      <td>32.168457</td>\n",
       "      <td>31.73675</td>\n",
       "      <td>34.207539</td>\n",
       "      <td>34.023674</td>\n",
       "      <td>34.722672</td>\n",
       "    </tr>\n",
       "    <tr>\n",
       "      <th>1750</th>\n",
       "      <td>78.335243</td>\n",
       "      <td>76.30000</td>\n",
       "      <td>76.115105</td>\n",
       "      <td>77.808594</td>\n",
       "      <td>76.499573</td>\n",
       "    </tr>\n",
       "    <tr>\n",
       "      <th>1751</th>\n",
       "      <td>78.830063</td>\n",
       "      <td>73.47225</td>\n",
       "      <td>76.854149</td>\n",
       "      <td>74.674797</td>\n",
       "      <td>83.165482</td>\n",
       "    </tr>\n",
       "    <tr>\n",
       "      <th>1752</th>\n",
       "      <td>61.515007</td>\n",
       "      <td>57.61800</td>\n",
       "      <td>52.036594</td>\n",
       "      <td>51.268204</td>\n",
       "      <td>52.772038</td>\n",
       "    </tr>\n",
       "    <tr>\n",
       "      <th>1753</th>\n",
       "      <td>32.360998</td>\n",
       "      <td>24.19725</td>\n",
       "      <td>25.624071</td>\n",
       "      <td>24.338190</td>\n",
       "      <td>28.055584</td>\n",
       "    </tr>\n",
       "  </tbody>\n",
       "</table>\n",
       "<p>1754 rows × 5 columns</p>\n",
       "</div>"
      ],
      "text/plain": [
       "      linear model  random forest     xgboost  xgboost gridsearch  \\\n",
       "0        40.989573       36.96300   37.379406           35.849976   \n",
       "1        40.703901       35.59750   38.045025           39.805588   \n",
       "2        45.217880       43.25000   43.426487           43.074169   \n",
       "3        41.718151       34.95175   34.368744           35.175423   \n",
       "4        77.999041       77.67375   77.425713           75.357376   \n",
       "5        30.965276       28.35000   27.922184           26.747303   \n",
       "6        63.649020       66.35825   66.243202           65.071617   \n",
       "7       104.143938       94.34425   90.876656           94.844688   \n",
       "8        89.075986       92.94725   94.163948           92.977112   \n",
       "9        27.325038       28.35000   27.970875           28.107878   \n",
       "10       79.331338       87.72775   86.960175           91.929710   \n",
       "11       42.692026       50.28325   49.608631           48.258125   \n",
       "12       78.378453       76.30000   75.600464           75.310814   \n",
       "13       79.889649       77.29625   82.446510           77.991585   \n",
       "14       80.040613       75.48400   76.225449           75.982857   \n",
       "15       56.737747       52.50400   51.650124           52.026554   \n",
       "16       26.058921       28.11900   27.501621           26.397577   \n",
       "17       33.466816       28.35000   28.832893           29.426079   \n",
       "18       78.653284       70.78580   70.566254           72.081131   \n",
       "19      110.191992      107.70000  105.547302          108.811203   \n",
       "20       77.506924       87.46100   85.293991           82.477982   \n",
       "21       81.176427       76.30000   76.571991           75.686005   \n",
       "22      128.973119      184.90200  173.547455          164.954025   \n",
       "23       24.726391       28.35000   28.098679           27.193686   \n",
       "24       47.900922       54.65650   54.195892           51.735420   \n",
       "25       67.154142       59.60000   60.185719           61.015953   \n",
       "26       32.334693       33.53750   33.145550           35.577637   \n",
       "27       42.780125       46.25400   44.862892           42.861332   \n",
       "28       43.032693       37.98925   40.684887           40.472710   \n",
       "29       45.734326       46.54300   47.720905           44.519936   \n",
       "...            ...            ...         ...                 ...   \n",
       "1724     32.571867       34.62475   32.816925           32.148373   \n",
       "1725     30.330327       28.35000   28.798098           28.863146   \n",
       "1726     92.505103       87.60550   86.534096          101.882912   \n",
       "1727     56.362440       56.58675   56.705654           52.226151   \n",
       "1728     75.007054       69.50250   73.434349           74.313637   \n",
       "1729     33.988164       45.73900   45.252087           48.499779   \n",
       "1730     43.485816       49.29525   45.539455           44.661350   \n",
       "1731    109.299495      107.70000  105.813644          109.825302   \n",
       "1732     69.927856       67.33375   66.370117           64.219513   \n",
       "1733     63.901937       56.99800   55.269318           58.462223   \n",
       "1734    110.305085      126.71200  126.512985          125.815178   \n",
       "1735     78.768305       86.10000   83.741364           84.608894   \n",
       "1736     88.791517       92.81575   86.359566           86.208748   \n",
       "1737     38.968400       37.94125   31.622118           35.171284   \n",
       "1738     79.201270       68.91050   71.097755           66.731888   \n",
       "1739     38.416047       42.31350   44.236088           44.181438   \n",
       "1740     77.339917       75.51975   74.903900           77.472298   \n",
       "1741     46.210047       49.03350   50.408508           48.144215   \n",
       "1742     39.246776       32.89825   36.748241           37.084442   \n",
       "1743     78.432539       77.27575   78.238777           80.808632   \n",
       "1744     88.385533       90.57725   87.888496           79.996574   \n",
       "1745     49.316619       57.01150   55.380573           56.956459   \n",
       "1746     25.382991       28.35000   28.045013           28.440563   \n",
       "1747     32.596914       36.50375   33.664024           34.162254   \n",
       "1748    103.757312      109.96200  107.951233          109.801064   \n",
       "1749     32.168457       31.73675   34.207539           34.023674   \n",
       "1750     78.335243       76.30000   76.115105           77.808594   \n",
       "1751     78.830063       73.47225   76.854149           74.674797   \n",
       "1752     61.515007       57.61800   52.036594           51.268204   \n",
       "1753     32.360998       24.19725   25.624071           24.338190   \n",
       "\n",
       "      neural network  \n",
       "0          30.454586  \n",
       "1          48.526344  \n",
       "2          43.102184  \n",
       "3          33.777992  \n",
       "4          71.760094  \n",
       "5          27.715200  \n",
       "6          56.113041  \n",
       "7          88.590141  \n",
       "8          92.795158  \n",
       "9          27.698048  \n",
       "10         70.500053  \n",
       "11         48.170860  \n",
       "12         71.027596  \n",
       "13         63.503849  \n",
       "14         72.805702  \n",
       "15         48.845081  \n",
       "16         27.335230  \n",
       "17         27.767115  \n",
       "18         64.566902  \n",
       "19        101.732407  \n",
       "20         86.244560  \n",
       "21         71.626854  \n",
       "22        159.490921  \n",
       "23         27.753927  \n",
       "24         50.464649  \n",
       "25         59.412769  \n",
       "26         27.098103  \n",
       "27         37.278656  \n",
       "28         30.609753  \n",
       "29         44.256100  \n",
       "...              ...  \n",
       "1724       33.056656  \n",
       "1725       27.733780  \n",
       "1726       81.983871  \n",
       "1727       48.255329  \n",
       "1728       70.151253  \n",
       "1729       42.660713  \n",
       "1730       36.436584  \n",
       "1731      114.670662  \n",
       "1732       56.727989  \n",
       "1733       56.707703  \n",
       "1734      115.472595  \n",
       "1735       89.177216  \n",
       "1736       91.470375  \n",
       "1737       34.787460  \n",
       "1738       74.886162  \n",
       "1739       34.535282  \n",
       "1740       70.780380  \n",
       "1741       47.092476  \n",
       "1742       30.055889  \n",
       "1743       72.056137  \n",
       "1744       76.681152  \n",
       "1745       51.013500  \n",
       "1746       27.760292  \n",
       "1747       35.071308  \n",
       "1748       96.915703  \n",
       "1749       34.722672  \n",
       "1750       76.499573  \n",
       "1751       83.165482  \n",
       "1752       52.772038  \n",
       "1753       28.055584  \n",
       "\n",
       "[1754 rows x 5 columns]"
      ]
     },
     "execution_count": 329,
     "metadata": {},
     "output_type": "execute_result"
    }
   ],
   "source": [
    "lindf2"
   ]
  },
  {
   "cell_type": "code",
   "execution_count": null,
   "metadata": {},
   "outputs": [],
   "source": []
  }
 ],
 "metadata": {
  "kernelspec": {
   "display_name": "Python 3",
   "language": "python",
   "name": "python3"
  },
  "language_info": {
   "codemirror_mode": {
    "name": "ipython",
    "version": 3
   },
   "file_extension": ".py",
   "mimetype": "text/x-python",
   "name": "python",
   "nbconvert_exporter": "python",
   "pygments_lexer": "ipython3",
   "version": "3.7.3"
  }
 },
 "nbformat": 4,
 "nbformat_minor": 2
}
