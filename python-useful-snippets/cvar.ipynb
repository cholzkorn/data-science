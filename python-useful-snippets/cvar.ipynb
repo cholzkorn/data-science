{
 "cells": [
  {
   "cell_type": "code",
   "execution_count": 3,
   "metadata": {},
   "outputs": [],
   "source": [
    "# x is the vector of asset values\n",
    "# mode defines the characteristic to be calculated\n",
    "\n",
    "def cvar(x, measure=\"var95\"):\n",
    "    x_returns = [0] * (len(x)-1)\n",
    "    \n",
    "    for i in range(0,(len(x)-1)):\n",
    "        x_returns[i] = (x[i]-x[i+1])/x[i]\n",
    "    \n",
    "    total_count = len(x_returns)\n",
    "    \n",
    "    ## VAR AND CVAR .95\n",
    "    \n",
    "    if measure == \"var95\":\n",
    "        var95_index = (1-0.95)/total_count\n",
    "        var95 = x_returns[round(var95_index)]\n",
    "        return(var95)\n",
    "    \n",
    "    elif measure == \"cvar95\":\n",
    "        var95_index = (1-0.95)/total_count\n",
    "        var95 = x_returns[round(var95_index)]\n",
    "        cvar95 = (1/var95_index)*sum(x_returns[0:round(var95_index)+1])\n",
    "        return(cvar95)\n",
    "    \n",
    "    ## VAR AND CVAR .99\n",
    "    \n",
    "    elif measure == \"var99\":\n",
    "        var99_index = (1-0.99)/total_count\n",
    "        var99 = x_returns[round(var99_index)]\n",
    "        return(var99)\n",
    "    \n",
    "    elif measure == \"cvar99\":\n",
    "        var99_index = (1-0.99)/total_count\n",
    "        var99 = x_returns[round(var99_index)]\n",
    "        cvar99 = (1/var99_index)*sum(x_returns[0:round(var99_index)+1])\n",
    "        return(cvar99)\n",
    "    \n",
    "    ## VAR AND CVAR .999\n",
    "    \n",
    "    elif measure == \"var999\":\n",
    "        var999_index = (1-0.999)/total_count\n",
    "        var999 = x_returns[round(var999_index)]\n",
    "        return(var999)\n",
    "    \n",
    "    elif measure == \"cvar999\":\n",
    "        var999_index = (1-0.999)/total_count\n",
    "        var999 = x_returns[round(var999_index)]\n",
    "        cvar999 = (1/var999_index)*sum(x_returns[0:round(var999_index)+1])\n",
    "        return(cvar999)\n",
    "    \n",
    "    ## error handling\n",
    "    else:\n",
    "        print(\"x must be a numeric array, measure must be var95, var99, var999, cvar95, cvar99 or cvar999\")"
   ]
  }
 ],
 "metadata": {
  "kernelspec": {
   "display_name": "Python 3",
   "language": "python",
   "name": "python3"
  },
  "language_info": {
   "codemirror_mode": {
    "name": "ipython",
    "version": 3
   },
   "file_extension": ".py",
   "mimetype": "text/x-python",
   "name": "python",
   "nbconvert_exporter": "python",
   "pygments_lexer": "ipython3",
   "version": "3.6.7"
  }
 },
 "nbformat": 4,
 "nbformat_minor": 2
}
